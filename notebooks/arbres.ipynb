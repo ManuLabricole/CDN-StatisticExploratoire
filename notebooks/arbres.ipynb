{
 "cells": [
  {
   "cell_type": "code",
   "execution_count": 1,
   "id": "1c6b2e6f",
   "metadata": {},
   "outputs": [],
   "source": [
    "import csv\n",
    "import pandas as pd\n",
    "import numpy as np\n",
    "import matplotlib as mp"
   ]
  },
  {
   "cell_type": "markdown",
   "id": "167f3ddf",
   "metadata": {},
   "source": [
    "# Import csv"
   ]
  },
  {
   "cell_type": "markdown",
   "id": "cbe28afd",
   "metadata": {},
   "source": [
    "## Main import"
   ]
  },
  {
   "cell_type": "code",
   "execution_count": 2,
   "id": "e0c6baec",
   "metadata": {},
   "outputs": [],
   "source": [
    "with open('../data/ESP_PUBLIC.IDENTITE_ARBRE.csv', newline='', encoding='utf-8-sig') as csvfile:\n",
    "    # use \",\" separator to generate column value as list element\n",
    "    # cs.reader return a class object of \"_csv.reader\"\n",
    "    dataTemp = csv.reader(csvfile, delimiter=',')\n",
    "    \n",
    "    # Use list() to convert the csv object into a list, of list, depending on how the object is built\n",
    "    # Hard to understand how list(csv_object) behaves \n",
    "    data = list(dataTemp)"
   ]
  },
  {
   "cell_type": "markdown",
   "id": "7b1ba073",
   "metadata": {},
   "source": [
    "## Copy the dataset to advoid re-import"
   ]
  },
  {
   "cell_type": "code",
   "execution_count": 3,
   "id": "2bd28817",
   "metadata": {},
   "outputs": [],
   "source": [
    "dataset = data"
   ]
  },
  {
   "cell_type": "markdown",
   "id": "ef74e503",
   "metadata": {},
   "source": [
    "## Correct last row\n"
   ]
  },
  {
   "cell_type": "code",
   "execution_count": 4,
   "id": "3452634e",
   "metadata": {},
   "outputs": [
    {
     "name": "stdout",
     "output_type": "stream",
     "text": [
      "['MISSING', 'ESP14073', 'ESP14073', 'VEG', 'VEGETATION', 'ESP01', 'Arbre', 'ESP151', 'Arbre de voirie', 'ESP336', 'R M Gontard angle M Deprez', '2', 'AR14073', 'Prunus', 'serrulata', '', 'Arbre adulte', '', '', '1995', '', '', '', '', '', '', '', '', '', '', 'Grenoble Alpes Métropole', '{\"type\":\"Point\",\"coordinates\":[5.72422659146747,45.1920566916671]}']\n"
     ]
    }
   ],
   "source": [
    "def add_missing_value(dataset:list) -> list:\n",
    "    datasetCopy = dataset\n",
    "    \n",
    "    if len(datasetCopy[len(datasetCopy)-1]) == 31:\n",
    "    \n",
    "        datasetCopy[len(datasetCopy)-1].insert(0, \"MISSING\")\n",
    "    \n",
    "    return datasetCopy\n",
    "print(add_missing_value(dataset)[len(dataset)-1])"
   ]
  },
  {
   "cell_type": "markdown",
   "id": "4db44d8d",
   "metadata": {},
   "source": [
    "## Utils"
   ]
  },
  {
   "cell_type": "code",
   "execution_count": 5,
   "id": "5769eae9",
   "metadata": {},
   "outputs": [],
   "source": [
    "def get_header(data:list) -> list:\n",
    "    if len(data) > 0:\n",
    "        return data[0]\n",
    "    else:\n",
    "        raise ValueError(\"The dataset sent is empty...\")"
   ]
  },
  {
   "cell_type": "code",
   "execution_count": 6,
   "id": "c88c9f75",
   "metadata": {},
   "outputs": [],
   "source": [
    "def get_dict_colName_colNum(data:list) -> dict:\n",
    "    dictTemp = {}\n",
    "    \n",
    "    for el in get_header(data):\n",
    "        dictTemp[el] = get_header(data).index(el)\n",
    "        \n",
    "    return dictTemp\n",
    "# print(get_dict_colName_colNum(dataset))"
   ]
  },
  {
   "cell_type": "code",
   "execution_count": 7,
   "id": "431b2dc5",
   "metadata": {},
   "outputs": [],
   "source": [
    "def is_in_header(colName:str, data:list) -> bool:\n",
    "    return colName in get_header(data)\n",
    "# print(is_in_header(\"GENRE_DESC\", dataset))"
   ]
  },
  {
   "cell_type": "code",
   "execution_count": 8,
   "id": "20aaabd0",
   "metadata": {},
   "outputs": [],
   "source": [
    "def average(col:list) -> float:\n",
    "    for el in col:\n",
    "        if type(el) is not float:\n",
    "            raise TypeError(\"The list sent doesn't have float or contains empty string\")\n",
    "    return sum(col)/len(col)"
   ]
  },
  {
   "cell_type": "markdown",
   "id": "6da2890e",
   "metadata": {},
   "source": [
    "# Iteration 1 : Main computation"
   ]
  },
  {
   "cell_type": "markdown",
   "id": "68632f74",
   "metadata": {},
   "source": [
    "## Afficher deux premieres lignes"
   ]
  },
  {
   "cell_type": "code",
   "execution_count": 9,
   "id": "8a2d47c5",
   "metadata": {},
   "outputs": [],
   "source": [
    "# Slice and extract the first two list ie the first two lignes\n",
    "header = get_header(dataset)\n",
    "lignes2 = dataset[0:2]\n",
    "\n",
    "specDataset = {\n",
    "    \"rows\" : len(dataset),\n",
    "    \"columns\" : len(dataset[0])\n",
    "}"
   ]
  },
  {
   "cell_type": "markdown",
   "id": "c5bf2783",
   "metadata": {},
   "source": [
    "## Afficher colonne n°2"
   ]
  },
  {
   "cell_type": "code",
   "execution_count": 10,
   "id": "6fd184d4",
   "metadata": {},
   "outputs": [],
   "source": [
    "# We see that to access the row is [i] after lignes2. \n",
    "# Then we have the list corresponding to the row i-1 (start from 0)\n",
    "# In this list, we use [i] to acces the i element corresponding to the column\n",
    "ligne1_col2 = lignes2[0][1]\n",
    "ligne2_col2 = lignes2[1][1]"
   ]
  },
  {
   "cell_type": "code",
   "execution_count": 11,
   "id": "afd8a76a",
   "metadata": {},
   "outputs": [
    {
     "name": "stdout",
     "output_type": "stream",
     "text": [
      "CODE : ESP29285\n"
     ]
    }
   ],
   "source": [
    "print(ligne1_col2 + \" : \" + ligne2_col2)"
   ]
  },
  {
   "cell_type": "markdown",
   "id": "28f9450b",
   "metadata": {},
   "source": [
    "## Get 50 first & last"
   ]
  },
  {
   "cell_type": "code",
   "execution_count": 12,
   "id": "8fb107b6",
   "metadata": {},
   "outputs": [],
   "source": [
    "# Should be called when having a list coming from : get_col_values()\n",
    "def extract_50(col:list) -> list:\n",
    "    if len(col) > 100:\n",
    "        return col[:50]+ [\"------> more values\"] + col[len(col)-50:]\n",
    "    else:\n",
    "        raise ValueError(f\"List {col} has less than 100 elements\")\n",
    "# extract_50(colList)"
   ]
  },
  {
   "cell_type": "markdown",
   "id": "182f780d",
   "metadata": {},
   "source": [
    "## Infos année plantation data"
   ]
  },
  {
   "cell_type": "code",
   "execution_count": 13,
   "id": "21c3dc89",
   "metadata": {},
   "outputs": [
    {
     "name": "stdout",
     "output_type": "stream",
     "text": [
      "['ELEM_POINT_ID', 'CODE', 'NOM', 'GENRE', 'GENRE_DESC', 'CATEGORIE', 'CATEGORIE_DESC', 'SOUS_CATEGORIE', 'SOUS_CATEGORIE_DESC', 'CODE_PARENT', 'CODE_PARENT_DESC', 'ADR_SECTEUR', 'BIEN_REFERENCE', 'GENRE_BOTA', 'ESPECE', 'VARIETE', 'STADEDEDEVELOPPEMENT', 'EQUIPE', 'REMARQUES', 'ANNEEDEPLANTATION', 'RAISONDEPLANTATION', 'TRAITEMENTCHENILLES', 'COURRIER', 'IDENTIFIANTPLU', 'TYPEIMPLANTATIONPLU', 'INTITULEPROTECTIONPLU', 'ANNEEABATTAGE', 'ESSOUCHEMENT', 'DIAMETREARBRE', 'CAUSEABATTAGE', 'COLLECTIVITE', 'GeoJSON']\n"
     ]
    }
   ],
   "source": [
    "print(get_header(dataset))"
   ]
  },
  {
   "cell_type": "code",
   "execution_count": 14,
   "id": "c88d1c2d",
   "metadata": {},
   "outputs": [],
   "source": [
    "def get_col_value_from_name(colName:str, data:list) -> str:\n",
    "    \n",
    "    if is_in_header(colName, data):\n",
    "        return get_dict_colName_colNum(data)[colName]\n",
    "    \n",
    "# print(get_col_value_from_name(colName=\"CODE_PARENT\", data=dataset))"
   ]
  },
  {
   "cell_type": "code",
   "execution_count": 15,
   "id": "4987fde7",
   "metadata": {},
   "outputs": [],
   "source": [
    "def get_col_values(colName:str, data:list) -> list:\n",
    "    \n",
    "    col = [el[get_col_value_from_name(colName, data)] for el in data]\n",
    "    \n",
    "    return col\n",
    "# print(get_col_values(\"ANNEEDEPLANTATION\", dataset))"
   ]
  },
  {
   "cell_type": "markdown",
   "id": "79c56bfe",
   "metadata": {},
   "source": [
    "### Trees column parsing utils"
   ]
  },
  {
   "cell_type": "code",
   "execution_count": 16,
   "id": "0b7b78c6",
   "metadata": {},
   "outputs": [],
   "source": [
    "colToStudy = \"ANNEEDEPLANTATION\""
   ]
  },
  {
   "cell_type": "code",
   "execution_count": 17,
   "id": "3ef20397",
   "metadata": {},
   "outputs": [
    {
     "name": "stdout",
     "output_type": "stream",
     "text": [
      "there is --> 31620 <-- trees studied\n"
     ]
    }
   ],
   "source": [
    "colList = get_col_values(colToStudy, dataset)\n",
    "print(\"there is --> \" + str(len(colList)) + \" <-- trees studied\")"
   ]
  },
  {
   "cell_type": "code",
   "execution_count": 18,
   "id": "ccfeab64",
   "metadata": {},
   "outputs": [],
   "source": [
    "def count_empty_value(col:list) -> int:\n",
    "    \n",
    "    emptyList = [el for el in col if not el]\n",
    "    \n",
    "    return len(emptyList)"
   ]
  },
  {
   "cell_type": "code",
   "execution_count": 19,
   "id": "ea563109",
   "metadata": {},
   "outputs": [
    {
     "name": "stdout",
     "output_type": "stream",
     "text": [
      "there is --> 1438 <-- empty values in ANNEEDEPLANTATION\n"
     ]
    }
   ],
   "source": [
    "print(\"there is --> \" + str(count_empty_value(colList)) + \" <-- empty values in \" + colToStudy )"
   ]
  },
  {
   "cell_type": "code",
   "execution_count": 20,
   "id": "4c60b1b0",
   "metadata": {},
   "outputs": [],
   "source": [
    "def remove_empty(col:list) -> list:\n",
    "    return [el for el in col if el]"
   ]
  },
  {
   "cell_type": "code",
   "execution_count": 21,
   "id": "b1946c26",
   "metadata": {},
   "outputs": [],
   "source": [
    "def get_min(col:list) -> int:\n",
    "    \n",
    "    colValues = remove_empty(col)\n",
    "    \n",
    "    # Slice to get rid off the header\n",
    "    return float(min(colValues[1:]))"
   ]
  },
  {
   "cell_type": "code",
   "execution_count": 22,
   "id": "bbd4c551",
   "metadata": {},
   "outputs": [],
   "source": [
    "def get_max(col:list) -> int:\n",
    "    \n",
    "    colValues = remove_empty(col)\n",
    "    \n",
    "    # Slice to get rid off the header\n",
    "    return float(max(colValues[1:]))"
   ]
  },
  {
   "cell_type": "markdown",
   "id": "2fc022cb",
   "metadata": {},
   "source": [
    "### Count trees for each year in dataset"
   ]
  },
  {
   "cell_type": "code",
   "execution_count": 23,
   "id": "492028c3",
   "metadata": {},
   "outputs": [],
   "source": [
    "def count_specific_value_in_col(value:str, col:list) -> int:\n",
    "    \n",
    "    valuesCorresponding = [el for el in col if str(el) == str(value)]  \n",
    "    \n",
    "    return len(valuesCorresponding)"
   ]
  },
  {
   "cell_type": "code",
   "execution_count": 24,
   "id": "ff5b5f63",
   "metadata": {},
   "outputs": [
    {
     "name": "stdout",
     "output_type": "stream",
     "text": [
      "There was 252 trees planted in 1994\n"
     ]
    }
   ],
   "source": [
    "valueToFind = \"1994\"\n",
    "print(f\"There was {count_specific_value_in_col(valueToFind, colList)} trees planted in {valueToFind}\")"
   ]
  },
  {
   "cell_type": "code",
   "execution_count": 25,
   "id": "56b9220c",
   "metadata": {},
   "outputs": [
    {
     "name": "stdout",
     "output_type": "stream",
     "text": [
      "The oldest year of plantation is : 1900.0\n",
      "The last year of plantation is : 2021.0\n"
     ]
    }
   ],
   "source": [
    "print(f\"The oldest year of plantation is : {get_min(colList)}\")\n",
    "print(f\"The last year of plantation is : {get_max(colList)}\")"
   ]
  },
  {
   "cell_type": "markdown",
   "id": "8e7a2eb1",
   "metadata": {},
   "source": [
    "### Count trees for each year in dataset"
   ]
  },
  {
   "cell_type": "code",
   "execution_count": 26,
   "id": "4b6511a9",
   "metadata": {},
   "outputs": [],
   "source": [
    "# This method compute for each year the number of trees planted\n",
    "# Then it compute the average taking into account only the trees where the year is known\n",
    "def average_trees_planted(col:list) -> dict:\n",
    "    cleanList = remove_empty(col[1:])\n",
    "    removeDuplicate = set(cleanList)\n",
    "    \n",
    "    nbTreesPerYear = [float(count_specific_value_in_col(el,col)) for el in removeDuplicate]\n",
    "    print(f\"Nombre d'annees connues ou des arbres ont été planté : {len(removeDuplicate)}\")\n",
    "    return round(average(nbTreesPerYear),2)"
   ]
  },
  {
   "cell_type": "code",
   "execution_count": 27,
   "id": "3d20cc07",
   "metadata": {},
   "outputs": [
    {
     "name": "stdout",
     "output_type": "stream",
     "text": [
      "Nombre d'annees connues ou des arbres ont été planté : 65\n",
      "La moyenne n°1 des arbres plantés est : 464.32\n"
     ]
    }
   ],
   "source": [
    "print(f\"La moyenne n°1 des arbres plantés est : {average_trees_planted(colList)}\")"
   ]
  },
  {
   "cell_type": "code",
   "execution_count": 28,
   "id": "87334162",
   "metadata": {},
   "outputs": [],
   "source": [
    "# This function compute the average taking into account\n",
    "# The total number of trees in the dataset\n",
    "# The max and min year known\n",
    "\n",
    "def rought_average(col:list) -> float:\n",
    "    # remove one on the global size due to header\n",
    "    nbArbre = float(len(col[1:]))\n",
    "    # add +1 to take into account the full 2021 year\n",
    "    interval = float(get_max(col)-get_min(col)+1)\n",
    "    \n",
    "    print(f\"Diviser total arbre : {nbArbre} par intervalle d'annee etudier {int(get_min(col))} - {int(get_max(col))}\")\n",
    "    \n",
    "    return round(nbArbre/interval,2)"
   ]
  },
  {
   "cell_type": "code",
   "execution_count": 29,
   "id": "3ba8c50d",
   "metadata": {},
   "outputs": [
    {
     "name": "stdout",
     "output_type": "stream",
     "text": [
      "Diviser total arbre : 31619.0 par intervalle d'annee etudier 1900 - 2021\n",
      "La moyenne n°2 des arbres plantés est : 259.17\n"
     ]
    }
   ],
   "source": [
    "print(f\"La moyenne n°2 des arbres plantés est : {rought_average(colList)}\")"
   ]
  },
  {
   "cell_type": "markdown",
   "id": "f8d02cb9",
   "metadata": {},
   "source": [
    "### Make tuple (year : nb_arbre)"
   ]
  },
  {
   "cell_type": "code",
   "execution_count": 40,
   "id": "271d8c0a",
   "metadata": {},
   "outputs": [],
   "source": [
    "def make_tuple_year_nbArbre(col:list) -> list:\n",
    "    cleanList = remove_empty(col[1:])\n",
    "    removeDuplicate = set(cleanList) \n",
    "    \n",
    "    \n",
    "    return [(el, count_specific_value_in_col(el, col)) for el in removeDuplicate]"
   ]
  },
  {
   "cell_type": "code",
   "execution_count": 114,
   "id": "904f7bfc",
   "metadata": {},
   "outputs": [
    {
     "data": {
      "text/plain": [
       "[('2017', 622),\n",
       " ('1967', 53),\n",
       " ('1986', 221),\n",
       " ('1924', 11),\n",
       " ('2001', 1488),\n",
       " ('2014', 886),\n",
       " ('1944', 27),\n",
       " ('2016', 516),\n",
       " ('2011', 494),\n",
       " ('2003', 341),\n",
       " ('1998', 205),\n",
       " ('2004', 341),\n",
       " ('1964', 6),\n",
       " ('1995', 738),\n",
       " ('1988', 235),\n",
       " ('1985', 870),\n",
       " ('2002', 319),\n",
       " ('1975', 3631),\n",
       " ('1968', 111),\n",
       " ('1970', 1366),\n",
       " ('2007', 138),\n",
       " ('1993', 135),\n",
       " ('2020', 102),\n",
       " ('1994', 252),\n",
       " ('1972', 318),\n",
       " ('1990', 248),\n",
       " ('1999', 564),\n",
       " ('1989', 299),\n",
       " ('2019', 88),\n",
       " ('1992', 221),\n",
       " ('1976', 898),\n",
       " ('1980', 1445),\n",
       " ('1971', 67),\n",
       " ('1984', 647),\n",
       " ('1974', 287),\n",
       " ('1966', 85),\n",
       " ('2010', 452),\n",
       " ('2013', 319),\n",
       " ('2015', 1012),\n",
       " ('1969', 314),\n",
       " ('2009', 647),\n",
       " ('1987', 701),\n",
       " ('2018', 775),\n",
       " ('1959', 16),\n",
       " ('2005', 384),\n",
       " ('2012', 310),\n",
       " ('1983', 295),\n",
       " ('1982', 359),\n",
       " ('2021', 3),\n",
       " ('1977', 602),\n",
       " ('1978', 847),\n",
       " ('1981', 600),\n",
       " ('1955', 118),\n",
       " ('2008', 211),\n",
       " ('1991', 140),\n",
       " ('1997', 231),\n",
       " ('2000', 427),\n",
       " ('1973', 33),\n",
       " ('1996', 363),\n",
       " ('1950', 402),\n",
       " ('1960', 701),\n",
       " ('1900', 4),\n",
       " ('1979', 324),\n",
       " ('1965', 734),\n",
       " ('2006', 582)]"
      ]
     },
     "execution_count": 114,
     "metadata": {},
     "output_type": "execute_result"
    }
   ],
   "source": [
    "treeTupleList = make_tuple_year_nbArbre(colList)\n",
    "sortedTreeTupleList = sorted(treeTupleList, key=lambda x:x[0], reverse=True)\n",
    "treeTupleList"
   ]
  },
  {
   "cell_type": "code",
   "execution_count": 115,
   "id": "1fdcc2f6",
   "metadata": {},
   "outputs": [
    {
     "data": {
      "text/plain": [
       "[('2021', 3),\n",
       " ('2020', 102),\n",
       " ('2019', 88),\n",
       " ('2018', 775),\n",
       " ('2017', 622),\n",
       " ('2016', 516),\n",
       " ('2015', 1012),\n",
       " ('2014', 886),\n",
       " ('2013', 319),\n",
       " ('2012', 310),\n",
       " ('2011', 494),\n",
       " ('2010', 452),\n",
       " ('2009', 647),\n",
       " ('2008', 211),\n",
       " ('2007', 138),\n",
       " ('2006', 582),\n",
       " ('2005', 384),\n",
       " ('2004', 341),\n",
       " ('2003', 341),\n",
       " ('2002', 319),\n",
       " ('2001', 1488),\n",
       " ('2000', 427),\n",
       " ('1999', 564),\n",
       " ('1998', 205),\n",
       " ('1997', 231),\n",
       " ('1996', 363),\n",
       " ('1995', 738),\n",
       " ('1994', 252),\n",
       " ('1993', 135),\n",
       " ('1992', 221),\n",
       " ('1991', 140),\n",
       " ('1990', 248),\n",
       " ('1989', 299),\n",
       " ('1988', 235),\n",
       " ('1987', 701),\n",
       " ('1986', 221),\n",
       " ('1985', 870),\n",
       " ('1984', 647),\n",
       " ('1983', 295),\n",
       " ('1982', 359),\n",
       " ('1981', 600),\n",
       " ('1980', 1445),\n",
       " ('1979', 324),\n",
       " ('1978', 847),\n",
       " ('1977', 602),\n",
       " ('1976', 898),\n",
       " ('1975', 3631),\n",
       " ('1974', 287),\n",
       " ('1973', 33),\n",
       " ('1972', 318),\n",
       " ('1971', 67),\n",
       " ('1970', 1366),\n",
       " ('1969', 314),\n",
       " ('1968', 111),\n",
       " ('1967', 53),\n",
       " ('1966', 85),\n",
       " ('1965', 734),\n",
       " ('1964', 6),\n",
       " ('1960', 701),\n",
       " ('1959', 16),\n",
       " ('1955', 118),\n",
       " ('1950', 402),\n",
       " ('1944', 27),\n",
       " ('1924', 11),\n",
       " ('1900', 4)]"
      ]
     },
     "execution_count": 115,
     "metadata": {},
     "output_type": "execute_result"
    }
   ],
   "source": [
    "sortedTreeTupleList"
   ]
  },
  {
   "cell_type": "markdown",
   "id": "d6accd9b",
   "metadata": {},
   "source": [
    "### Etude des Maires"
   ]
  },
  {
   "cell_type": "code",
   "execution_count": 42,
   "id": "dec4de29",
   "metadata": {},
   "outputs": [],
   "source": [
    "maire = [['Rivail', 1904,1908],['Viallet', 1908,1910],['Cornier', 1910,1919],['Mistral', 1919,1932],['Martin', 1932,1935],['Cocat', 1935,1944],['Lafleur', 1944,1945],['Martin2', 1945,1947],['Bally', 1947,1948],['Perinetti', 1948,1949],['Martin3', 1949,1959],['Michallon', 1959,1965],['Dubedout', 1965,1983],['Carignon', 1983,1995],['Destot', 1995,2014],['Piolle', 2014,2021]]\n",
    "maireDict = {el[0]:[el[1],el[2]] for el in maire}"
   ]
  },
  {
   "cell_type": "code",
   "execution_count": 118,
   "id": "4b1e01eb",
   "metadata": {},
   "outputs": [],
   "source": [
    "def number_of_tree_per_maire(maire:dict, tupleListArbre:list) -> int:\n",
    "    \n",
    "    dictTemp = {}\n",
    "    \n",
    "    for el in tupleListArbre:\n",
    "        for maire in maireDict.keys():\n",
    "            #print(f\"Le maire {key} a reigné sur Grenoble de {maireDict[key]}\")\n",
    "            #print(type(maireDict[key][0]))\n",
    "            #print(type(el[0]))\n",
    "            #print(f\"{maireDict[maire][0]} <= {int(el[0])} < {maireDict[maire][1]} ????\")\n",
    "            if maireDict[maire][0] <= int(el[0])<maireDict[maire][1]:\n",
    "                #print(f\"The Maire {maire} planted --> {el[1]} <-- trees in the year {el[0]} during is mandat of [{maireDict[maire][0]},{maireDict[maire][1]}]\")        \n",
    "                dictTemp[maire] += el[1]\n",
    "    return dictTemp"
   ]
  },
  {
   "cell_type": "code",
   "execution_count": 119,
   "id": "af62737f",
   "metadata": {},
   "outputs": [
    {
     "ename": "KeyError",
     "evalue": "'Piolle'",
     "output_type": "error",
     "traceback": [
      "\u001b[0;31m---------------------------------------------------------------------------\u001b[0m",
      "\u001b[0;31mKeyError\u001b[0m                                  Traceback (most recent call last)",
      "\u001b[0;32m/tmp/ipykernel_7649/2952537858.py\u001b[0m in \u001b[0;36m<module>\u001b[0;34m\u001b[0m\n\u001b[0;32m----> 1\u001b[0;31m \u001b[0mnumber_of_tree_per_maire\u001b[0m\u001b[0;34m(\u001b[0m\u001b[0mmaireDict\u001b[0m\u001b[0;34m,\u001b[0m \u001b[0msortedTreeTupleList\u001b[0m\u001b[0;34m)\u001b[0m\u001b[0;34m\u001b[0m\u001b[0;34m\u001b[0m\u001b[0m\n\u001b[0m",
      "\u001b[0;32m/tmp/ipykernel_7649/1160143715.py\u001b[0m in \u001b[0;36mnumber_of_tree_per_maire\u001b[0;34m(maire, tupleListArbre)\u001b[0m\n\u001b[1;32m     11\u001b[0m             \u001b[0;32mif\u001b[0m \u001b[0mmaireDict\u001b[0m\u001b[0;34m[\u001b[0m\u001b[0mmaire\u001b[0m\u001b[0;34m]\u001b[0m\u001b[0;34m[\u001b[0m\u001b[0;36m0\u001b[0m\u001b[0;34m]\u001b[0m \u001b[0;34m<=\u001b[0m \u001b[0mint\u001b[0m\u001b[0;34m(\u001b[0m\u001b[0mel\u001b[0m\u001b[0;34m[\u001b[0m\u001b[0;36m0\u001b[0m\u001b[0;34m]\u001b[0m\u001b[0;34m)\u001b[0m\u001b[0;34m<\u001b[0m\u001b[0mmaireDict\u001b[0m\u001b[0;34m[\u001b[0m\u001b[0mmaire\u001b[0m\u001b[0;34m]\u001b[0m\u001b[0;34m[\u001b[0m\u001b[0;36m1\u001b[0m\u001b[0;34m]\u001b[0m\u001b[0;34m:\u001b[0m\u001b[0;34m\u001b[0m\u001b[0;34m\u001b[0m\u001b[0m\n\u001b[1;32m     12\u001b[0m                 \u001b[0;31m#print(f\"The Maire {maire} planted --> {el[1]} <-- trees in the year {el[0]} during is mandat of [{maireDict[maire][0]},{maireDict[maire][1]}]\")\u001b[0m\u001b[0;34m\u001b[0m\u001b[0;34m\u001b[0m\u001b[0m\n\u001b[0;32m---> 13\u001b[0;31m                 \u001b[0mdictTemp\u001b[0m\u001b[0;34m[\u001b[0m\u001b[0mmaire\u001b[0m\u001b[0;34m]\u001b[0m \u001b[0;34m+=\u001b[0m \u001b[0mel\u001b[0m\u001b[0;34m[\u001b[0m\u001b[0;36m1\u001b[0m\u001b[0;34m]\u001b[0m\u001b[0;34m\u001b[0m\u001b[0;34m\u001b[0m\u001b[0m\n\u001b[0m\u001b[1;32m     14\u001b[0m     \u001b[0;32mreturn\u001b[0m \u001b[0mdictTemp\u001b[0m\u001b[0;34m\u001b[0m\u001b[0;34m\u001b[0m\u001b[0m\n",
      "\u001b[0;31mKeyError\u001b[0m: 'Piolle'"
     ]
    }
   ],
   "source": [
    "number_of_tree_per_maire(maireDict, sortedTreeTupleList)"
   ]
  },
  {
   "cell_type": "code",
   "execution_count": null,
   "id": "e67d5e97",
   "metadata": {},
   "outputs": [],
   "source": []
  },
  {
   "cell_type": "code",
   "execution_count": null,
   "id": "dbf418cb",
   "metadata": {},
   "outputs": [],
   "source": []
  }
 ],
 "metadata": {
  "kernelspec": {
   "display_name": "Python 3 (ipykernel)",
   "language": "python",
   "name": "python3"
  },
  "language_info": {
   "codemirror_mode": {
    "name": "ipython",
    "version": 3
   },
   "file_extension": ".py",
   "mimetype": "text/x-python",
   "name": "python",
   "nbconvert_exporter": "python",
   "pygments_lexer": "ipython3",
   "version": "3.9.13"
  }
 },
 "nbformat": 4,
 "nbformat_minor": 5
}
