{
 "cells": [
  {
   "cell_type": "code",
   "execution_count": 322,
   "id": "1c6b2e6f",
   "metadata": {},
   "outputs": [],
   "source": [
    "import csv\n",
    "import pandas as pd\n",
    "import numpy as np\n",
    "import matplotlib.pyplot as plt\n",
    "import matplotlib"
   ]
  },
  {
   "cell_type": "markdown",
   "id": "167f3ddf",
   "metadata": {},
   "source": [
    "# Import csv"
   ]
  },
  {
   "cell_type": "markdown",
   "id": "cbe28afd",
   "metadata": {},
   "source": [
    "## Main import"
   ]
  },
  {
   "cell_type": "code",
   "execution_count": 323,
   "id": "e0c6baec",
   "metadata": {},
   "outputs": [],
   "source": [
    "with open('../data/ESP_PUBLIC.IDENTITE_ARBRE.csv', newline='', encoding='utf-8-sig') as csvfile:\n",
    "    # use \",\" separator to generate column value as list element\n",
    "    # cs.reader return a class object of \"_csv.reader\"\n",
    "    dataTemp = csv.reader(csvfile, delimiter=',')\n",
    "    \n",
    "    # Use list() to convert the csv object into a list, of list, depending on how the object is built\n",
    "    # Hard to understand how list(csv_object) behaves \n",
    "    data = list(dataTemp)"
   ]
  },
  {
   "cell_type": "markdown",
   "id": "7b1ba073",
   "metadata": {},
   "source": [
    "## Copy the dataset to advoid re-import"
   ]
  },
  {
   "cell_type": "code",
   "execution_count": 324,
   "id": "2bd28817",
   "metadata": {},
   "outputs": [],
   "source": [
    "dataset = data"
   ]
  },
  {
   "cell_type": "markdown",
   "id": "ef74e503",
   "metadata": {},
   "source": [
    "## Correct last row\n"
   ]
  },
  {
   "cell_type": "code",
   "execution_count": 325,
   "id": "3452634e",
   "metadata": {},
   "outputs": [
    {
     "name": "stdout",
     "output_type": "stream",
     "text": [
      "Added a value in : ['MISSING', 'ESP14073', 'ESP14073', 'VEG', 'VEGETATION', 'ESP01', 'Arbre', 'ESP151', 'Arbre de voirie', 'ESP336', 'R M Gontard angle M Deprez', '2', 'AR14073', 'Prunus', 'serrulata', '', 'Arbre adulte', '', '', '1995', '', '', '', '', '', '', '', '', '', '', 'Grenoble Alpes Métropole', '{\"type\":\"Point\",\"coordinates\":[5.72422659146747,45.1920566916671]}']\n",
      "['MISSING', 'ESP14073', 'ESP14073', 'VEG', 'VEGETATION', 'ESP01', 'Arbre', 'ESP151', 'Arbre de voirie', 'ESP336', 'R M Gontard angle M Deprez', '2', 'AR14073', 'Prunus', 'serrulata', '', 'Arbre adulte', '', '', '1995', '', '', '', '', '', '', '', '', '', '', 'Grenoble Alpes Métropole', '{\"type\":\"Point\",\"coordinates\":[5.72422659146747,45.1920566916671]}']\n"
     ]
    }
   ],
   "source": [
    "def add_missing_value(dataset:list) -> list:\n",
    "    datasetCopy = dataset\n",
    "    \n",
    "    if len(datasetCopy[len(datasetCopy)-1]) == 31:\n",
    "        datasetCopy[len(datasetCopy)-1].insert(0, \"MISSING\")\n",
    "        print(f\"Added a value in : {datasetCopy[len(datasetCopy)-1]}\")\n",
    "    else:\n",
    "        #print(f\"{datasetCopy[len(datasetCopy)-1]} was already added...\")\n",
    "        print(f\"{len(datasetCopy)-1} is the last rows of the dataset and should start with 'MISSING' value\")\n",
    "\n",
    "    return datasetCopy\n",
    "print(add_missing_value(dataset)[len(dataset)-1])"
   ]
  },
  {
   "cell_type": "markdown",
   "id": "4db44d8d",
   "metadata": {},
   "source": [
    "## Utils"
   ]
  },
  {
   "cell_type": "code",
   "execution_count": 326,
   "id": "5769eae9",
   "metadata": {},
   "outputs": [],
   "source": [
    "def get_header(data:list) -> list:\n",
    "    if len(data) > 0:\n",
    "        return data[0]\n",
    "    else:\n",
    "        raise ValueError(\"The dataset sent is empty...\")"
   ]
  },
  {
   "cell_type": "code",
   "execution_count": 327,
   "id": "c88c9f75",
   "metadata": {},
   "outputs": [],
   "source": [
    "def get_dict_colName_colNum(data:list) -> dict:\n",
    "    dictTemp = {}\n",
    "    \n",
    "    for el in get_header(data):\n",
    "        dictTemp[el] = get_header(data).index(el)\n",
    "        \n",
    "    return dictTemp\n",
    "# print(get_dict_colName_colNum(dataset))"
   ]
  },
  {
   "cell_type": "code",
   "execution_count": 328,
   "id": "431b2dc5",
   "metadata": {},
   "outputs": [],
   "source": [
    "def is_in_header(colName:str, data:list) -> bool:\n",
    "    return colName in get_header(data)\n",
    "# print(is_in_header(\"GENRE_DESC\", dataset))"
   ]
  },
  {
   "cell_type": "code",
   "execution_count": 329,
   "id": "20aaabd0",
   "metadata": {},
   "outputs": [],
   "source": [
    "def average(col:list) -> float:\n",
    "    for el in col:\n",
    "        if type(el) is not float:\n",
    "            raise TypeError(\"The list sent doesn't have float or contains empty string\")\n",
    "    return sum(col)/len(col)"
   ]
  },
  {
   "cell_type": "markdown",
   "id": "a236133b",
   "metadata": {},
   "source": [
    "# -----------------------------------------------------------------------------------------------------------"
   ]
  },
  {
   "cell_type": "markdown",
   "id": "6da2890e",
   "metadata": {},
   "source": [
    "# Iteration 1 : Main computation"
   ]
  },
  {
   "cell_type": "markdown",
   "id": "59611850",
   "metadata": {},
   "source": [
    "# -----------------------------------------------------------------------------------------------------------"
   ]
  },
  {
   "cell_type": "markdown",
   "id": "68632f74",
   "metadata": {},
   "source": [
    "## Afficher deux premieres lignes"
   ]
  },
  {
   "cell_type": "code",
   "execution_count": 330,
   "id": "8a2d47c5",
   "metadata": {},
   "outputs": [],
   "source": [
    "# Slice and extract the first two list ie the first two lignes\n",
    "header = get_header(dataset)\n",
    "lignes2 = dataset[0:2]\n",
    "\n",
    "specDataset = {\n",
    "    \"rows\" : len(dataset),\n",
    "    \"columns\" : len(dataset[0])\n",
    "}"
   ]
  },
  {
   "cell_type": "markdown",
   "id": "c5bf2783",
   "metadata": {},
   "source": [
    "## Afficher colonne n°2"
   ]
  },
  {
   "cell_type": "code",
   "execution_count": 331,
   "id": "6fd184d4",
   "metadata": {},
   "outputs": [],
   "source": [
    "# We see that to access the row is [i] after lignes2. \n",
    "# Then we have the list corresponding to the row i-1 (start from 0)\n",
    "# In this list, we use [i] to acces the i element corresponding to the column\n",
    "ligne1_col2 = lignes2[0][1]\n",
    "ligne2_col2 = lignes2[1][1]"
   ]
  },
  {
   "cell_type": "code",
   "execution_count": 332,
   "id": "afd8a76a",
   "metadata": {},
   "outputs": [
    {
     "name": "stdout",
     "output_type": "stream",
     "text": [
      "CODE : ESP29285\n"
     ]
    }
   ],
   "source": [
    "print(ligne1_col2 + \" : \" + ligne2_col2)"
   ]
  },
  {
   "cell_type": "markdown",
   "id": "28f9450b",
   "metadata": {},
   "source": [
    "## Get 50 first & last"
   ]
  },
  {
   "cell_type": "code",
   "execution_count": 333,
   "id": "8fb107b6",
   "metadata": {},
   "outputs": [],
   "source": [
    "# Should be called when having a list coming from : get_col_values()\n",
    "def extract_50(col:list) -> list:\n",
    "    if len(col) > 100:\n",
    "        return col[:50]+ [\"------> more values\"] + col[len(col)-50:]\n",
    "    else:\n",
    "        raise ValueError(f\"List {col} has less than 100 elements\")\n",
    "# extract_50(colList)"
   ]
  },
  {
   "cell_type": "markdown",
   "id": "182f780d",
   "metadata": {},
   "source": [
    "## Infos année plantation data"
   ]
  },
  {
   "cell_type": "code",
   "execution_count": 334,
   "id": "21c3dc89",
   "metadata": {},
   "outputs": [
    {
     "name": "stdout",
     "output_type": "stream",
     "text": [
      "['ELEM_POINT_ID', 'CODE', 'NOM', 'GENRE', 'GENRE_DESC', 'CATEGORIE', 'CATEGORIE_DESC', 'SOUS_CATEGORIE', 'SOUS_CATEGORIE_DESC', 'CODE_PARENT', 'CODE_PARENT_DESC', 'ADR_SECTEUR', 'BIEN_REFERENCE', 'GENRE_BOTA', 'ESPECE', 'VARIETE', 'STADEDEDEVELOPPEMENT', 'EQUIPE', 'REMARQUES', 'ANNEEDEPLANTATION', 'RAISONDEPLANTATION', 'TRAITEMENTCHENILLES', 'COURRIER', 'IDENTIFIANTPLU', 'TYPEIMPLANTATIONPLU', 'INTITULEPROTECTIONPLU', 'ANNEEABATTAGE', 'ESSOUCHEMENT', 'DIAMETREARBRE', 'CAUSEABATTAGE', 'COLLECTIVITE', 'GeoJSON']\n"
     ]
    }
   ],
   "source": [
    "print(get_header(dataset))"
   ]
  },
  {
   "cell_type": "code",
   "execution_count": 335,
   "id": "c88d1c2d",
   "metadata": {},
   "outputs": [],
   "source": [
    "def get_col_value_from_name(colName:str, data:list) -> str:\n",
    "    \n",
    "    if is_in_header(colName, data):\n",
    "        return get_dict_colName_colNum(data)[colName]\n",
    "    \n",
    "# print(get_col_value_from_name(colName=\"CODE_PARENT\", data=dataset))"
   ]
  },
  {
   "cell_type": "code",
   "execution_count": 336,
   "id": "4987fde7",
   "metadata": {},
   "outputs": [],
   "source": [
    "def get_col_values(colName:str, data:list) -> list:\n",
    "    \n",
    "    col = [el[get_col_value_from_name(colName, data)] for el in data]\n",
    "    \n",
    "    return col\n",
    "# print(get_col_values(\"ANNEEDEPLANTATION\", dataset))"
   ]
  },
  {
   "cell_type": "markdown",
   "id": "79c56bfe",
   "metadata": {},
   "source": [
    "### Trees column parsing utils"
   ]
  },
  {
   "cell_type": "code",
   "execution_count": 337,
   "id": "0b7b78c6",
   "metadata": {},
   "outputs": [],
   "source": [
    "colToStudy = \"ANNEEDEPLANTATION\""
   ]
  },
  {
   "cell_type": "code",
   "execution_count": 338,
   "id": "3ef20397",
   "metadata": {},
   "outputs": [
    {
     "name": "stdout",
     "output_type": "stream",
     "text": [
      "there is --> 31620 <-- trees studied\n"
     ]
    }
   ],
   "source": [
    "colList = get_col_values(colToStudy, dataset)\n",
    "colYearTree = colList\n",
    "print(\"there is --> \" + str(len(colList)) + \" <-- trees studied\")"
   ]
  },
  {
   "cell_type": "code",
   "execution_count": 339,
   "id": "ccfeab64",
   "metadata": {},
   "outputs": [],
   "source": [
    "def count_empty_value(col:list) -> int:\n",
    "    \n",
    "    emptyList = [el for el in col if not el]\n",
    "    \n",
    "    return len(emptyList)"
   ]
  },
  {
   "cell_type": "code",
   "execution_count": 340,
   "id": "ea563109",
   "metadata": {},
   "outputs": [
    {
     "name": "stdout",
     "output_type": "stream",
     "text": [
      "there is --> 1438 <-- empty values in ANNEEDEPLANTATION\n"
     ]
    }
   ],
   "source": [
    "print(\"there is --> \" + str(count_empty_value(colList)) + \" <-- empty values in \" + colToStudy )"
   ]
  },
  {
   "cell_type": "code",
   "execution_count": 341,
   "id": "4c60b1b0",
   "metadata": {},
   "outputs": [],
   "source": [
    "def remove_empty(col:list) -> list:\n",
    "    return [el for el in col if el]"
   ]
  },
  {
   "cell_type": "code",
   "execution_count": 342,
   "id": "b1946c26",
   "metadata": {},
   "outputs": [],
   "source": [
    "def get_min(col:list) -> int:\n",
    "    \n",
    "    colValues = remove_empty(col)\n",
    "    \n",
    "    # Slice to get rid off the header\n",
    "    return float(min(colValues[1:]))"
   ]
  },
  {
   "cell_type": "code",
   "execution_count": 343,
   "id": "bbd4c551",
   "metadata": {},
   "outputs": [],
   "source": [
    "def get_max(col:list) -> int:\n",
    "    \n",
    "    colValues = remove_empty(col)\n",
    "    \n",
    "    # Slice to get rid off the header\n",
    "    return float(max(colValues[1:]))"
   ]
  },
  {
   "cell_type": "markdown",
   "id": "2fc022cb",
   "metadata": {},
   "source": [
    "### Count trees for each year in dataset"
   ]
  },
  {
   "cell_type": "code",
   "execution_count": 344,
   "id": "492028c3",
   "metadata": {},
   "outputs": [],
   "source": [
    "def count_specific_value_in_col(value:str, col:list) -> int:\n",
    "    \n",
    "    valuesCorresponding = [el for el in col if str(el) == str(value)]  \n",
    "    \n",
    "    return len(valuesCorresponding)"
   ]
  },
  {
   "cell_type": "code",
   "execution_count": 345,
   "id": "ff5b5f63",
   "metadata": {},
   "outputs": [
    {
     "name": "stdout",
     "output_type": "stream",
     "text": [
      "There was 252 trees planted in 1994\n"
     ]
    }
   ],
   "source": [
    "valueToFind = \"1994\"\n",
    "print(f\"There was {count_specific_value_in_col(valueToFind, colList)} trees planted in {valueToFind}\")"
   ]
  },
  {
   "cell_type": "code",
   "execution_count": 346,
   "id": "56b9220c",
   "metadata": {},
   "outputs": [
    {
     "name": "stdout",
     "output_type": "stream",
     "text": [
      "The oldest year of plantation is : 1900.0\n",
      "The last year of plantation is : 2021.0\n"
     ]
    }
   ],
   "source": [
    "print(f\"The oldest year of plantation is : {get_min(colList)}\")\n",
    "print(f\"The last year of plantation is : {get_max(colList)}\")"
   ]
  },
  {
   "cell_type": "markdown",
   "id": "8e7a2eb1",
   "metadata": {},
   "source": [
    "### Count trees for each year in dataset"
   ]
  },
  {
   "cell_type": "code",
   "execution_count": 347,
   "id": "4b6511a9",
   "metadata": {},
   "outputs": [],
   "source": [
    "# This method compute for each year the number of trees planted\n",
    "# Then it compute the average taking into account only the trees where the year is known\n",
    "def average_trees_planted(col:list) -> dict:\n",
    "    cleanList = remove_empty(col[1:])\n",
    "    removeDuplicate = set(cleanList)\n",
    "    \n",
    "    nbTreesPerYear = [float(count_specific_value_in_col(el,col)) for el in removeDuplicate]\n",
    "    print(f\"Nombre d'annees connues ou des arbres ont été planté : {len(removeDuplicate)}\")\n",
    "    return round(average(nbTreesPerYear),2)"
   ]
  },
  {
   "cell_type": "code",
   "execution_count": 348,
   "id": "3d20cc07",
   "metadata": {},
   "outputs": [
    {
     "name": "stdout",
     "output_type": "stream",
     "text": [
      "Nombre d'annees connues ou des arbres ont été planté : 65\n",
      "La moyenne n°1 des arbres plantés est : 464.32\n"
     ]
    }
   ],
   "source": [
    "print(f\"La moyenne n°1 des arbres plantés est : {average_trees_planted(colList)}\")"
   ]
  },
  {
   "cell_type": "code",
   "execution_count": 349,
   "id": "87334162",
   "metadata": {},
   "outputs": [],
   "source": [
    "# This function compute the average taking into account\n",
    "# The total number of trees in the dataset\n",
    "# The max and min year known\n",
    "\n",
    "def rought_average(col:list) -> float:\n",
    "    # remove one on the global size due to header\n",
    "    nbArbre = float(len(col[1:]))\n",
    "    # add +1 to take into account the full 2021 year\n",
    "    interval = float(get_max(col)-get_min(col)+1)\n",
    "    \n",
    "    print(f\"Diviser total arbre : {nbArbre} par intervalle d'annee etudier {int(get_min(col))} - {int(get_max(col))}\")\n",
    "    \n",
    "    return round(nbArbre/interval,2)"
   ]
  },
  {
   "cell_type": "code",
   "execution_count": 350,
   "id": "3ba8c50d",
   "metadata": {},
   "outputs": [
    {
     "name": "stdout",
     "output_type": "stream",
     "text": [
      "Diviser total arbre : 31619.0 par intervalle d'annee etudier 1900 - 2021\n",
      "La moyenne n°2 des arbres plantés est : 259.17\n"
     ]
    }
   ],
   "source": [
    "print(f\"La moyenne n°2 des arbres plantés est : {rought_average(colList)}\")"
   ]
  },
  {
   "cell_type": "markdown",
   "id": "f8d02cb9",
   "metadata": {},
   "source": [
    "### Make tuple (year : nb_arbre)"
   ]
  },
  {
   "cell_type": "code",
   "execution_count": 351,
   "id": "271d8c0a",
   "metadata": {},
   "outputs": [],
   "source": [
    "def make_tuple_year_nbArbre(col:list) -> list:\n",
    "    cleanList = remove_empty(col[1:])\n",
    "    removeDuplicate = set(cleanList) \n",
    "    \n",
    "    return [(el, count_specific_value_in_col(el, col)) for el in removeDuplicate]"
   ]
  },
  {
   "cell_type": "code",
   "execution_count": 352,
   "id": "80fc0dd1",
   "metadata": {},
   "outputs": [],
   "source": [
    "# Sort the list of tuples (year, value) by year\n",
    "def sort_by_year(tupleList:list) -> list:\n",
    "    return sorted(tupleList, key=lambda x:x[0], reverse=True)"
   ]
  },
  {
   "cell_type": "code",
   "execution_count": 353,
   "id": "904f7bfc",
   "metadata": {},
   "outputs": [],
   "source": [
    "treeTupleList = make_tuple_year_nbArbre(colList)\n",
    "sortedTreeTupleList = sort_by_year(treeTupleList)\n",
    "# treeTupleList"
   ]
  },
  {
   "cell_type": "code",
   "execution_count": 354,
   "id": "457b139b",
   "metadata": {},
   "outputs": [],
   "source": [
    "# sortedTreeTupleList"
   ]
  },
  {
   "cell_type": "markdown",
   "id": "d6accd9b",
   "metadata": {},
   "source": [
    "### Etude des Maires"
   ]
  },
  {
   "cell_type": "code",
   "execution_count": 355,
   "id": "dec4de29",
   "metadata": {},
   "outputs": [],
   "source": [
    "maire = [['Rivail', 1904,1908],['Viallet', 1908,1910],['Cornier', 1910,1919],['Mistral', 1919,1932],['Martin', 1932,1935],['Cocat', 1935,1944],['Lafleur', 1944,1945],['Martin2', 1945,1947],['Bally', 1947,1948],['Perinetti', 1948,1949],['Martin3', 1949,1959],['Michallon', 1959,1965],['Dubedout', 1965,1983],['Carignon', 1983,1995],['Destot', 1995,2014],['Piolle', 2014,2021]]\n",
    "maireDict = {el[0]:[el[1],el[2]] for el in maire}"
   ]
  },
  {
   "cell_type": "code",
   "execution_count": 356,
   "id": "4b1e01eb",
   "metadata": {},
   "outputs": [],
   "source": [
    "def number_of_tree_per_maire(maire:dict, tupleListArbre:list) -> int:\n",
    "    \n",
    "    dictTemp = {}\n",
    "    \n",
    "    for el in tupleListArbre:\n",
    "        for maire in maireDict.keys():\n",
    "            #print(f\"Le maire {key} a reigné sur Grenoble de {maireDict[key]}\")\n",
    "            #print(type(maireDict[key][0]))\n",
    "            #print(type(el[0]))\n",
    "            #print(f\"{maireDict[maire][0]} <= {int(el[0])} < {maireDict[maire][1]} ????\")\n",
    "            if maireDict[maire][0] <= int(el[0])<maireDict[maire][1]:\n",
    "                #print(f\"The Maire {maire} planted --> {el[1]} <-- trees in the year {el[0]} during is mandat of [{maireDict[maire][0]},{maireDict[maire][1]}]\")        \n",
    "                \n",
    "                if maire in dictTemp:\n",
    "                    dictTemp[maire] += el[1]\n",
    "                else:\n",
    "                    dictTemp[maire] = el[1]\n",
    "                \n",
    "    return dictTemp"
   ]
  },
  {
   "cell_type": "code",
   "execution_count": 357,
   "id": "af62737f",
   "metadata": {},
   "outputs": [],
   "source": [
    "maireTreeDict = number_of_tree_per_maire(maireDict, sortedTreeTupleList)"
   ]
  },
  {
   "cell_type": "code",
   "execution_count": 358,
   "id": "086bf982",
   "metadata": {},
   "outputs": [],
   "source": [
    "def get_max_maire_tree(dictMaire:dict) -> str:\n",
    "    return max(dictMaire, key=dictMaire.get)"
   ]
  },
  {
   "cell_type": "code",
   "execution_count": 359,
   "id": "f3479a66",
   "metadata": {},
   "outputs": [
    {
     "name": "stdout",
     "output_type": "stream",
     "text": [
      "The Maire who planted the more trees is --> Dubedout <-- with a number of --> 12074 <--\n"
     ]
    }
   ],
   "source": [
    "max_maire = get_max_maire_tree(maireTreeDict)\n",
    "print(f\"The Maire who planted the more trees is --> {max_maire} <-- with a number of --> {maireTreeDict[max_maire]} <--\")"
   ]
  },
  {
   "cell_type": "code",
   "execution_count": 360,
   "id": "80fb88c1",
   "metadata": {},
   "outputs": [],
   "source": [
    "def get_maire_from_year(year:int, maireDict:dict) -> str:\n",
    "    \n",
    "    for maire in maireDict.keys():\n",
    "        if int(maireDict[maire][0]) <= int(year) < int(maireDict[maire][1]):\n",
    "            return maire\n",
    "    return \"Nan\"\n",
    "        \n",
    "def name_of_maire_per_tree(colYear:list, maireDict:dict) -> list:\n",
    "    \n",
    "    maireList = []\n",
    "    for year in colYear[1:]:\n",
    "        if not year:\n",
    "            \n",
    "            maireList.append(\"Nan\")\n",
    "            \n",
    "        else:\n",
    "            maireList.append(get_maire_from_year(int(year), maireDict))\n",
    "\n",
    "    \n",
    "    maireList.insert(0, \"Maire\")\n",
    "    return maireList"
   ]
  },
  {
   "cell_type": "code",
   "execution_count": null,
   "id": "97362d81",
   "metadata": {},
   "outputs": [],
   "source": []
  },
  {
   "cell_type": "markdown",
   "id": "609b7f8e",
   "metadata": {},
   "source": [
    "## Etude botanique"
   ]
  },
  {
   "cell_type": "code",
   "execution_count": 361,
   "id": "05804f54",
   "metadata": {},
   "outputs": [],
   "source": [
    "colToStudy = \"GENRE_BOTA\"\n",
    "colBota = get_col_values(colToStudy, dataset)"
   ]
  },
  {
   "cell_type": "code",
   "execution_count": 362,
   "id": "2e29690e",
   "metadata": {},
   "outputs": [
    {
     "name": "stdout",
     "output_type": "stream",
     "text": [
      "there is --> 933 <-- empty values in GENRE_BOTA\n"
     ]
    }
   ],
   "source": [
    "print(\"there is --> \" + str(count_empty_value(colBota)) + \" <-- empty values in \" + colToStudy )"
   ]
  },
  {
   "cell_type": "code",
   "execution_count": 363,
   "id": "8be9f1d8",
   "metadata": {},
   "outputs": [],
   "source": [
    "colBota = get_col_values(colToStudy, dataset)\n",
    "#colList"
   ]
  },
  {
   "cell_type": "code",
   "execution_count": 364,
   "id": "429bd8aa",
   "metadata": {},
   "outputs": [
    {
     "name": "stdout",
     "output_type": "stream",
     "text": [
      "There was 933 trees of type : \n"
     ]
    }
   ],
   "source": [
    "valueToFind = \"\"\n",
    "print(f\"There was {count_specific_value_in_col(valueToFind, colBota)} trees of type : {valueToFind}\")"
   ]
  },
  {
   "cell_type": "code",
   "execution_count": 365,
   "id": "b656f8d5",
   "metadata": {},
   "outputs": [],
   "source": [
    "def concat_year_type(colListArbre:list, colListYear:list) -> list:\n",
    "    if not len(colListArbre) == len(colListYear):\n",
    "        raise ValueError(\"The two colone studied are not the same length\")\n",
    "    else:\n",
    "        listTemp = []\n",
    "        for year, treeType in zip(colListArbre, colListYear):\n",
    "            tupleTemp = (year, treeType)\n",
    "            listTemp.append(tupleTemp)\n",
    "        \n",
    "        return listTemp"
   ]
  },
  {
   "cell_type": "code",
   "execution_count": 366,
   "id": "e081c383",
   "metadata": {},
   "outputs": [],
   "source": [
    "yearBotaList = concat_year_type(colYearTree, colBota)\n",
    "sortedyearBotaList = sort_by_year(yearBotaList)\n",
    "# sortedyearBotaList"
   ]
  },
  {
   "cell_type": "markdown",
   "id": "cc8fd13e",
   "metadata": {},
   "source": [
    "## Graphic representation"
   ]
  },
  {
   "cell_type": "code",
   "execution_count": 367,
   "id": "62f1784d",
   "metadata": {},
   "outputs": [
    {
     "name": "stdout",
     "output_type": "stream",
     "text": [
      "size year|number : 31620 and size of year|type : 31620\n"
     ]
    }
   ],
   "source": [
    "data = [sortedTreeTupleList, sortedyearBotaList]\n",
    "print(f\"size year|number : {len(sortedyearBotaList)} and size of year|type : {len(sortedyearBotaList)}\")\n"
   ]
  },
  {
   "cell_type": "markdown",
   "id": "dbfdb58f",
   "metadata": {},
   "source": [
    "## Create DataSet"
   ]
  },
  {
   "cell_type": "code",
   "execution_count": 368,
   "id": "e4c1d77c",
   "metadata": {},
   "outputs": [],
   "source": [
    "years = [int(d[0]) for d in sortedTreeTupleList[1:]]\n",
    "number = [d[1] for d in sortedTreeTupleList[1:]]\n",
    "Type = [d[1] for d in sortedyearBotaList[1:]]"
   ]
  },
  {
   "cell_type": "markdown",
   "id": "45077a29",
   "metadata": {},
   "source": [
    "## Build column of -31000 rows before group_by "
   ]
  },
  {
   "cell_type": "code",
   "execution_count": 369,
   "id": "a06d25ae",
   "metadata": {},
   "outputs": [
    {
     "name": "stdout",
     "output_type": "stream",
     "text": [
      "31619 is the last rows of the dataset and should start with 'MISSING' value\n"
     ]
    }
   ],
   "source": [
    "dataset\n",
    "rawData = add_missing_value(dataset)"
   ]
  },
  {
   "cell_type": "code",
   "execution_count": 370,
   "id": "3f09b3c1",
   "metadata": {},
   "outputs": [],
   "source": [
    "columnNameDict = get_dict_colName_colNum(rawData)\n",
    "#columnNameDict"
   ]
  },
  {
   "cell_type": "code",
   "execution_count": 371,
   "id": "4dbe8e7a",
   "metadata": {},
   "outputs": [],
   "source": [
    "colAnneePlantation = get_col_values(colName=\"ANNEEDEPLANTATION\", data=rawData)\n",
    "colGenreBota = get_col_values(colName=\"GENRE_BOTA\", data=rawData)\n",
    "colMaires = name_of_maire_per_tree(colYear=colAnneePlantation, maireDict=maireDict)"
   ]
  },
  {
   "cell_type": "code",
   "execution_count": 378,
   "id": "0aa67e5c",
   "metadata": {},
   "outputs": [
    {
     "data": {
      "text/plain": [
       "120"
      ]
     },
     "execution_count": 378,
     "metadata": {},
     "output_type": "execute_result"
    }
   ],
   "source": [
    "count_specific_value_in_col(value=\"Platanus\", col=colGenreBota)\n",
    "len(set(colGenreBota[1:]))"
   ]
  },
  {
   "cell_type": "code",
   "execution_count": 386,
   "id": "a2b43243",
   "metadata": {},
   "outputs": [],
   "source": [
    "def concat_year_maire_type(colYear:list, colMaire:list, colArbreType:list) -> list:\n",
    "    if not (len(colYear) == len(colMaire) == len(colArbreType) ):\n",
    "        raise ValueError(\"The two colone studied are not the same length\")\n",
    "    else:\n",
    "        listTemp = []\n",
    "        for year, maire, treeType in zip(colYear, colMaire, colArbreType):\n",
    "            tupleTemp = (year, maire, treeType)\n",
    "            listTemp.append(tupleTemp)\n",
    "        \n",
    "        return listTemp"
   ]
  },
  {
   "cell_type": "code",
   "execution_count": 387,
   "id": "9b478f7d",
   "metadata": {},
   "outputs": [
    {
     "data": {
      "text/plain": [
       "[('ANNEEDEPLANTATION', 'Maire', 'GENRE_BOTA'),\n",
       " ('1977', 'Dubedout', 'Platanus'),\n",
       " ('2001', 'Destot', 'Acer'),\n",
       " ('1975', 'Dubedout', 'Acer'),\n",
       " ('1978', 'Dubedout', 'Platanus'),\n",
       " ('1960', 'Michallon', 'Acer'),\n",
       " ('1960', 'Michallon', 'Platanus'),\n",
       " ('2000', 'Destot', 'Malus'),\n",
       " ('1944', 'Lafleur', 'Populus'),\n",
       " ('1944', 'Lafleur', 'Populus'),\n",
       " ('1991', 'Carignon', 'Magnolia'),\n",
       " ('2012', 'Destot', 'Prunus'),\n",
       " ('1980', 'Dubedout', 'Acer'),\n",
       " ('1992', 'Carignon', 'Carpinus'),\n",
       " ('1982', 'Dubedout', 'Fraxinus'),\n",
       " ('1986', 'Carignon', 'Prunus'),\n",
       " ('1977', 'Dubedout', 'Acer'),\n",
       " ('2004', 'Destot', 'Chamaecyparis'),\n",
       " ('2004', 'Destot', 'Celtis'),\n",
       " ('1965', 'Dubedout', 'Platanus'),\n",
       " ('1965', 'Dubedout', 'Platanus'),\n",
       " ('1991', 'Carignon', 'Corylus'),\n",
       " ('1960', 'Michallon', 'Magnolia'),\n",
       " ('1924', 'Mistral', 'Diospyros'),\n",
       " ('2004', 'Destot', 'Quercus'),\n",
       " ('1960', 'Michallon', 'Cupressus'),\n",
       " ('1960', 'Michallon', 'Chamaecyparis'),\n",
       " ('1982', 'Dubedout', 'Carpinus'),\n",
       " ('1990', 'Carignon', 'Sophora'),\n",
       " ('2010', 'Destot', 'Koelreuteria'),\n",
       " ('1999', 'Destot', 'Platanus'),\n",
       " ('1998', 'Destot', 'Platanus'),\n",
       " ('1975', 'Dubedout', 'Platanus'),\n",
       " ('1975', 'Dubedout', 'Platanus'),\n",
       " ('2001', 'Destot', 'Platanus'),\n",
       " ('2001', 'Destot', 'Platanus'),\n",
       " ('2001', 'Destot', 'Platanus'),\n",
       " ('1965', 'Dubedout', 'Platanus'),\n",
       " ('1965', 'Dubedout', 'Platanus'),\n",
       " ('1979', 'Dubedout', 'Aesculus'),\n",
       " ('1960', 'Michallon', 'Platanus'),\n",
       " ('1978', 'Dubedout', 'Populus'),\n",
       " ('1978', 'Dubedout', 'Platanus'),\n",
       " ('2006', 'Destot', 'Fagus'),\n",
       " ('1975', 'Dubedout', 'Fraxinus'),\n",
       " ('1975', 'Dubedout', 'Alnus'),\n",
       " ('2001', 'Destot', 'Acer'),\n",
       " ('2001', 'Destot', 'Sambucus'),\n",
       " ('1994', 'Carignon', 'Platanus'),\n",
       " ('1995', 'Destot', 'Prunus'),\n",
       " ('1995', 'Destot', 'Acer'),\n",
       " ('1995', 'Destot', 'Populus'),\n",
       " ('1975', 'Dubedout', 'Platanus'),\n",
       " ('1975', 'Dubedout', 'Pinus'),\n",
       " ('1975', 'Dubedout', 'Pinus'),\n",
       " ('1975', 'Dubedout', 'Pinus'),\n",
       " ('1975', 'Dubedout', 'Acer'),\n",
       " ('1975', 'Dubedout', 'Acer'),\n",
       " ('1975', 'Dubedout', 'Acer'),\n",
       " ('1975', 'Dubedout', 'Acer'),\n",
       " ('1975', 'Dubedout', 'Acer'),\n",
       " ('1975', 'Dubedout', 'Populus'),\n",
       " ('1975', 'Dubedout', 'Acer'),\n",
       " ('1980', 'Dubedout', 'Alnus'),\n",
       " ('1975', 'Dubedout', 'Betula'),\n",
       " ('1975', 'Dubedout', 'Koelreuteria'),\n",
       " ('1975', 'Dubedout', 'Betula'),\n",
       " ('1975', 'Dubedout', 'Salix'),\n",
       " ('1975', 'Dubedout', 'Platanus'),\n",
       " ('1975', 'Dubedout', 'Platanus'),\n",
       " ('1975', 'Dubedout', 'Ulmus'),\n",
       " ('1975', 'Dubedout', 'Fagus'),\n",
       " ('1975', 'Dubedout', 'Platanus'),\n",
       " ('1975', 'Dubedout', 'Platanus'),\n",
       " ('1975', 'Dubedout', 'Pinus'),\n",
       " ('1975', 'Dubedout', 'Platanus'),\n",
       " ('1975', 'Dubedout', 'Platanus'),\n",
       " ('1975', 'Dubedout', 'Carpinus'),\n",
       " ('2006', 'Destot', 'Cercis'),\n",
       " ('1976', 'Dubedout', 'Platanus'),\n",
       " ('1976', 'Dubedout', 'Platanus'),\n",
       " ('1985', 'Carignon', 'Tilia'),\n",
       " ('1975', 'Dubedout', 'Platanus'),\n",
       " ('1975', 'Dubedout', 'Acer'),\n",
       " ('1976', 'Dubedout', 'Platanus'),\n",
       " ('1976', 'Dubedout', 'Platanus'),\n",
       " ('1972', 'Dubedout', 'Acer'),\n",
       " ('1980', 'Dubedout', 'Carpinus'),\n",
       " ('1975', 'Dubedout', 'Alnus'),\n",
       " ('1975', 'Dubedout', 'Acer'),\n",
       " ('1975', 'Dubedout', 'Acer'),\n",
       " ('1975', 'Dubedout', 'Acer'),\n",
       " ('1975', 'Dubedout', 'Acer'),\n",
       " ('1975', 'Dubedout', 'Pinus'),\n",
       " ('1975', 'Dubedout', 'Platanus'),\n",
       " ('1975', 'Dubedout', 'Platanus'),\n",
       " ('1975', 'Dubedout', 'Populus'),\n",
       " ('1980', 'Dubedout', 'Sophora'),\n",
       " ('1975', 'Dubedout', 'Tilia'),\n",
       " ('1975', 'Dubedout', 'Tilia'),\n",
       " ('1995', 'Destot', 'Populus'),\n",
       " ('2009', 'Destot', 'Prunus'),\n",
       " ('1994', 'Carignon', 'Betula'),\n",
       " ('2004', 'Destot', 'Prunus'),\n",
       " ('2011', 'Destot', 'Morus'),\n",
       " ('2010', 'Destot', 'Morus'),\n",
       " ('1980', 'Dubedout', 'Pinus'),\n",
       " ('2009', 'Destot', 'Cedrus'),\n",
       " ('1980', 'Dubedout', 'Pinus'),\n",
       " ('2009', 'Destot', 'Prunus'),\n",
       " ('1950', 'Martin3', 'Platanus'),\n",
       " ('2005', 'Destot', 'Platanus'),\n",
       " ('2005', 'Destot', 'Platanus'),\n",
       " ('2005', 'Destot', 'Platanus'),\n",
       " ('1950', 'Martin3', 'Platanus'),\n",
       " ('1950', 'Martin3', 'Platanus'),\n",
       " ('1950', 'Martin3', 'Platanus'),\n",
       " ('1950', 'Martin3', 'Platanus'),\n",
       " ('2006', 'Destot', 'Betula'),\n",
       " ('2006', 'Destot', 'Betula'),\n",
       " ('1965', 'Dubedout', 'Populus'),\n",
       " ('1965', 'Dubedout', 'Acer'),\n",
       " ('1978', 'Dubedout', 'Populus'),\n",
       " ('1978', 'Dubedout', 'Platanus'),\n",
       " ('1971', 'Dubedout', 'Ginkgo'),\n",
       " ('1975', 'Dubedout', 'Acer'),\n",
       " ('2001', 'Destot', 'Fraxinus'),\n",
       " ('2001', 'Destot', 'Carpinus'),\n",
       " ('1994', 'Carignon', 'Prunus'),\n",
       " ('2001', 'Destot', 'Salix'),\n",
       " ('1975', 'Dubedout', 'Acer'),\n",
       " ('1975', 'Dubedout', 'Acer'),\n",
       " ('1984', 'Carignon', 'Ulmus'),\n",
       " ('1975', 'Dubedout', 'Platanus'),\n",
       " ('1987', 'Carignon', 'Liquidambar'),\n",
       " ('1975', 'Dubedout', 'Platanus'),\n",
       " ('1980', 'Dubedout', 'Alnus'),\n",
       " ('2006', 'Destot', 'Fraxinus'),\n",
       " ('1975', 'Dubedout', 'Platanus'),\n",
       " ('1975', 'Dubedout', 'Carpinus'),\n",
       " ('1965', 'Dubedout', 'Tilia'),\n",
       " ('1975', 'Dubedout', 'Picea'),\n",
       " ('1980', 'Dubedout', 'Chamaecyparis'),\n",
       " ('1983', 'Carignon', 'Platanus'),\n",
       " ('1982', 'Dubedout', 'Populus'),\n",
       " ('1976', 'Dubedout', 'Platanus'),\n",
       " ('2011', 'Destot', 'Cedrela'),\n",
       " ('1970', 'Dubedout', 'Tilia'),\n",
       " ('2009', 'Destot', 'Quercus'),\n",
       " ('1981', 'Dubedout', 'Populus'),\n",
       " ('1981', 'Dubedout', 'Acer'),\n",
       " ('1996', 'Destot', 'Pinus'),\n",
       " ('1983', 'Carignon', 'Acer'),\n",
       " ('1983', 'Carignon', 'Pinus'),\n",
       " ('1983', 'Carignon', 'Cedrus'),\n",
       " ('1985', 'Carignon', 'Morus'),\n",
       " ('1955', 'Martin3', 'Tilia'),\n",
       " ('1955', 'Martin3', 'Tilia'),\n",
       " ('1987', 'Carignon', 'Platanus'),\n",
       " ('1987', 'Carignon', 'Pinus'),\n",
       " ('2003', 'Destot', 'Broussonetia'),\n",
       " ('1978', 'Dubedout', 'Pinus'),\n",
       " ('1995', 'Destot', 'Tilia'),\n",
       " ('1995', 'Destot', 'Pyrus'),\n",
       " ('2010', 'Destot', 'Prunus'),\n",
       " ('2010', 'Destot', 'Punica'),\n",
       " ('1979', 'Dubedout', 'Platanus'),\n",
       " ('1992', 'Carignon', 'Liquidambar'),\n",
       " ('1999', 'Destot', 'Celtis'),\n",
       " ('2003', 'Destot', 'Cedrus'),\n",
       " ('2002', 'Destot', 'Liriodendron'),\n",
       " ('1987', 'Carignon', 'Magnolia'),\n",
       " ('1975', 'Dubedout', 'Platanus'),\n",
       " ('1975', 'Dubedout', 'Platanus'),\n",
       " ('2001', 'Destot', 'Liquidambar'),\n",
       " ('1996', 'Destot', 'Acer'),\n",
       " ('1995', 'Destot', 'Prunus'),\n",
       " ('1999', 'Destot', 'Celtis'),\n",
       " ('1970', 'Dubedout', 'Aesculus'),\n",
       " ('1970', 'Dubedout', 'Pinus'),\n",
       " ('1999', 'Destot', 'Ginkgo'),\n",
       " ('2000', 'Destot', 'Carpinus'),\n",
       " ('1999', 'Destot', 'Pinus'),\n",
       " ('1970', 'Dubedout', 'Cedrus'),\n",
       " ('1970', 'Dubedout', 'Pinus'),\n",
       " ('1992', 'Carignon', 'Gleditsia'),\n",
       " ('1992', 'Carignon', 'Tilia'),\n",
       " ('2007', 'Destot', 'Acer'),\n",
       " ('1972', 'Dubedout', 'Sophora'),\n",
       " ('1975', 'Dubedout', 'Acer'),\n",
       " ('1975', 'Dubedout', 'Acer'),\n",
       " ('1975', 'Dubedout', 'Carpinus'),\n",
       " ('1976', 'Dubedout', 'Platanus'),\n",
       " ('1976', 'Dubedout', 'Platanus'),\n",
       " ('1979', 'Dubedout', 'Populus'),\n",
       " ('1972', 'Dubedout', 'Acer'),\n",
       " ('1972', 'Dubedout', 'Acer'),\n",
       " ('1980', 'Dubedout', 'Carpinus'),\n",
       " ('1975', 'Dubedout', 'Fraxinus'),\n",
       " ('1975', 'Dubedout', 'Carpinus'),\n",
       " ('2005', 'Destot', 'Cedrus'),\n",
       " ('1975', 'Dubedout', 'Acer'),\n",
       " ('1975', 'Dubedout', 'Acer'),\n",
       " ('1975', 'Dubedout', 'Acer'),\n",
       " ('1975', 'Dubedout', 'Acer'),\n",
       " ('1975', 'Dubedout', 'Acer'),\n",
       " ('1975', 'Dubedout', 'Cedrus'),\n",
       " ('1975', 'Dubedout', 'Mespilus'),\n",
       " ('1980', 'Dubedout', 'Carpinus'),\n",
       " ('1975', 'Dubedout', 'Acer'),\n",
       " ('1975', 'Dubedout', 'Acer'),\n",
       " ('1991', 'Carignon', 'Gleditsia'),\n",
       " ('1975', 'Dubedout', 'Alnus'),\n",
       " ('1975', 'Dubedout', 'Platanus'),\n",
       " ('1975', 'Dubedout', 'Carpinus'),\n",
       " ('1975', 'Dubedout', 'Carpinus'),\n",
       " ('1975', 'Dubedout', 'Tilia'),\n",
       " ('1975', 'Dubedout', 'Magnolia'),\n",
       " ('1980', 'Dubedout', 'Carpinus'),\n",
       " ('1980', 'Dubedout', 'Acer'),\n",
       " ('1975', 'Dubedout', 'Tilia'),\n",
       " ('1975', 'Dubedout', 'Acer'),\n",
       " ('1975', 'Dubedout', 'Pinus'),\n",
       " ('1975', 'Dubedout', 'Pinus'),\n",
       " ('1975', 'Dubedout', 'Acer'),\n",
       " ('1965', 'Dubedout', 'Platanus'),\n",
       " ('1979', 'Dubedout', 'Robinia'),\n",
       " ('1979', 'Dubedout', 'Robinia'),\n",
       " ('1979', 'Dubedout', 'Cupressocyparis'),\n",
       " ('1979', 'Dubedout', 'Cydonia'),\n",
       " ('1985', 'Carignon', 'Acer'),\n",
       " ('2009', 'Destot', 'Acer'),\n",
       " ('2009', 'Destot', 'Pyrus'),\n",
       " ('2001', 'Destot', 'Platanus'),\n",
       " ('2001', 'Destot', 'Platanus'),\n",
       " ('2001', 'Destot', 'Platanus'),\n",
       " ('1990', 'Carignon', 'Platanus'),\n",
       " ('2001', 'Destot', 'Alnus'),\n",
       " ('2009', 'Destot', 'Fraxinus'),\n",
       " ('2001', 'Destot', 'Betula'),\n",
       " ('1980', 'Dubedout', 'Platanus'),\n",
       " ('2006', 'Destot', 'Carpinus'),\n",
       " ('2001', 'Destot', 'Alnus'),\n",
       " ('1995', 'Destot', 'Prunus'),\n",
       " ('1995', 'Destot', 'Acer'),\n",
       " ('1995', 'Destot', 'Prunus'),\n",
       " ('1997', 'Destot', 'Aesculus'),\n",
       " ('1995', 'Destot', 'Robinia'),\n",
       " ('1995', 'Destot', 'Sophora'),\n",
       " ('1995', 'Destot', 'Populus'),\n",
       " ('1995', 'Destot', 'Prunus'),\n",
       " ('1995', 'Destot', 'Acer'),\n",
       " ('1994', 'Carignon', 'Gleditsia'),\n",
       " ('2011', 'Destot', 'Ficus'),\n",
       " ('1993', 'Carignon', 'Gleditsia'),\n",
       " ('1994', 'Carignon', 'Prunus'),\n",
       " ('1980', 'Dubedout', 'Aesculus'),\n",
       " ('1980', 'Dubedout', 'Acer'),\n",
       " ('1980', 'Dubedout', 'Cedrus'),\n",
       " ('1988', 'Carignon', 'Carpinus'),\n",
       " ('1988', 'Carignon', 'Pinus'),\n",
       " ('1988', 'Carignon', 'Platanus'),\n",
       " ('2005', 'Destot', 'Platanus'),\n",
       " ('2005', 'Destot', 'Platanus'),\n",
       " ('1970', 'Dubedout', 'Acer'),\n",
       " ('2006', 'Destot', 'Platanus'),\n",
       " ('1975', 'Dubedout', 'Picea'),\n",
       " ('1988', 'Carignon', 'Pinus'),\n",
       " ('1988', 'Carignon', 'Pinus'),\n",
       " ('1978', 'Dubedout', 'Cedrus'),\n",
       " ('1965', 'Dubedout', 'Ulmus'),\n",
       " ('2006', 'Destot', 'Liriodendron'),\n",
       " ('2007', 'Destot', 'Fraxinus'),\n",
       " ('2006', 'Destot', 'Metasequoia'),\n",
       " ('2006', 'Destot', 'Pinus'),\n",
       " ('2006', 'Destot', 'Pinus'),\n",
       " ('1970', 'Dubedout', 'Platanus'),\n",
       " ('1965', 'Dubedout', 'Taxus'),\n",
       " ('1965', 'Dubedout', 'Cedrus'),\n",
       " ('2010', 'Destot', 'Sequoia'),\n",
       " ('1965', 'Dubedout', 'Acer'),\n",
       " ('1965', 'Dubedout', 'Acer'),\n",
       " ('1975', 'Dubedout', 'Koelreuteria'),\n",
       " ('2006', 'Destot', 'Prunus'),\n",
       " ('2006', 'Destot', 'Prunus'),\n",
       " ('2006', 'Destot', 'Prunus'),\n",
       " ('1982', 'Dubedout', 'Liquidambar'),\n",
       " ('1965', 'Dubedout', 'Populus'),\n",
       " ('1965', 'Dubedout', 'Chamaecyparis'),\n",
       " ('1950', 'Martin3', 'Aesculus'),\n",
       " ('2006', 'Destot', 'Prunus'),\n",
       " ('2006', 'Destot', 'Prunus'),\n",
       " ('2006', 'Destot', 'Prunus'),\n",
       " ('2006', 'Destot', 'Prunus'),\n",
       " ('1955', 'Martin3', 'Fagus'),\n",
       " ('1955', 'Martin3', 'Fagus'),\n",
       " ('1965', 'Dubedout', 'Taxus'),\n",
       " ('1965', 'Dubedout', 'Acer'),\n",
       " ('1950', 'Martin3', 'Platanus'),\n",
       " ('1950', 'Martin3', 'Platanus'),\n",
       " ('1950', 'Martin3', 'Platanus'),\n",
       " ('1950', 'Martin3', 'Platanus'),\n",
       " ('1975', 'Dubedout', 'Malus'),\n",
       " ('1965', 'Dubedout', 'Cedrus'),\n",
       " ('1965', 'Dubedout', 'Fagus'),\n",
       " ('2006', 'Destot', 'Betula'),\n",
       " ('2006', 'Destot', 'Betula'),\n",
       " ('1965', 'Dubedout', 'Taxus'),\n",
       " ('1965', 'Dubedout', 'Picea'),\n",
       " ('1981', 'Dubedout', 'Tilia'),\n",
       " ('1965', 'Dubedout', 'Picea'),\n",
       " ('1975', 'Dubedout', 'Liquidambar'),\n",
       " ('1971', 'Dubedout', 'Fagus'),\n",
       " ('1980', 'Dubedout', 'Chamaecyparis'),\n",
       " ('2001', 'Destot', 'Fraxinus'),\n",
       " ('2001', 'Destot', 'Ulmus'),\n",
       " ('2001', 'Destot', 'Acer'),\n",
       " ('1990', 'Carignon', 'Fraxinus'),\n",
       " ('1975', 'Dubedout', 'Acer'),\n",
       " ('1975', 'Dubedout', 'Acer'),\n",
       " ('1977', 'Dubedout', 'Aesculus'),\n",
       " ('1977', 'Dubedout', 'Platanus'),\n",
       " ('', 'Nan', ''),\n",
       " ('1975', 'Dubedout', 'Cedrus'),\n",
       " ('2017', 'Piolle', 'Tilia'),\n",
       " ('2017', 'Piolle', 'Tilia'),\n",
       " ('2017', 'Piolle', 'Tilia'),\n",
       " ('1975', 'Dubedout', 'Cedrus'),\n",
       " ('1975', 'Dubedout', 'Acer'),\n",
       " ('1975', 'Dubedout', 'Cedrus'),\n",
       " ('1975', 'Dubedout', 'Cedrus'),\n",
       " ('1975', 'Dubedout', 'Acer'),\n",
       " ('1975', 'Dubedout', 'Cedrus'),\n",
       " ('1975', 'Dubedout', 'Cedrus'),\n",
       " ('1975', 'Dubedout', 'Cedrus'),\n",
       " ('1975', 'Dubedout', 'Fraxinus'),\n",
       " ('1975', 'Dubedout', 'Cedrus'),\n",
       " ('1975', 'Dubedout', 'Cedrus'),\n",
       " ('2017', 'Piolle', 'Quercus'),\n",
       " ('2017', 'Piolle', ''),\n",
       " ('2017', 'Piolle', 'Chamaecyparis'),\n",
       " ('2017', 'Piolle', 'Chamaecyparis'),\n",
       " ('2017', 'Piolle', 'Zelkova'),\n",
       " ('2017', 'Piolle', 'Zelkova'),\n",
       " ('2017', 'Piolle', 'Zelkova'),\n",
       " ('2017', 'Piolle', 'Zelkova'),\n",
       " ('2017', 'Piolle', 'Zelkova'),\n",
       " ('2017', 'Piolle', 'Zelkova'),\n",
       " ('2017', 'Piolle', 'Zelkova'),\n",
       " ('2017', 'Piolle', ''),\n",
       " ('2016', 'Piolle', 'Lagerstroemia'),\n",
       " ('2016', 'Piolle', 'Magnolia'),\n",
       " ('2016', 'Piolle', 'Magnolia'),\n",
       " ('2017', 'Piolle', 'Pinus'),\n",
       " ('2017', 'Piolle', 'Pinus'),\n",
       " ('2017', 'Piolle', 'Betula'),\n",
       " ('2016', 'Piolle', 'Prunus'),\n",
       " ('2016', 'Piolle', 'Prunus'),\n",
       " ('2016', 'Piolle', 'Prunus'),\n",
       " ('2016', 'Piolle', 'Prunus'),\n",
       " ('2016', 'Piolle', 'Prunus'),\n",
       " ('2016', 'Piolle', 'Malus'),\n",
       " ('2016', 'Piolle', 'Malus'),\n",
       " ('2016', 'Piolle', 'Malus'),\n",
       " ('2016', 'Piolle', 'Malus'),\n",
       " ('2016', 'Piolle', 'Malus'),\n",
       " ('2016', 'Piolle', 'Malus'),\n",
       " ('2016', 'Piolle', 'Malus'),\n",
       " ('2016', 'Piolle', 'Malus'),\n",
       " ('', 'Nan', ''),\n",
       " ('', 'Nan', ''),\n",
       " ('', 'Nan', ''),\n",
       " ('', 'Nan', ''),\n",
       " ('', 'Nan', ''),\n",
       " ('', 'Nan', ''),\n",
       " ('', 'Nan', ''),\n",
       " ('', 'Nan', ''),\n",
       " ('', 'Nan', ''),\n",
       " ('', 'Nan', ''),\n",
       " ('2012', 'Destot', 'Tetradium'),\n",
       " ('', 'Nan', ''),\n",
       " ('', 'Nan', ''),\n",
       " ('1978', 'Dubedout', 'Corylus'),\n",
       " ('', 'Nan', ''),\n",
       " ('', 'Nan', ''),\n",
       " ('', 'Nan', ''),\n",
       " ('', 'Nan', ''),\n",
       " ('', 'Nan', ''),\n",
       " ('', 'Nan', ''),\n",
       " ('', 'Nan', ''),\n",
       " ('', 'Nan', ''),\n",
       " ('', 'Nan', ''),\n",
       " ('', 'Nan', ''),\n",
       " ('', 'Nan', ''),\n",
       " ('', 'Nan', ''),\n",
       " ('', 'Nan', ''),\n",
       " ('', 'Nan', ''),\n",
       " ('', 'Nan', ''),\n",
       " ('', 'Nan', ''),\n",
       " ('2005', 'Destot', 'Carpinus'),\n",
       " ('', 'Nan', ''),\n",
       " ('', 'Nan', ''),\n",
       " ('', 'Nan', ''),\n",
       " ('', 'Nan', ''),\n",
       " ('', 'Nan', ''),\n",
       " ('', 'Nan', ''),\n",
       " ('', 'Nan', ''),\n",
       " ('', 'Nan', ''),\n",
       " ('', 'Nan', ''),\n",
       " ('', 'Nan', ''),\n",
       " ('', 'Nan', ''),\n",
       " ('', 'Nan', ''),\n",
       " ('', 'Nan', ''),\n",
       " ('', 'Nan', ''),\n",
       " ('', 'Nan', ''),\n",
       " ('', 'Nan', ''),\n",
       " ('', 'Nan', ''),\n",
       " ('', 'Nan', ''),\n",
       " ('2016', 'Piolle', 'Prunus'),\n",
       " ('2016', 'Piolle', 'Prunus'),\n",
       " ('2017', 'Piolle', 'Betula'),\n",
       " ('2017', 'Piolle', 'Acer'),\n",
       " ('2017', 'Piolle', 'Betula'),\n",
       " ('2016', 'Piolle', 'Acer'),\n",
       " ('2016', 'Piolle', 'Acer'),\n",
       " ('2016', 'Piolle', 'Acer'),\n",
       " ('2016', 'Piolle', 'Fraxinus'),\n",
       " ('2016', 'Piolle', 'Fraxinus'),\n",
       " ('2016', 'Piolle', 'Fraxinus'),\n",
       " ('2016', 'Piolle', 'Fraxinus'),\n",
       " ('2016', 'Piolle', 'Fraxinus'),\n",
       " ('2016', 'Piolle', 'Fraxinus'),\n",
       " ('2018', 'Piolle', 'Sophora'),\n",
       " ('2018', 'Piolle', 'Sophora'),\n",
       " ('2018', 'Piolle', 'Sophora'),\n",
       " ('2018', 'Piolle', 'Sophora'),\n",
       " ('2018', 'Piolle', 'Magnolia'),\n",
       " ('2018', 'Piolle', 'Magnolia'),\n",
       " ('2018', 'Piolle', 'Magnolia'),\n",
       " ('2018', 'Piolle', 'Magnolia'),\n",
       " ('2018', 'Piolle', 'Magnolia'),\n",
       " ('2018', 'Piolle', 'Magnolia'),\n",
       " ('2018', 'Piolle', 'Magnolia'),\n",
       " ('2018', 'Piolle', 'Magnolia'),\n",
       " ('2018', 'Piolle', 'Magnolia'),\n",
       " ('2018', 'Piolle', 'Magnolia'),\n",
       " ('2018', 'Piolle', 'Magnolia'),\n",
       " ('2018', 'Piolle', 'Magnolia'),\n",
       " ('2018', 'Piolle', 'Magnolia'),\n",
       " ('2017', 'Piolle', 'Magnolia'),\n",
       " ('2017', 'Piolle', 'Magnolia'),\n",
       " ('2017', 'Piolle', 'Magnolia'),\n",
       " ('2017', 'Piolle', 'Magnolia'),\n",
       " ('', 'Nan', ''),\n",
       " ('', 'Nan', ''),\n",
       " ('', 'Nan', ''),\n",
       " ('', 'Nan', ''),\n",
       " ('', 'Nan', ''),\n",
       " ('', 'Nan', ''),\n",
       " ('', 'Nan', ''),\n",
       " ('', 'Nan', ''),\n",
       " ('', 'Nan', ''),\n",
       " ('', 'Nan', ''),\n",
       " ('', 'Nan', ''),\n",
       " ('', 'Nan', ''),\n",
       " ('', 'Nan', ''),\n",
       " ('', 'Nan', ''),\n",
       " ('', 'Nan', ''),\n",
       " ('', 'Nan', ''),\n",
       " ('', 'Nan', ''),\n",
       " ('', 'Nan', ''),\n",
       " ('', 'Nan', ''),\n",
       " ('', 'Nan', ''),\n",
       " ('', 'Nan', ''),\n",
       " ('', 'Nan', ''),\n",
       " ('', 'Nan', ''),\n",
       " ('', 'Nan', ''),\n",
       " ('', 'Nan', ''),\n",
       " ('', 'Nan', ''),\n",
       " ('', 'Nan', ''),\n",
       " ('', 'Nan', ''),\n",
       " ('', 'Nan', ''),\n",
       " ('', 'Nan', ''),\n",
       " ('', 'Nan', ''),\n",
       " ('', 'Nan', ''),\n",
       " ('', 'Nan', ''),\n",
       " ('', 'Nan', ''),\n",
       " ('', 'Nan', ''),\n",
       " ('', 'Nan', ''),\n",
       " ('', 'Nan', ''),\n",
       " ('', 'Nan', ''),\n",
       " ('', 'Nan', ''),\n",
       " ('', 'Nan', ''),\n",
       " ('', 'Nan', ''),\n",
       " ('2012', 'Destot', 'Cercis'),\n",
       " ('', 'Nan', ''),\n",
       " ('', 'Nan', ''),\n",
       " ('', 'Nan', ''),\n",
       " ('', 'Nan', ''),\n",
       " ('', 'Nan', ''),\n",
       " ('', 'Nan', ''),\n",
       " ('', 'Nan', ''),\n",
       " ('2015', 'Piolle', 'Alnus'),\n",
       " ('2015', 'Piolle', 'Acer'),\n",
       " ('2015', 'Piolle', 'Acer'),\n",
       " ('2015', 'Piolle', 'Fraxinus'),\n",
       " ('2015', 'Piolle', 'Fraxinus'),\n",
       " ('2015', 'Piolle', 'Ulmus'),\n",
       " ('2015', 'Piolle', 'Fraxinus'),\n",
       " ('2015', 'Piolle', 'Acer'),\n",
       " ('2015', 'Piolle', 'Alnus'),\n",
       " ('2015', 'Piolle', 'Tilia'),\n",
       " ('2015', 'Piolle', 'Magnolia'),\n",
       " ('2015', 'Piolle', 'Magnolia'),\n",
       " ('2015', 'Piolle', 'Magnolia'),\n",
       " ('2015', 'Piolle', 'Magnolia'),\n",
       " ('2015', 'Piolle', 'Magnolia'),\n",
       " ('2015', 'Piolle', 'Magnolia'),\n",
       " ('2015', 'Piolle', 'Magnolia'),\n",
       " ('2015', 'Piolle', 'Magnolia'),\n",
       " ('1975', 'Dubedout', 'Cedrus'),\n",
       " ('1975', 'Dubedout', 'Cedrus'),\n",
       " ('1975', 'Dubedout', 'Cedrus'),\n",
       " ('1975', 'Dubedout', 'Catalpa'),\n",
       " ('1975', 'Dubedout', 'Acer'),\n",
       " ('1975', 'Dubedout', 'Cedrus'),\n",
       " ('1975', 'Dubedout', 'Cedrus'),\n",
       " ('1975', 'Dubedout', 'Cedrus'),\n",
       " ('1975', 'Dubedout', 'Cedrus'),\n",
       " ('1975', 'Dubedout', 'Cedrus'),\n",
       " ('1975', 'Dubedout', 'Cedrus'),\n",
       " ('1975', 'Dubedout', 'Cedrus'),\n",
       " ('1975', 'Dubedout', 'Populus'),\n",
       " ('1975', 'Dubedout', 'Cedrus'),\n",
       " ('1975', 'Dubedout', 'Cedrus'),\n",
       " ('1975', 'Dubedout', 'Cupressus'),\n",
       " ('1975', 'Dubedout', 'Cedrus'),\n",
       " ('1975', 'Dubedout', 'Cedrus'),\n",
       " ('1975', 'Dubedout', 'Populus'),\n",
       " ('1975', 'Dubedout', 'Cedrus'),\n",
       " ('1975', 'Dubedout', 'Cedrus'),\n",
       " ('1975', 'Dubedout', 'Fraxinus'),\n",
       " ('1975', 'Dubedout', 'Rhus'),\n",
       " ('1975', 'Dubedout', 'Cedrus'),\n",
       " ('2016', 'Piolle', 'Pyrus'),\n",
       " ('2018', 'Piolle', 'Pyrus'),\n",
       " ('2018', 'Piolle', 'Pyrus'),\n",
       " ('2018', 'Piolle', 'Pyrus'),\n",
       " ('2018', 'Piolle', 'Quercus'),\n",
       " ('2018', 'Piolle', 'Acer'),\n",
       " ('2018', 'Piolle', 'Acer'),\n",
       " ('2018', 'Piolle', 'Quercus'),\n",
       " ('2018', 'Piolle', 'Quercus'),\n",
       " ('2018', 'Piolle', 'Quercus'),\n",
       " ('2018', 'Piolle', 'Prunus'),\n",
       " ('2018', 'Piolle', 'Prunus'),\n",
       " ('2018', 'Piolle', 'Zelkova'),\n",
       " ('2018', 'Piolle', 'Zelkova'),\n",
       " ('2018', 'Piolle', 'Zelkova'),\n",
       " ('2017', 'Piolle', 'Magnolia'),\n",
       " ('2017', 'Piolle', 'Magnolia'),\n",
       " ('2018', 'Piolle', 'Acer'),\n",
       " ('2018', 'Piolle', 'Malus'),\n",
       " ('2018', 'Piolle', 'Malus'),\n",
       " ('2018', 'Piolle', 'Malus'),\n",
       " ('2018', 'Piolle', 'Malus'),\n",
       " ('2018', 'Piolle', 'Prunus'),\n",
       " ('2018', 'Piolle', 'Prunus'),\n",
       " ('2018', 'Piolle', 'Prunus'),\n",
       " ('2018', 'Piolle', 'Prunus'),\n",
       " ('2018', 'Piolle', 'Prunus'),\n",
       " ('2018', 'Piolle', 'Malus'),\n",
       " ('2018', 'Piolle', 'Ulmus'),\n",
       " ('2018', 'Piolle', 'Pterocarya'),\n",
       " ('2018', 'Piolle', 'Alnus'),\n",
       " ('2018', 'Piolle', 'Ulmus'),\n",
       " ('2018', 'Piolle', 'Quercus'),\n",
       " ('2018', 'Piolle', 'Quercus'),\n",
       " ('2018', 'Piolle', 'Pterocarya'),\n",
       " ('2018', 'Piolle', 'Acer'),\n",
       " ('2018', 'Piolle', 'Acer'),\n",
       " ('2018', 'Piolle', 'Ulmus'),\n",
       " ('2018', 'Piolle', 'Ulmus'),\n",
       " ('2018', 'Piolle', 'Alnus'),\n",
       " ('2018', 'Piolle', 'Celtis'),\n",
       " ('1960', 'Michallon', 'Tilia'),\n",
       " ('2017', 'Piolle', 'Gleditsia'),\n",
       " ('2017', 'Piolle', 'Gleditsia'),\n",
       " ('2017', 'Piolle', 'Gleditsia'),\n",
       " ('2017', 'Piolle', 'Zelkova'),\n",
       " ('2017', 'Piolle', 'Zelkova'),\n",
       " ('2017', 'Piolle', 'Zelkova'),\n",
       " ('2018', 'Piolle', 'Acacia'),\n",
       " ('', 'Nan', 'Platanus'),\n",
       " ('', 'Nan', 'Platanus'),\n",
       " ('', 'Nan', 'Platanus'),\n",
       " ('', 'Nan', 'Platanus'),\n",
       " ('', 'Nan', 'Platanus'),\n",
       " ('', 'Nan', 'Platanus'),\n",
       " ('', 'Nan', 'Platanus'),\n",
       " ('', 'Nan', 'Acer'),\n",
       " ('', 'Nan', 'Acer'),\n",
       " ('1985', 'Carignon', 'Platanus'),\n",
       " ('', 'Nan', 'Platanus'),\n",
       " ('', 'Nan', 'Platanus'),\n",
       " ('', 'Nan', 'Platanus'),\n",
       " ('', 'Nan', 'Platanus'),\n",
       " ('', 'Nan', 'Platanus'),\n",
       " ('', 'Nan', 'Platanus'),\n",
       " ('', 'Nan', 'Platanus'),\n",
       " ('', 'Nan', 'Platanus'),\n",
       " ('', 'Nan', 'Platanus'),\n",
       " ('', 'Nan', ''),\n",
       " ('', 'Nan', ''),\n",
       " ('', 'Nan', ''),\n",
       " ('', 'Nan', ''),\n",
       " ('', 'Nan', ''),\n",
       " ('', 'Nan', ''),\n",
       " ('', 'Nan', ''),\n",
       " ('', 'Nan', ''),\n",
       " ('', 'Nan', ''),\n",
       " ('', 'Nan', ''),\n",
       " ('', 'Nan', ''),\n",
       " ('', 'Nan', ''),\n",
       " ('', 'Nan', ''),\n",
       " ('', 'Nan', ''),\n",
       " ('', 'Nan', ''),\n",
       " ('', 'Nan', ''),\n",
       " ('', 'Nan', ''),\n",
       " ('', 'Nan', ''),\n",
       " ('', 'Nan', ''),\n",
       " ('', 'Nan', ''),\n",
       " ('', 'Nan', ''),\n",
       " ('', 'Nan', ''),\n",
       " ('', 'Nan', ''),\n",
       " ('', 'Nan', ''),\n",
       " ('', 'Nan', ''),\n",
       " ('', 'Nan', ''),\n",
       " ('', 'Nan', ''),\n",
       " ('', 'Nan', ''),\n",
       " ('', 'Nan', ''),\n",
       " ('1975', 'Dubedout', 'Acer'),\n",
       " ('1975', 'Dubedout', 'Pinus'),\n",
       " ('1975', 'Dubedout', 'Pinus'),\n",
       " ('1975', 'Dubedout', 'Pinus'),\n",
       " ('1975', 'Dubedout', 'Acer'),\n",
       " ('1975', 'Dubedout', 'Pinus'),\n",
       " ('1975', 'Dubedout', 'Fagus'),\n",
       " ('1975', 'Dubedout', 'Pinus'),\n",
       " ('1975', 'Dubedout', 'Alnus'),\n",
       " ('1975', 'Dubedout', 'Acer'),\n",
       " ('1975', 'Dubedout', 'Alnus'),\n",
       " ('1975', 'Dubedout', 'Alnus'),\n",
       " ('1975', 'Dubedout', 'Acer'),\n",
       " ('1985', 'Carignon', 'Populus'),\n",
       " ('1995', 'Destot', 'Pinus'),\n",
       " ('1995', 'Destot', 'Platanus'),\n",
       " ('1972', 'Dubedout', 'Betula'),\n",
       " ('1980', 'Dubedout', 'Carpinus'),\n",
       " ('1980', 'Dubedout', 'Carpinus'),\n",
       " ('1985', 'Carignon', 'Gleditsia'),\n",
       " ('1976', 'Dubedout', 'Platanus'),\n",
       " ('1976', 'Dubedout', 'Platanus'),\n",
       " ('1980', 'Dubedout', 'Platanus'),\n",
       " ('1972', 'Dubedout', 'Fagus'),\n",
       " ('1975', 'Dubedout', 'Acer'),\n",
       " ('1975', 'Dubedout', 'Platanus'),\n",
       " ('1975', 'Dubedout', 'Tilia'),\n",
       " ('2000', 'Destot', 'Acer'),\n",
       " ('1986', 'Carignon', 'Pinus'),\n",
       " ('2002', 'Destot', 'Liriodendron'),\n",
       " ('2011', 'Destot', 'Liriodendron'),\n",
       " ('1970', 'Dubedout', 'Betula'),\n",
       " ('1970', 'Dubedout', 'Acer'),\n",
       " ('1975', 'Dubedout', 'Populus'),\n",
       " ('1981', 'Dubedout', 'Acer'),\n",
       " ('1985', 'Carignon', 'Pinus'),\n",
       " ('1975', 'Dubedout', 'Fagus'),\n",
       " ('1981', 'Dubedout', 'Pinus'),\n",
       " ('1981', 'Dubedout', 'Carpinus'),\n",
       " ('1981', 'Dubedout', 'Acer'),\n",
       " ('1981', 'Dubedout', 'Acer'),\n",
       " ('1992', 'Carignon', 'Magnolia'),\n",
       " ('1996', 'Destot', 'Ulmus'),\n",
       " ('1996', 'Destot', 'Sophora'),\n",
       " ('1996', 'Destot', 'Abies'),\n",
       " ('1996', 'Destot', 'Parrotia'),\n",
       " ('2005', 'Destot', 'Pterocarya'),\n",
       " ('1993', 'Carignon', 'Corylus'),\n",
       " ('1999', 'Destot', 'Celtis'),\n",
       " ('1983', 'Carignon', 'Cedrus'),\n",
       " ('1983', 'Carignon', 'Cedrus'),\n",
       " ('1983', 'Carignon', 'Tilia'),\n",
       " ('1983', 'Carignon', 'Cupressocyparis'),\n",
       " ('1980', 'Dubedout', 'Corylus'),\n",
       " ('1970', 'Dubedout', 'Populus'),\n",
       " ('1999', 'Destot', 'Catalpa'),\n",
       " ('1999', 'Destot', 'Chamaecyparis'),\n",
       " ('1955', 'Martin3', 'Tilia'),\n",
       " ('1955', 'Martin3', 'Tilia'),\n",
       " ('1955', 'Martin3', 'Tilia'),\n",
       " ('1955', 'Martin3', 'Tilia'),\n",
       " ('2009', 'Destot', 'Acer'),\n",
       " ('1959', 'Michallon', 'Tilia'),\n",
       " ('1959', 'Michallon', 'Tilia'),\n",
       " ('1995', 'Destot', 'Aesculus'),\n",
       " ('1995', 'Destot', 'Aesculus'),\n",
       " ('1995', 'Destot', 'Aesculus'),\n",
       " ('1995', 'Destot', 'Acer'),\n",
       " ('1978', 'Dubedout', 'Acer'),\n",
       " ('1978', 'Dubedout', 'Acer'),\n",
       " ('1982', 'Dubedout', 'Acer'),\n",
       " ('2001', 'Destot', 'Liquidambar'),\n",
       " ('2001', 'Destot', 'Liquidambar'),\n",
       " ('2003', 'Destot', 'Populus'),\n",
       " ('1966', 'Dubedout', 'Alnus'),\n",
       " ('1966', 'Dubedout', 'Alnus'),\n",
       " ('1987', 'Carignon', 'Platanus'),\n",
       " ('1987', 'Carignon', 'Tilia'),\n",
       " ('1978', 'Dubedout', 'Platanus'),\n",
       " ('1978', 'Dubedout', 'Platanus'),\n",
       " ('2001', 'Destot', 'Pinus'),\n",
       " ('2011', 'Destot', 'Sophora'),\n",
       " ('2011', 'Destot', 'Pinus'),\n",
       " ('1989', 'Carignon', 'Sophora'),\n",
       " ('1966', 'Dubedout', 'Fraxinus'),\n",
       " ('1989', 'Carignon', 'Cercis'),\n",
       " ('1989', 'Carignon', 'Cercis'),\n",
       " ('1998', 'Destot', 'Aesculus'),\n",
       " ('1987', 'Carignon', 'Acer'),\n",
       " ('1987', 'Carignon', 'Carpinus'),\n",
       " ('1977', 'Dubedout', 'Acer'),\n",
       " ('2000', 'Destot', 'Acer'),\n",
       " ('1977', 'Dubedout', 'Acer'),\n",
       " ('1977', 'Dubedout', 'Fagus'),\n",
       " ('1987', 'Carignon', 'Carpinus'),\n",
       " ('1987', 'Carignon', 'Carpinus'),\n",
       " ('1990', 'Carignon', 'Acer'),\n",
       " ('2009', 'Destot', 'Sophora'),\n",
       " ('1974', 'Dubedout', 'Platanus'),\n",
       " ('2004', 'Destot', 'Prunus'),\n",
       " ('1979', 'Dubedout', 'Cydonia'),\n",
       " ('2009', 'Destot', 'Platanus'),\n",
       " ('1985', 'Carignon', 'Platanus'),\n",
       " ('1994', 'Carignon', 'Prunus'),\n",
       " ('2001', 'Destot', 'Platanus'),\n",
       " ('2001', 'Destot', 'Platanus'),\n",
       " ('1990', 'Carignon', 'Platanus'),\n",
       " ('1990', 'Carignon', 'Platanus'),\n",
       " ('1990', 'Carignon', 'Platanus'),\n",
       " ('2011', 'Destot', 'Betula'),\n",
       " ('2009', 'Destot', 'Pyrus'),\n",
       " ('2010', 'Destot', 'Cercis'),\n",
       " ('2010', 'Destot', 'Acer'),\n",
       " ('2001', 'Destot', 'Platanus'),\n",
       " ('1972', 'Dubedout', 'Platanus'),\n",
       " ('1980', 'Dubedout', 'Platanus'),\n",
       " ('1980', 'Dubedout', 'Platanus'),\n",
       " ('2003', 'Destot', 'Tetradium'),\n",
       " ('2009', 'Destot', 'Betula'),\n",
       " ('1983', 'Carignon', 'Acer'),\n",
       " ('1983', 'Carignon', 'Acer'),\n",
       " ('1975', 'Dubedout', 'Platanus'),\n",
       " ('2010', 'Destot', 'Fraxinus'),\n",
       " ('1994', 'Carignon', 'Carpinus'),\n",
       " ('2005', 'Destot', 'Carpinus'),\n",
       " ('2006', 'Destot', 'Carpinus'),\n",
       " ('2001', 'Destot', 'Alnus'),\n",
       " ('2001', 'Destot', 'Alnus'),\n",
       " ('2001', 'Destot', 'Alnus'),\n",
       " ('2001', 'Destot', 'Alnus'),\n",
       " ('2006', 'Destot', 'Tilia'),\n",
       " ('1976', 'Dubedout', 'Platanus'),\n",
       " ('2008', 'Destot', 'Pinus'),\n",
       " ('1972', 'Dubedout', 'Populus'),\n",
       " ('1972', 'Dubedout', 'Cedrus'),\n",
       " ('1975', 'Dubedout', 'Acer'),\n",
       " ('1975', 'Dubedout', 'Acer'),\n",
       " ('1975', 'Dubedout', 'Aesculus'),\n",
       " ('1995', 'Destot', 'Pinus'),\n",
       " ('1972', 'Dubedout', 'Magnolia'),\n",
       " ('1972', 'Dubedout', 'Acer'),\n",
       " ('1975', 'Dubedout', 'Alnus'),\n",
       " ('1975', 'Dubedout', 'Acer'),\n",
       " ('1975', 'Dubedout', 'Acer'),\n",
       " ('1975', 'Dubedout', 'Acer'),\n",
       " ('1975', 'Dubedout', 'Acer'),\n",
       " ('1975', 'Dubedout', 'Acer'),\n",
       " ('1975', 'Dubedout', 'Acer'),\n",
       " ('1975', 'Dubedout', 'Alnus'),\n",
       " ('1975', 'Dubedout', 'Acer'),\n",
       " ('1975', 'Dubedout', 'Sophora'),\n",
       " ('1975', 'Dubedout', 'Fagus'),\n",
       " ('1975', 'Dubedout', 'Acer'),\n",
       " ('1975', 'Dubedout', 'Koelreuteria'),\n",
       " ('1975', 'Dubedout', 'Betula'),\n",
       " ('1975', 'Dubedout', 'Prunus'),\n",
       " ('1975', 'Dubedout', 'Pinus'),\n",
       " ('1975', 'Dubedout', 'Betula'),\n",
       " ('1975', 'Dubedout', 'Betula'),\n",
       " ('1975', 'Dubedout', 'Fraxinus'),\n",
       " ('1975', 'Dubedout', 'Ulmus'),\n",
       " ('1975', 'Dubedout', 'Cedrus'),\n",
       " ('1975', 'Dubedout', 'Cedrus'),\n",
       " ('1991', 'Carignon', 'Gleditsia'),\n",
       " ('1978', 'Dubedout', 'Platanus'),\n",
       " ('1975', 'Dubedout', 'Acer'),\n",
       " ('1975', 'Dubedout', 'Acer'),\n",
       " ('1975', 'Dubedout', 'Robinia'),\n",
       " ('2001', 'Destot', 'Fraxinus'),\n",
       " ('1965', 'Dubedout', 'Platanus'),\n",
       " ('1965', 'Dubedout', 'Platanus'),\n",
       " ('1975', 'Dubedout', 'Cedrus'),\n",
       " ('1975', 'Dubedout', 'Malus'),\n",
       " ('1975', 'Dubedout', 'Aesculus'),\n",
       " ('2009', 'Destot', 'Liquidambar'),\n",
       " ('1998', 'Destot', 'Quercus'),\n",
       " ('2005', 'Destot', 'Quercus'),\n",
       " ('1960', 'Michallon', 'Platanus'),\n",
       " ('1965', 'Dubedout', 'Platanus'),\n",
       " ('1965', 'Dubedout', 'Platanus'),\n",
       " ('1965', 'Dubedout', 'Platanus'),\n",
       " ('1985', 'Carignon', 'Acer'),\n",
       " ('2013', 'Destot', 'Liquidambar'),\n",
       " ('1975', 'Dubedout', 'Tilia'),\n",
       " ('1975', 'Dubedout', 'Fraxinus'),\n",
       " ('2001', 'Destot', 'Fraxinus'),\n",
       " ('1975', 'Dubedout', 'Populus'),\n",
       " ('1975', 'Dubedout', 'Acer'),\n",
       " ('2001', 'Destot', 'Ulmus'),\n",
       " ('2011', 'Destot', 'Liquidambar'),\n",
       " ('1965', 'Dubedout', 'Platanus'),\n",
       " ('1975', 'Dubedout', 'Robinia'),\n",
       " ('1975', 'Dubedout', 'Acer'),\n",
       " ('2001', 'Destot', 'Fraxinus'),\n",
       " ('2001', 'Destot', 'Fraxinus'),\n",
       " ('1981', 'Dubedout', 'Acer'),\n",
       " ('1978', 'Dubedout', 'Acer'),\n",
       " ('1969', 'Dubedout', 'Cupressus'),\n",
       " ('1965', 'Dubedout', 'Acer'),\n",
       " ('2006', 'Destot', 'Pyrus'),\n",
       " ('1975', 'Dubedout', 'Prunus'),\n",
       " ('2008', 'Destot', 'Fraxinus'),\n",
       " ('1965', 'Dubedout', 'Photinia'),\n",
       " ('1995', 'Destot', 'Acer'),\n",
       " ('1995', 'Destot', 'Pinus'),\n",
       " ('1969', 'Dubedout', 'Platanus'),\n",
       " ('1969', 'Dubedout', 'Pinus'),\n",
       " ('1983', 'Carignon', 'Platanus'),\n",
       " ('2006', 'Destot', 'Prunus'),\n",
       " ('1975', 'Dubedout', 'Pinus'),\n",
       " ('1965', 'Dubedout', 'Picea'),\n",
       " ('1975', 'Dubedout', 'Alnus'),\n",
       " ('2006', 'Destot', 'Pinus'),\n",
       " ('1980', 'Dubedout', 'Pinus'),\n",
       " ('2009', 'Destot', 'Liriodendron'),\n",
       " ('2011', 'Destot', 'Cedrela'),\n",
       " ('2007', 'Destot', 'Liriodendron'),\n",
       " ('1970', 'Dubedout', 'Pinus'),\n",
       " ('1970', 'Dubedout', 'Fraxinus'),\n",
       " ('2009', 'Destot', 'Prunus'),\n",
       " ('1975', 'Dubedout', 'Acer'),\n",
       " ('1999', 'Destot', 'Quercus'),\n",
       " ('1978', 'Dubedout', 'Acer'),\n",
       " ('1978', 'Dubedout', 'Betula'),\n",
       " ('1978', 'Dubedout', 'Platanus'),\n",
       " ('1974', 'Dubedout', 'Acer'),\n",
       " ('1960', 'Michallon', 'Carpinus'),\n",
       " ('1960', 'Michallon', 'Acer'),\n",
       " ('1960', 'Michallon', 'Tilia'),\n",
       " ('1960', 'Michallon', 'Acer'),\n",
       " ('1960', 'Michallon', 'Tilia'),\n",
       " ('2011', 'Destot', 'Quercus'),\n",
       " ('2000', 'Destot', 'Malus'),\n",
       " ('2000', 'Destot', 'Acer'),\n",
       " ('1944', 'Lafleur', 'Populus'),\n",
       " ('1944', 'Lafleur', 'Populus'),\n",
       " ('1991', 'Carignon', 'Magnolia'),\n",
       " ('1991', 'Carignon', 'Magnolia'),\n",
       " ('1991', 'Carignon', 'Fraxinus'),\n",
       " ('1980', 'Dubedout', 'Acer'),\n",
       " ('2011', 'Destot', 'Magnolia'),\n",
       " ('1960', 'Michallon', 'Picea'),\n",
       " ('1960', 'Michallon', 'Fagus'),\n",
       " ('1960', 'Michallon', 'Taxus'),\n",
       " ('1960', 'Michallon', 'Pinus'),\n",
       " ('1960', 'Michallon', 'Acer'),\n",
       " ('1960', 'Michallon', 'Tilia'),\n",
       " ('1960', 'Michallon', 'Carpinus'),\n",
       " ('1960', 'Michallon', 'Prunus'),\n",
       " ('1960', 'Michallon', 'Platanus'),\n",
       " ('1960', 'Michallon', 'Pinus'),\n",
       " ('1975', 'Dubedout', 'Platanus'),\n",
       " ('1974', 'Dubedout', 'Sophora'),\n",
       " ('1999', 'Destot', 'Acer'),\n",
       " ('1986', 'Carignon', 'Betula'),\n",
       " ('1980', 'Dubedout', 'Tilia'),\n",
       " ('1960', 'Michallon', 'Abies'),\n",
       " ('2002', 'Destot', 'Catalpa'),\n",
       " ('1996', 'Destot', 'Carpinus'),\n",
       " ('1986', 'Carignon', 'Tilia'),\n",
       " ('1984', 'Carignon', 'Alnus'),\n",
       " ('1994', 'Carignon', 'Magnolia'),\n",
       " ('1992', 'Carignon', 'Acer'),\n",
       " ('1978', 'Dubedout', 'Platanus'),\n",
       " ('1977', 'Dubedout', 'Chamaecyparis'),\n",
       " ('2009', 'Destot', 'Malus'),\n",
       " ('1965', 'Dubedout', 'Platanus'),\n",
       " ('1965', 'Dubedout', 'Platanus'),\n",
       " ('1965', 'Dubedout', 'Platanus'),\n",
       " ('1991', 'Carignon', 'Tilia'),\n",
       " ('2014', 'Piolle', 'Acer'),\n",
       " ('2004', 'Destot', 'Cercidiphyllum'),\n",
       " ('1960', 'Michallon', 'Buxus'),\n",
       " ('2009', 'Destot', 'Chamaecyparis'),\n",
       " ('1996', 'Destot', 'Acer'),\n",
       " ('1989', 'Carignon', 'Koelreuteria'),\n",
       " ('1993', 'Carignon', 'Fraxinus'),\n",
       " ('1982', 'Dubedout', 'Morus'),\n",
       " ('1990', 'Carignon', 'Sophora'),\n",
       " ('2010', 'Destot', 'Koelreuteria'),\n",
       " ('1999', 'Destot', 'Platanus'),\n",
       " ('1998', 'Destot', 'Platanus'),\n",
       " ('2001', 'Destot', 'Platanus'),\n",
       " ('2001', 'Destot', 'Platanus'),\n",
       " ('2008', 'Destot', 'Platanus'),\n",
       " ('2008', 'Destot', 'Acer'),\n",
       " ('1985', 'Carignon', 'Platanus'),\n",
       " ('1985', 'Carignon', 'Carpinus'),\n",
       " ('1985', 'Carignon', 'Carpinus'),\n",
       " ('1976', 'Dubedout', 'Cedrus'),\n",
       " ('1976', 'Dubedout', 'Acer'),\n",
       " ('1976', 'Dubedout', 'Taxus'),\n",
       " ('1975', 'Dubedout', 'Sophora'),\n",
       " ('1981', 'Dubedout', 'Pinus'),\n",
       " ('1981', 'Dubedout', 'Pinus'),\n",
       " ('2011', 'Destot', 'Populus'),\n",
       " ('1999', 'Destot', 'Quercus'),\n",
       " ('1960', 'Michallon', 'Acer'),\n",
       " ('1983', 'Carignon', 'Pinus'),\n",
       " ('1980', 'Dubedout', 'Carpinus'),\n",
       " ('1980', 'Dubedout', 'Carpinus'),\n",
       " ('1980', 'Dubedout', 'Pinus'),\n",
       " ('1965', 'Dubedout', 'Platanus'),\n",
       " ('1965', 'Dubedout', 'Platanus'),\n",
       " ('1980', 'Dubedout', 'Acer'),\n",
       " ('1980', 'Dubedout', 'Acer'),\n",
       " ('1978', 'Dubedout', 'Betula'),\n",
       " ('1978', 'Dubedout', 'Betula'),\n",
       " ('1987', 'Carignon', 'Cedrus'),\n",
       " ('1999', 'Destot', 'Pinus'),\n",
       " ('1999', 'Destot', 'Pinus'),\n",
       " ('1999', 'Destot', 'Fraxinus'),\n",
       " ('1999', 'Destot', 'Alnus'),\n",
       " ('1999', 'Destot', 'Populus'),\n",
       " ('1999', 'Destot', 'Alnus'),\n",
       " ('1978', 'Dubedout', 'Pinus'),\n",
       " ('1994', 'Carignon', 'Pyrus'),\n",
       " ('2009', 'Destot', 'Betula'),\n",
       " ('1989', 'Carignon', 'Pseudotsuga'),\n",
       " ('2009', 'Destot', 'Gleditsia'),\n",
       " ('2010', 'Destot', 'Pyrus'),\n",
       " ('2010', 'Destot', 'Pyrus'),\n",
       " ('1980', 'Dubedout', 'Betula'),\n",
       " ('1980', 'Dubedout', 'Betula'),\n",
       " ('1970', 'Dubedout', 'Platanus'),\n",
       " ('1970', 'Dubedout', 'Platanus'),\n",
       " ('1960', 'Michallon', 'Populus'),\n",
       " ('1984', 'Carignon', 'Pinus'),\n",
       " ('1984', 'Carignon', 'Sophora'),\n",
       " ('2008', 'Destot', 'Paulownia'),\n",
       " ('1969', 'Dubedout', 'Betula'),\n",
       " ('1969', 'Dubedout', 'Pinus'),\n",
       " ('2010', 'Destot', 'Acer'),\n",
       " ('1970', 'Dubedout', 'Morus'),\n",
       " ('2002', 'Destot', 'Sophora'),\n",
       " ('1984', 'Carignon', 'Pinus'),\n",
       " ('1984', 'Carignon', 'Paulownia'),\n",
       " ('2001', 'Destot', 'Koelreuteria'),\n",
       " ('1998', 'Destot', 'Aesculus'),\n",
       " ('2006', 'Destot', 'Fraxinus'),\n",
       " ('2001', 'Destot', 'Fraxinus'),\n",
       " ('1970', 'Dubedout', 'Platanus'),\n",
       " ('1980', 'Dubedout', 'Platanus'),\n",
       " ('2000', 'Destot', 'Tilia'),\n",
       " ('1970', 'Dubedout', 'Cedrus'),\n",
       " ('1975', 'Dubedout', 'Alnus'),\n",
       " ('1975', 'Dubedout', 'Acer'),\n",
       " ('1975', 'Dubedout', 'Pinus'),\n",
       " ('1975', 'Dubedout', 'Platanus'),\n",
       " ('1975', 'Dubedout', 'Platanus'),\n",
       " ('1975', 'Dubedout', 'Fagus'),\n",
       " ('1975', 'Dubedout', 'Platanus'),\n",
       " ('1975', 'Dubedout', 'Platanus'),\n",
       " ('1975', 'Dubedout', 'Platanus'),\n",
       " ('1975', 'Dubedout', 'Platanus'),\n",
       " ('1975', 'Dubedout', 'Salix'),\n",
       " ('1975', 'Dubedout', 'Malus'),\n",
       " ('1975', 'Dubedout', 'Carpinus'),\n",
       " ('1975', 'Dubedout', 'Ailanthus'),\n",
       " ...]"
      ]
     },
     "execution_count": 387,
     "metadata": {},
     "output_type": "execute_result"
    }
   ],
   "source": [
    "concat_year_maire_type(colAnneePlantation, colMaires, colGenreBota)"
   ]
  },
  {
   "cell_type": "code",
   "execution_count": null,
   "id": "e47b2778",
   "metadata": {},
   "outputs": [],
   "source": []
  },
  {
   "cell_type": "code",
   "execution_count": null,
   "id": "bb37e276",
   "metadata": {},
   "outputs": [],
   "source": []
  },
  {
   "cell_type": "code",
   "execution_count": null,
   "id": "f3348e33",
   "metadata": {},
   "outputs": [],
   "source": []
  }
 ],
 "metadata": {
  "kernelspec": {
   "display_name": "Python 3 (ipykernel)",
   "language": "python",
   "name": "python3"
  },
  "language_info": {
   "codemirror_mode": {
    "name": "ipython",
    "version": 3
   },
   "file_extension": ".py",
   "mimetype": "text/x-python",
   "name": "python",
   "nbconvert_exporter": "python",
   "pygments_lexer": "ipython3",
   "version": "3.9.13"
  }
 },
 "nbformat": 4,
 "nbformat_minor": 5
}
