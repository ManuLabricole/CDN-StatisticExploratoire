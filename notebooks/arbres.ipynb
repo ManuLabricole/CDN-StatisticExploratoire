{
 "cells": [
  {
   "cell_type": "code",
   "execution_count": 1,
   "id": "1c6b2e6f",
   "metadata": {},
   "outputs": [],
   "source": [
    "import csv\n",
    "import pandas as pd\n",
    "import numpy as np\n",
    "import matplotlib as mp"
   ]
  },
  {
   "cell_type": "markdown",
   "id": "8f5e4f20",
   "metadata": {},
   "source": [
    "#### Import csv"
   ]
  },
  {
   "cell_type": "code",
   "execution_count": 32,
   "id": "e0c6baec",
   "metadata": {},
   "outputs": [
    {
     "name": "stdout",
     "output_type": "stream",
     "text": [
      "<class '_csv.reader'>\n"
     ]
    }
   ],
   "source": [
    "with open('../data/ESP_PUBLIC.IDENTITE_ARBRE.csv', newline='', encoding='utf-8-sig') as csvfile:\n",
    "    # use \",\" separator to generate column value as list element\n",
    "    # cs.reader return a class o\n",
    "    dataTemp = csv.reader(csvfile, delimiter=',')\n",
    "    print(type(dataTemp))\n",
    "    data = list(dataTemp)"
   ]
  },
  {
   "cell_type": "code",
   "execution_count": 33,
   "id": "2bd28817",
   "metadata": {},
   "outputs": [
    {
     "name": "stdout",
     "output_type": "stream",
     "text": [
      "['23881', 'ESP29285', 'ESP29285', 'VEG', 'VEGETATION', 'ESP01', 'Arbre', 'ESP174', \"Arbre d'espaces ouverts\", 'ESP639', 'Cité Moyrand E Cartan le mail ', '5', 'AR29285', 'Platanus', 'hispanica', '', 'Arbre adulte', '', '', '1977', '', '', '', '170', 'Alignement', 'L 123-1.7', '', '', '', '', 'Ville de Grenoble', '{\"type\":\"Point\",\"coordinates\":[5.74362721776614,45.1799034026163]}']\n"
     ]
    }
   ],
   "source": [
    "print(data[1])"
   ]
  },
  {
   "cell_type": "code",
   "execution_count": null,
   "id": "7092ae16",
   "metadata": {},
   "outputs": [],
   "source": []
  }
 ],
 "metadata": {
  "kernelspec": {
   "display_name": "Python 3 (ipykernel)",
   "language": "python",
   "name": "python3"
  },
  "language_info": {
   "codemirror_mode": {
    "name": "ipython",
    "version": 3
   },
   "file_extension": ".py",
   "mimetype": "text/x-python",
   "name": "python",
   "nbconvert_exporter": "python",
   "pygments_lexer": "ipython3",
   "version": "3.9.13"
  }
 },
 "nbformat": 4,
 "nbformat_minor": 5
}
