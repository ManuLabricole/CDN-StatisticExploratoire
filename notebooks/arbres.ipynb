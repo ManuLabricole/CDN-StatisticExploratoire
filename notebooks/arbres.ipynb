{
 "cells": [
  {
   "cell_type": "code",
   "execution_count": 129,
   "id": "1c6b2e6f",
   "metadata": {},
   "outputs": [],
   "source": [
    "import csv\n",
    "import pandas as pd\n",
    "import numpy as np\n",
    "import matplotlib.pyplot as plt\n",
    "import matplotlib"
   ]
  },
  {
   "cell_type": "markdown",
   "id": "167f3ddf",
   "metadata": {},
   "source": [
    "# Import csv"
   ]
  },
  {
   "cell_type": "markdown",
   "id": "cbe28afd",
   "metadata": {},
   "source": [
    "## Main import"
   ]
  },
  {
   "cell_type": "code",
   "execution_count": 130,
   "id": "e0c6baec",
   "metadata": {},
   "outputs": [],
   "source": [
    "with open('../data/ESP_PUBLIC.IDENTITE_ARBRE.csv', newline='', encoding='utf-8-sig') as csvfile:\n",
    "    # use \",\" separator to generate column value as list element\n",
    "    # cs.reader return a class object of \"_csv.reader\"\n",
    "    dataTemp = csv.reader(csvfile, delimiter=',')\n",
    "    \n",
    "    # Use list() to convert the csv object into a list, of list, depending on how the object is built\n",
    "    # Hard to understand how list(csv_object) behaves \n",
    "    data = list(dataTemp)"
   ]
  },
  {
   "cell_type": "markdown",
   "id": "7b1ba073",
   "metadata": {},
   "source": [
    "## Copy the dataset to advoid re-import"
   ]
  },
  {
   "cell_type": "code",
   "execution_count": 131,
   "id": "2bd28817",
   "metadata": {},
   "outputs": [],
   "source": [
    "dataset = data"
   ]
  },
  {
   "cell_type": "markdown",
   "id": "ef74e503",
   "metadata": {},
   "source": [
    "## Correct last row\n"
   ]
  },
  {
   "cell_type": "code",
   "execution_count": 132,
   "id": "3452634e",
   "metadata": {},
   "outputs": [
    {
     "name": "stdout",
     "output_type": "stream",
     "text": [
      "Added a value in : ['MISSING', 'ESP14073', 'ESP14073', 'VEG', 'VEGETATION', 'ESP01', 'Arbre', 'ESP151', 'Arbre de voirie', 'ESP336', 'R M Gontard angle M Deprez', '2', 'AR14073', 'Prunus', 'serrulata', '', 'Arbre adulte', '', '', '1995', '', '', '', '', '', '', '', '', '', '', 'Grenoble Alpes Métropole', '{\"type\":\"Point\",\"coordinates\":[5.72422659146747,45.1920566916671]}']\n",
      "['MISSING', 'ESP14073', 'ESP14073', 'VEG', 'VEGETATION', 'ESP01', 'Arbre', 'ESP151', 'Arbre de voirie', 'ESP336', 'R M Gontard angle M Deprez', '2', 'AR14073', 'Prunus', 'serrulata', '', 'Arbre adulte', '', '', '1995', '', '', '', '', '', '', '', '', '', '', 'Grenoble Alpes Métropole', '{\"type\":\"Point\",\"coordinates\":[5.72422659146747,45.1920566916671]}']\n"
     ]
    }
   ],
   "source": [
    "def add_missing_value(dataset:list) -> list:\n",
    "    datasetCopy = dataset\n",
    "    \n",
    "    if len(datasetCopy[len(datasetCopy)-1]) == 31:\n",
    "        datasetCopy[len(datasetCopy)-1].insert(0, \"MISSING\")\n",
    "        print(f\"Added a value in : {datasetCopy[len(datasetCopy)-1]}\")\n",
    "    else:\n",
    "        #print(f\"{datasetCopy[len(datasetCopy)-1]} was already added...\")\n",
    "        print(f\"{len(datasetCopy)-1} is the last rows of the dataset and should start with 'MISSING' value\")\n",
    "\n",
    "    return datasetCopy\n",
    "print(add_missing_value(dataset)[len(dataset)-1])"
   ]
  },
  {
   "cell_type": "markdown",
   "id": "4db44d8d",
   "metadata": {},
   "source": [
    "## Utils"
   ]
  },
  {
   "cell_type": "code",
   "execution_count": 133,
   "id": "5769eae9",
   "metadata": {},
   "outputs": [],
   "source": [
    "def get_header(data:list) -> list:\n",
    "    if len(data) > 0:\n",
    "        return data[0]\n",
    "    else:\n",
    "        raise ValueError(\"The dataset sent is empty...\")"
   ]
  },
  {
   "cell_type": "code",
   "execution_count": 134,
   "id": "c88c9f75",
   "metadata": {},
   "outputs": [],
   "source": [
    "def get_dict_colName_colNum(data:list) -> dict:\n",
    "    dictTemp = {}\n",
    "    \n",
    "    for el in get_header(data):\n",
    "        dictTemp[el] = get_header(data).index(el)\n",
    "        \n",
    "    return dictTemp\n",
    "# print(get_dict_colName_colNum(dataset))"
   ]
  },
  {
   "cell_type": "code",
   "execution_count": 135,
   "id": "431b2dc5",
   "metadata": {},
   "outputs": [],
   "source": [
    "def is_in_header(colName:str, data:list) -> bool:\n",
    "    return colName in get_header(data)\n",
    "# print(is_in_header(\"GENRE_DESC\", dataset))"
   ]
  },
  {
   "cell_type": "code",
   "execution_count": 136,
   "id": "20aaabd0",
   "metadata": {},
   "outputs": [],
   "source": [
    "def average(col:list) -> float:\n",
    "    for el in col:\n",
    "        if type(el) is not float:\n",
    "            raise TypeError(\"The list sent doesn't have float or contains empty string\")\n",
    "    return sum(col)/len(col)"
   ]
  },
  {
   "cell_type": "markdown",
   "id": "a236133b",
   "metadata": {},
   "source": [
    "# -----------------------------------------------------------------------------------------------------------"
   ]
  },
  {
   "cell_type": "markdown",
   "id": "6da2890e",
   "metadata": {},
   "source": [
    "# Iteration 1 : Main computation"
   ]
  },
  {
   "cell_type": "markdown",
   "id": "59611850",
   "metadata": {},
   "source": [
    "# -----------------------------------------------------------------------------------------------------------"
   ]
  },
  {
   "cell_type": "markdown",
   "id": "68632f74",
   "metadata": {},
   "source": [
    "## Afficher deux premieres lignes"
   ]
  },
  {
   "cell_type": "code",
   "execution_count": 137,
   "id": "8a2d47c5",
   "metadata": {},
   "outputs": [],
   "source": [
    "# Slice and extract the first two list ie the first two lignes\n",
    "header = get_header(dataset)\n",
    "lignes2 = dataset[0:2]\n",
    "\n",
    "specDataset = {\n",
    "    \"rows\" : len(dataset),\n",
    "    \"columns\" : len(dataset[0])\n",
    "}"
   ]
  },
  {
   "cell_type": "markdown",
   "id": "c5bf2783",
   "metadata": {},
   "source": [
    "## Afficher colonne n°2"
   ]
  },
  {
   "cell_type": "code",
   "execution_count": 138,
   "id": "6fd184d4",
   "metadata": {},
   "outputs": [],
   "source": [
    "# We see that to access the row is [i] after lignes2. \n",
    "# Then we have the list corresponding to the row i-1 (start from 0)\n",
    "# In this list, we use [i] to acces the i element corresponding to the column\n",
    "ligne1_col2 = lignes2[0][1]\n",
    "ligne2_col2 = lignes2[1][1]"
   ]
  },
  {
   "cell_type": "code",
   "execution_count": 139,
   "id": "afd8a76a",
   "metadata": {},
   "outputs": [
    {
     "name": "stdout",
     "output_type": "stream",
     "text": [
      "CODE : ESP29285\n"
     ]
    }
   ],
   "source": [
    "print(ligne1_col2 + \" : \" + ligne2_col2)"
   ]
  },
  {
   "cell_type": "markdown",
   "id": "28f9450b",
   "metadata": {},
   "source": [
    "## Get 50 first & last"
   ]
  },
  {
   "cell_type": "code",
   "execution_count": 140,
   "id": "8fb107b6",
   "metadata": {},
   "outputs": [],
   "source": [
    "# Should be called when having a list coming from : get_col_values()\n",
    "def extract_50(col:list) -> list:\n",
    "    if len(col) > 100:\n",
    "        return col[:50]+ [\"------> more values\"] + col[len(col)-50:]\n",
    "    else:\n",
    "        raise ValueError(f\"List {col} has less than 100 elements\")\n",
    "# extract_50(colList)"
   ]
  },
  {
   "cell_type": "markdown",
   "id": "182f780d",
   "metadata": {},
   "source": [
    "## Infos année plantation data"
   ]
  },
  {
   "cell_type": "code",
   "execution_count": 141,
   "id": "21c3dc89",
   "metadata": {},
   "outputs": [
    {
     "name": "stdout",
     "output_type": "stream",
     "text": [
      "['ELEM_POINT_ID', 'CODE', 'NOM', 'GENRE', 'GENRE_DESC', 'CATEGORIE', 'CATEGORIE_DESC', 'SOUS_CATEGORIE', 'SOUS_CATEGORIE_DESC', 'CODE_PARENT', 'CODE_PARENT_DESC', 'ADR_SECTEUR', 'BIEN_REFERENCE', 'GENRE_BOTA', 'ESPECE', 'VARIETE', 'STADEDEDEVELOPPEMENT', 'EQUIPE', 'REMARQUES', 'ANNEEDEPLANTATION', 'RAISONDEPLANTATION', 'TRAITEMENTCHENILLES', 'COURRIER', 'IDENTIFIANTPLU', 'TYPEIMPLANTATIONPLU', 'INTITULEPROTECTIONPLU', 'ANNEEABATTAGE', 'ESSOUCHEMENT', 'DIAMETREARBRE', 'CAUSEABATTAGE', 'COLLECTIVITE', 'GeoJSON']\n"
     ]
    }
   ],
   "source": [
    "print(get_header(dataset))"
   ]
  },
  {
   "cell_type": "code",
   "execution_count": 142,
   "id": "c88d1c2d",
   "metadata": {},
   "outputs": [],
   "source": [
    "def get_col_value_from_name(colName:str, data:list) -> str:\n",
    "    \n",
    "    if is_in_header(colName, data):\n",
    "        return get_dict_colName_colNum(data)[colName]\n",
    "    \n",
    "# print(get_col_value_from_name(colName=\"CODE_PARENT\", data=dataset))"
   ]
  },
  {
   "cell_type": "code",
   "execution_count": 143,
   "id": "4987fde7",
   "metadata": {},
   "outputs": [],
   "source": [
    "def get_col_values(colName:str, data:list) -> list:\n",
    "    \n",
    "    col = [el[get_col_value_from_name(colName, data)] for el in data]\n",
    "    \n",
    "    return col\n",
    "# print(get_col_values(\"ANNEEDEPLANTATION\", dataset))"
   ]
  },
  {
   "cell_type": "markdown",
   "id": "79c56bfe",
   "metadata": {},
   "source": [
    "### Trees column parsing utils"
   ]
  },
  {
   "cell_type": "code",
   "execution_count": 144,
   "id": "0b7b78c6",
   "metadata": {},
   "outputs": [],
   "source": [
    "colToStudy = \"ANNEEDEPLANTATION\""
   ]
  },
  {
   "cell_type": "code",
   "execution_count": 145,
   "id": "3ef20397",
   "metadata": {},
   "outputs": [
    {
     "name": "stdout",
     "output_type": "stream",
     "text": [
      "there is --> 31620 <-- trees studied\n"
     ]
    }
   ],
   "source": [
    "colList = get_col_values(colToStudy, dataset)\n",
    "colYearTree = colList\n",
    "print(\"there is --> \" + str(len(colList)) + \" <-- trees studied\")"
   ]
  },
  {
   "cell_type": "code",
   "execution_count": 146,
   "id": "ccfeab64",
   "metadata": {},
   "outputs": [],
   "source": [
    "def count_empty_value(col:list) -> int:\n",
    "    \n",
    "    emptyList = [el for el in col if not el]\n",
    "    \n",
    "    return len(emptyList)"
   ]
  },
  {
   "cell_type": "code",
   "execution_count": 147,
   "id": "ea563109",
   "metadata": {},
   "outputs": [
    {
     "name": "stdout",
     "output_type": "stream",
     "text": [
      "there is --> 1438 <-- empty values in ANNEEDEPLANTATION\n"
     ]
    }
   ],
   "source": [
    "print(\"there is --> \" + str(count_empty_value(colList)) + \" <-- empty values in \" + colToStudy )"
   ]
  },
  {
   "cell_type": "code",
   "execution_count": 148,
   "id": "4c60b1b0",
   "metadata": {},
   "outputs": [],
   "source": [
    "def remove_empty(col:list) -> list:\n",
    "    return [el for el in col if el]"
   ]
  },
  {
   "cell_type": "code",
   "execution_count": 149,
   "id": "b1946c26",
   "metadata": {},
   "outputs": [],
   "source": [
    "def get_min(col:list) -> int:\n",
    "    \n",
    "    colValues = remove_empty(col)\n",
    "    \n",
    "    # Slice to get rid off the header\n",
    "    return float(min(colValues[1:]))"
   ]
  },
  {
   "cell_type": "code",
   "execution_count": 150,
   "id": "bbd4c551",
   "metadata": {},
   "outputs": [],
   "source": [
    "def get_max(col:list) -> int:\n",
    "    \n",
    "    colValues = remove_empty(col)\n",
    "    \n",
    "    # Slice to get rid off the header\n",
    "    return float(max(colValues[1:]))"
   ]
  },
  {
   "cell_type": "markdown",
   "id": "2fc022cb",
   "metadata": {},
   "source": [
    "### Count trees for each year in dataset"
   ]
  },
  {
   "cell_type": "code",
   "execution_count": 151,
   "id": "492028c3",
   "metadata": {},
   "outputs": [],
   "source": [
    "def count_specific_value_in_col(value:str, col:list) -> int:\n",
    "    \n",
    "    valuesCorresponding = [el for el in col if str(el) == str(value)]  \n",
    "    \n",
    "    return len(valuesCorresponding)"
   ]
  },
  {
   "cell_type": "code",
   "execution_count": 152,
   "id": "ff5b5f63",
   "metadata": {},
   "outputs": [
    {
     "name": "stdout",
     "output_type": "stream",
     "text": [
      "There was 252 trees planted in 1994\n"
     ]
    }
   ],
   "source": [
    "valueToFind = \"1994\"\n",
    "print(f\"There was {count_specific_value_in_col(valueToFind, colList)} trees planted in {valueToFind}\")"
   ]
  },
  {
   "cell_type": "code",
   "execution_count": 153,
   "id": "56b9220c",
   "metadata": {},
   "outputs": [
    {
     "name": "stdout",
     "output_type": "stream",
     "text": [
      "The oldest year of plantation is : 1900.0\n",
      "The last year of plantation is : 2021.0\n"
     ]
    }
   ],
   "source": [
    "print(f\"The oldest year of plantation is : {get_min(colList)}\")\n",
    "print(f\"The last year of plantation is : {get_max(colList)}\")"
   ]
  },
  {
   "cell_type": "markdown",
   "id": "8e7a2eb1",
   "metadata": {},
   "source": [
    "### Count trees for each year in dataset"
   ]
  },
  {
   "cell_type": "code",
   "execution_count": 154,
   "id": "4b6511a9",
   "metadata": {},
   "outputs": [],
   "source": [
    "# This method compute for each year the number of trees planted\n",
    "# Then it compute the average taking into account only the trees where the year is known\n",
    "def average_trees_planted(col:list) -> dict:\n",
    "    cleanList = remove_empty(col[1:])\n",
    "    removeDuplicate = set(cleanList)\n",
    "    \n",
    "    nbTreesPerYear = [float(count_specific_value_in_col(el,col)) for el in removeDuplicate]\n",
    "    print(f\"Nombre d'annees connues ou des arbres ont été planté : {len(removeDuplicate)}\")\n",
    "    return round(average(nbTreesPerYear),2)"
   ]
  },
  {
   "cell_type": "code",
   "execution_count": 155,
   "id": "3d20cc07",
   "metadata": {},
   "outputs": [
    {
     "name": "stdout",
     "output_type": "stream",
     "text": [
      "Nombre d'annees connues ou des arbres ont été planté : 65\n",
      "La moyenne n°1 des arbres plantés est : 464.32\n"
     ]
    }
   ],
   "source": [
    "print(f\"La moyenne n°1 des arbres plantés est : {average_trees_planted(colList)}\")"
   ]
  },
  {
   "cell_type": "code",
   "execution_count": 156,
   "id": "87334162",
   "metadata": {},
   "outputs": [],
   "source": [
    "# This function compute the average taking into account\n",
    "# The total number of trees in the dataset\n",
    "# The max and min year known\n",
    "\n",
    "def rought_average(col:list) -> float:\n",
    "    # remove one on the global size due to header\n",
    "    nbArbre = float(len(col[1:]))\n",
    "    # add +1 to take into account the full 2021 year\n",
    "    interval = float(get_max(col)-get_min(col)+1)\n",
    "    \n",
    "    print(f\"Diviser total arbre : {nbArbre} par intervalle d'annee etudier {int(get_min(col))} - {int(get_max(col))}\")\n",
    "    \n",
    "    return round(nbArbre/interval,2)"
   ]
  },
  {
   "cell_type": "code",
   "execution_count": 157,
   "id": "3ba8c50d",
   "metadata": {},
   "outputs": [
    {
     "name": "stdout",
     "output_type": "stream",
     "text": [
      "Diviser total arbre : 31619.0 par intervalle d'annee etudier 1900 - 2021\n",
      "La moyenne n°2 des arbres plantés est : 259.17\n"
     ]
    }
   ],
   "source": [
    "print(f\"La moyenne n°2 des arbres plantés est : {rought_average(colList)}\")"
   ]
  },
  {
   "cell_type": "markdown",
   "id": "f8d02cb9",
   "metadata": {},
   "source": [
    "### Make tuple (year : nb_arbre)"
   ]
  },
  {
   "cell_type": "code",
   "execution_count": 158,
   "id": "271d8c0a",
   "metadata": {},
   "outputs": [],
   "source": [
    "def make_tuple_year_nbArbre(col:list) -> list:\n",
    "    cleanList = remove_empty(col[1:])\n",
    "    removeDuplicate = set(cleanList) \n",
    "    \n",
    "    return [(el, count_specific_value_in_col(el, col)) for el in removeDuplicate]"
   ]
  },
  {
   "cell_type": "code",
   "execution_count": 159,
   "id": "80fc0dd1",
   "metadata": {},
   "outputs": [],
   "source": [
    "# Sort the list of tuples (year, value) by year\n",
    "def sort_by_year(tupleList:list) -> list:\n",
    "    return sorted(tupleList, key=lambda x:x[0], reverse=False)"
   ]
  },
  {
   "cell_type": "code",
   "execution_count": 160,
   "id": "904f7bfc",
   "metadata": {},
   "outputs": [],
   "source": [
    "treeTupleList = make_tuple_year_nbArbre(colList)\n",
    "sortedTreeTupleList = sort_by_year(treeTupleList)\n",
    "# treeTupleList"
   ]
  },
  {
   "cell_type": "code",
   "execution_count": 161,
   "id": "457b139b",
   "metadata": {},
   "outputs": [
    {
     "data": {
      "text/plain": [
       "[('1900', 4),\n",
       " ('1924', 11),\n",
       " ('1944', 27),\n",
       " ('1950', 402),\n",
       " ('1955', 118),\n",
       " ('1959', 16),\n",
       " ('1960', 701),\n",
       " ('1964', 6),\n",
       " ('1965', 734),\n",
       " ('1966', 85),\n",
       " ('1967', 53),\n",
       " ('1968', 111),\n",
       " ('1969', 314),\n",
       " ('1970', 1366),\n",
       " ('1971', 67),\n",
       " ('1972', 318),\n",
       " ('1973', 33),\n",
       " ('1974', 287),\n",
       " ('1975', 3631),\n",
       " ('1976', 898),\n",
       " ('1977', 602),\n",
       " ('1978', 847),\n",
       " ('1979', 324),\n",
       " ('1980', 1445),\n",
       " ('1981', 600),\n",
       " ('1982', 359),\n",
       " ('1983', 295),\n",
       " ('1984', 647),\n",
       " ('1985', 870),\n",
       " ('1986', 221),\n",
       " ('1987', 701),\n",
       " ('1988', 235),\n",
       " ('1989', 299),\n",
       " ('1990', 248),\n",
       " ('1991', 140),\n",
       " ('1992', 221),\n",
       " ('1993', 135),\n",
       " ('1994', 252),\n",
       " ('1995', 738),\n",
       " ('1996', 363),\n",
       " ('1997', 231),\n",
       " ('1998', 205),\n",
       " ('1999', 564),\n",
       " ('2000', 427),\n",
       " ('2001', 1488),\n",
       " ('2002', 319),\n",
       " ('2003', 341),\n",
       " ('2004', 341),\n",
       " ('2005', 384),\n",
       " ('2006', 582),\n",
       " ('2007', 138),\n",
       " ('2008', 211),\n",
       " ('2009', 647),\n",
       " ('2010', 452),\n",
       " ('2011', 494),\n",
       " ('2012', 310),\n",
       " ('2013', 319),\n",
       " ('2014', 886),\n",
       " ('2015', 1012),\n",
       " ('2016', 516),\n",
       " ('2017', 622),\n",
       " ('2018', 775),\n",
       " ('2019', 88),\n",
       " ('2020', 102),\n",
       " ('2021', 3)]"
      ]
     },
     "execution_count": 161,
     "metadata": {},
     "output_type": "execute_result"
    }
   ],
   "source": [
    "sortedTreeTupleList"
   ]
  },
  {
   "cell_type": "markdown",
   "id": "d6accd9b",
   "metadata": {},
   "source": [
    "### Etude des Maires"
   ]
  },
  {
   "cell_type": "code",
   "execution_count": 162,
   "id": "dec4de29",
   "metadata": {},
   "outputs": [
    {
     "data": {
      "text/plain": [
       "{'Rivail': [1904, 1908],\n",
       " 'Viallet': [1908, 1910],\n",
       " 'Cornier': [1910, 1919],\n",
       " 'Mistral': [1919, 1932],\n",
       " 'Martin': [1932, 1935],\n",
       " 'Cocat': [1935, 1944],\n",
       " 'Lafleur': [1944, 1945],\n",
       " 'Martin2': [1945, 1947],\n",
       " 'Bally': [1947, 1948],\n",
       " 'Perinetti': [1948, 1949],\n",
       " 'Martin3': [1949, 1959],\n",
       " 'Michallon': [1959, 1965],\n",
       " 'Dubedout': [1965, 1983],\n",
       " 'Carignon': [1983, 1995],\n",
       " 'Destot': [1995, 2014],\n",
       " 'Piolle': [2014, 2021]}"
      ]
     },
     "execution_count": 162,
     "metadata": {},
     "output_type": "execute_result"
    }
   ],
   "source": [
    "maire = [['Rivail', 1904,1908],['Viallet', 1908,1910],['Cornier', 1910,1919],['Mistral', 1919,1932],['Martin', 1932,1935],['Cocat', 1935,1944],['Lafleur', 1944,1945],['Martin2', 1945,1947],['Bally', 1947,1948],['Perinetti', 1948,1949],['Martin3', 1949,1959],['Michallon', 1959,1965],['Dubedout', 1965,1983],['Carignon', 1983,1995],['Destot', 1995,2014],['Piolle', 2014,2021]]\n",
    "maireDict = {el[0]:[el[1],el[2]] for el in maire}\n",
    "maireDict"
   ]
  },
  {
   "cell_type": "code",
   "execution_count": 163,
   "id": "4b1e01eb",
   "metadata": {},
   "outputs": [],
   "source": [
    "def number_of_tree_per_maire(maire:dict, tupleListArbre:list) -> int:\n",
    "    \n",
    "    dictTemp = {}\n",
    "    \n",
    "    for el in tupleListArbre:\n",
    "        for maire in maireDict.keys():\n",
    "            #print(f\"Le maire {key} a reigné sur Grenoble de {maireDict[key]}\")\n",
    "            #print(type(maireDict[key][0]))\n",
    "            #print(type(el[0]))\n",
    "            #print(f\"{maireDict[maire][0]} <= {int(el[0])} < {maireDict[maire][1]} ????\")\n",
    "            if maireDict[maire][0] <= int(el[0])<maireDict[maire][1]:\n",
    "                #print(f\"The Maire {maire} planted --> {el[1]} <-- trees in the year {el[0]} during is mandat of [{maireDict[maire][0]},{maireDict[maire][1]}]\")        \n",
    "                \n",
    "                if maire in dictTemp:\n",
    "                    dictTemp[maire] += el[1]\n",
    "                else:\n",
    "                    dictTemp[maire] = el[1]\n",
    "                \n",
    "    return dictTemp"
   ]
  },
  {
   "cell_type": "code",
   "execution_count": 164,
   "id": "af62737f",
   "metadata": {},
   "outputs": [],
   "source": [
    "maireTreeDict = number_of_tree_per_maire(maireDict, sortedTreeTupleList)"
   ]
  },
  {
   "cell_type": "code",
   "execution_count": 165,
   "id": "086bf982",
   "metadata": {},
   "outputs": [],
   "source": [
    "def get_max_maire_tree(dictMaire:dict) -> str:\n",
    "    return max(dictMaire, key=dictMaire.get)"
   ]
  },
  {
   "cell_type": "code",
   "execution_count": 166,
   "id": "f3479a66",
   "metadata": {},
   "outputs": [
    {
     "name": "stdout",
     "output_type": "stream",
     "text": [
      "The Maire who planted the more trees is --> Dubedout <-- with a number of --> 12074 <--\n"
     ]
    }
   ],
   "source": [
    "max_maire = get_max_maire_tree(maireTreeDict)\n",
    "print(f\"The Maire who planted the more trees is --> {max_maire} <-- with a number of --> {maireTreeDict[max_maire]} <--\")"
   ]
  },
  {
   "cell_type": "code",
   "execution_count": 167,
   "id": "30643871",
   "metadata": {},
   "outputs": [],
   "source": [
    "def get_maire_from_year(year:int, maireDict:dict) -> str:\n",
    "    \n",
    "    for maire in maireDict.keys():\n",
    "        if int(maireDict[maire][0]) <= int(year) < int(maireDict[maire][1]):\n",
    "            return maire\n",
    "    return \"\"\n",
    "        \n",
    "def name_of_maire_per_tree(colYear:list, maireDict:dict) -> list:\n",
    "    \n",
    "    maireList = []\n",
    "    for year in colYear[1:]:\n",
    "        if not year:\n",
    "            \n",
    "            maireList.append(\"\")\n",
    "            \n",
    "        else:\n",
    "            maireList.append(get_maire_from_year(int(year), maireDict))\n",
    "\n",
    "    \n",
    "    maireList.insert(0, \"Maire\")\n",
    "    return maireList"
   ]
  },
  {
   "cell_type": "markdown",
   "id": "609b7f8e",
   "metadata": {},
   "source": [
    "## Etude botanique"
   ]
  },
  {
   "cell_type": "code",
   "execution_count": 168,
   "id": "05804f54",
   "metadata": {},
   "outputs": [],
   "source": [
    "colToStudy = \"GENRE_BOTA\"\n",
    "colBota = get_col_values(colToStudy, dataset)"
   ]
  },
  {
   "cell_type": "code",
   "execution_count": 169,
   "id": "2e29690e",
   "metadata": {},
   "outputs": [
    {
     "name": "stdout",
     "output_type": "stream",
     "text": [
      "there is --> 933 <-- empty values in GENRE_BOTA\n"
     ]
    }
   ],
   "source": [
    "print(\"there is --> \" + str(count_empty_value(colBota)) + \" <-- empty values in \" + colToStudy )"
   ]
  },
  {
   "cell_type": "code",
   "execution_count": 170,
   "id": "8be9f1d8",
   "metadata": {},
   "outputs": [],
   "source": [
    "colBota = get_col_values(colToStudy, dataset)\n",
    "#colList"
   ]
  },
  {
   "cell_type": "code",
   "execution_count": 171,
   "id": "429bd8aa",
   "metadata": {},
   "outputs": [
    {
     "name": "stdout",
     "output_type": "stream",
     "text": [
      "There was 933 trees of type : \n"
     ]
    }
   ],
   "source": [
    "valueToFind = \"\"\n",
    "print(f\"There was {count_specific_value_in_col(valueToFind, colBota)} trees of type : {valueToFind}\")"
   ]
  },
  {
   "cell_type": "code",
   "execution_count": 172,
   "id": "b656f8d5",
   "metadata": {},
   "outputs": [],
   "source": [
    "def concat_year_type(colListArbre:list, colListYear:list) -> list:\n",
    "    if not len(colListArbre) == len(colListYear):\n",
    "        raise ValueError(\"The two colone studied are not the same length\")\n",
    "    else:\n",
    "        listTemp = []\n",
    "        for year, treeType in zip(colListArbre, colListYear):\n",
    "            tupleTemp = (year, treeType)\n",
    "            listTemp.append(tupleTemp)\n",
    "        \n",
    "        return listTemp"
   ]
  },
  {
   "cell_type": "code",
   "execution_count": 173,
   "id": "e081c383",
   "metadata": {},
   "outputs": [],
   "source": [
    "yearBotaList = concat_year_type(colYearTree, colBota)\n",
    "sortedyearBotaList = sort_by_year(yearBotaList)"
   ]
  },
  {
   "cell_type": "markdown",
   "id": "45077a29",
   "metadata": {},
   "source": [
    "## Build column of -31000 rows before group_by "
   ]
  },
  {
   "cell_type": "code",
   "execution_count": 174,
   "id": "a06d25ae",
   "metadata": {},
   "outputs": [
    {
     "name": "stdout",
     "output_type": "stream",
     "text": [
      "31619 is the last rows of the dataset and should start with 'MISSING' value\n"
     ]
    }
   ],
   "source": [
    "dataset\n",
    "rawData = add_missing_value(dataset)"
   ]
  },
  {
   "cell_type": "code",
   "execution_count": 175,
   "id": "3f09b3c1",
   "metadata": {},
   "outputs": [],
   "source": [
    "columnNameDict = get_dict_colName_colNum(rawData)\n",
    "#columnNameDict"
   ]
  },
  {
   "cell_type": "code",
   "execution_count": 176,
   "id": "4dbe8e7a",
   "metadata": {},
   "outputs": [],
   "source": [
    "colAnneePlantation = get_col_values(colName=\"ANNEEDEPLANTATION\", data=rawData)\n",
    "colGenreBota = get_col_values(colName=\"GENRE_BOTA\", data=rawData)\n",
    "colMaires = name_of_maire_per_tree(colYear=colAnneePlantation, maireDict=maireDict)"
   ]
  },
  {
   "cell_type": "code",
   "execution_count": 177,
   "id": "0aa67e5c",
   "metadata": {},
   "outputs": [
    {
     "data": {
      "text/plain": [
       "120"
      ]
     },
     "execution_count": 177,
     "metadata": {},
     "output_type": "execute_result"
    }
   ],
   "source": [
    "count_specific_value_in_col(value=\"Platanus\", col=colGenreBota)\n",
    "len(set(colGenreBota[1:]))"
   ]
  },
  {
   "cell_type": "code",
   "execution_count": 178,
   "id": "a2b43243",
   "metadata": {},
   "outputs": [],
   "source": [
    "def concat_year_maire_type(colYear:list, colMaire:list, colArbreType:list) -> list:\n",
    "    if not (len(colYear) == len(colMaire) == len(colArbreType) ):\n",
    "        raise ValueError(\"The two colone studied are not the same length\")\n",
    "    else:\n",
    "        listTemp = []\n",
    "        for year, maire, treeType in zip(colYear, colMaire, colArbreType):\n",
    "            tupleTemp = (year, maire, treeType)\n",
    "            listTemp.append(tupleTemp)\n",
    "        \n",
    "        return listTemp"
   ]
  },
  {
   "cell_type": "code",
   "execution_count": 179,
   "id": "9b478f7d",
   "metadata": {},
   "outputs": [],
   "source": [
    "table = concat_year_maire_type(colAnneePlantation, colMaires, colGenreBota)"
   ]
  },
  {
   "cell_type": "code",
   "execution_count": 180,
   "id": "e47b2778",
   "metadata": {},
   "outputs": [],
   "source": [
    "sortTable = sort_by_year(table)"
   ]
  },
  {
   "cell_type": "markdown",
   "id": "40f381fc",
   "metadata": {},
   "source": [
    "## Bar plot"
   ]
  },
  {
   "cell_type": "code",
   "execution_count": 181,
   "id": "9f7a450a",
   "metadata": {},
   "outputs": [],
   "source": [
    "def cleanDataset(table:list) -> list:\n",
    "    tableCopy = []\n",
    "\n",
    "    for row in table:\n",
    "\n",
    "        if len(row[0]) == 0 or len(row[1]) == 0 or len(row[2])== 0:\n",
    "            pass\n",
    "        else:\n",
    "            tableCopy.append(row)\n",
    "    \n",
    "    \n",
    "    return tableCopy"
   ]
  },
  {
   "cell_type": "code",
   "execution_count": 182,
   "id": "0f02a1b9",
   "metadata": {},
   "outputs": [
    {
     "name": "stdout",
     "output_type": "stream",
     "text": [
      "The new cleaned table is size of : 30139. We remove 1481 containing empty rows\n"
     ]
    }
   ],
   "source": [
    "cleanTable = cleanDataset(sortTable)\n",
    "print(f\"The new cleaned table is size of : {len(cleanTable)}. We remove {len(sortTable)-len(cleanTable)} containing empty rows\")"
   ]
  },
  {
   "cell_type": "code",
   "execution_count": 183,
   "id": "5b23edd2",
   "metadata": {},
   "outputs": [],
   "source": [
    "def extract_column(colNum:int, table:list) -> list:\n",
    "    col = []\n",
    "    for row in table[1:]:\n",
    "        col.append(row[2])\n",
    "        \n",
    "    return col"
   ]
  },
  {
   "cell_type": "code",
   "execution_count": 184,
   "id": "f64c622f",
   "metadata": {},
   "outputs": [],
   "source": [
    "typeOfTree = extract_column(2, cleanTable)\n",
    "setOfTypeOfTree = set(typeOfTree)"
   ]
  },
  {
   "cell_type": "code",
   "execution_count": 185,
   "id": "af9f422e",
   "metadata": {},
   "outputs": [],
   "source": [
    "def concat_by_type(table:list) -> list:\n",
    "    tuples_list = table[1:]\n",
    "    unique_tuples = {}\n",
    "    \n",
    "    for t in tuples_list:\n",
    "        if t not in unique_tuples:\n",
    "            unique_tuples[t] = 1\n",
    "        else:\n",
    "            unique_tuples[t] += 1\n",
    "           \n",
    "    return unique_tuples"
   ]
  },
  {
   "cell_type": "code",
   "execution_count": 186,
   "id": "8310bf1f",
   "metadata": {},
   "outputs": [],
   "source": [
    "concatDictByType = concat_by_type(cleanTable)"
   ]
  },
  {
   "cell_type": "markdown",
   "id": "59039b9c",
   "metadata": {},
   "source": [
    "# -------------------------------------------------------------------------------------------"
   ]
  },
  {
   "cell_type": "markdown",
   "id": "1c4ce7ea",
   "metadata": {},
   "source": [
    "### Build Bar Dict"
   ]
  },
  {
   "cell_type": "code",
   "execution_count": 187,
   "id": "5e2d096c",
   "metadata": {},
   "outputs": [],
   "source": [
    "def cumsum(l:list) -> list:\n",
    "    sm=0\n",
    "    cumList = []\n",
    "    for i in l:\n",
    "        sm=sm+i\n",
    "        cumList.append(sm)\n",
    "    return cumList"
   ]
  },
  {
   "cell_type": "code",
   "execution_count": 196,
   "id": "7c48341c",
   "metadata": {},
   "outputs": [
    {
     "data": {
      "text/plain": [
       "[4,\n",
       " 15,\n",
       " 42,\n",
       " 444,\n",
       " 562,\n",
       " 578,\n",
       " 1279,\n",
       " 1285,\n",
       " 2019,\n",
       " 2104,\n",
       " 2157,\n",
       " 2268,\n",
       " 2582,\n",
       " 3948,\n",
       " 4015,\n",
       " 4333,\n",
       " 4366,\n",
       " 4653,\n",
       " 8284,\n",
       " 9182,\n",
       " 9784,\n",
       " 10631,\n",
       " 10955,\n",
       " 12400,\n",
       " 13000,\n",
       " 13359,\n",
       " 13654,\n",
       " 14301,\n",
       " 15171,\n",
       " 15392,\n",
       " 16093,\n",
       " 16328,\n",
       " 16627,\n",
       " 16875,\n",
       " 17015,\n",
       " 17236,\n",
       " 17371,\n",
       " 17623,\n",
       " 18361,\n",
       " 18724,\n",
       " 18955,\n",
       " 19160,\n",
       " 19724,\n",
       " 20151,\n",
       " 21639,\n",
       " 21958,\n",
       " 22299,\n",
       " 22640,\n",
       " 23024,\n",
       " 23606,\n",
       " 23744,\n",
       " 23955,\n",
       " 24602,\n",
       " 25054,\n",
       " 25548,\n",
       " 25858,\n",
       " 26177,\n",
       " 27063,\n",
       " 28075,\n",
       " 28591,\n",
       " 29213,\n",
       " 29988,\n",
       " 30076,\n",
       " 30178,\n",
       " 30181]"
      ]
     },
     "execution_count": 196,
     "metadata": {},
     "output_type": "execute_result"
    }
   ],
   "source": [
    "sortedTreeTupleList\n",
    "treePlanted = [el[1] for el in sortedTreeTupleList]\n",
    "treePlanted = cumsum(treePlanted)\n",
    "treePlanted"
   ]
  },
  {
   "cell_type": "code",
   "execution_count": 189,
   "id": "1828d2ee",
   "metadata": {},
   "outputs": [
    {
     "data": {
      "text/plain": [
       "{'Rivail': [1904, 1908],\n",
       " 'Viallet': [1908, 1910],\n",
       " 'Cornier': [1910, 1919],\n",
       " 'Mistral': [1919, 1932],\n",
       " 'Martin': [1932, 1935],\n",
       " 'Cocat': [1935, 1944],\n",
       " 'Lafleur': [1944, 1945],\n",
       " 'Martin2': [1945, 1947],\n",
       " 'Bally': [1947, 1948],\n",
       " 'Perinetti': [1948, 1949],\n",
       " 'Martin3': [1949, 1959],\n",
       " 'Michallon': [1959, 1965],\n",
       " 'Dubedout': [1965, 1983],\n",
       " 'Carignon': [1983, 1995],\n",
       " 'Destot': [1995, 2014],\n",
       " 'Piolle': [2014, 2021]}"
      ]
     },
     "execution_count": 189,
     "metadata": {},
     "output_type": "execute_result"
    }
   ],
   "source": [
    "maireDict"
   ]
  },
  {
   "cell_type": "code",
   "execution_count": 190,
   "id": "f1087201",
   "metadata": {},
   "outputs": [
    {
     "data": {
      "text/plain": [
       "{'Mistral': 11,\n",
       " 'Lafleur': 27,\n",
       " 'Martin3': 520,\n",
       " 'Michallon': 723,\n",
       " 'Dubedout': 12074,\n",
       " 'Carignon': 4264,\n",
       " 'Destot': 8554,\n",
       " 'Piolle': 4001}"
      ]
     },
     "execution_count": 190,
     "metadata": {},
     "output_type": "execute_result"
    }
   ],
   "source": [
    "maireTreeDict"
   ]
  },
  {
   "cell_type": "code",
   "execution_count": 191,
   "id": "d6d38ce3",
   "metadata": {},
   "outputs": [],
   "source": [
    "barDict = {}\n",
    "for maire in maireTreeDict.keys():\n",
    "    barDict[maire] = {\n",
    "        \"Tree planted\" : maireTreeDict[maire],\n",
    "        \"Date\" : maireDict[maire]\n",
    "    }\n",
    "ordered_Bardict = dict(sorted(my_dict.items(), key=lambda x: min(x[1]['Date'])))"
   ]
  },
  {
   "cell_type": "code",
   "execution_count": 192,
   "id": "ad198670",
   "metadata": {},
   "outputs": [],
   "source": [
    "maires = list(ordered_Bardict.keys())\n",
    "nb_tree = [value[\"Tree planted\"] for value in ordered_Bardict.values()]\n",
    "dates = [value[\"Date\"] for value in ordered_Bardict.values()]"
   ]
  },
  {
   "cell_type": "code",
   "execution_count": null,
   "id": "3294f29a",
   "metadata": {},
   "outputs": [],
   "source": []
  },
  {
   "cell_type": "code",
   "execution_count": 193,
   "id": "c927d8fa",
   "metadata": {},
   "outputs": [
    {
     "data": {
      "text/plain": [
       "[4,\n",
       " 11,\n",
       " 27,\n",
       " 402,\n",
       " 118,\n",
       " 16,\n",
       " 701,\n",
       " 6,\n",
       " 734,\n",
       " 85,\n",
       " 53,\n",
       " 111,\n",
       " 314,\n",
       " 1366,\n",
       " 67,\n",
       " 318,\n",
       " 33,\n",
       " 287,\n",
       " 3631,\n",
       " 898,\n",
       " 602,\n",
       " 847,\n",
       " 324,\n",
       " 1445,\n",
       " 600,\n",
       " 359,\n",
       " 295,\n",
       " 647,\n",
       " 870,\n",
       " 221,\n",
       " 701,\n",
       " 235,\n",
       " 299,\n",
       " 248,\n",
       " 140,\n",
       " 221,\n",
       " 135,\n",
       " 252,\n",
       " 738,\n",
       " 363,\n",
       " 231,\n",
       " 205,\n",
       " 564,\n",
       " 427,\n",
       " 1488,\n",
       " 319,\n",
       " 341,\n",
       " 341,\n",
       " 384,\n",
       " 582,\n",
       " 138,\n",
       " 211,\n",
       " 647,\n",
       " 452,\n",
       " 494,\n",
       " 310,\n",
       " 319,\n",
       " 886,\n",
       " 1012,\n",
       " 516,\n",
       " 622,\n",
       " 775,\n",
       " 88,\n",
       " 102,\n",
       " 3]"
      ]
     },
     "execution_count": 193,
     "metadata": {},
     "output_type": "execute_result"
    }
   ],
   "source": [
    "\n",
    "annee = [int(el[0]) for el in sortedTreeTupleList]\n",
    "nb_trees = [int(el[1]) for el in sortedTreeTupleList]\n",
    "nb_trees"
   ]
  },
  {
   "cell_type": "code",
   "execution_count": null,
   "id": "9d0d4906",
   "metadata": {},
   "outputs": [],
   "source": []
  },
  {
   "cell_type": "code",
   "execution_count": null,
   "id": "55a7d49a",
   "metadata": {},
   "outputs": [],
   "source": []
  },
  {
   "cell_type": "code",
   "execution_count": null,
   "id": "8594cb0e",
   "metadata": {},
   "outputs": [],
   "source": []
  },
  {
   "cell_type": "code",
   "execution_count": null,
   "id": "2d6168b1",
   "metadata": {},
   "outputs": [],
   "source": []
  },
  {
   "cell_type": "code",
   "execution_count": null,
   "id": "298aa989",
   "metadata": {},
   "outputs": [],
   "source": []
  },
  {
   "cell_type": "code",
   "execution_count": null,
   "id": "83610232",
   "metadata": {},
   "outputs": [],
   "source": []
  }
 ],
 "metadata": {
  "kernelspec": {
   "display_name": "Python 3 (ipykernel)",
   "language": "python",
   "name": "python3"
  },
  "language_info": {
   "codemirror_mode": {
    "name": "ipython",
    "version": 3
   },
   "file_extension": ".py",
   "mimetype": "text/x-python",
   "name": "python",
   "nbconvert_exporter": "python",
   "pygments_lexer": "ipython3",
   "version": "3.9.7"
  }
 },
 "nbformat": 4,
 "nbformat_minor": 5
}
