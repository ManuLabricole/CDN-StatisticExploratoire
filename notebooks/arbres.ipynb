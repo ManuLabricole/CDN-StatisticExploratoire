{
 "cells": [
  {
   "cell_type": "code",
<<<<<<< HEAD
   "execution_count": 51,
=======
   "execution_count": 48,
>>>>>>> 4950033acc4d6fb6349e454bd663528d5aebb973
   "id": "1c6b2e6f",
   "metadata": {},
   "outputs": [],
   "source": [
    "import csv\n",
    "import numpy as np\n",
    "import matplotlib.pyplot as plt\n",
    "import matplotlib"
   ]
  },
  {
   "cell_type": "markdown",
   "id": "167f3ddf",
   "metadata": {},
   "source": [
    "# Import csv"
   ]
  },
  {
   "cell_type": "markdown",
   "id": "cbe28afd",
   "metadata": {},
   "source": [
    "## Main import"
   ]
  },
  {
   "cell_type": "code",
<<<<<<< HEAD
   "execution_count": 52,
=======
   "execution_count": 49,
>>>>>>> 4950033acc4d6fb6349e454bd663528d5aebb973
   "id": "e0c6baec",
   "metadata": {},
   "outputs": [],
   "source": [
    "with open('../data/ESP_PUBLIC.IDENTITE_ARBRE.csv', newline='', encoding='utf-8-sig') as csvfile:\n",
    "    # use \",\" separator to generate column value as list element\n",
    "    # cs.reader return a class object of \"_csv.reader\"\n",
    "    dataTemp = csv.reader(csvfile, delimiter=',')\n",
    "    \n",
    "    # Use list() to convert the csv object into a list, of list, depending on how the object is built\n",
    "    # Hard to understand how list(csv_object) behaves \n",
    "    data = list(dataTemp)"
   ]
  },
  {
   "cell_type": "markdown",
   "id": "7b1ba073",
   "metadata": {},
   "source": [
    "## Copy the dataset to advoid re-import"
   ]
  },
  {
   "cell_type": "code",
<<<<<<< HEAD
   "execution_count": 53,
=======
   "execution_count": 50,
>>>>>>> 4950033acc4d6fb6349e454bd663528d5aebb973
   "id": "2bd28817",
   "metadata": {},
   "outputs": [],
   "source": [
    "dataset = data"
   ]
  },
  {
   "cell_type": "markdown",
   "id": "ef74e503",
   "metadata": {},
   "source": [
    "## Correct last row\n"
   ]
  },
  {
   "cell_type": "code",
<<<<<<< HEAD
   "execution_count": 54,
=======
   "execution_count": 51,
>>>>>>> 4950033acc4d6fb6349e454bd663528d5aebb973
   "id": "3452634e",
   "metadata": {},
   "outputs": [
    {
     "name": "stdout",
     "output_type": "stream",
     "text": [
      "Added a value in : ['MISSING', 'ESP14073', 'ESP14073', 'VEG', 'VEGETATION', 'ESP01', 'Arbre', 'ESP151', 'Arbre de voirie', 'ESP336', 'R M Gontard angle M Deprez', '2', 'AR14073', 'Prunus', 'serrulata', '', 'Arbre adulte', '', '', '1995', '', '', '', '', '', '', '', '', '', '', 'Grenoble Alpes Métropole', '{\"type\":\"Point\",\"coordinates\":[5.72422659146747,45.1920566916671]}']\n",
      "['MISSING', 'ESP14073', 'ESP14073', 'VEG', 'VEGETATION', 'ESP01', 'Arbre', 'ESP151', 'Arbre de voirie', 'ESP336', 'R M Gontard angle M Deprez', '2', 'AR14073', 'Prunus', 'serrulata', '', 'Arbre adulte', '', '', '1995', '', '', '', '', '', '', '', '', '', '', 'Grenoble Alpes Métropole', '{\"type\":\"Point\",\"coordinates\":[5.72422659146747,45.1920566916671]}']\n"
     ]
    }
   ],
   "source": [
    "def add_missing_value(dataset:list) -> list:\n",
    "    datasetCopy = dataset\n",
    "    \n",
    "    if len(datasetCopy[len(datasetCopy)-1]) == 31:\n",
    "        datasetCopy[len(datasetCopy)-1].insert(0, \"MISSING\")\n",
    "        print(f\"Added a value in : {datasetCopy[len(datasetCopy)-1]}\")\n",
    "    else:\n",
    "        print(f\"{datasetCopy[len(datasetCopy)-1]} was already added...\")\n",
    "        print(f\"{len(datasetCopy)-1} is the last rows of the dataset and should start with 'MISSING' value\")\n",
    "\n",
    "    return datasetCopy\n",
    "print(add_missing_value(dataset)[len(dataset)-1])"
   ]
  },
  {
   "cell_type": "markdown",
   "id": "4db44d8d",
   "metadata": {},
   "source": [
    "## Utils"
   ]
  },
  {
   "cell_type": "code",
<<<<<<< HEAD
   "execution_count": 55,
=======
   "execution_count": 52,
>>>>>>> 4950033acc4d6fb6349e454bd663528d5aebb973
   "id": "5769eae9",
   "metadata": {},
   "outputs": [],
   "source": [
    "def get_header(data:list) -> list:\n",
    "    if len(data) > 0:\n",
    "        return data[0]\n",
    "    else:\n",
    "        raise ValueError(\"The dataset sent is empty...\")"
   ]
  },
  {
   "cell_type": "code",
<<<<<<< HEAD
   "execution_count": 56,
=======
   "execution_count": 53,
>>>>>>> 4950033acc4d6fb6349e454bd663528d5aebb973
   "id": "c88c9f75",
   "metadata": {},
   "outputs": [],
   "source": [
    "def get_dict_colName_colNum(data:list) -> dict:\n",
    "    dictTemp = {}\n",
    "    \n",
    "    for el in get_header(data):\n",
    "        dictTemp[el] = get_header(data).index(el)\n",
    "        \n",
    "    return dictTemp\n",
    "# print(get_dict_colName_colNum(dataset))"
   ]
  },
  {
   "cell_type": "code",
<<<<<<< HEAD
   "execution_count": 57,
=======
   "execution_count": 54,
>>>>>>> 4950033acc4d6fb6349e454bd663528d5aebb973
   "id": "431b2dc5",
   "metadata": {},
   "outputs": [],
   "source": [
    "def is_in_header(colName:str, data:list) -> bool:\n",
    "    return colName in get_header(data)\n",
    "# print(is_in_header(\"GENRE_DESC\", dataset))"
   ]
  },
  {
   "cell_type": "code",
<<<<<<< HEAD
   "execution_count": 58,
=======
   "execution_count": 55,
>>>>>>> 4950033acc4d6fb6349e454bd663528d5aebb973
   "id": "20aaabd0",
   "metadata": {},
   "outputs": [],
   "source": [
    "def average(col:list) -> float:\n",
    "    for el in col:\n",
    "        if type(el) is not float:\n",
    "            raise TypeError(\"The list sent doesn't have float or contains empty string\")\n",
    "    return sum(col)/len(col)"
   ]
  },
  {
   "cell_type": "markdown",
   "id": "a236133b",
   "metadata": {},
   "source": [
    "# -----------------------------------------------------------------------------------------------------------"
   ]
  },
  {
   "cell_type": "markdown",
   "id": "6da2890e",
   "metadata": {},
   "source": [
    "# Iteration 1 : Main computation"
   ]
  },
  {
   "cell_type": "markdown",
   "id": "59611850",
   "metadata": {},
   "source": [
    "# -----------------------------------------------------------------------------------------------------------"
   ]
  },
  {
   "cell_type": "markdown",
   "id": "68632f74",
   "metadata": {},
   "source": [
    "## Afficher deux premieres lignes"
   ]
  },
  {
   "cell_type": "code",
<<<<<<< HEAD
   "execution_count": 59,
=======
   "execution_count": 56,
>>>>>>> 4950033acc4d6fb6349e454bd663528d5aebb973
   "id": "8a2d47c5",
   "metadata": {},
   "outputs": [],
   "source": [
    "# Slice and extract the first two list ie the first two lignes\n",
    "header = get_header(dataset)\n",
    "lignes2 = dataset[0:2]\n",
    "\n",
    "specDataset = {\n",
    "    \"rows\" : len(dataset),\n",
    "    \"columns\" : len(dataset[0])\n",
    "}"
   ]
  },
  {
   "cell_type": "markdown",
   "id": "c5bf2783",
   "metadata": {},
   "source": [
    "## Afficher colonne n°2"
   ]
  },
  {
   "cell_type": "code",
<<<<<<< HEAD
   "execution_count": 60,
=======
   "execution_count": 57,
>>>>>>> 4950033acc4d6fb6349e454bd663528d5aebb973
   "id": "6fd184d4",
   "metadata": {},
   "outputs": [],
   "source": [
    "# We see that to access the row is [i] after lignes2. \n",
    "# Then we have the list corresponding to the row i-1 (start from 0)\n",
    "# In this list, we use [i] to acces the i element corresponding to the column\n",
    "ligne1_col2 = lignes2[0][1]\n",
    "ligne2_col2 = lignes2[1][1]"
   ]
  },
  {
   "cell_type": "code",
<<<<<<< HEAD
   "execution_count": 61,
=======
   "execution_count": 58,
>>>>>>> 4950033acc4d6fb6349e454bd663528d5aebb973
   "id": "afd8a76a",
   "metadata": {},
   "outputs": [
    {
     "name": "stdout",
     "output_type": "stream",
     "text": [
      "CODE : ESP29285\n"
     ]
    }
   ],
   "source": [
    "print(ligne1_col2 + \" : \" + ligne2_col2)"
   ]
  },
  {
   "cell_type": "markdown",
   "id": "28f9450b",
   "metadata": {},
   "source": [
    "## Get 50 first & last"
   ]
  },
  {
   "cell_type": "code",
<<<<<<< HEAD
   "execution_count": 62,
=======
   "execution_count": 59,
>>>>>>> 4950033acc4d6fb6349e454bd663528d5aebb973
   "id": "8fb107b6",
   "metadata": {},
   "outputs": [],
   "source": [
    "# Should be called when having a list coming from : get_col_values()\n",
    "def extract_50(col:list) -> list:\n",
    "    if len(col) > 100:\n",
    "        return col[:50]+ [\"------> more values\"] + col[len(col)-50:]\n",
    "    else:\n",
    "        raise ValueError(f\"List {col} has less than 100 elements\")\n",
    "# extract_50(colList)"
   ]
  },
  {
   "cell_type": "markdown",
   "id": "182f780d",
   "metadata": {},
   "source": [
    "## Infos année plantation data"
   ]
  },
  {
   "cell_type": "code",
<<<<<<< HEAD
   "execution_count": 63,
=======
   "execution_count": 60,
>>>>>>> 4950033acc4d6fb6349e454bd663528d5aebb973
   "id": "21c3dc89",
   "metadata": {},
   "outputs": [
    {
     "name": "stdout",
     "output_type": "stream",
     "text": [
      "['ELEM_POINT_ID', 'CODE', 'NOM', 'GENRE', 'GENRE_DESC', 'CATEGORIE', 'CATEGORIE_DESC', 'SOUS_CATEGORIE', 'SOUS_CATEGORIE_DESC', 'CODE_PARENT', 'CODE_PARENT_DESC', 'ADR_SECTEUR', 'BIEN_REFERENCE', 'GENRE_BOTA', 'ESPECE', 'VARIETE', 'STADEDEDEVELOPPEMENT', 'EQUIPE', 'REMARQUES', 'ANNEEDEPLANTATION', 'RAISONDEPLANTATION', 'TRAITEMENTCHENILLES', 'COURRIER', 'IDENTIFIANTPLU', 'TYPEIMPLANTATIONPLU', 'INTITULEPROTECTIONPLU', 'ANNEEABATTAGE', 'ESSOUCHEMENT', 'DIAMETREARBRE', 'CAUSEABATTAGE', 'COLLECTIVITE', 'GeoJSON']\n"
     ]
    }
   ],
   "source": [
    "print(get_header(dataset))"
   ]
  },
  {
   "cell_type": "code",
<<<<<<< HEAD
   "execution_count": 64,
=======
   "execution_count": 61,
>>>>>>> 4950033acc4d6fb6349e454bd663528d5aebb973
   "id": "c88d1c2d",
   "metadata": {},
   "outputs": [],
   "source": [
    "def get_col_value_from_name(colName:str, data:list) -> str:\n",
    "    \n",
    "    if is_in_header(colName, data):\n",
    "        return get_dict_colName_colNum(data)[colName]\n",
    "    \n",
    "# print(get_col_value_from_name(colName=\"CODE_PARENT\", data=dataset))"
   ]
  },
  {
   "cell_type": "code",
<<<<<<< HEAD
   "execution_count": 65,
=======
   "execution_count": 62,
>>>>>>> 4950033acc4d6fb6349e454bd663528d5aebb973
   "id": "4987fde7",
   "metadata": {},
   "outputs": [],
   "source": [
    "def get_col_values(colName:str, data:list) -> list:\n",
    "    \n",
    "    col = [el[get_col_value_from_name(colName, data)] for el in data]\n",
    "    \n",
    "    return col\n",
    "# print(get_col_values(\"ANNEEDEPLANTATION\", dataset))"
   ]
  },
  {
   "cell_type": "markdown",
   "id": "79c56bfe",
   "metadata": {},
   "source": [
    "### Trees column parsing utils"
   ]
  },
  {
   "cell_type": "code",
<<<<<<< HEAD
   "execution_count": 66,
=======
   "execution_count": 63,
>>>>>>> 4950033acc4d6fb6349e454bd663528d5aebb973
   "id": "0b7b78c6",
   "metadata": {},
   "outputs": [],
   "source": [
    "colToStudy = \"ANNEEDEPLANTATION\""
   ]
  },
  {
   "cell_type": "code",
<<<<<<< HEAD
   "execution_count": 67,
=======
   "execution_count": 64,
>>>>>>> 4950033acc4d6fb6349e454bd663528d5aebb973
   "id": "3ef20397",
   "metadata": {},
   "outputs": [
    {
     "name": "stdout",
     "output_type": "stream",
     "text": [
      "there is --> 31620 <-- trees studied\n"
     ]
    }
   ],
   "source": [
    "colList = get_col_values(colToStudy, dataset)\n",
    "colYearTree = colList\n",
    "print(\"there is --> \" + str(len(colList)) + \" <-- trees studied\")"
   ]
  },
  {
   "cell_type": "code",
<<<<<<< HEAD
   "execution_count": 68,
=======
   "execution_count": 65,
>>>>>>> 4950033acc4d6fb6349e454bd663528d5aebb973
   "id": "ccfeab64",
   "metadata": {},
   "outputs": [],
   "source": [
    "def count_empty_value(col:list) -> int:\n",
    "    \n",
    "    emptyList = [el for el in col if not el]\n",
    "    \n",
    "    return len(emptyList)"
   ]
  },
  {
   "cell_type": "code",
<<<<<<< HEAD
   "execution_count": 69,
=======
   "execution_count": 66,
>>>>>>> 4950033acc4d6fb6349e454bd663528d5aebb973
   "id": "ea563109",
   "metadata": {},
   "outputs": [
    {
     "name": "stdout",
     "output_type": "stream",
     "text": [
      "there is --> 1438 <-- empty values in ANNEEDEPLANTATION\n"
     ]
    }
   ],
   "source": [
    "print(\"there is --> \" + str(count_empty_value(colList)) + \" <-- empty values in \" + colToStudy )"
   ]
  },
  {
   "cell_type": "code",
<<<<<<< HEAD
   "execution_count": 70,
=======
   "execution_count": 67,
>>>>>>> 4950033acc4d6fb6349e454bd663528d5aebb973
   "id": "4c60b1b0",
   "metadata": {},
   "outputs": [],
   "source": [
    "def remove_empty(col:list) -> list:\n",
    "    return [el for el in col if el]"
   ]
  },
  {
   "cell_type": "code",
<<<<<<< HEAD
   "execution_count": 71,
=======
   "execution_count": 68,
>>>>>>> 4950033acc4d6fb6349e454bd663528d5aebb973
   "id": "b1946c26",
   "metadata": {},
   "outputs": [],
   "source": [
    "def get_min(col:list) -> int:\n",
    "    \n",
    "    colValues = remove_empty(col)\n",
    "    \n",
    "    # Slice to get rid off the header\n",
    "    return float(min(colValues[1:]))"
   ]
  },
  {
   "cell_type": "code",
<<<<<<< HEAD
   "execution_count": 72,
=======
   "execution_count": 69,
>>>>>>> 4950033acc4d6fb6349e454bd663528d5aebb973
   "id": "bbd4c551",
   "metadata": {},
   "outputs": [],
   "source": [
    "def get_max(col:list) -> int:\n",
    "    \n",
    "    colValues = remove_empty(col)\n",
    "    \n",
    "    # Slice to get rid off the header\n",
    "    return float(max(colValues[1:]))"
   ]
  },
  {
   "cell_type": "markdown",
   "id": "2fc022cb",
   "metadata": {},
   "source": [
    "### Count trees for each year in dataset"
   ]
  },
  {
   "cell_type": "code",
<<<<<<< HEAD
   "execution_count": 73,
=======
   "execution_count": 70,
>>>>>>> 4950033acc4d6fb6349e454bd663528d5aebb973
   "id": "492028c3",
   "metadata": {},
   "outputs": [],
   "source": [
    "def count_specific_value_in_col(value:str, col:list) -> int:\n",
    "    \n",
    "    valuesCorresponding = [el for el in col if str(el) == str(value)]  \n",
    "    \n",
    "    return len(valuesCorresponding)"
   ]
  },
  {
   "cell_type": "code",
<<<<<<< HEAD
   "execution_count": 74,
=======
   "execution_count": 71,
>>>>>>> 4950033acc4d6fb6349e454bd663528d5aebb973
   "id": "ff5b5f63",
   "metadata": {},
   "outputs": [
    {
     "name": "stdout",
     "output_type": "stream",
     "text": [
      "There was 252 trees planted in 1994\n"
     ]
    }
   ],
   "source": [
    "valueToFind = \"1994\"\n",
    "print(f\"There was {count_specific_value_in_col(valueToFind, colList)} trees planted in {valueToFind}\")"
   ]
  },
  {
   "cell_type": "code",
<<<<<<< HEAD
   "execution_count": 75,
=======
   "execution_count": 72,
>>>>>>> 4950033acc4d6fb6349e454bd663528d5aebb973
   "id": "56b9220c",
   "metadata": {},
   "outputs": [
    {
     "name": "stdout",
     "output_type": "stream",
     "text": [
      "The oldest year of plantation is : 1900.0\n",
      "The last year of plantation is : 2021.0\n"
     ]
    }
   ],
   "source": [
    "print(f\"The oldest year of plantation is : {get_min(colList)}\")\n",
    "print(f\"The last year of plantation is : {get_max(colList)}\")"
   ]
  },
  {
   "cell_type": "markdown",
   "id": "8e7a2eb1",
   "metadata": {},
   "source": [
    "### Count trees for each year in dataset"
   ]
  },
  {
   "cell_type": "code",
<<<<<<< HEAD
   "execution_count": 76,
=======
   "execution_count": 73,
>>>>>>> 4950033acc4d6fb6349e454bd663528d5aebb973
   "id": "4b6511a9",
   "metadata": {},
   "outputs": [],
   "source": [
    "# This method compute for each year the number of trees planted\n",
    "# Then it compute the average taking into account only the trees where the year is known\n",
    "def average_trees_planted(col:list) -> dict:\n",
    "    cleanList = remove_empty(col[1:])\n",
    "    removeDuplicate = set(cleanList)\n",
    "    \n",
    "    nbTreesPerYear = [float(count_specific_value_in_col(el,col)) for el in removeDuplicate]\n",
    "    print(f\"Nombre d'annees connues ou des arbres ont été planté : {len(removeDuplicate)}\")\n",
    "    return round(average(nbTreesPerYear),2)"
   ]
  },
  {
   "cell_type": "code",
<<<<<<< HEAD
   "execution_count": 77,
=======
   "execution_count": 74,
>>>>>>> 4950033acc4d6fb6349e454bd663528d5aebb973
   "id": "3d20cc07",
   "metadata": {},
   "outputs": [
    {
     "name": "stdout",
     "output_type": "stream",
     "text": [
      "Nombre d'annees connues ou des arbres ont été planté : 65\n",
      "La moyenne n°1 des arbres plantés est : 464.32\n"
     ]
    }
   ],
   "source": [
    "print(f\"La moyenne n°1 des arbres plantés est : {average_trees_planted(colList)}\")"
   ]
  },
  {
   "cell_type": "code",
<<<<<<< HEAD
   "execution_count": 78,
=======
   "execution_count": 75,
>>>>>>> 4950033acc4d6fb6349e454bd663528d5aebb973
   "id": "87334162",
   "metadata": {},
   "outputs": [],
   "source": [
    "# This function compute the average taking into account\n",
    "# The total number of trees in the dataset\n",
    "# The max and min year known\n",
    "\n",
    "def rought_average(col:list) -> float:\n",
    "    # remove one on the global size due to header\n",
    "    nbArbre = float(len(col[1:]))\n",
    "    # add +1 to take into account the full 2021 year\n",
    "    interval = float(get_max(col)-get_min(col)+1)\n",
    "    \n",
    "    print(f\"Diviser total arbre : {nbArbre} par intervalle d'annee etudier {int(get_min(col))} - {int(get_max(col))}\")\n",
    "    \n",
    "    return round(nbArbre/interval,2)"
   ]
  },
  {
   "cell_type": "code",
<<<<<<< HEAD
   "execution_count": 79,
=======
   "execution_count": 76,
>>>>>>> 4950033acc4d6fb6349e454bd663528d5aebb973
   "id": "3ba8c50d",
   "metadata": {},
   "outputs": [
    {
     "name": "stdout",
     "output_type": "stream",
     "text": [
      "Diviser total arbre : 31619.0 par intervalle d'annee etudier 1900 - 2021\n",
      "La moyenne n°2 des arbres plantés est : 259.17\n"
     ]
    }
   ],
   "source": [
    "print(f\"La moyenne n°2 des arbres plantés est : {rought_average(colList)}\")"
   ]
  },
  {
   "cell_type": "markdown",
   "id": "f8d02cb9",
   "metadata": {},
   "source": [
    "### Make tuple (year : nb_arbre)"
   ]
  },
  {
   "cell_type": "code",
<<<<<<< HEAD
   "execution_count": 80,
=======
   "execution_count": 77,
>>>>>>> 4950033acc4d6fb6349e454bd663528d5aebb973
   "id": "271d8c0a",
   "metadata": {},
   "outputs": [],
   "source": [
    "def make_tuple_year_nbArbre(col:list) -> list:\n",
    "    cleanList = remove_empty(col[1:])\n",
    "    removeDuplicate = set(cleanList) \n",
    "    \n",
    "    return [(el, count_specific_value_in_col(el, col)) for el in removeDuplicate]"
   ]
  },
  {
   "cell_type": "code",
<<<<<<< HEAD
   "execution_count": 81,
=======
   "execution_count": 78,
>>>>>>> 4950033acc4d6fb6349e454bd663528d5aebb973
   "id": "80fc0dd1",
   "metadata": {},
   "outputs": [],
   "source": [
    "# Sort the list of tuples (year, value) by year\n",
    "def sort_by_year(tupleList:list) -> list:\n",
    "    return sorted(tupleList, key=lambda x:x[0], reverse=True)"
   ]
  },
  {
   "cell_type": "code",
<<<<<<< HEAD
   "execution_count": 113,
=======
   "execution_count": 95,
>>>>>>> 4950033acc4d6fb6349e454bd663528d5aebb973
   "id": "904f7bfc",
   "metadata": {},
   "outputs": [
    {
     "data": {
      "text/plain": [
       "[('2021', 3),\n",
       " ('2020', 102),\n",
       " ('2019', 88),\n",
       " ('2018', 775),\n",
       " ('2017', 622),\n",
       " ('2016', 516),\n",
       " ('2015', 1012),\n",
       " ('2014', 886),\n",
       " ('2013', 319),\n",
       " ('2012', 310),\n",
       " ('2011', 494),\n",
       " ('2010', 452),\n",
       " ('2009', 647),\n",
       " ('2008', 211),\n",
       " ('2007', 138),\n",
       " ('2006', 582),\n",
       " ('2005', 384),\n",
       " ('2004', 341),\n",
       " ('2003', 341),\n",
       " ('2002', 319),\n",
       " ('2001', 1488),\n",
       " ('2000', 427),\n",
       " ('1999', 564),\n",
       " ('1998', 205),\n",
       " ('1997', 231),\n",
       " ('1996', 363),\n",
       " ('1995', 738),\n",
       " ('1994', 252),\n",
       " ('1993', 135),\n",
       " ('1992', 221),\n",
       " ('1991', 140),\n",
       " ('1990', 248),\n",
       " ('1989', 299),\n",
       " ('1988', 235),\n",
       " ('1987', 701),\n",
       " ('1986', 221),\n",
       " ('1985', 870),\n",
       " ('1984', 647),\n",
       " ('1983', 295),\n",
       " ('1982', 359),\n",
       " ('1981', 600),\n",
       " ('1980', 1445),\n",
       " ('1979', 324),\n",
       " ('1978', 847),\n",
       " ('1977', 602),\n",
       " ('1976', 898),\n",
       " ('1975', 3631),\n",
       " ('1974', 287),\n",
       " ('1973', 33),\n",
       " ('1972', 318),\n",
       " ('1971', 67),\n",
       " ('1970', 1366),\n",
       " ('1969', 314),\n",
       " ('1968', 111),\n",
       " ('1967', 53),\n",
       " ('1966', 85),\n",
       " ('1965', 734),\n",
       " ('1964', 6),\n",
       " ('1960', 701),\n",
       " ('1959', 16),\n",
       " ('1955', 118),\n",
       " ('1950', 402),\n",
       " ('1944', 27),\n",
       " ('1924', 11),\n",
       " ('1900', 4)]"
      ]
     },
     "execution_count": 95,
     "metadata": {},
     "output_type": "execute_result"
    }
   ],
   "source": [
    "treeTupleList = make_tuple_year_nbArbre(colList)\n",
    "sortedTreeTupleList = sort_by_year(treeTupleList)\n",
<<<<<<< HEAD
    "# treeTupleList"
=======
    "sortedTreeTupleList"
>>>>>>> 4950033acc4d6fb6349e454bd663528d5aebb973
   ]
  },
  {
   "cell_type": "code",
<<<<<<< HEAD
   "execution_count": 111,
=======
   "execution_count": 80,
>>>>>>> 4950033acc4d6fb6349e454bd663528d5aebb973
   "id": "457b139b",
   "metadata": {},
   "outputs": [],
   "source": [
    "# sortedTreeTupleList"
   ]
  },
  {
   "cell_type": "markdown",
   "id": "d6accd9b",
   "metadata": {},
   "source": [
    "### Etude des Maires"
   ]
  },
  {
   "cell_type": "code",
<<<<<<< HEAD
   "execution_count": 84,
=======
   "execution_count": 81,
>>>>>>> 4950033acc4d6fb6349e454bd663528d5aebb973
   "id": "dec4de29",
   "metadata": {},
   "outputs": [],
   "source": [
    "maire = [['Rivail', 1904,1908],['Viallet', 1908,1910],['Cornier', 1910,1919],['Mistral', 1919,1932],['Martin', 1932,1935],['Cocat', 1935,1944],['Lafleur', 1944,1945],['Martin2', 1945,1947],['Bally', 1947,1948],['Perinetti', 1948,1949],['Martin3', 1949,1959],['Michallon', 1959,1965],['Dubedout', 1965,1983],['Carignon', 1983,1995],['Destot', 1995,2014],['Piolle', 2014,2021]]\n",
    "maireDict = {el[0]:[el[1],el[2]] for el in maire}"
   ]
  },
  {
   "cell_type": "code",
<<<<<<< HEAD
   "execution_count": 114,
=======
   "execution_count": 82,
>>>>>>> 4950033acc4d6fb6349e454bd663528d5aebb973
   "id": "4b1e01eb",
   "metadata": {},
   "outputs": [],
   "source": [
    "def number_of_tree_per_maire(maire:dict, tupleListArbre:list) -> int:\n",
    "    \n",
    "    dictTemp = {}\n",
    "    \n",
    "    for el in tupleListArbre:\n",
    "        for maire in maireDict.keys():\n",
    "            #print(f\"Le maire {key} a reigné sur Grenoble de {maireDict[key]}\")\n",
    "            #print(type(maireDict[key][0]))\n",
    "            #print(type(el[0]))\n",
    "            #print(f\"{maireDict[maire][0]} <= {int(el[0])} < {maireDict[maire][1]} ????\")\n",
    "            if maireDict[maire][0] <= int(el[0])<maireDict[maire][1]:\n",
    "                #print(f\"The Maire {maire} planted --> {el[1]} <-- trees in the year {el[0]} during is mandat of [{maireDict[maire][0]},{maireDict[maire][1]}]\")        \n",
    "                \n",
    "                if maire in dictTemp:\n",
    "                    dictTemp[maire] += el[1]\n",
    "                else:\n",
    "                    dictTemp[maire] = el[1]\n",
    "                \n",
    "    return dictTemp"
   ]
  },
  {
   "cell_type": "code",
<<<<<<< HEAD
   "execution_count": 109,
=======
   "execution_count": 83,
>>>>>>> 4950033acc4d6fb6349e454bd663528d5aebb973
   "id": "af62737f",
   "metadata": {},
   "outputs": [
    {
     "data": {
      "text/plain": [
       "{'Piolle': 4001,\n",
       " 'Destot': 8554,\n",
       " 'Carignon': 4264,\n",
       " 'Dubedout': 12074,\n",
       " 'Michallon': 723,\n",
       " 'Martin3': 520,\n",
       " 'Lafleur': 27,\n",
       " 'Mistral': 11}"
      ]
     },
     "execution_count": 109,
     "metadata": {},
     "output_type": "execute_result"
    }
   ],
   "source": [
    "maireTreeDict = number_of_tree_per_maire(maireDict, sortedTreeTupleList)"
   ]
  },
  {
   "cell_type": "code",
<<<<<<< HEAD
   "execution_count": 87,
=======
   "execution_count": 84,
>>>>>>> 4950033acc4d6fb6349e454bd663528d5aebb973
   "id": "086bf982",
   "metadata": {},
   "outputs": [],
   "source": [
    "def get_max_maire_tree(dictMaire:dict) -> str:\n",
    "    return max(dictMaire, key=dictMaire.get)"
   ]
  },
  {
   "cell_type": "code",
<<<<<<< HEAD
   "execution_count": 88,
=======
   "execution_count": 85,
>>>>>>> 4950033acc4d6fb6349e454bd663528d5aebb973
   "id": "f3479a66",
   "metadata": {},
   "outputs": [
    {
     "name": "stdout",
     "output_type": "stream",
     "text": [
      "The Maire who planted the more trees is --> Dubedout <-- with a number of --> 12074 <--\n"
     ]
    }
   ],
   "source": [
    "max_maire = get_max_maire_tree(maireTreeDict)\n",
    "print(f\"The Maire who planted the more trees is --> {max_maire} <-- with a number of --> {maireTreeDict[max_maire]} <--\")"
   ]
  },
  {
   "cell_type": "code",
   "execution_count": null,
   "id": "42196967",
   "metadata": {},
   "outputs": [],
   "source": [
    "def name_of_maire_per_tree(colYear:list, maires:dict) -> list:\n",
    "    \n",
    "    maireList = []\n",
    "    for year in colyear:\n",
    "        for maire in maires:\n",
    "            if maire[0] <= int(year) < maire[1]:\n",
    "                maireList.append(maire)\n",
    "    \n",
    "    \n",
    "    return maireList\n",
    "maireList = name_of_maire_per_tree"
   ]
  },
  {
   "cell_type": "code",
   "execution_count": null,
   "id": "8cbc51d6",
   "metadata": {},
   "outputs": [],
   "source": []
  },
  {
   "cell_type": "markdown",
   "id": "609b7f8e",
   "metadata": {},
   "source": [
    "## Etude botanique"
   ]
  },
  {
   "cell_type": "code",
<<<<<<< HEAD
   "execution_count": 89,
=======
   "execution_count": 86,
>>>>>>> 4950033acc4d6fb6349e454bd663528d5aebb973
   "id": "05804f54",
   "metadata": {},
   "outputs": [],
   "source": [
    "colToStudy = \"GENRE_BOTA\"\n",
    "colBota = get_col_values(colToStudy, dataset)"
   ]
  },
  {
   "cell_type": "code",
<<<<<<< HEAD
   "execution_count": 90,
=======
   "execution_count": 87,
>>>>>>> 4950033acc4d6fb6349e454bd663528d5aebb973
   "id": "2e29690e",
   "metadata": {},
   "outputs": [
    {
     "name": "stdout",
     "output_type": "stream",
     "text": [
      "there is --> 933 <-- empty values in GENRE_BOTA\n"
     ]
    }
   ],
   "source": [
    "print(\"there is --> \" + str(count_empty_value(colBota)) + \" <-- empty values in \" + colToStudy )"
   ]
  },
  {
   "cell_type": "code",
<<<<<<< HEAD
   "execution_count": 91,
=======
   "execution_count": 88,
>>>>>>> 4950033acc4d6fb6349e454bd663528d5aebb973
   "id": "8be9f1d8",
   "metadata": {},
   "outputs": [],
   "source": [
    "colBota = get_col_values(colToStudy, dataset)\n",
    "#colList"
   ]
  },
  {
   "cell_type": "code",
<<<<<<< HEAD
   "execution_count": 92,
=======
   "execution_count": 89,
>>>>>>> 4950033acc4d6fb6349e454bd663528d5aebb973
   "id": "429bd8aa",
   "metadata": {},
   "outputs": [
    {
     "name": "stdout",
     "output_type": "stream",
     "text": [
      "There was 933 trees of type : \n"
     ]
    }
   ],
   "source": [
    "valueToFind = \"\"\n",
    "print(f\"There was {count_specific_value_in_col(valueToFind, colBota)} trees of type : {valueToFind}\")"
   ]
  },
  {
   "cell_type": "code",
<<<<<<< HEAD
   "execution_count": 93,
=======
   "execution_count": 90,
>>>>>>> 4950033acc4d6fb6349e454bd663528d5aebb973
   "id": "b656f8d5",
   "metadata": {},
   "outputs": [],
   "source": [
    "def concat_year_type(colListArbre:list, colListYear:list) -> list:\n",
    "    if not len(colListArbre) == len(colListYear):\n",
    "        raise ValueError(\"The two colone studied are not the same length\")\n",
    "    else:\n",
    "        listTemp = []\n",
    "        for year, treeType in zip(colListArbre, colListYear):\n",
    "            tupleTemp = (year, treeType)\n",
    "            listTemp.append(tupleTemp)\n",
    "        \n",
    "        return listTemp"
   ]
  },
  {
   "cell_type": "code",
<<<<<<< HEAD
   "execution_count": 94,
=======
   "execution_count": 91,
>>>>>>> 4950033acc4d6fb6349e454bd663528d5aebb973
   "id": "e081c383",
   "metadata": {},
   "outputs": [
    {
     "data": {
      "text/plain": [
       "[('ANNEEDEPLANTATION', 'GENRE_BOTA'),\n",
       " ('2021', 'Thuja'),\n",
       " ('2021', 'Tilia'),\n",
       " ('2021', 'Thuja'),\n",
       " ('2020', 'Ulmus'),\n",
       " ('2020', 'Ulmus'),\n",
       " ('2020', 'Pyrus'),\n",
       " ('2020', 'Malus'),\n",
       " ('2020', 'Pyrus'),\n",
       " ('2020', 'Pyrus'),\n",
       " ('2020', 'Pyrus'),\n",
       " ('2020', 'Prunus'),\n",
       " ('2020', 'Prunus'),\n",
       " ('2020', 'Quercus'),\n",
       " ('2020', 'Quercus'),\n",
       " ('2020', 'Quercus'),\n",
       " ('2020', 'Quercus'),\n",
       " ('2020', 'Quercus'),\n",
       " ('2020', 'Parrotia'),\n",
       " ('2020', 'Syringa'),\n",
       " ('2020', 'Syringa'),\n",
       " ('2020', 'Prunus'),\n",
       " ('2020', 'Malus'),\n",
       " ('2020', 'Prunus'),\n",
       " ('2020', 'Quercus'),\n",
       " ('2020', 'Malus'),\n",
       " ('2020', 'Malus'),\n",
       " ('2020', 'Pyrus'),\n",
       " ('2020', 'Pyrus'),\n",
       " ('2020', 'Pyrus'),\n",
       " ('2020', 'Prunus'),\n",
       " ('2020', 'Malus'),\n",
       " ('2020', 'Quercus'),\n",
       " ('2020', 'Quercus'),\n",
       " ('2020', 'Sophora'),\n",
       " ('2020', 'Sophora'),\n",
       " ('2020', 'Sophora'),\n",
       " ('2020', 'Sophora'),\n",
       " ('2020', 'Ulmus'),\n",
       " ('2020', 'Ulmus'),\n",
       " ('2020', 'Ulmus'),\n",
       " ('2020', 'Prunus'),\n",
       " ('2020', 'Prunus'),\n",
       " ('2020', 'Quercus'),\n",
       " ('2020', 'Quercus'),\n",
       " ('2020', 'Quercus'),\n",
       " ('2020', 'Quercus'),\n",
       " ('2020', 'Quercus'),\n",
       " ('2020', 'Quercus'),\n",
       " ('2020', 'Prunus'),\n",
       " ('2020', 'Quercus'),\n",
       " ('2020', 'Ostrya'),\n",
       " ('2020', 'Ostrya'),\n",
       " ('2020', 'Ostrya'),\n",
       " ('2020', 'Liriodendron'),\n",
       " ('2020', 'Liriodendron'),\n",
       " ('2020', 'Liriodendron'),\n",
       " ('2020', 'Liriodendron'),\n",
       " ('2020', 'Liriodendron'),\n",
       " ('2020', 'Quercus'),\n",
       " ('2020', 'Quercus'),\n",
       " ('2020', 'Pterocarya'),\n",
       " ('2020', 'Maclura'),\n",
       " ('2020', 'Maclura'),\n",
       " ('2020', 'Pterocarya'),\n",
       " ('2020', 'Magnolia'),\n",
       " ('2020', 'Magnolia'),\n",
       " ('2020', 'Pyrus'),\n",
       " ('2020', 'Pyrus'),\n",
       " ('2020', 'Pyrus'),\n",
       " ('2020', 'Pyrus'),\n",
       " ('2020', 'Pyrus'),\n",
       " ('2020', 'Pyrus'),\n",
       " ('2020', 'Pyrus'),\n",
       " ('2020', 'Pyrus'),\n",
       " ('2020', 'Pyrus'),\n",
       " ('2020', 'Pyrus'),\n",
       " ('2020', 'Pyrus'),\n",
       " ('2020', 'Malus'),\n",
       " ('2020', 'Malus'),\n",
       " ('2020', 'Malus'),\n",
       " ('2020', 'Quercus'),\n",
       " ('2020', 'Quercus'),\n",
       " ('2020', 'Magnolia'),\n",
       " ('2020', 'Magnolia'),\n",
       " ('2020', 'Pyrus'),\n",
       " ('2020', 'Prunus'),\n",
       " ('2020', 'Prunus'),\n",
       " ('2020', 'Prunus'),\n",
       " ('2020', 'Prunus'),\n",
       " ('2020', 'Quercus'),\n",
       " ('2020', 'Quercus'),\n",
       " ('2020', 'Ostrya'),\n",
       " ('2020', 'Pterocarya'),\n",
       " ('2020', 'Magnolia'),\n",
       " ('2020', 'Magnolia'),\n",
       " ('2020', 'Magnolia'),\n",
       " ('2020', 'Pinus'),\n",
       " ('2020', 'Pinus'),\n",
       " ('2020', 'Pinus'),\n",
       " ('2020', 'Pterocarya'),\n",
       " ('2020', 'Pterocarya'),\n",
       " ('2020', 'Tilia'),\n",
       " ('2020', 'Pyrus'),\n",
       " ('2020', 'Malus'),\n",
       " ('2020', 'Parrotia'),\n",
       " ('2019', 'Prunus'),\n",
       " ('2019', 'Liquidambar'),\n",
       " ('2019', 'Quercus'),\n",
       " ('2019', 'Quercus'),\n",
       " ('2019', 'Magnolia'),\n",
       " ('2019', 'Magnolia'),\n",
       " ('2019', 'Magnolia'),\n",
       " ('2019', 'Magnolia'),\n",
       " ('2019', 'Magnolia'),\n",
       " ('2019', 'Magnolia'),\n",
       " ('2019', 'Magnolia'),\n",
       " ('2019', 'Magnolia'),\n",
       " ('2019', 'Magnolia'),\n",
       " ('2019', 'Magnolia'),\n",
       " ('2019', 'Magnolia'),\n",
       " ('2019', 'Magnolia'),\n",
       " ('2019', 'Magnolia'),\n",
       " ('2019', 'Magnolia'),\n",
       " ('2019', 'Magnolia'),\n",
       " ('2019', 'Magnolia'),\n",
       " ('2019', 'Magnolia'),\n",
       " ('2019', 'Magnolia'),\n",
       " ('2019', 'Magnolia'),\n",
       " ('2019', 'Magnolia'),\n",
       " ('2019', 'Magnolia'),\n",
       " ('2019', 'Magnolia'),\n",
       " ('2019', 'Magnolia'),\n",
       " ('2019', 'Magnolia'),\n",
       " ('2019', 'Magnolia'),\n",
       " ('2019', 'Magnolia'),\n",
       " ('2019', 'Magnolia'),\n",
       " ('2019', 'Magnolia'),\n",
       " ('2019', 'Magnolia'),\n",
       " ('2019', 'Magnolia'),\n",
       " ('2019', 'Magnolia'),\n",
       " ('2019', 'Magnolia'),\n",
       " ('2019', 'Magnolia'),\n",
       " ('2019', 'Magnolia'),\n",
       " ('2019', 'Magnolia'),\n",
       " ('2019', 'Magnolia'),\n",
       " ('2019', 'Magnolia'),\n",
       " ('2019', 'Magnolia'),\n",
       " ('2019', 'Magnolia'),\n",
       " ('2019', 'Magnolia'),\n",
       " ('2019', 'Magnolia'),\n",
       " ('2019', 'Magnolia'),\n",
       " ('2019', 'Magnolia'),\n",
       " ('2019', 'Malus'),\n",
       " ('2019', 'Malus'),\n",
       " ('2019', 'Prunus'),\n",
       " ('2019', 'Tilia'),\n",
       " ('2019', 'Pinus'),\n",
       " ('2019', 'Pinus'),\n",
       " ('2019', 'Alnus'),\n",
       " ('2019', 'Koelreuteria'),\n",
       " ('2019', 'Euodia'),\n",
       " ('2019', 'Prunus'),\n",
       " ('2019', 'Prunus'),\n",
       " ('2019', 'Acer'),\n",
       " ('2019', 'Pyrus'),\n",
       " ('2019', 'Quercus'),\n",
       " ('2019', 'Quercus'),\n",
       " ('2019', 'Quercus'),\n",
       " ('2019', 'Pyrus'),\n",
       " ('2019', 'Pyrus'),\n",
       " ('2019', 'Pyrus'),\n",
       " ('2019', 'Malus'),\n",
       " ('2019', 'Malus'),\n",
       " ('2019', 'Malus'),\n",
       " ('2019', 'Malus'),\n",
       " ('2019', 'Malus'),\n",
       " ('2019', 'Malus'),\n",
       " ('2019', 'Pyrus'),\n",
       " ('2019', 'Prunus'),\n",
       " ('2019', 'Prunus'),\n",
       " ('2019', 'Pyrus'),\n",
       " ('2019', 'Pyrus'),\n",
       " ('2019', 'Prunus'),\n",
       " ('2019', 'Ostrya'),\n",
       " ('2019', 'Zelkova'),\n",
       " ('2019', 'Ostrya'),\n",
       " ('2019', 'Zelkova'),\n",
       " ('2019', 'Ostrya'),\n",
       " ('2019', 'Zelkova'),\n",
       " ('2019', 'Ostrya'),\n",
       " ('2019', 'Magnolia'),\n",
       " ('2019', 'Phellodendron'),\n",
       " ('2019', 'Magnolia'),\n",
       " ('2018', 'Sophora'),\n",
       " ('2018', 'Sophora'),\n",
       " ('2018', 'Sophora'),\n",
       " ('2018', 'Sophora'),\n",
       " ('2018', 'Magnolia'),\n",
       " ('2018', 'Magnolia'),\n",
       " ('2018', 'Magnolia'),\n",
       " ('2018', 'Magnolia'),\n",
       " ('2018', 'Magnolia'),\n",
       " ('2018', 'Magnolia'),\n",
       " ('2018', 'Magnolia'),\n",
       " ('2018', 'Magnolia'),\n",
       " ('2018', 'Magnolia'),\n",
       " ('2018', 'Magnolia'),\n",
       " ('2018', 'Magnolia'),\n",
       " ('2018', 'Magnolia'),\n",
       " ('2018', 'Magnolia'),\n",
       " ('2018', 'Pyrus'),\n",
       " ('2018', 'Pyrus'),\n",
       " ('2018', 'Pyrus'),\n",
       " ('2018', 'Quercus'),\n",
       " ('2018', 'Acer'),\n",
       " ('2018', 'Acer'),\n",
       " ('2018', 'Quercus'),\n",
       " ('2018', 'Quercus'),\n",
       " ('2018', 'Quercus'),\n",
       " ('2018', 'Prunus'),\n",
       " ('2018', 'Prunus'),\n",
       " ('2018', 'Zelkova'),\n",
       " ('2018', 'Zelkova'),\n",
       " ('2018', 'Zelkova'),\n",
       " ('2018', 'Acer'),\n",
       " ('2018', 'Malus'),\n",
       " ('2018', 'Malus'),\n",
       " ('2018', 'Malus'),\n",
       " ('2018', 'Malus'),\n",
       " ('2018', 'Prunus'),\n",
       " ('2018', 'Prunus'),\n",
       " ('2018', 'Prunus'),\n",
       " ('2018', 'Prunus'),\n",
       " ('2018', 'Prunus'),\n",
       " ('2018', 'Malus'),\n",
       " ('2018', 'Ulmus'),\n",
       " ('2018', 'Pterocarya'),\n",
       " ('2018', 'Alnus'),\n",
       " ('2018', 'Ulmus'),\n",
       " ('2018', 'Quercus'),\n",
       " ('2018', 'Quercus'),\n",
       " ('2018', 'Pterocarya'),\n",
       " ('2018', 'Acer'),\n",
       " ('2018', 'Acer'),\n",
       " ('2018', 'Ulmus'),\n",
       " ('2018', 'Ulmus'),\n",
       " ('2018', 'Alnus'),\n",
       " ('2018', 'Celtis'),\n",
       " ('2018', 'Acacia'),\n",
       " ('2018', ''),\n",
       " ('2018', ''),\n",
       " ('2018', 'Cercis'),\n",
       " ('2018', 'Amélanchier'),\n",
       " ('2018', 'Quercus'),\n",
       " ('2018', 'Amélanchier'),\n",
       " ('2018', 'Amélanchier'),\n",
       " ('2018', 'Cercis'),\n",
       " ('2018', 'Acer'),\n",
       " ('2018', 'Quercus'),\n",
       " ('2018', 'Celtis'),\n",
       " ('2018', 'Quercus'),\n",
       " ('2018', 'Quercus'),\n",
       " ('2018', 'Celtis'),\n",
       " ('2018', 'Celtis'),\n",
       " ('2018', 'Quercus'),\n",
       " ('2018', 'Gleditsia'),\n",
       " ('2018', 'Fraxinus'),\n",
       " ('2018', 'Quercus'),\n",
       " ('2018', 'Quercus'),\n",
       " ('2018', 'Quercus'),\n",
       " ('2018', 'Prunus'),\n",
       " ('2018', 'Prunus'),\n",
       " ('2018', 'Prunus'),\n",
       " ('2018', 'Prunus'),\n",
       " ('2018', 'Prunus'),\n",
       " ('2018', 'Crataegus'),\n",
       " ('2018', 'Celtis'),\n",
       " ('2018', 'Celtis'),\n",
       " ('2018', 'Celtis'),\n",
       " ('2018', 'Celtis'),\n",
       " ('2018', 'Celtis'),\n",
       " ('2018', 'Celtis'),\n",
       " ('2018', 'Quercus'),\n",
       " ('2018', 'Zelkova'),\n",
       " ('2018', 'Zelkova'),\n",
       " ('2018', 'Zelkova'),\n",
       " ('2018', 'Zelkova'),\n",
       " ('2018', 'Zelkova'),\n",
       " ('2018', 'Zelkova'),\n",
       " ('2018', 'Zelkova'),\n",
       " ('2018', 'Zelkova'),\n",
       " ('2018', 'Zelkova'),\n",
       " ('2018', 'Pyrus'),\n",
       " ('2018', 'Pyrus'),\n",
       " ('2018', 'Pyrus'),\n",
       " ('2018', 'Pyrus'),\n",
       " ('2018', 'Acer'),\n",
       " ('2018', 'Metasequoia'),\n",
       " ('2018', 'Metasequoia'),\n",
       " ('2018', 'Ulmus'),\n",
       " ('2018', 'Quercus'),\n",
       " ('2018', 'Quercus'),\n",
       " ('2018', 'Quercus'),\n",
       " ('2018', 'Gleditsia'),\n",
       " ('2018', 'Maclura'),\n",
       " ('2018', 'Fagus'),\n",
       " ('2018', 'Taxodium'),\n",
       " ('2018', 'Quercus'),\n",
       " ('2018', 'Acer'),\n",
       " ('2018', 'Celtis'),\n",
       " ('2018', 'Celtis'),\n",
       " ('2018', 'Celtis'),\n",
       " ('2018', 'Celtis'),\n",
       " ('2018', 'Celtis'),\n",
       " ('2018', 'Alnus'),\n",
       " ('2018', 'Alnus'),\n",
       " ('2018', 'Alnus'),\n",
       " ('2018', 'Alnus'),\n",
       " ('2018', 'Malus'),\n",
       " ('2018', 'Prunus'),\n",
       " ('2018', 'Prunus'),\n",
       " ('2018', 'Prunus'),\n",
       " ('2018', 'Prunus'),\n",
       " ('2018', 'Prunus'),\n",
       " ('2018', 'Magnolia'),\n",
       " ('2018', 'Gleditsia'),\n",
       " ('2018', 'Gleditsia'),\n",
       " ('2018', 'Malus'),\n",
       " ('2018', 'Quercus'),\n",
       " ('2018', 'Acer'),\n",
       " ('2018', 'Acer'),\n",
       " ('2018', 'Gleditsia'),\n",
       " ('2018', 'Alnus'),\n",
       " ('2018', 'Fraxinus'),\n",
       " ('2018', 'Fraxinus'),\n",
       " ('2018', 'Fraxinus'),\n",
       " ('2018', 'Lagerstroemia'),\n",
       " ('2018', 'Lagerstroemia'),\n",
       " ('2018', 'Ulmus'),\n",
       " ('2018', 'Ulmus'),\n",
       " ('2018', 'Ulmus'),\n",
       " ('2018', 'Lagerstroemia'),\n",
       " ('2018', 'Quercus'),\n",
       " ('2018', 'Phellodendron'),\n",
       " ('2018', 'Pyrus'),\n",
       " ('2018', 'Pyrus'),\n",
       " ('2018', 'Liquidambar'),\n",
       " ('2018', 'Liquidambar'),\n",
       " ('2018', 'Pteroceltis'),\n",
       " ('2018', 'Morus'),\n",
       " ('2018', 'Malus'),\n",
       " ('2018', 'Tilia'),\n",
       " ('2018', 'Alnus'),\n",
       " ('2018', 'Crataegus'),\n",
       " ('2018', 'Crataegus'),\n",
       " ('2018', 'Crataegus'),\n",
       " ('2018', 'Crataegus'),\n",
       " ('2018', 'Acer'),\n",
       " ('2018', 'Alnus'),\n",
       " ('2018', 'Acer'),\n",
       " ('2018', 'Prunus'),\n",
       " ('2018', 'Quercus'),\n",
       " ('2018', 'Ginkgo'),\n",
       " ('2018', 'Platanus'),\n",
       " ('2018', 'Acer'),\n",
       " ('2018', 'Acer'),\n",
       " ('2018', 'Quercus'),\n",
       " ('2018', 'Zelkova'),\n",
       " ('2018', 'Zelkova'),\n",
       " ('2018', 'Prunus'),\n",
       " ('2018', 'Prunus'),\n",
       " ('2018', 'Pyrus'),\n",
       " ('2018', 'Malus'),\n",
       " ('2018', 'Prunus'),\n",
       " ('2018', 'Prunus'),\n",
       " ('2018', 'Corylus'),\n",
       " ('2018', 'Prunus'),\n",
       " ('2018', 'Prunus'),\n",
       " ('2018', 'Prunus'),\n",
       " ('2018', 'Prunus'),\n",
       " ('2018', 'Prunus'),\n",
       " ('2018', 'Cydonia'),\n",
       " ('2018', 'Diospyros'),\n",
       " ('2018', 'Prunus'),\n",
       " ('2018', 'Prunus'),\n",
       " ('2018', 'Prunus'),\n",
       " ('2018', 'Pyrus'),\n",
       " ('2018', 'Punica'),\n",
       " ('2018', 'Mespilus'),\n",
       " ('2018', 'Ficus'),\n",
       " ('2018', 'Amélanchier'),\n",
       " ('2018', 'Amélanchier'),\n",
       " ('2018', 'Ficus'),\n",
       " ('2018', 'Corylus'),\n",
       " ('2018', 'Malus'),\n",
       " ('2018', 'Gleditsia'),\n",
       " ('2018', 'Zelkova'),\n",
       " ('2018', 'Gleditsia'),\n",
       " ('2018', 'Gleditsia'),\n",
       " ('2018', 'Gleditsia'),\n",
       " ('2018', 'Koelreuteria'),\n",
       " ('2018', 'Koelreuteria'),\n",
       " ('2018', 'Koelreuteria'),\n",
       " ('2018', 'Davidia'),\n",
       " ('2018', 'Pistacia'),\n",
       " ('2018', 'Ficus'),\n",
       " ('2018', 'Diospyros'),\n",
       " ('2018', 'Alnus'),\n",
       " ('2018', 'Lagerstroemia'),\n",
       " ('2018', 'Malus'),\n",
       " ('2018', 'Quercus'),\n",
       " ('2018', 'Metasequoia'),\n",
       " ('2018', 'Liquidambar'),\n",
       " ('2018', 'Liquidambar'),\n",
       " ('2018', 'Prunus'),\n",
       " ('2018', 'Pistacia'),\n",
       " ('2018', 'Quercus'),\n",
       " ('2018', 'Morus'),\n",
       " ('2018', 'Pterocarya'),\n",
       " ('2018', 'Carya'),\n",
       " ('2018', 'Carya'),\n",
       " ('2018', 'Carya'),\n",
       " ('2018', 'Salix'),\n",
       " ('2018', 'Prunus'),\n",
       " ('2018', 'Cedrela'),\n",
       " ('2018', 'Halesia'),\n",
       " ('2018', 'Halesia'),\n",
       " ('2018', 'Betula'),\n",
       " ('2018', 'Betula'),\n",
       " ('2018', 'Betula'),\n",
       " ('2018', 'Acer'),\n",
       " ('2018', 'Acer'),\n",
       " ('2018', 'Acer'),\n",
       " ('2018', 'Acer'),\n",
       " ('2018', 'Sorbus'),\n",
       " ('2018', 'Sorbus'),\n",
       " ('2018', 'Quercus'),\n",
       " ('2018', 'Quercus'),\n",
       " ('2018', 'Quercus'),\n",
       " ('2018', 'Prunus'),\n",
       " ('2018', 'Prunus'),\n",
       " ('2018', 'Zelkova'),\n",
       " ('2018', 'Zelkova'),\n",
       " ('2018', 'Zelkova'),\n",
       " ('2018', 'Magnolia'),\n",
       " ('2018', 'Magnolia'),\n",
       " ('2018', 'Magnolia'),\n",
       " ('2018', 'Magnolia'),\n",
       " ('2018', 'Magnolia'),\n",
       " ('2018', 'Prunus'),\n",
       " ('2018', 'Prunus'),\n",
       " ('2018', 'Prunus'),\n",
       " ('2018', 'Prunus'),\n",
       " ('2018', 'Prunus'),\n",
       " ('2018', 'Acer'),\n",
       " ('2018', 'Acer'),\n",
       " ('2018', 'Acer'),\n",
       " ('2018', 'Prunus'),\n",
       " ('2018', 'Prunus'),\n",
       " ('2018', 'Prunus'),\n",
       " ('2018', 'Prunus'),\n",
       " ('2018', 'Prunus'),\n",
       " ('2018', 'Malus'),\n",
       " ('2018', 'Prunus'),\n",
       " ('2018', 'Prunus'),\n",
       " ('2018', 'Prunus'),\n",
       " ('2018', 'Magnolia'),\n",
       " ('2018', 'Gleditsia'),\n",
       " ('2018', 'Zelkova'),\n",
       " ('2018', 'Acer'),\n",
       " ('2018', 'Magnolia'),\n",
       " ('2018', 'Cercis'),\n",
       " ('2018', 'Chionanthus'),\n",
       " ('2018', 'Pyrus'),\n",
       " ('2018', 'Alnus'),\n",
       " ('2018', 'Quercus'),\n",
       " ('2018', 'Quercus'),\n",
       " ('2018', 'Quercus'),\n",
       " ('2018', 'Quercus'),\n",
       " ('2018', 'Ligustrum'),\n",
       " ('2018', 'Sambucus'),\n",
       " ('2018', 'Prunus'),\n",
       " ('2018', 'Quercus'),\n",
       " ('2018', 'Carpinus'),\n",
       " ('2018', 'Ilex'),\n",
       " ('2018', 'Crataegus'),\n",
       " ('2018', 'Corylus'),\n",
       " ('2018', 'Cedrus'),\n",
       " ('2018', 'Sorbus'),\n",
       " ('2018', 'Acer'),\n",
       " ('2018', 'Acer'),\n",
       " ('2018', 'Tilia'),\n",
       " ('2018', 'Tilia'),\n",
       " ('2018', 'Quercus'),\n",
       " ('2018', 'Liriodendron'),\n",
       " ('2018', 'Prunus'),\n",
       " ('2018', 'Magnolia'),\n",
       " ('2018', 'Cercis'),\n",
       " ('2018', 'Acer'),\n",
       " ('2018', 'Celtis'),\n",
       " ('2018', 'Celtis'),\n",
       " ('2018', 'Celtis'),\n",
       " ('2018', 'Celtis'),\n",
       " ('2018', 'Celtis'),\n",
       " ('2018', 'Celtis'),\n",
       " ('2018', 'Celtis'),\n",
       " ('2018', 'Celtis'),\n",
       " ('2018', 'Idesia'),\n",
       " ('2018', 'Idesia'),\n",
       " ('2018', 'Idesia'),\n",
       " ('2018', 'Idesia'),\n",
       " ('2018', 'Idesia'),\n",
       " ('2018', 'Tilia'),\n",
       " ('2018', 'Tilia'),\n",
       " ('2018', 'Acer'),\n",
       " ('2018', 'Acer'),\n",
       " ('2018', 'Prunus'),\n",
       " ('2018', 'Malus'),\n",
       " ('2018', 'Prunus'),\n",
       " ('2018', 'Prunus'),\n",
       " ('2018', 'Pyrus'),\n",
       " ('2018', 'Prunus'),\n",
       " ('2018', 'Pyrus'),\n",
       " ('2018', 'Malus'),\n",
       " ('2018', 'Pinus'),\n",
       " ('2018', 'Cedrus'),\n",
       " ('2018', 'Pinus'),\n",
       " ('2018', 'Hibiscus'),\n",
       " ('2018', 'Prunus'),\n",
       " ('2018', 'Hibiscus'),\n",
       " ('2018', 'Hibiscus'),\n",
       " ('2018', 'Prunus'),\n",
       " ('2018', 'Prunus'),\n",
       " ('2018', 'Prunus'),\n",
       " ('2018', 'Malus'),\n",
       " ('2018', 'Pyrus'),\n",
       " ('2018', 'Pyrus'),\n",
       " ('2018', 'Malus'),\n",
       " ('2018', 'Malus'),\n",
       " ('2018', 'Prunus'),\n",
       " ('2018', 'Malus'),\n",
       " ('2018', 'Malus'),\n",
       " ('2018', 'Prunus'),\n",
       " ('2018', 'Prunus'),\n",
       " ('2018', 'Prunus'),\n",
       " ('2018', 'Prunus'),\n",
       " ('2018', 'Prunus'),\n",
       " ('2018', 'Fagus'),\n",
       " ('2018', 'Fraxinus'),\n",
       " ('2018', 'Malus'),\n",
       " ('2018', 'Liriodendron'),\n",
       " ('2018', 'Liquidambar'),\n",
       " ('2018', 'Tilia'),\n",
       " ('2018', 'Tilia'),\n",
       " ('2018', 'Prunus'),\n",
       " ('2018', 'Prunus'),\n",
       " ('2018', 'Prunus'),\n",
       " ('2018', 'Malus'),\n",
       " ('2018', 'Malus'),\n",
       " ('2018', 'Ficus'),\n",
       " ('2018', 'Cladastris'),\n",
       " ('2018', 'Euodia'),\n",
       " ('2018', 'Cladastris'),\n",
       " ('2018', 'Acer'),\n",
       " ('2018', 'Magnolia'),\n",
       " ('2018', 'Magnolia'),\n",
       " ('2018', 'Malus'),\n",
       " ('2018', 'Malus'),\n",
       " ('2018', 'Malus'),\n",
       " ('2018', 'Acer'),\n",
       " ('2018', 'Fagus'),\n",
       " ('2018', 'Malus'),\n",
       " ('2018', 'Malus'),\n",
       " ('2018', 'Malus'),\n",
       " ('2018', 'Prunus'),\n",
       " ('2018', 'Prunus'),\n",
       " ('2018', 'Prunus'),\n",
       " ('2018', 'Pyrus'),\n",
       " ('2018', 'Pyrus'),\n",
       " ('2018', 'Prunus'),\n",
       " ('2018', 'Chionanthus'),\n",
       " ('2018', 'Chionanthus'),\n",
       " ('2018', 'Chionanthus'),\n",
       " ('2018', 'Pyrus'),\n",
       " ('2018', 'Pyrus'),\n",
       " ('2018', 'Pyrus'),\n",
       " ('2018', 'Pyrus'),\n",
       " ('2018', 'Pyrus'),\n",
       " ('2018', 'Gleditsia'),\n",
       " ('2018', 'Alnus'),\n",
       " ('2018', 'Tilia'),\n",
       " ('2018', 'Acer'),\n",
       " ('2018', 'Acer'),\n",
       " ('2018', 'Quercus'),\n",
       " ('2018', 'Acer'),\n",
       " ('2018', 'Acer'),\n",
       " ('2018', 'Acer'),\n",
       " ('2018', 'Celtis'),\n",
       " ('2018', 'Acer'),\n",
       " ('2018', 'Acer'),\n",
       " ('2018', 'Acer'),\n",
       " ('2018', 'Fagus'),\n",
       " ('2018', 'Pyrus'),\n",
       " ('2018', 'Pyrus'),\n",
       " ('2018', 'Quercus'),\n",
       " ('2018', 'Sophora'),\n",
       " ('2018', 'Sophora'),\n",
       " ('2018', 'Prunus'),\n",
       " ('2018', 'Davidia'),\n",
       " ('2018', 'Fraxinus'),\n",
       " ('2018', 'Fraxinus'),\n",
       " ('2018', 'Fraxinus'),\n",
       " ('2018', 'Fraxinus'),\n",
       " ('2018', 'Fraxinus'),\n",
       " ('2018', 'Fraxinus'),\n",
       " ('2018', 'Ginkgo'),\n",
       " ('2018', 'Diospyros'),\n",
       " ('2018', 'Cydonia'),\n",
       " ('2018', 'Cydonia'),\n",
       " ('2018', 'Prunus'),\n",
       " ('2018', 'Prunus'),\n",
       " ('2018', 'Sambucus'),\n",
       " ('2018', 'Salix'),\n",
       " ('2018', 'Pyrus'),\n",
       " ('2018', 'Malus'),\n",
       " ('2018', 'Sambucus'),\n",
       " ('2018', 'Malus'),\n",
       " ('2018', 'Pyrus'),\n",
       " ('2018', 'Juglans'),\n",
       " ('2018', 'Liquidambar'),\n",
       " ('2018', 'Chionanthus'),\n",
       " ('2018', 'Broussonetia'),\n",
       " ('2018', 'Broussonetia'),\n",
       " ('2018', 'Broussonetia'),\n",
       " ('2018', 'Acer'),\n",
       " ('2018', 'Fagus'),\n",
       " ('2018', 'Quercus'),\n",
       " ('2018', 'Fagus'),\n",
       " ('2018', 'Fagus'),\n",
       " ('2018', 'Acer'),\n",
       " ('2018', 'Acer'),\n",
       " ('2018', 'Acer'),\n",
       " ('2018', 'Acer'),\n",
       " ('2018', 'Acer'),\n",
       " ('2018', 'Acer'),\n",
       " ('2018', 'Acer'),\n",
       " ('2018', 'Davidia'),\n",
       " ('2018', 'Parrotia'),\n",
       " ('2018', 'Quercus'),\n",
       " ('2018', 'Quercus'),\n",
       " ('2018', 'Quercus'),\n",
       " ('2018', 'Quercus'),\n",
       " ('2018', 'Prunus'),\n",
       " ('2018', 'Magnolia'),\n",
       " ('2018', 'Cladastris'),\n",
       " ('2018', 'Prunus'),\n",
       " ('2018', 'Prunus'),\n",
       " ('2018', 'Prunus'),\n",
       " ('2018', 'Prunus'),\n",
       " ('2018', 'Prunus'),\n",
       " ('2018', 'Malus'),\n",
       " ('2018', 'Prunus'),\n",
       " ('2018', 'Prunus'),\n",
       " ('2018', 'Fraxinus'),\n",
       " ('2018', 'Fagus'),\n",
       " ('2018', 'Fraxinus'),\n",
       " ('2018', 'Pterocarya'),\n",
       " ('2018', 'Liquidambar'),\n",
       " ('2018', 'Acer'),\n",
       " ('2018', 'Liquidambar'),\n",
       " ('2018', 'Acer'),\n",
       " ('2018', 'Acer'),\n",
       " ('2018', 'Cydonia'),\n",
       " ('2018', 'Pyrus'),\n",
       " ('2018', 'Malus'),\n",
       " ('2018', 'Malus'),\n",
       " ('2018', 'Diospyros'),\n",
       " ('2018', 'Prunus'),\n",
       " ('2018', 'Pyrus'),\n",
       " ('2018', 'Malus'),\n",
       " ('2018', 'Prunus'),\n",
       " ('2018', 'Quercus'),\n",
       " ('2018', 'Quercus'),\n",
       " ('2018', 'Quercus'),\n",
       " ('2018', 'Quercus'),\n",
       " ('2018', 'Quercus'),\n",
       " ('2018', 'Ilex'),\n",
       " ('2018', 'Zelkova'),\n",
       " ('2018', 'Pyrus'),\n",
       " ('2018', 'Zelkova'),\n",
       " ('2018', 'Zelkova'),\n",
       " ('2018', 'Pterocarya'),\n",
       " ('2018', 'Chionanthus'),\n",
       " ('2018', 'Calocedrus'),\n",
       " ('2018', 'Calocedrus'),\n",
       " ('2018', 'Calocedrus'),\n",
       " ('2018', 'Pyrus'),\n",
       " ('2018', 'Quercus'),\n",
       " ('2018', 'Quercus'),\n",
       " ('2018', 'Fagus'),\n",
       " ('2018', 'Fagus'),\n",
       " ('2018', 'Lagerstroemia'),\n",
       " ('2018', 'Trachycarpus'),\n",
       " ('2018', 'Morus'),\n",
       " ('2018', 'Tilia'),\n",
       " ('2018', 'Fraxinus'),\n",
       " ('2018', 'Fraxinus'),\n",
       " ('2018', 'Fraxinus'),\n",
       " ('2018', 'Fraxinus'),\n",
       " ('2018', 'Gymnocladus'),\n",
       " ('2018', 'Cedrela'),\n",
       " ('2018', 'Pinus'),\n",
       " ('2018', 'Pinus'),\n",
       " ('2018', 'Pyrus'),\n",
       " ('2018', 'Carpinus'),\n",
       " ('2018', 'Carpinus'),\n",
       " ('2018', 'Carpinus'),\n",
       " ('2018', 'Carpinus'),\n",
       " ('2018', 'Carpinus'),\n",
       " ('2018', 'Carpinus'),\n",
       " ('2018', 'Carpinus'),\n",
       " ('2018', 'Carpinus'),\n",
       " ('2018', 'Carpinus'),\n",
       " ('2018', 'Carpinus'),\n",
       " ('2018', 'Carpinus'),\n",
       " ('2018', 'Carpinus'),\n",
       " ('2018', 'Carpinus'),\n",
       " ('2018', 'Carpinus'),\n",
       " ('2018', 'Carpinus'),\n",
       " ('2018', 'Carpinus'),\n",
       " ('2018', 'Carpinus'),\n",
       " ('2018', 'Carpinus'),\n",
       " ('2018', 'Carpinus'),\n",
       " ('2018', 'Carpinus'),\n",
       " ('2018', 'Carpinus'),\n",
       " ('2018', 'Carpinus'),\n",
       " ('2018', 'Carpinus'),\n",
       " ('2018', 'Carpinus'),\n",
       " ('2018', 'Carpinus'),\n",
       " ('2018', 'Carpinus'),\n",
       " ('2018', 'Carpinus'),\n",
       " ('2018', 'Carpinus'),\n",
       " ('2018', 'Carpinus'),\n",
       " ('2018', 'Carpinus'),\n",
       " ('2018', 'Carpinus'),\n",
       " ('2018', 'Carpinus'),\n",
       " ('2018', 'Carpinus'),\n",
       " ('2018', 'Carpinus'),\n",
       " ('2018', 'Carpinus'),\n",
       " ('2018', 'Carpinus'),\n",
       " ('2018', 'Carpinus'),\n",
       " ('2018', 'Carpinus'),\n",
       " ('2018', 'Carpinus'),\n",
       " ('2018', 'Carpinus'),\n",
       " ('2018', 'Carpinus'),\n",
       " ('2018', 'Acer'),\n",
       " ('2018', 'Taxus'),\n",
       " ('2018', 'Carpinus'),\n",
       " ('2018', 'Pyrus'),\n",
       " ('2018', 'Prunus'),\n",
       " ('2018', 'Prunus'),\n",
       " ('2018', 'Malus'),\n",
       " ('2018', 'Pyrus'),\n",
       " ('2018', 'Prunus'),\n",
       " ('2018', 'Prunus'),\n",
       " ('2018', 'Prunus'),\n",
       " ('2018', 'Quercus'),\n",
       " ('2018', 'Taxus'),\n",
       " ('2018', 'Carpinus'),\n",
       " ('2018', 'Taxus'),\n",
       " ('2018', 'Acer'),\n",
       " ('2018', 'Acer'),\n",
       " ('2018', 'Carpinus'),\n",
       " ('2018', 'Quercus'),\n",
       " ('2018', 'Taxus'),\n",
       " ('2018', 'Acer'),\n",
       " ('2018', 'Quercus'),\n",
       " ('2018', 'Quercus'),\n",
       " ('2018', 'Carpinus'),\n",
       " ('2018', 'Taxus'),\n",
       " ('2018', 'Acer'),\n",
       " ('2018', 'Amélanchier'),\n",
       " ('2018', 'Gleditsia'),\n",
       " ('2018', 'Ptelea'),\n",
       " ('2018', 'Mespilus'),\n",
       " ('2018', 'Malus'),\n",
       " ('2018', 'Prunus'),\n",
       " ('2018', 'Prunus'),\n",
       " ('2018', 'Prunus'),\n",
       " ('2018', 'Gleditsia'),\n",
       " ('2018', 'Pyrus'),\n",
       " ('2018', 'Prunus'),\n",
       " ('2018', 'Prunus'),\n",
       " ('2018', 'Quercus'),\n",
       " ('2018', 'Liquidambar'),\n",
       " ('2018', 'Liquidambar'),\n",
       " ('2018', 'Quercus'),\n",
       " ('2018', 'Quercus'),\n",
       " ('2018', 'Quercus'),\n",
       " ('2018', 'Pyrus'),\n",
       " ('2018', 'Acer'),\n",
       " ('2018', 'Fraxinus'),\n",
       " ('2018', 'Fraxinus'),\n",
       " ('2018', 'Fraxinus'),\n",
       " ('2018', 'Maclura'),\n",
       " ('2018', 'Fraxinus'),\n",
       " ('2018', 'Cedrus'),\n",
       " ('2018', 'Sorbus'),\n",
       " ('2018', 'Sorbus'),\n",
       " ('2018', 'Sorbus'),\n",
       " ('2018', 'Fraxinus'),\n",
       " ('2018', 'Fraxinus'),\n",
       " ('2018', 'Celtis'),\n",
       " ('2018', 'Fraxinus'),\n",
       " ('2018', 'Maclura'),\n",
       " ('2018', 'Pyrus'),\n",
       " ('2018', 'Pyrus'),\n",
       " ('2018', 'Pyrus'),\n",
       " ('2018', 'Fraxinus'),\n",
       " ('2018', 'Fraxinus'),\n",
       " ('2018', 'Fraxinus'),\n",
       " ('2018', 'Taxodium'),\n",
       " ('2018', 'Fraxinus'),\n",
       " ('2018', 'Fraxinus'),\n",
       " ('2018', 'Quercus'),\n",
       " ('2018', 'Quercus'),\n",
       " ('2018', 'Quercus'),\n",
       " ('2018', 'Quercus'),\n",
       " ('2018', 'Alnus'),\n",
       " ('2018', 'Alnus'),\n",
       " ('2018', 'Alnus'),\n",
       " ('2018', 'Zelkova'),\n",
       " ('2018', 'Zelkova'),\n",
       " ('2018', 'Ficus'),\n",
       " ('2018', 'Prunus'),\n",
       " ('2018', 'Prunus'),\n",
       " ('2018', 'Prunus'),\n",
       " ('2018', 'Liquidambar'),\n",
       " ('2018', 'Acer'),\n",
       " ('2018', 'Acer'),\n",
       " ('2018', 'Paulownia'),\n",
       " ('2018', 'Paulownia'),\n",
       " ('2018', 'Paulownia'),\n",
       " ('2018', 'Alnus'),\n",
       " ('2018', 'Tilia'),\n",
       " ('2018', 'Catalpa'),\n",
       " ('2018', 'Catalpa'),\n",
       " ('2018', 'Prunus'),\n",
       " ('2018', 'Prunus'),\n",
       " ('2018', 'Prunus'),\n",
       " ('2018', 'Lagerstroemia'),\n",
       " ('2018', 'Gleditsia'),\n",
       " ('2018', 'Acer'),\n",
       " ('2018', 'Gleditsia'),\n",
       " ('2018', 'Malus'),\n",
       " ('2018', 'Acer'),\n",
       " ('2018', 'Acer'),\n",
       " ('2018', 'Acer'),\n",
       " ('2018', 'Sophora'),\n",
       " ('2018', 'Acer'),\n",
       " ('2018', 'Acer'),\n",
       " ('2018', 'Olea'),\n",
       " ('2018', 'Prunus'),\n",
       " ('2018', 'Prunus'),\n",
       " ('2018', 'Prunus'),\n",
       " ('2018', 'Diospyros'),\n",
       " ('2018', 'Prunus'),\n",
       " ('2018', 'Prunus'),\n",
       " ('2018', 'Prunus'),\n",
       " ('2018', 'Prunus'),\n",
       " ('2018', 'Prunus'),\n",
       " ('2018', ''),\n",
       " ('2018', 'Fagus'),\n",
       " ('2018', 'Prunus'),\n",
       " ('2018', 'Prunus'),\n",
       " ('2018', 'Platanus'),\n",
       " ('2018', 'Platanus'),\n",
       " ('2018', 'Platanus'),\n",
       " ('2018', 'Platanus'),\n",
       " ('2018', 'Platanus'),\n",
       " ('2018', 'Platanus'),\n",
       " ('2018', 'Platanus'),\n",
       " ('2018', 'Platanus'),\n",
       " ('2018', 'Platanus'),\n",
       " ('2018', 'Platanus'),\n",
       " ('2018', 'Platanus'),\n",
       " ('2018', 'Pyrus'),\n",
       " ('2018', 'Halesia'),\n",
       " ('2018', 'Prunus'),\n",
       " ('2018', 'Prunus'),\n",
       " ('2018', 'Malus'),\n",
       " ('2018', 'Amélanchier'),\n",
       " ('2018', 'Prunus'),\n",
       " ('2018', 'Prunus'),\n",
       " ('2018', 'Prunus'),\n",
       " ('2018', 'Prunus'),\n",
       " ('2018', 'Prunus'),\n",
       " ('2018', 'Prunus'),\n",
       " ('2018', 'Prunus'),\n",
       " ('2018', 'Ligustrum'),\n",
       " ('2018', 'Ligustrum'),\n",
       " ('2018', 'Ligustrum'),\n",
       " ('2018', 'Salix'),\n",
       " ('2018', 'Salix'),\n",
       " ('2018', 'Salix'),\n",
       " ('2018', 'Platanus'),\n",
       " ('2018', 'Platanus'),\n",
       " ('2018', 'Platanus'),\n",
       " ('2018', 'Platanus'),\n",
       " ('2018', 'Platanus'),\n",
       " ('2018', 'Platanus'),\n",
       " ('2018', 'Platanus'),\n",
       " ('2018', 'Platanus'),\n",
       " ('2018', 'Platanus'),\n",
       " ('2018', 'Platanus'),\n",
       " ('2018', 'Acer'),\n",
       " ('2018', 'Acer'),\n",
       " ('2018', 'Acer'),\n",
       " ('2018', 'Acer'),\n",
       " ('2018', 'Acer'),\n",
       " ('2018', 'Juglans'),\n",
       " ('2018', 'Acer'),\n",
       " ('2018', 'Acer'),\n",
       " ('2018', 'Fraxinus'),\n",
       " ('2018', 'Amélanchier'),\n",
       " ('2018', 'Acer'),\n",
       " ('2018', 'Acer'),\n",
       " ('2018', 'Cedrela'),\n",
       " ('2018', 'Salix'),\n",
       " ('2018', 'Salix'),\n",
       " ('2018', 'Salix'),\n",
       " ('2018', 'Salix'),\n",
       " ('2018', 'Salix'),\n",
       " ('2018', 'Salix'),\n",
       " ('2018', 'Salix'),\n",
       " ('2018', 'Malus'),\n",
       " ('2018', 'Pyrus'),\n",
       " ('2018', 'Malus'),\n",
       " ('2018', 'Pyrus'),\n",
       " ('2018', 'Malus'),\n",
       " ('2018', 'Platanus'),\n",
       " ('2018', 'Chionanthus'),\n",
       " ('2018', 'Chionanthus'),\n",
       " ('2018', 'Chionanthus'),\n",
       " ('2018', 'Chionanthus'),\n",
       " ('2018', 'Fagus'),\n",
       " ('2018', 'Fagus'),\n",
       " ('2018', 'Fagus'),\n",
       " ('2018', 'Acer'),\n",
       " ('2018', 'Acer'),\n",
       " ('2018', 'Acer'),\n",
       " ('2018', 'Acer'),\n",
       " ('2018', 'Acer'),\n",
       " ('2018', 'Acer'),\n",
       " ('2018', 'Acer'),\n",
       " ('2018', 'Pyrus'),\n",
       " ('2018', 'Pyrus'),\n",
       " ('2018', 'Pyrus'),\n",
       " ('2018', 'Acer'),\n",
       " ('2018', 'Acer'),\n",
       " ('2018', 'Acer'),\n",
       " ('2018', 'Prunus'),\n",
       " ('2018', 'Magnolia'),\n",
       " ('2018', 'Acer'),\n",
       " ('2018', 'Zelkova'),\n",
       " ('2018', 'Pteroceltis'),\n",
       " ('2018', 'Quercus'),\n",
       " ('2018', 'Magnolia'),\n",
       " ('2017', 'Tilia'),\n",
       " ('2017', 'Tilia'),\n",
       " ('2017', 'Tilia'),\n",
       " ('2017', 'Quercus'),\n",
       " ('2017', ''),\n",
       " ('2017', 'Chamaecyparis'),\n",
       " ('2017', 'Chamaecyparis'),\n",
       " ('2017', 'Zelkova'),\n",
       " ('2017', 'Zelkova'),\n",
       " ('2017', 'Zelkova'),\n",
       " ('2017', 'Zelkova'),\n",
       " ('2017', 'Zelkova'),\n",
       " ('2017', 'Zelkova'),\n",
       " ('2017', 'Zelkova'),\n",
       " ('2017', ''),\n",
       " ('2017', 'Pinus'),\n",
       " ('2017', 'Pinus'),\n",
       " ('2017', 'Betula'),\n",
       " ('2017', 'Betula'),\n",
       " ('2017', 'Acer'),\n",
       " ('2017', 'Betula'),\n",
       " ('2017', 'Magnolia'),\n",
       " ('2017', 'Magnolia'),\n",
       " ('2017', 'Magnolia'),\n",
       " ('2017', 'Magnolia'),\n",
       " ('2017', 'Magnolia'),\n",
       " ('2017', 'Magnolia'),\n",
       " ('2017', 'Gleditsia'),\n",
       " ('2017', 'Gleditsia'),\n",
       " ('2017', 'Gleditsia'),\n",
       " ('2017', 'Zelkova'),\n",
       " ...]"
      ]
     },
<<<<<<< HEAD
     "execution_count": 94,
=======
     "execution_count": 91,
>>>>>>> 4950033acc4d6fb6349e454bd663528d5aebb973
     "metadata": {},
     "output_type": "execute_result"
    }
   ],
   "source": [
    "yearBotaList = concat_year_type(colYearTree, colBota)\n",
    "sortedyearBotaList = sort_by_year(yearBotaList)\n",
    "sortedyearBotaList"
   ]
  },
  {
   "cell_type": "markdown",
   "id": "cc8fd13e",
   "metadata": {},
   "source": [
    "## Graphic representation"
   ]
  },
  {
   "cell_type": "code",
<<<<<<< HEAD
   "execution_count": 95,
=======
   "execution_count": 92,
>>>>>>> 4950033acc4d6fb6349e454bd663528d5aebb973
   "id": "62f1784d",
   "metadata": {},
   "outputs": [
    {
     "name": "stdout",
     "output_type": "stream",
     "text": [
      "size year|number : 31620 and size of year|type : 31620\n"
     ]
    }
   ],
   "source": [
    "data = [sortedTreeTupleList, sortedyearBotaList]\n",
    "print(f\"size year|number : {len(sortedyearBotaList)} and size of year|type : {len(sortedyearBotaList)}\")\n"
   ]
  },
  {
   "cell_type": "markdown",
   "id": "dbfdb58f",
   "metadata": {},
   "source": [
    "## Create DataSet"
   ]
  },
  {
   "cell_type": "code",
<<<<<<< HEAD
   "execution_count": 96,
   "id": "e4c1d77c",
   "metadata": {},
   "outputs": [],
   "source": [
    "years = [int(d[0]) for d in sortedTreeTupleList[1:]]\n",
    "number = [d[1] for d in sortedTreeTupleList[1:]]\n",
    "Type = [d[1] for d in sortedyearBotaList[1:]]"
=======
   "execution_count": 109,
   "id": "e4c1d77c",
   "metadata": {},
   "outputs": [
    {
     "data": {
      "text/plain": [
       "<matplotlib.collections.PathCollection at 0x7f91fa3feac0>"
      ]
     },
     "execution_count": 109,
     "metadata": {},
     "output_type": "execute_result"
    },
    {
     "data": {
      "image/png": "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\n",
      "text/plain": [
       "<Figure size 640x480 with 1 Axes>"
      ]
     },
     "metadata": {},
     "output_type": "display_data"
    }
   ],
   "source": [
    "plt.scatter(years, number,  s=30, c=\"green\", marker=\"x\", linewidth=20, alpha=0.5)"
>>>>>>> 4950033acc4d6fb6349e454bd663528d5aebb973
   ]
  },
  {
   "cell_type": "markdown",
   "id": "45077a29",
   "metadata": {},
   "source": [
    "## Add colors to specific point"
   ]
  },
  {
   "cell_type": "code",
<<<<<<< HEAD
   "execution_count": 97,
=======
   "execution_count": 110,
>>>>>>> 4950033acc4d6fb6349e454bd663528d5aebb973
   "id": "a06d25ae",
   "metadata": {},
   "outputs": [
    {
<<<<<<< HEAD
     "name": "stdout",
     "output_type": "stream",
     "text": [
      "['MISSING', 'ESP14073', 'ESP14073', 'VEG', 'VEGETATION', 'ESP01', 'Arbre', 'ESP151', 'Arbre de voirie', 'ESP336', 'R M Gontard angle M Deprez', '2', 'AR14073', 'Prunus', 'serrulata', '', 'Arbre adulte', '', '', '1995', '', '', '', '', '', '', '', '', '', '', 'Grenoble Alpes Métropole', '{\"type\":\"Point\",\"coordinates\":[5.72422659146747,45.1920566916671]}'] was already added...\n",
      "31619 is the last rows of the dataset and should start with 'MISSING' value\n"
     ]
    }
   ],
   "source": [
    "dataset\n",
    "rawData = add_missing_value(dataset)"
=======
     "data": {
      "text/plain": [
       "<matplotlib.collections.PathCollection at 0x7f91f98809d0>"
      ]
     },
     "execution_count": 110,
     "metadata": {},
     "output_type": "execute_result"
    },
    {
     "data": {
      "image/png": "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\n",
      "text/plain": [
       "<Figure size 640x480 with 1 Axes>"
      ]
     },
     "metadata": {},
     "output_type": "display_data"
    }
   ],
   "source": [
    "\n",
    "\n",
    "\n",
    "\n",
    "plt.scatter(years, number,  s=30, c=\"green\", marker=\"x\", linewidth=2, alpha=0.5)"
>>>>>>> 4950033acc4d6fb6349e454bd663528d5aebb973
   ]
  },
  {
   "cell_type": "code",
   "execution_count": 106,
   "id": "3f09b3c1",
   "metadata": {},
   "outputs": [],
   "source": [
    "columnNameDict = get_dict_colName_colNum(rawData)\n",
    "#columnNameDict"
   ]
  },
  {
   "cell_type": "code",
   "execution_count": 107,
   "id": "4dbe8e7a",
   "metadata": {},
   "outputs": [],
   "source": [
    "colAnneePlantation = get_col_values(colName=\"ANNEEDEPLANTATION\", data=rawData)\n",
    "colGenreBota = get_col_values(colName=\"GENRE_BOTA\", data=rawData)"
   ]
  },
  {
   "cell_type": "code",
   "execution_count": 108,
   "id": "0aa67e5c",
   "metadata": {},
   "outputs": [
    {
     "data": {
      "text/plain": [
       "(array([1., 2., 3., 2., 1.]),\n",
       " array([1. , 1.8, 2.6, 3.4, 4.2, 5. ]),\n",
       " <BarContainer object of 5 artists>)"
      ]
     },
     "execution_count": 108,
     "metadata": {},
     "output_type": "execute_result"
    },
    {
     "data": {
      "image/png": "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\n",
      "text/plain": [
       "<Figure size 640x480 with 1 Axes>"
      ]
     },
     "metadata": {},
     "output_type": "display_data"
    }
   ],
   "source": []
  },
  {
   "cell_type": "code",
   "execution_count": null,
   "id": "a2b43243",
   "metadata": {},
   "outputs": [],
   "source": []
  },
  {
   "cell_type": "code",
   "execution_count": null,
   "id": "9b478f7d",
   "metadata": {},
   "outputs": [],
   "source": []
  },
  {
   "cell_type": "code",
   "execution_count": null,
   "id": "e47b2778",
   "metadata": {},
   "outputs": [],
   "source": []
  },
  {
   "cell_type": "code",
   "execution_count": null,
   "id": "bb37e276",
   "metadata": {},
   "outputs": [],
   "source": []
  }
 ],
 "metadata": {
  "kernelspec": {
   "display_name": "Python 3 (ipykernel)",
   "language": "python",
   "name": "python3"
  },
  "language_info": {
   "codemirror_mode": {
    "name": "ipython",
    "version": 3
   },
   "file_extension": ".py",
   "mimetype": "text/x-python",
   "name": "python",
   "nbconvert_exporter": "python",
   "pygments_lexer": "ipython3",
   "version": "3.9.7"
  }
 },
 "nbformat": 4,
 "nbformat_minor": 5
}
