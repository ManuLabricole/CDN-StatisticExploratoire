{
 "cells": [
  {
   "cell_type": "code",
   "execution_count": 628,
   "id": "1c6b2e6f",
   "metadata": {},
   "outputs": [],
   "source": [
    "import csv\n",
    "import pandas as pd\n",
    "import numpy as np\n",
    "import matplotlib.pyplot as plt\n"
   ]
  },
  {
   "cell_type": "markdown",
   "id": "167f3ddf",
   "metadata": {},
   "source": [
    "# Import csv"
   ]
  },
  {
   "cell_type": "markdown",
   "id": "cbe28afd",
   "metadata": {},
   "source": [
    "## Main import"
   ]
  },
  {
   "cell_type": "code",
   "execution_count": 629,
   "id": "e0c6baec",
   "metadata": {},
   "outputs": [],
   "source": [
    "with open('../data/ESP_PUBLIC.IDENTITE_ARBRE.csv', newline='', encoding='utf-8-sig') as csvfile:\n",
    "    # use \",\" separator to generate column value as list element\n",
    "    # cs.reader return a class object of \"_csv.reader\"\n",
    "    dataTemp = csv.reader(csvfile, delimiter=',')\n",
    "    \n",
    "    # Use list() to convert the csv object into a list, of list, depending on how the object is built\n",
    "    # Hard to understand how list(csv_object) behaves \n",
    "    data = list(dataTemp)"
   ]
  },
  {
   "cell_type": "markdown",
   "id": "7b1ba073",
   "metadata": {},
   "source": [
    "## Copy the dataset to advoid re-import"
   ]
  },
  {
   "cell_type": "code",
   "execution_count": 630,
   "id": "2bd28817",
   "metadata": {},
   "outputs": [],
   "source": [
    "dataset = data"
   ]
  },
  {
   "cell_type": "markdown",
   "id": "ef74e503",
   "metadata": {},
   "source": [
    "## Correct last row\n"
   ]
  },
  {
   "cell_type": "code",
   "execution_count": 631,
   "id": "3452634e",
   "metadata": {},
   "outputs": [
    {
     "name": "stdout",
     "output_type": "stream",
     "text": [
      "['MISSING', 'ESP14073', 'ESP14073', 'VEG', 'VEGETATION', 'ESP01', 'Arbre', 'ESP151', 'Arbre de voirie', 'ESP336', 'R M Gontard angle M Deprez', '2', 'AR14073', 'Prunus', 'serrulata', '', 'Arbre adulte', '', '', '1995', '', '', '', '', '', '', '', '', '', '', 'Grenoble Alpes Métropole', '{\"type\":\"Point\",\"coordinates\":[5.72422659146747,45.1920566916671]}']\n"
     ]
    }
   ],
   "source": [
    "def add_missing_value(dataset:list) -> list:\n",
    "    datasetCopy = dataset\n",
    "    \n",
    "    if len(datasetCopy[len(datasetCopy)-1]) == 31:\n",
    "    \n",
    "        datasetCopy[len(datasetCopy)-1].insert(0, \"MISSING\")\n",
    "    \n",
    "    return datasetCopy\n",
    "print(add_missing_value(dataset)[len(dataset)-1])"
   ]
  },
  {
   "cell_type": "markdown",
   "id": "4db44d8d",
   "metadata": {},
   "source": [
    "## Utils"
   ]
  },
  {
   "cell_type": "code",
   "execution_count": 632,
   "id": "5769eae9",
   "metadata": {},
   "outputs": [],
   "source": [
    "def get_header(data:list) -> list:\n",
    "    if len(data) > 0:\n",
    "        return data[0]\n",
    "    else:\n",
    "        raise ValueError(\"The dataset sent is empty...\")"
   ]
  },
  {
   "cell_type": "code",
   "execution_count": 633,
   "id": "c88c9f75",
   "metadata": {},
   "outputs": [],
   "source": [
    "def get_dict_colName_colNum(data:list) -> dict:\n",
    "    dictTemp = {}\n",
    "    \n",
    "    for el in get_header(data):\n",
    "        dictTemp[el] = get_header(data).index(el)\n",
    "        \n",
    "    return dictTemp\n",
    "# print(get_dict_colName_colNum(dataset))"
   ]
  },
  {
   "cell_type": "code",
   "execution_count": 634,
   "id": "431b2dc5",
   "metadata": {},
   "outputs": [],
   "source": [
    "def is_in_header(colName:str, data:list) -> bool:\n",
    "    return colName in get_header(data)\n",
    "# print(is_in_header(\"GENRE_DESC\", dataset))"
   ]
  },
  {
   "cell_type": "code",
   "execution_count": 635,
   "id": "20aaabd0",
   "metadata": {},
   "outputs": [],
   "source": [
    "def average(col:list) -> float:\n",
    "    for el in col:\n",
    "        if type(el) is not float:\n",
    "            raise TypeError(\"The list sent doesn't have float or contains empty string\")\n",
    "    return sum(col)/len(col)"
   ]
  },
  {
   "cell_type": "markdown",
   "id": "606a5429",
   "metadata": {},
   "source": [
    "# -----------------------------------------------------------------------------------------------------------"
   ]
  },
  {
   "cell_type": "markdown",
   "id": "6da2890e",
   "metadata": {},
   "source": [
    "# Iteration 1 : Main computation"
   ]
  },
  {
   "cell_type": "markdown",
   "id": "f9559f00",
   "metadata": {},
   "source": [
    "# -----------------------------------------------------------------------------------------------------------"
   ]
  },
  {
   "cell_type": "markdown",
   "id": "68632f74",
   "metadata": {},
   "source": [
    "## Afficher deux premieres lignes"
   ]
  },
  {
   "cell_type": "code",
   "execution_count": 636,
   "id": "8a2d47c5",
   "metadata": {},
   "outputs": [],
   "source": [
    "# Slice and extract the first two list ie the first two lignes\n",
    "header = get_header(dataset)\n",
    "lignes2 = dataset[0:2]\n",
    "\n",
    "specDataset = {\n",
    "    \"rows\" : len(dataset),\n",
    "    \"columns\" : len(dataset[0])\n",
    "}"
   ]
  },
  {
   "cell_type": "markdown",
   "id": "c5bf2783",
   "metadata": {},
   "source": [
    "## Afficher colonne n°2"
   ]
  },
  {
   "cell_type": "code",
   "execution_count": 637,
   "id": "6fd184d4",
   "metadata": {},
   "outputs": [],
   "source": [
    "# We see that to access the row is [i] after lignes2. \n",
    "# Then we have the list corresponding to the row i-1 (start from 0)\n",
    "# In this list, we use [i] to acces the i element corresponding to the column\n",
    "ligne1_col2 = lignes2[0][1]\n",
    "ligne2_col2 = lignes2[1][1]"
   ]
  },
  {
   "cell_type": "code",
   "execution_count": 638,
   "id": "afd8a76a",
   "metadata": {},
   "outputs": [
    {
     "name": "stdout",
     "output_type": "stream",
     "text": [
      "CODE : ESP29285\n"
     ]
    }
   ],
   "source": [
    "print(ligne1_col2 + \" : \" + ligne2_col2)"
   ]
  },
  {
   "cell_type": "markdown",
   "id": "28f9450b",
   "metadata": {},
   "source": [
    "## Get 50 first & last"
   ]
  },
  {
   "cell_type": "code",
   "execution_count": 639,
   "id": "8fb107b6",
   "metadata": {},
   "outputs": [],
   "source": [
    "# Should be called when having a list coming from : get_col_values()\n",
    "def extract_50(col:list) -> list:\n",
    "    if len(col) > 100:\n",
    "        return col[:50]+ [\"------> more values\"] + col[len(col)-50:]\n",
    "    else:\n",
    "        raise ValueError(f\"List {col} has less than 100 elements\")\n",
    "# extract_50(colList)"
   ]
  },
  {
   "cell_type": "markdown",
   "id": "182f780d",
   "metadata": {},
   "source": [
    "## Infos année plantation data"
   ]
  },
  {
   "cell_type": "code",
   "execution_count": 640,
   "id": "21c3dc89",
   "metadata": {},
   "outputs": [
    {
     "name": "stdout",
     "output_type": "stream",
     "text": [
      "['ELEM_POINT_ID', 'CODE', 'NOM', 'GENRE', 'GENRE_DESC', 'CATEGORIE', 'CATEGORIE_DESC', 'SOUS_CATEGORIE', 'SOUS_CATEGORIE_DESC', 'CODE_PARENT', 'CODE_PARENT_DESC', 'ADR_SECTEUR', 'BIEN_REFERENCE', 'GENRE_BOTA', 'ESPECE', 'VARIETE', 'STADEDEDEVELOPPEMENT', 'EQUIPE', 'REMARQUES', 'ANNEEDEPLANTATION', 'RAISONDEPLANTATION', 'TRAITEMENTCHENILLES', 'COURRIER', 'IDENTIFIANTPLU', 'TYPEIMPLANTATIONPLU', 'INTITULEPROTECTIONPLU', 'ANNEEABATTAGE', 'ESSOUCHEMENT', 'DIAMETREARBRE', 'CAUSEABATTAGE', 'COLLECTIVITE', 'GeoJSON']\n"
     ]
    }
   ],
   "source": [
    "print(get_header(dataset))"
   ]
  },
  {
   "cell_type": "code",
   "execution_count": 641,
   "id": "c88d1c2d",
   "metadata": {},
   "outputs": [],
   "source": [
    "def get_col_value_from_name(colName:str, data:list) -> str:\n",
    "    \n",
    "    if is_in_header(colName, data):\n",
    "        return get_dict_colName_colNum(data)[colName]\n",
    "    \n",
    "# print(get_col_value_from_name(colName=\"CODE_PARENT\", data=dataset))"
   ]
  },
  {
   "cell_type": "code",
   "execution_count": 642,
   "id": "4987fde7",
   "metadata": {},
   "outputs": [],
   "source": [
    "def get_col_values(colName:str, data:list) -> list:\n",
    "    \n",
    "    col = [el[get_col_value_from_name(colName, data)] for el in data]\n",
    "    \n",
    "    return col\n",
    "# print(get_col_values(\"ANNEEDEPLANTATION\", dataset))"
   ]
  },
  {
   "cell_type": "markdown",
   "id": "79c56bfe",
   "metadata": {},
   "source": [
    "### Trees column parsing utils"
   ]
  },
  {
   "cell_type": "code",
   "execution_count": 643,
   "id": "0b7b78c6",
   "metadata": {},
   "outputs": [],
   "source": [
    "colToStudy = \"ANNEEDEPLANTATION\""
   ]
  },
  {
   "cell_type": "code",
   "execution_count": 644,
   "id": "3ef20397",
   "metadata": {},
   "outputs": [
    {
     "name": "stdout",
     "output_type": "stream",
     "text": [
      "there is --> 31620 <-- trees studied\n"
     ]
    }
   ],
   "source": [
    "colList = get_col_values(colToStudy, dataset)\n",
    "colYearTree = colList\n",
    "print(\"there is --> \" + str(len(colList)) + \" <-- trees studied\")"
   ]
  },
  {
   "cell_type": "code",
   "execution_count": 645,
   "id": "ccfeab64",
   "metadata": {},
   "outputs": [],
   "source": [
    "def count_empty_value(col:list) -> int:\n",
    "    \n",
    "    emptyList = [el for el in col if not el]\n",
    "    \n",
    "    return len(emptyList)"
   ]
  },
  {
   "cell_type": "code",
   "execution_count": 646,
   "id": "ea563109",
   "metadata": {},
   "outputs": [
    {
     "name": "stdout",
     "output_type": "stream",
     "text": [
      "there is --> 1438 <-- empty values in ANNEEDEPLANTATION\n"
     ]
    }
   ],
   "source": [
    "print(\"there is --> \" + str(count_empty_value(colList)) + \" <-- empty values in \" + colToStudy )"
   ]
  },
  {
   "cell_type": "code",
   "execution_count": 647,
   "id": "4c60b1b0",
   "metadata": {},
   "outputs": [],
   "source": [
    "def remove_empty(col:list) -> list:\n",
    "    return [el for el in col if el]"
   ]
  },
  {
   "cell_type": "code",
   "execution_count": 648,
   "id": "b1946c26",
   "metadata": {},
   "outputs": [],
   "source": [
    "def get_min(col:list) -> int:\n",
    "    \n",
    "    colValues = remove_empty(col)\n",
    "    \n",
    "    # Slice to get rid off the header\n",
    "    return float(min(colValues[1:]))"
   ]
  },
  {
   "cell_type": "code",
   "execution_count": 649,
   "id": "bbd4c551",
   "metadata": {},
   "outputs": [],
   "source": [
    "def get_max(col:list) -> int:\n",
    "    \n",
    "    colValues = remove_empty(col)\n",
    "    \n",
    "    # Slice to get rid off the header\n",
    "    return float(max(colValues[1:]))"
   ]
  },
  {
   "cell_type": "markdown",
   "id": "2fc022cb",
   "metadata": {},
   "source": [
    "### Count trees for each year in dataset"
   ]
  },
  {
   "cell_type": "code",
   "execution_count": 650,
   "id": "492028c3",
   "metadata": {},
   "outputs": [],
   "source": [
    "def count_specific_value_in_col(value:str, col:list) -> int:\n",
    "    \n",
    "    valuesCorresponding = [el for el in col if str(el) == str(value)]  \n",
    "    \n",
    "    return len(valuesCorresponding)"
   ]
  },
  {
   "cell_type": "code",
   "execution_count": 651,
   "id": "ff5b5f63",
   "metadata": {},
   "outputs": [
    {
     "name": "stdout",
     "output_type": "stream",
     "text": [
      "There was 252 trees planted in 1994\n"
     ]
    }
   ],
   "source": [
    "valueToFind = \"1994\"\n",
    "print(f\"There was {count_specific_value_in_col(valueToFind, colList)} trees planted in {valueToFind}\")"
   ]
  },
  {
   "cell_type": "code",
   "execution_count": 652,
   "id": "56b9220c",
   "metadata": {},
   "outputs": [
    {
     "name": "stdout",
     "output_type": "stream",
     "text": [
      "The oldest year of plantation is : 1900.0\n",
      "The last year of plantation is : 2021.0\n"
     ]
    }
   ],
   "source": [
    "print(f\"The oldest year of plantation is : {get_min(colList)}\")\n",
    "print(f\"The last year of plantation is : {get_max(colList)}\")"
   ]
  },
  {
   "cell_type": "markdown",
   "id": "8e7a2eb1",
   "metadata": {},
   "source": [
    "### Count trees for each year in dataset"
   ]
  },
  {
   "cell_type": "code",
   "execution_count": 653,
   "id": "4b6511a9",
   "metadata": {},
   "outputs": [],
   "source": [
    "# This method compute for each year the number of trees planted\n",
    "# Then it compute the average taking into account only the trees where the year is known\n",
    "def average_trees_planted(col:list) -> dict:\n",
    "    cleanList = remove_empty(col[1:])\n",
    "    removeDuplicate = set(cleanList)\n",
    "    \n",
    "    nbTreesPerYear = [float(count_specific_value_in_col(el,col)) for el in removeDuplicate]\n",
    "    print(f\"Nombre d'annees connues ou des arbres ont été planté : {len(removeDuplicate)}\")\n",
    "    return round(average(nbTreesPerYear),2)"
   ]
  },
  {
   "cell_type": "code",
   "execution_count": 654,
   "id": "3d20cc07",
   "metadata": {},
   "outputs": [
    {
     "name": "stdout",
     "output_type": "stream",
     "text": [
      "Nombre d'annees connues ou des arbres ont été planté : 65\n",
      "La moyenne n°1 des arbres plantés est : 464.32\n"
     ]
    }
   ],
   "source": [
    "print(f\"La moyenne n°1 des arbres plantés est : {average_trees_planted(colList)}\")"
   ]
  },
  {
   "cell_type": "code",
   "execution_count": 655,
   "id": "87334162",
   "metadata": {},
   "outputs": [],
   "source": [
    "# This function compute the average taking into account\n",
    "# The total number of trees in the dataset\n",
    "# The max and min year known\n",
    "\n",
    "def rought_average(col:list) -> float:\n",
    "    # remove one on the global size due to header\n",
    "    nbArbre = float(len(col[1:]))\n",
    "    # add +1 to take into account the full 2021 year\n",
    "    interval = float(get_max(col)-get_min(col)+1)\n",
    "    \n",
    "    print(f\"Diviser total arbre : {nbArbre} par intervalle d'annee etudier {int(get_min(col))} - {int(get_max(col))}\")\n",
    "    \n",
    "    return round(nbArbre/interval,2)"
   ]
  },
  {
   "cell_type": "code",
   "execution_count": 656,
   "id": "3ba8c50d",
   "metadata": {},
   "outputs": [
    {
     "name": "stdout",
     "output_type": "stream",
     "text": [
      "Diviser total arbre : 31619.0 par intervalle d'annee etudier 1900 - 2021\n",
      "La moyenne n°2 des arbres plantés est : 259.17\n"
     ]
    }
   ],
   "source": [
    "print(f\"La moyenne n°2 des arbres plantés est : {rought_average(colList)}\")"
   ]
  },
  {
   "cell_type": "markdown",
   "id": "f8d02cb9",
   "metadata": {},
   "source": [
    "### Make tuple (year : nb_arbre)"
   ]
  },
  {
   "cell_type": "code",
   "execution_count": 657,
   "id": "271d8c0a",
   "metadata": {},
   "outputs": [],
   "source": [
    "def make_tuple_year_nbArbre(col:list) -> list:\n",
    "    cleanList = remove_empty(col[1:])\n",
    "    removeDuplicate = set(cleanList) \n",
    "    \n",
    "    return [(el, count_specific_value_in_col(el, col)) for el in removeDuplicate]"
   ]
  },
  {
   "cell_type": "code",
   "execution_count": 658,
   "id": "a86e81e2",
   "metadata": {},
   "outputs": [],
   "source": [
    "# Sort the list of tuples (year, value) by year\n",
    "def sort_by_year(tupleList:list) -> list:\n",
    "    return sorted(tupleList, key=lambda x:x[0], reverse=True)"
   ]
  },
  {
   "cell_type": "code",
   "execution_count": 659,
   "id": "904f7bfc",
   "metadata": {},
   "outputs": [],
   "source": [
    "treeTupleList = make_tuple_year_nbArbre(colList)\n",
    "sortedTreeTupleList = sort_by_year(treeTupleList)\n",
    "#treeTupleList"
   ]
  },
  {
   "cell_type": "code",
   "execution_count": 660,
   "id": "4a00cb81",
   "metadata": {},
   "outputs": [],
   "source": [
    "#sortedTreeTupleList"
   ]
  },
  {
   "cell_type": "markdown",
   "id": "d6accd9b",
   "metadata": {},
   "source": [
    "### Etude des Maires"
   ]
  },
  {
   "cell_type": "code",
   "execution_count": 661,
   "id": "dec4de29",
   "metadata": {},
   "outputs": [],
   "source": [
    "maire = [['Rivail', 1904,1908],['Viallet', 1908,1910],['Cornier', 1910,1919],['Mistral', 1919,1932],['Martin', 1932,1935],['Cocat', 1935,1944],['Lafleur', 1944,1945],['Martin2', 1945,1947],['Bally', 1947,1948],['Perinetti', 1948,1949],['Martin3', 1949,1959],['Michallon', 1959,1965],['Dubedout', 1965,1983],['Carignon', 1983,1995],['Destot', 1995,2014],['Piolle', 2014,2021]]\n",
    "maireDict = {el[0]:[el[1],el[2]] for el in maire}"
   ]
  },
  {
   "cell_type": "code",
   "execution_count": 662,
   "id": "4b1e01eb",
   "metadata": {},
   "outputs": [],
   "source": [
    "def number_of_tree_per_maire(maire:dict, tupleListArbre:list) -> int:\n",
    "    \n",
    "    dictTemp = {}\n",
    "    \n",
    "    for el in tupleListArbre:\n",
    "        for maire in maireDict.keys():\n",
    "            #print(f\"Le maire {key} a reigné sur Grenoble de {maireDict[key]}\")\n",
    "            #print(type(maireDict[key][0]))\n",
    "            #print(type(el[0]))\n",
    "            #print(f\"{maireDict[maire][0]} <= {int(el[0])} < {maireDict[maire][1]} ????\")\n",
    "            if maireDict[maire][0] <= int(el[0])<maireDict[maire][1]:\n",
    "                #print(f\"The Maire {maire} planted --> {el[1]} <-- trees in the year {el[0]} during is mandat of [{maireDict[maire][0]},{maireDict[maire][1]}]\")        \n",
    "                \n",
    "                if maire in dictTemp:\n",
    "                    dictTemp[maire] += el[1]\n",
    "                else:\n",
    "                    dictTemp[maire] = el[1]\n",
    "                \n",
    "    return dictTemp"
   ]
  },
  {
   "cell_type": "code",
   "execution_count": 663,
   "id": "af62737f",
   "metadata": {},
   "outputs": [],
   "source": [
    "maireTreeDict = number_of_tree_per_maire(maireDict, sortedTreeTupleList)"
   ]
  },
  {
   "cell_type": "code",
   "execution_count": 664,
   "id": "ec827c8b",
   "metadata": {},
   "outputs": [],
   "source": [
    "def get_max_maire_tree(dictMaire:dict) -> str:\n",
    "    return max(dictMaire, key=dictMaire.get)"
   ]
  },
  {
   "cell_type": "code",
   "execution_count": 665,
   "id": "f8442416",
   "metadata": {},
   "outputs": [
    {
     "name": "stdout",
     "output_type": "stream",
     "text": [
      "The Maire who planted the more trees is --> Dubedout <-- with a number of --> 12074 <--\n"
     ]
    }
   ],
   "source": [
    "max_maire = get_max_maire_tree(maireTreeDict)\n",
    "print(f\"The Maire who planted the more trees is --> {max_maire} <-- with a number of --> {maireTreeDict[max_maire]} <--\")"
   ]
  },
  {
   "cell_type": "markdown",
   "id": "ac4a7ed3",
   "metadata": {},
   "source": [
    "## Etude botanique"
   ]
  },
  {
   "cell_type": "code",
   "execution_count": 666,
   "id": "d19edbd0",
   "metadata": {},
   "outputs": [],
   "source": [
    "colToStudy = \"GENRE_BOTA\"\n",
    "colBota = get_col_values(colToStudy, dataset)"
   ]
  },
  {
   "cell_type": "code",
   "execution_count": 667,
   "id": "36345fa1",
   "metadata": {},
   "outputs": [
    {
     "name": "stdout",
     "output_type": "stream",
     "text": [
      "there is --> 933 <-- empty values in GENRE_BOTA\n"
     ]
    }
   ],
   "source": [
    "print(\"there is --> \" + str(count_empty_value(colBota)) + \" <-- empty values in \" + colToStudy )"
   ]
  },
  {
   "cell_type": "code",
   "execution_count": 668,
   "id": "713ae582",
   "metadata": {},
   "outputs": [],
   "source": [
    "colBota = get_col_values(colToStudy, dataset)\n",
    "#colList"
   ]
  },
  {
   "cell_type": "code",
   "execution_count": 669,
   "id": "efb834de",
   "metadata": {},
   "outputs": [
    {
     "name": "stdout",
     "output_type": "stream",
     "text": [
      "There was 933 trees of type : \n"
     ]
    }
   ],
   "source": [
    "valueToFind = \"\"\n",
    "print(f\"There was {count_specific_value_in_col(valueToFind, colBota)} trees of type : {valueToFind}\")"
   ]
  },
  {
   "cell_type": "code",
   "execution_count": 670,
   "id": "bd162c5f",
   "metadata": {},
   "outputs": [],
   "source": [
    "def concat_year_type(colListArbre:list, colListYear:list) -> list:\n",
    "    if not len(colListArbre) == len(colListYear):\n",
    "        raise ValueError(\"The two colone studied are not the same length\")\n",
    "    else:\n",
    "        listTemp = []\n",
    "        for year, treeType in zip(colListArbre, colListYear):\n",
    "            tupleTemp = (year, treeType)\n",
    "            listTemp.append(tupleTemp)\n",
    "        \n",
    "        return listTemp"
   ]
  },
  {
   "cell_type": "code",
   "execution_count": 673,
   "id": "ed3431d8",
   "metadata": {},
   "outputs": [],
   "source": [
    "yearBotaList = concat_year_type(colYearTree, colBota)\n",
    "sortedyearBotaList = sort_by_year(yearBotaList)\n",
    "# sortedyearBotaList"
   ]
  },
  {
   "cell_type": "code",
   "execution_count": 674,
   "id": "0853ce01",
   "metadata": {},
   "outputs": [
    {
     "data": {
      "image/png": "[encoded data removed]",
      "text/plain": [
       "<Figure size 640x480 with 1 Axes>"
      ]
     },
     "metadata": {},
     "output_type": "display_data"
    }
   ],
   "source": [
    "data = sortedyearBotaList[1:]\n",
    "\n",
    "years = [d[0] for d in data]\n",
    "names = [d[1] for d in data]\n",
    "\n",
    "plt.plot(years, names, 'bo')\n",
    "plt.xlabel('Year')\n",
    "plt.ylabel('Name')\n",
    "plt.title('Name versus Year')\n",
    "\n",
    "plt.show()"
   ]
  },
  {
   "cell_type": "code",
   "execution_count": null,
   "id": "21a4a877",
   "metadata": {},
   "outputs": [],
   "source": [
    "import matplotlib.pyplot as plt\n",
    "import numpy as np\n",
    "\n",
    "NUM_COLORS = 20\n",
    "\n",
    "cm = plt.get_cmap('gist_rainbow')\n",
    "fig = plt.figure()\n",
    "ax = fig.add_subplot(111)\n",
    "ax.set_prop_cycle(color=[cm(1.*i/NUM_COLORS) for i in range(NUM_COLORS)])\n",
    "for i in range(NUM_COLORS):\n",
    "    ax.plot(np.arange(10)*(i+1))\n",
    "\n",
    "fig.savefig('moreColors.png')\n",
    "plt.show()"
   ]
  }
 ],
 "metadata": {
  "kernelspec": {
   "display_name": "Python 3 (ipykernel)",
   "language": "python",
   "name": "python3"
  },
  "language_info": {
   "codemirror_mode": {
    "name": "ipython",
    "version": 3
   },
   "file_extension": ".py",
   "mimetype": "text/x-python",
   "name": "python",
   "nbconvert_exporter": "python",
   "pygments_lexer": "ipython3",
   "version": "3.9.13"
  }
 },
 "nbformat": 4,
 "nbformat_minor": 5
}
