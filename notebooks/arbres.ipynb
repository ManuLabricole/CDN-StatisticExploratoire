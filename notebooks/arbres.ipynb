{
 "cells": [
  {
   "cell_type": "code",
   "execution_count": 1,
   "id": "1c6b2e6f",
   "metadata": {},
   "outputs": [],
   "source": [
    "import csv\n",
    "import pandas as pd\n",
    "import numpy as np\n",
    "import matplotlib as mp"
   ]
  },
  {
   "cell_type": "markdown",
   "id": "d45f2fa3",
   "metadata": {},
   "source": [
    "# Import csv"
   ]
  },
  {
   "cell_type": "markdown",
   "id": "276af248",
   "metadata": {},
   "source": [
    "## Main import"
   ]
  },
  {
   "cell_type": "code",
   "execution_count": 35,
   "id": "e0c6baec",
   "metadata": {},
   "outputs": [],
   "source": [
    "with open('../data/ESP_PUBLIC.IDENTITE_ARBRE.csv', newline='', encoding='utf-8-sig') as csvfile:\n",
    "    # use \",\" separator to generate column value as list element\n",
    "    # cs.reader return a class object of \"_csv.reader\"\n",
    "    dataTemp = csv.reader(csvfile, delimiter=',')\n",
    "    \n",
    "    # Use list() to convert the csv object into a list, of list, depending on how the object is built\n",
    "    # Hard to understand how list(csv_object) behaves \n",
    "    data = list(dataTemp)"
   ]
  },
  {
   "cell_type": "markdown",
   "id": "663621ce",
   "metadata": {},
   "source": [
    "## Copy the dataset to advoid re-import"
   ]
  },
  {
   "cell_type": "code",
   "execution_count": 36,
   "id": "2bd28817",
   "metadata": {},
   "outputs": [],
   "source": [
    "dataset = data"
   ]
  },
  {
   "cell_type": "markdown",
   "id": "c9311b68",
   "metadata": {},
   "source": [
    "# Main computation"
   ]
  },
  {
   "cell_type": "markdown",
   "id": "96a56ab0",
   "metadata": {},
   "source": []
  }
 ],
 "metadata": {
  "kernelspec": {
   "display_name": "Python 3 (ipykernel)",
   "language": "python",
   "name": "python3"
  },
  "language_info": {
   "codemirror_mode": {
    "name": "ipython",
    "version": 3
   },
   "file_extension": ".py",
   "mimetype": "text/x-python",
   "name": "python",
   "nbconvert_exporter": "python",
   "pygments_lexer": "ipython3",
   "version": "3.9.13"
  }
 },
 "nbformat": 4,
 "nbformat_minor": 5
}
