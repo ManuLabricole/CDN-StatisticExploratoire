{
 "cells": [
  {
   "cell_type": "code",
   "execution_count": 1,
   "id": "7336ef9d",
   "metadata": {},
   "outputs": [],
   "source": [
    "import pandas as pd\n",
    "import numpy as np\n",
    "import plotly as px\n",
    "import matplotlib.pyplot as plt\n",
    "from colorama import Fore, Back, Style\n",
    "import json\n",
    "import matplotlib.colors as mcolors"
   ]
  },
  {
   "cell_type": "markdown",
   "id": "701a94dc",
   "metadata": {},
   "source": [
    "# Utils"
   ]
  },
  {
   "cell_type": "code",
   "execution_count": 2,
   "id": "fc07d3a4",
   "metadata": {},
   "outputs": [],
   "source": [
    "def get_maires_dict() -> dict:\n",
    "    \n",
    "    mairesDict = {\n",
    "    \"Stephane JAY\" : [1896, 1904],\n",
    "    \"Charles RIVAIL\" : [1904, 1908],\n",
    "    \"Felix VIALLET\" : [1908, 1910],\n",
    "    \"Nestor CORNIER\" : [1910, 1919],\n",
    "    \"Paul MISTRAL\" : [1919, 1932],\n",
    "    \"Leon MARTIN\" : [1932, 1935],\n",
    "    \"Paul COCAT\" : [1935, 1944],\n",
    "    \"Frederic LAFLEUR\" : [1944, 1945],\n",
    "    \"Leon MARTIN\" : [1945, 1947],\n",
    "    \"Marius BALLY\" : [1947, 1948],\n",
    "    \"Remy PERINETTI\" : [1948, 1949],\n",
    "    \"Leon MARTIN\" : [1949, 1959],\n",
    "    \"Albert MICHALLON\" : [1959, 1965],\n",
    "    \"Hubert DUBEDOUT\" : [1965, 1983],\n",
    "    \"Alain CARIGNON\" : [1983, 1995],\n",
    "    \"Michel DESTOT\" : [1995, 2014],\n",
    "    \"Eric PIOLLE\" : [2014, 2021],\n",
    "}\n",
    "    return mairesDict"
   ]
  },
  {
   "cell_type": "code",
   "execution_count": 3,
   "id": "04a0d8b2",
   "metadata": {},
   "outputs": [],
   "source": [
    "# Couleurs diverses\n",
    "VERT='\\033[0;32m' # vert mince\n",
    "BLANC='\\033[1;37m' # blanc gras\n",
    "DEFAUT='\\033[0;m' # couleur console par defaut\n",
    "NOIR='\\033[0;30m' # noir mince\n",
    "ROUGE='\\033[0;31m' # rouge mince\n",
    "MARRON='\\033[0;33m' # marron mince\n",
    "BLEU='\\033[0;34m' # bleu fonce mince\n",
    "VIOLET='\\033[0;35m' # violet mince\n",
    "CYAN='\\033[0;36m' # cyan mince\n",
    "GRIS='\\033[0;37m' # gris clair mince\n",
    "BLANCLEGER='\\033[0;38m' # blanc mince\n",
    "ROUGECLAIR='\\033[1;31m' # rouge clair gras\n",
    "VERTCLAIR='\\033[1;32m' # vert clair gras\n",
    "JAUNE='\\033[1;33m' # jaune gras\n",
    "BLEUCLAIR='\\033[1;34m' # bleu clair gras\n",
    "ROSE='\\033[1;35m' # rose clair gras\n",
    "CYANCLAIR='\\033[1;36m' # cyan clair gras"
   ]
  },
  {
   "cell_type": "code",
   "execution_count": 4,
   "id": "58a70a66",
   "metadata": {},
   "outputs": [],
   "source": [
    "def change_column_name(df:pd.DataFrame) -> pd.DataFrame:\n",
    "    valid = {\"yes\": True, \"y\": True, \"ye\": True, \"Yes\":True, \"no\": False, \"n\": False, \"No\": False}\n",
    "    newNameList = []\n",
    "    for col in df.columns.tolist():\n",
    "        print(CYAN, \"Do you want do rename the column\", ROUGECLAIR, col,CYAN, \"y / n\")\n",
    "        res = input()\n",
    "        \n",
    "        if res in list(valid.keys()):\n",
    "        \n",
    "            if valid[res] == True:\n",
    "                print(ROUGECLAIR, \"New name....\")\n",
    "                newName = input().upper()\n",
    "                newNameList.append(newName)\n",
    "\n",
    "            elif valid[res] == False:\n",
    "                newNameList.append(col)\n",
    "        else:\n",
    "            print(ROUGECLAIR, \"You exit the program\")\n",
    "            return df\n",
    "        \n",
    "    print(VERTCLAIR, newNameList)    \n",
    "    df.columns = newNameList\n",
    "    return df"
   ]
  },
  {
   "cell_type": "code",
   "execution_count": 5,
   "id": "e1bac07a",
   "metadata": {},
   "outputs": [],
   "source": [
    "genus_prbm = ['Betula', 'Castanea', 'Cupressus', 'Fraxinus','Olea', 'Platanus', 'Aesculus'] \n",
    "sp_prbm = ['Acer saccharinum', 'Albizzia julibrissin', 'Catalpa bignonioides', 'Ginko biloba',\n",
    "           'Gleditsia triacanthos', 'Koelreuteria paniculata', 'Laburnum anagyroides', 'Paulownia tomentosa',\n",
    "           'Prunus pissardi', 'Sophora japonica', 'Acer platanoides', 'Acer pseudoplatanus', 'Betula costata',\n",
    "           'Betula davurica', 'Betula davurica','Betula jacquemonti','Betula lenta','Betula pendula', 'Betula maximowicziana',\n",
    "           'Betula pubescens', 'Betula utilis', 'Cryptomeria japonica', 'Cupressus cashmeriana', 'Davidia involucrata',\n",
    "           'Fagus sylvatica', 'Juglans nigra', 'Juglans ailantifolia', 'Liriodendron tulipifera', 'Magnolia grandiflora',\n",
    "           'Nerium oleander', 'Picea abies', 'Populus alba', 'Quercus bicolor', 'Quercus macrocarpa','Quercus nigra',\n",
    "           'Quercus rubra', 'Quercus alba', 'Salix gracolistyla', 'Salix daphnoides', 'Salix cinerea', 'Salix arenaria',\n",
    "           'Salix alba', 'Salix acutifolia', 'Sorbus aucuparia', 'Platanus acerifolia', 'Acer platanoides',\n",
    "           'Acer pseudoplatanus'] \n",
    "# supporte mal la secheresse ou le gel ou à eviter dans la metro par soucis de diversification des essences\n",
    "sp_inv = ['Ailanthus altissima', 'Robinia pseudoacacia', \"Acer negundo\"] "
   ]
  },
  {
   "cell_type": "markdown",
   "id": "e8b20028",
   "metadata": {},
   "source": [
    "# I - Import data"
   ]
  },
  {
   "cell_type": "code",
   "execution_count": 6,
   "id": "0b0f2b39",
   "metadata": {},
   "outputs": [],
   "source": [
    "# This csv is imported with a value added in the last ligne\n",
    "# There was originally a missing value\n",
    "# Here in a csv : In last rows / col 1 : 30032 was added\n",
    "file_path = '../data/ESP_PUBLIC.IDENTITE_ARBRE.csv'\n",
    "df = pd.read_csv(file_path, sep=',', header = 0, index_col=False)\n",
    "dff = df"
   ]
  },
  {
   "cell_type": "markdown",
   "id": "75ddbc0e",
   "metadata": {},
   "source": [
    "# II - Computations"
   ]
  },
  {
   "cell_type": "markdown",
   "id": "563433d7",
   "metadata": {},
   "source": [
    "##### Missing years for plantation"
   ]
  },
  {
   "cell_type": "code",
   "execution_count": 7,
   "id": "5b08fa59",
   "metadata": {},
   "outputs": [
    {
     "name": "stdout",
     "output_type": "stream",
     "text": [
      "\u001b[1;36m Total of Trees --> \u001b[1;34m 31613 \u001b[1;36m <-- with total of --> \u001b[1;34m 1438 \u001b[1;36m <-- missing years\n"
     ]
    }
   ],
   "source": [
    "# Convert the column year from FLOAT --> INT\n",
    "# --> Not working because of Nan : dff[\"ANNEEDEPLANTATION\"].astype(\"int\")\n",
    "missingYear = dff[\"ANNEEDEPLANTATION\"].isnull().value_counts()[1]\n",
    "numberOfTree = dff[\"ANNEEDEPLANTATION\"].size\n",
    "\n",
    "print(CYANCLAIR, \"Total of Trees -->\", BLEUCLAIR, numberOfTree, \\\n",
    "      CYANCLAIR, \"<-- with total of -->\", BLEUCLAIR, missingYear,\\\n",
    "      CYANCLAIR, \"<-- missing years\")"
   ]
  },
  {
   "cell_type": "markdown",
   "id": "8e3dbeca",
   "metadata": {},
   "source": [
    "##### Total of trees for specific year"
   ]
  },
  {
   "cell_type": "code",
   "execution_count": 8,
   "id": "57d15ac8",
   "metadata": {},
   "outputs": [
    {
     "data": {
      "text/plain": [
       "0        1977\n",
       "1        2001\n",
       "2        1975\n",
       "3        1978\n",
       "4        1960\n",
       "         ... \n",
       "31608    2014\n",
       "31609    2014\n",
       "31610    2014\n",
       "31611    2014\n",
       "31612    1995\n",
       "Name: ANNEEDEPLANTATION, Length: 31613, dtype: int64"
      ]
     },
     "execution_count": 8,
     "metadata": {},
     "output_type": "execute_result"
    }
   ],
   "source": [
    "# First replace the .nan by float(0)\n",
    "# After that convert float to int\n",
    "dff[\"ANNEEDEPLANTATION\"].fillna(0).astype(\"int\")"
   ]
  },
  {
   "cell_type": "code",
   "execution_count": 9,
   "id": "fd93cf21",
   "metadata": {},
   "outputs": [
    {
     "name": "stdout",
     "output_type": "stream",
     "text": [
      "\u001b[1;36m The first tree was planted in --> \u001b[1;34m 1900\n",
      "\u001b[1;36m The last tree was planted in ---> \u001b[1;34m 2021\n"
     ]
    }
   ],
   "source": [
    "firstYearPlanted = int(dff[\"ANNEEDEPLANTATION\"].min())\n",
    "lastYearPlanted = int(dff[\"ANNEEDEPLANTATION\"].max())\n",
    "print(CYANCLAIR, \"The first tree was planted in -->\", BLEUCLAIR, firstYearPlanted)\n",
    "print(CYANCLAIR, \"The last tree was planted in --->\", BLEUCLAIR, lastYearPlanted)"
   ]
  },
  {
   "cell_type": "markdown",
   "id": "b883325a",
   "metadata": {},
   "source": [
    "##### Study by years"
   ]
  },
  {
   "cell_type": "code",
   "execution_count": 10,
   "id": "0ef1607f",
   "metadata": {},
   "outputs": [
    {
     "data": {
      "text/plain": [
       "ANNEEDEPLANTATION\n",
       "1975.0               3631\n",
       "2001.0               1488\n",
       "1980.0               1445\n",
       "1970.0               1366\n",
       "2015.0               1012\n",
       "                     ... \n",
       "1959.0                 16\n",
       "1924.0                 11\n",
       "1964.0                  6\n",
       "1900.0                  4\n",
       "2021.0                  3\n",
       "Length: 65, dtype: int64"
      ]
     },
     "execution_count": 10,
     "metadata": {},
     "output_type": "execute_result"
    }
   ],
   "source": [
    "df_years = dff[[\"ANNEEDEPLANTATION\"]]\n",
    "df_years.value_counts()"
   ]
  },
  {
   "cell_type": "code",
   "execution_count": 11,
   "id": "63c18a93",
   "metadata": {},
   "outputs": [
    {
     "name": "stdout",
     "output_type": "stream",
     "text": [
      "\u001b[0;36m Stephane JAY \u001b[0;31m [1896, 1904]\n",
      "\u001b[0;36m Charles RIVAIL \u001b[0;31m [1904, 1908]\n",
      "\u001b[0;36m Felix VIALLET \u001b[0;31m [1908, 1910]\n",
      "\u001b[0;36m Nestor CORNIER \u001b[0;31m [1910, 1919]\n",
      "\u001b[0;36m Paul MISTRAL \u001b[0;31m [1919, 1932]\n",
      "\u001b[0;36m Leon MARTIN \u001b[0;31m [1949, 1959]\n",
      "\u001b[0;36m Paul COCAT \u001b[0;31m [1935, 1944]\n",
      "\u001b[0;36m Frederic LAFLEUR \u001b[0;31m [1944, 1945]\n",
      "\u001b[0;36m Marius BALLY \u001b[0;31m [1947, 1948]\n",
      "\u001b[0;36m Remy PERINETTI \u001b[0;31m [1948, 1949]\n",
      "\u001b[0;36m Albert MICHALLON \u001b[0;31m [1959, 1965]\n",
      "\u001b[0;36m Hubert DUBEDOUT \u001b[0;31m [1965, 1983]\n",
      "\u001b[0;36m Alain CARIGNON \u001b[0;31m [1983, 1995]\n",
      "\u001b[0;36m Michel DESTOT \u001b[0;31m [1995, 2014]\n",
      "\u001b[0;36m Eric PIOLLE \u001b[0;31m [2014, 2021]\n"
     ]
    }
   ],
   "source": [
    "for key in get_maires_dict().keys():\n",
    "    print(CYAN, key, ROUGE, get_maires_dict()[key])"
   ]
  },
  {
   "cell_type": "markdown",
   "id": "ecd16769",
   "metadata": {},
   "source": [
    "##### Create a list of tuple from 2 pandas Series"
   ]
  },
  {
   "cell_type": "code",
   "execution_count": 12,
   "id": "161a4eb5",
   "metadata": {},
   "outputs": [],
   "source": [
    "df_tuple = pd.DataFrame()\n",
    "df_tuple['year_genre'] = list(zip(dff[\"ANNEEDEPLANTATION\"], dff[\"GENRE_BOTA\"]))"
   ]
  },
  {
   "cell_type": "markdown",
   "id": "da9984d8",
   "metadata": {},
   "source": [
    "# III - Maire study"
   ]
  },
  {
   "cell_type": "code",
   "execution_count": 13,
   "id": "84f63ee5",
   "metadata": {},
   "outputs": [],
   "source": [
    "def find_maire(year:int) -> str:\n",
    "    mairesDict = get_maires_dict()\n",
    "    if year:\n",
    "        for key in mairesDict.keys():\n",
    "            if int(mairesDict[key][0]) <= int(year) < int(mairesDict[key][1]):\n",
    "                return key\n",
    "        \n",
    "    return np.nan\n",
    "\n",
    "dff[\"MAIRE\"] = dff[\"ANNEEDEPLANTATION\"].dropna().apply(find_maire)"
   ]
  },
  {
   "cell_type": "code",
   "execution_count": 14,
   "id": "eecffcd3",
   "metadata": {},
   "outputs": [],
   "source": [
    "# Extract only the four usefull column\n",
    "df_maire = dff[[\"MAIRE\", \"ANNEEDEPLANTATION\", \"GENRE_BOTA\", \"ESPECE\"]]"
   ]
  },
  {
   "cell_type": "code",
   "execution_count": 15,
   "id": "9487ca0b",
   "metadata": {},
   "outputs": [],
   "source": [
    "# df_maire = change_column_name(df_maire)"
   ]
  },
  {
   "cell_type": "markdown",
   "id": "0ddd2d84",
   "metadata": {},
   "source": [
    "##### Fin the maire who planted the more trees"
   ]
  },
  {
   "cell_type": "code",
   "execution_count": 16,
   "id": "d68648d5",
   "metadata": {},
   "outputs": [
    {
     "data": {
      "text/plain": [
       "Hubert DUBEDOUT     12074\n",
       "Michel DESTOT        8554\n",
       "Alain CARIGNON       4264\n",
       "Eric PIOLLE          3995\n",
       "Albert MICHALLON      723\n",
       "Leon MARTIN           520\n",
       "Frederic LAFLEUR       27\n",
       "Paul MISTRAL           11\n",
       "Stephane JAY            4\n",
       "Name: MAIRE, dtype: int64"
      ]
     },
     "execution_count": 16,
     "metadata": {},
     "output_type": "execute_result"
    }
   ],
   "source": [
    "df_maire[\"MAIRE\"].value_counts()"
   ]
  },
  {
   "cell_type": "code",
   "execution_count": 17,
   "id": "7976325d",
   "metadata": {},
   "outputs": [
    {
     "name": "stdout",
     "output_type": "stream",
     "text": [
      "\u001b[1;31m the mayor --> \u001b[0;36m Hubert DUBEDOUT \u001b[1;31m <-- planted the more tree with a total of --> \u001b[0;36m 12074 \u001b[1;31m <--trees\n"
     ]
    }
   ],
   "source": [
    "maxMaireName = df_maire[\"MAIRE\"].value_counts().idxmax()\n",
    "maxMaireTree = df_maire[\"MAIRE\"].value_counts().max()\n",
    "print(ROUGECLAIR, \"the mayor -->\", \\\n",
    "      CYAN, maxMaireName, ROUGECLAIR, \"<-- planted the more tree with a total of -->\", \\\n",
    "     CYAN, maxMaireTree, ROUGECLAIR, \"<--trees\")"
   ]
  },
  {
   "cell_type": "markdown",
   "id": "37dc8cd3",
   "metadata": {},
   "source": [
    "##### Botanic and Species"
   ]
  },
  {
   "cell_type": "code",
   "execution_count": 18,
   "id": "25eddaa1",
   "metadata": {},
   "outputs": [
    {
     "data": {
      "text/plain": [
       "Acer           5055\n",
       "Platanus       4492\n",
       "Pinus          1962\n",
       "Tilia          1740\n",
       "Fraxinus       1505\n",
       "               ... \n",
       "Castanea          1\n",
       "Eucalyptus        1\n",
       "Poncinos          1\n",
       "Sciadopitys       1\n",
       "Nyssa             1\n",
       "Name: GENRE_BOTA, Length: 119, dtype: int64"
      ]
     },
     "execution_count": 18,
     "metadata": {},
     "output_type": "execute_result"
    }
   ],
   "source": [
    "df_maire[\"GENRE_BOTA\"].value_counts()"
   ]
  },
  {
   "cell_type": "code",
   "execution_count": 19,
   "id": "15b06c02",
   "metadata": {},
   "outputs": [
    {
     "data": {
      "text/html": [
       "<div>\n",
       "<style scoped>\n",
       "    .dataframe tbody tr th:only-of-type {\n",
       "        vertical-align: middle;\n",
       "    }\n",
       "\n",
       "    .dataframe tbody tr th {\n",
       "        vertical-align: top;\n",
       "    }\n",
       "\n",
       "    .dataframe thead th {\n",
       "        text-align: right;\n",
       "    }\n",
       "</style>\n",
       "<table border=\"1\" class=\"dataframe\">\n",
       "  <thead>\n",
       "    <tr style=\"text-align: right;\">\n",
       "      <th></th>\n",
       "      <th>MAIRE</th>\n",
       "      <th>GENRE_BOTA</th>\n",
       "      <th>ESPECE</th>\n",
       "      <th>0</th>\n",
       "    </tr>\n",
       "  </thead>\n",
       "  <tbody>\n",
       "    <tr>\n",
       "      <th>0</th>\n",
       "      <td>Alain CARIGNON</td>\n",
       "      <td>Platanus</td>\n",
       "      <td>acerifolia</td>\n",
       "      <td>606</td>\n",
       "    </tr>\n",
       "    <tr>\n",
       "      <th>1</th>\n",
       "      <td>Alain CARIGNON</td>\n",
       "      <td>Carpinus</td>\n",
       "      <td>betulus</td>\n",
       "      <td>366</td>\n",
       "    </tr>\n",
       "    <tr>\n",
       "      <th>2</th>\n",
       "      <td>Alain CARIGNON</td>\n",
       "      <td>Liquidambar</td>\n",
       "      <td>styraciflua</td>\n",
       "      <td>299</td>\n",
       "    </tr>\n",
       "    <tr>\n",
       "      <th>3</th>\n",
       "      <td>Alain CARIGNON</td>\n",
       "      <td>Pinus</td>\n",
       "      <td>nigra</td>\n",
       "      <td>176</td>\n",
       "    </tr>\n",
       "    <tr>\n",
       "      <th>4</th>\n",
       "      <td>Alain CARIGNON</td>\n",
       "      <td>Tilia</td>\n",
       "      <td>tomentosa</td>\n",
       "      <td>147</td>\n",
       "    </tr>\n",
       "    <tr>\n",
       "      <th>...</th>\n",
       "      <td>...</td>\n",
       "      <td>...</td>\n",
       "      <td>...</td>\n",
       "      <td>...</td>\n",
       "    </tr>\n",
       "    <tr>\n",
       "      <th>827</th>\n",
       "      <td>Paul MISTRAL</td>\n",
       "      <td>Olea</td>\n",
       "      <td>europaea</td>\n",
       "      <td>1</td>\n",
       "    </tr>\n",
       "    <tr>\n",
       "      <th>828</th>\n",
       "      <td>Paul MISTRAL</td>\n",
       "      <td>Betula</td>\n",
       "      <td>verrucosa</td>\n",
       "      <td>1</td>\n",
       "    </tr>\n",
       "    <tr>\n",
       "      <th>829</th>\n",
       "      <td>Paul MISTRAL</td>\n",
       "      <td>Fagus</td>\n",
       "      <td>sylvatica</td>\n",
       "      <td>1</td>\n",
       "    </tr>\n",
       "    <tr>\n",
       "      <th>830</th>\n",
       "      <td>Paul MISTRAL</td>\n",
       "      <td>Diospyros</td>\n",
       "      <td>lotus</td>\n",
       "      <td>1</td>\n",
       "    </tr>\n",
       "    <tr>\n",
       "      <th>831</th>\n",
       "      <td>Stephane JAY</td>\n",
       "      <td>Prunus</td>\n",
       "      <td>laurocerasus</td>\n",
       "      <td>1</td>\n",
       "    </tr>\n",
       "  </tbody>\n",
       "</table>\n",
       "<p>832 rows × 4 columns</p>\n",
       "</div>"
      ],
      "text/plain": [
       "              MAIRE   GENRE_BOTA        ESPECE    0\n",
       "0    Alain CARIGNON     Platanus    acerifolia  606\n",
       "1    Alain CARIGNON     Carpinus       betulus  366\n",
       "2    Alain CARIGNON  Liquidambar   styraciflua  299\n",
       "3    Alain CARIGNON        Pinus         nigra  176\n",
       "4    Alain CARIGNON        Tilia     tomentosa  147\n",
       "..              ...          ...           ...  ...\n",
       "827    Paul MISTRAL         Olea      europaea    1\n",
       "828    Paul MISTRAL       Betula     verrucosa    1\n",
       "829    Paul MISTRAL        Fagus     sylvatica    1\n",
       "830    Paul MISTRAL    Diospyros         lotus    1\n",
       "831    Stephane JAY       Prunus  laurocerasus    1\n",
       "\n",
       "[832 rows x 4 columns]"
      ]
     },
     "execution_count": 19,
     "metadata": {},
     "output_type": "execute_result"
    }
   ],
   "source": [
    "df_maire.groupby([\"MAIRE\"])[[\"GENRE_BOTA\", \"ESPECE\"]].value_counts().reset_index()"
   ]
  },
  {
   "cell_type": "code",
   "execution_count": 20,
   "id": "1168c37c",
   "metadata": {},
   "outputs": [
    {
     "data": {
      "text/plain": [
       "(12074,)"
      ]
     },
     "execution_count": 20,
     "metadata": {},
     "output_type": "execute_result"
    }
   ],
   "source": [
    "df_maire[df_maire[\"MAIRE\"] == \"Hubert DUBEDOUT\"][\"MAIRE\"].shape"
   ]
  },
  {
   "cell_type": "code",
   "execution_count": 21,
   "id": "a7bec7d6",
   "metadata": {},
   "outputs": [
    {
     "data": {
      "text/plain": [
       "0        1977\n",
       "2        1975\n",
       "3        1978\n",
       "11       1980\n",
       "13       1982\n",
       "         ... \n",
       "31601    1970\n",
       "31602    1970\n",
       "31603    1970\n",
       "31604    1970\n",
       "31605    1970\n",
       "Name: ANNEEDEPLANTATION, Length: 12074, dtype: int64"
      ]
     },
     "execution_count": 21,
     "metadata": {},
     "output_type": "execute_result"
    }
   ],
   "source": [
    "df_maire[df_maire[\"MAIRE\"] == \"Hubert DUBEDOUT\"][\"ANNEEDEPLANTATION\"].astype(\"int\")"
   ]
  },
  {
   "cell_type": "markdown",
   "id": "c6b42b23",
   "metadata": {},
   "source": [
    "#  IV - Start Iteration 3"
   ]
  },
  {
   "cell_type": "code",
   "execution_count": 22,
   "id": "630e3785",
   "metadata": {},
   "outputs": [],
   "source": [
    "#df_maire.groupby([\"MAIRE\",\"GENRE_BOTA\"]).size().unstack().plot(kind='bar', stacked=True)"
   ]
  },
  {
   "cell_type": "code",
   "execution_count": 23,
   "id": "a92ad91f",
   "metadata": {},
   "outputs": [
    {
     "name": "stderr",
     "output_type": "stream",
     "text": [
      "/tmp/ipykernel_62209/830588910.py:1: SettingWithCopyWarning: \n",
      "A value is trying to be set on a copy of a slice from a DataFrame.\n",
      "Try using .loc[row_indexer,col_indexer] = value instead\n",
      "\n",
      "See the caveats in the documentation: https://pandas.pydata.org/pandas-docs/stable/user_guide/indexing.html#returning-a-view-versus-a-copy\n",
      "  df_maire[\"GENRE_ESPECE\"] = df_maire[\"GENRE_BOTA\"] + \" \" + df_maire[\"ESPECE\"]\n"
     ]
    }
   ],
   "source": [
    "df_maire[\"GENRE_ESPECE\"] = df_maire[\"GENRE_BOTA\"] + \" \" + df_maire[\"ESPECE\"]\n"
   ]
  },
  {
   "cell_type": "code",
   "execution_count": 24,
   "id": "42b2dc80",
   "metadata": {},
   "outputs": [
    {
     "data": {
      "text/plain": [
       "False    18271\n",
       "True     13342\n",
       "dtype: int64"
      ]
     },
     "execution_count": 24,
     "metadata": {},
     "output_type": "execute_result"
    }
   ],
   "source": [
    "mask_1 = df_maire[\"GENRE_BOTA\"].isin(genus_prbm)\n",
    "mask_2 = df_maire[\"GENRE_ESPECE\"].isin(sp_prbm) + df_maire[\"GENRE_BOTA\"].isin(sp_inv)\n",
    "mask = mask_1 + mask_2\n",
    "mask.value_counts()"
   ]
  },
  {
   "cell_type": "code",
   "execution_count": 25,
   "id": "886cd86d",
   "metadata": {},
   "outputs": [
    {
     "data": {
      "text/plain": [
       "18271"
      ]
     },
     "execution_count": 25,
     "metadata": {},
     "output_type": "execute_result"
    }
   ],
   "source": [
    "goodSpecies = int(mask.value_counts()[0])\n",
    "badSpecies = int(mask.value_counts()[1])\n",
    "\n",
    "proportionGood = round(goodSpecies/(goodSpecies+badSpecies)*100,2)\n",
    "proportionGood\n",
    "goodSpecies"
   ]
  },
  {
   "cell_type": "markdown",
   "id": "b33c8b9e",
   "metadata": {},
   "source": [
    "## Graphic representation"
   ]
  },
  {
   "cell_type": "markdown",
   "id": "62c87bd6",
   "metadata": {},
   "source": [
    "### Standart bar plot"
   ]
  },
  {
   "cell_type": "code",
   "execution_count": 26,
   "id": "62d0647e",
   "metadata": {},
   "outputs": [
    {
     "name": "stdout",
     "output_type": "stream",
     "text": [
      "\u001b[0;36m The year where we find the more different species is --> \u001b[1;32m 1975.0 \u001b[0;36m <--\n"
     ]
    }
   ],
   "source": [
    "newDf = df_maire.groupby([\"MAIRE\", \"ANNEEDEPLANTATION\"])[[\"GENRE_BOTA\", \"ESPECE\"]]\\\n",
    "        .value_counts().reset_index()\n",
    "df_maire.groupby(\"ANNEEDEPLANTATION\").count()[\"ESPECE\"].idxmax()\n",
    "print(CYAN, \"The year where we find the more different species is -->\"\\\n",
    "     , VERTCLAIR, df_maire.groupby(\"ANNEEDEPLANTATION\").count()[\"ESPECE\"].idxmax(), CYAN, \"<--\" )"
   ]
  },
  {
   "cell_type": "code",
   "execution_count": 27,
   "id": "2a544704",
   "metadata": {},
   "outputs": [],
   "source": [
    "df_year_count = df_maire[\"ANNEEDEPLANTATION\"]\n",
    "df_year_count.value_counts().to_frame().sort_index(ascending=True)\n",
    "df = df_year_count.value_counts().sort_index()\n",
    "df\n",
    "\n",
    "years = df_year_count.value_counts().to_frame().sort_index(ascending=True).index.tolist()\n",
    "trees = df_year_count.value_counts().to_frame().sort_index(ascending=True)[\"ANNEEDEPLANTATION\"].tolist()"
   ]
  },
  {
   "cell_type": "code",
   "execution_count": 28,
   "id": "50aa08f1",
   "metadata": {},
   "outputs": [
    {
     "data": {
      "text/plain": [
       "1900.0        4\n",
       "1924.0       15\n",
       "1944.0       42\n",
       "1950.0      444\n",
       "1955.0      562\n",
       "          ...  \n",
       "2017.0    29207\n",
       "2018.0    29982\n",
       "2019.0    30070\n",
       "2020.0    30172\n",
       "2021.0    30175\n",
       "Name: ANNEEDEPLANTATION, Length: 65, dtype: int64"
      ]
     },
     "execution_count": 28,
     "metadata": {},
     "output_type": "execute_result"
    }
   ],
   "source": [
    "df.cumsum()"
   ]
  },
  {
   "cell_type": "code",
   "execution_count": null,
   "id": "cde09ab4",
   "metadata": {},
   "outputs": [],
   "source": []
  },
  {
   "cell_type": "code",
   "execution_count": 71,
   "id": "3d74adc8",
   "metadata": {},
   "outputs": [
    {
     "data": {
      "text/plain": [
       "<matplotlib.legend.Legend at 0x7f5021b5ad00>"
      ]
     },
     "execution_count": 71,
     "metadata": {},
     "output_type": "execute_result"
    },
    {
     "data": {
      "image/png": "[encoded data removed]",
      "text/plain": [
       "<Figure size 1200x800 with 2 Axes>"
      ]
     },
     "metadata": {},
     "output_type": "display_data"
    }
   ],
   "source": [
    "#plt.rcParams.update({'font.size': 18})\n",
    "plt.rcParams[\"legend.frameon\"]\n",
    "colors = mcolors.CSS4_COLORS\n",
    "color1 = \"olivedrab\"\n",
    "color2 = \"mediumpurple\"\n",
    "\n",
    "fig = plt.figure(figsize=(12, 8))\n",
    "fig.suptitle(\"Evolution du nombre d'arbre pas année\", fontsize=20)\n",
    "ax = fig.subplots()\n",
    "\n",
    "ax=df.cumsum().plot(kind=\"area\", color=colors[color1], alpha=0.8)\n",
    "\n",
    "ax.set_xlabel(\"Années\", loc=\"center\")\n",
    "ax.set_xlim([1900, 2021])\n",
    "\n",
    "ax.set_ylabel(\"Nombre d'arbres plantés\", loc=\"center\", c=colors[color1])\n",
    "ax.set_ylim([0, 32000])\n",
    "#ax.yaxis.label.set_color(colors[\"olivedrab\"])\n",
    "ax.set_ylabel('Abres cumulés', fontsize=20)\n",
    "ax.tick_params(axis='y', colors=colors[color1], size=10, labelsize=12)\n",
    "\n",
    "\n",
    "ax2 = ax.twinx()  # instantiate a second axes that shares the same x-axis\n",
    "#ax2.fill(df, facecolor='lightsalmon', edgecolor='orangered', linewidth=1)\n",
    "ax2=df.plot(kind=\"area\", color=colors[color2], alpha=0.4)\n",
    "ax2.set_ylabel(\"Arbres\", c=colors[color2], fontsize=20)  # we already handled the x-label with ax1\n",
    "ax2.set_ylim([0, 4000])\n",
    "ax2.yaxis.label.set_color(colors[color2])\n",
    "ax2.tick_params(axis='y', colors=colors[color2])\n",
    "\n",
    "fig.legend(loc=(0.68, 0.8))\n",
    "\n"
   ]
  },
  {
   "cell_type": "code",
   "execution_count": 64,
   "id": "949d4a1d",
   "metadata": {},
   "outputs": [
    {
     "data": {
      "text/plain": [
       "<AxesSubplot:ylabel='Frequency'>"
      ]
     },
     "execution_count": 64,
     "metadata": {},
     "output_type": "execute_result"
    },
    {
     "data": {
      "image/png": "[encoded data removed]",
      "text/plain": [
       "<Figure size 640x480 with 1 Axes>"
      ]
     },
     "metadata": {},
     "output_type": "display_data"
    }
   ],
   "source": [
    "df.plot(kind=\"hist\", bins=100)"
   ]
  },
  {
   "cell_type": "code",
   "execution_count": null,
   "id": "16c9b314",
   "metadata": {},
   "outputs": [],
   "source": []
  }
 ],
 "metadata": {
  "kernelspec": {
   "display_name": "Python 3 (ipykernel)",
   "language": "python",
   "name": "python3"
  },
  "language_info": {
   "codemirror_mode": {
    "name": "ipython",
    "version": 3
   },
   "file_extension": ".py",
   "mimetype": "text/x-python",
   "name": "python",
   "nbconvert_exporter": "python",
   "pygments_lexer": "ipython3",
   "version": "3.9.13"
  }
 },
 "nbformat": 4,
 "nbformat_minor": 5
}
