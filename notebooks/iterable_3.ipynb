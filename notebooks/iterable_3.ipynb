{
 "cells": [
  {
   "cell_type": "code",
   "execution_count": 1,
   "id": "7336ef9d",
   "metadata": {},
   "outputs": [],
   "source": [
    "import pandas as pd\n",
    "import numpy as np"
   ]
  },
  {
   "cell_type": "code",
   "execution_count": 2,
   "id": "0b0f2b39",
   "metadata": {},
   "outputs": [],
   "source": [
    "file_path = '../data/ESP_PUBLIC.IDENTITE_ARBRE.csv'\n",
    "df = pd.read_csv(file_path, sep=',', header = 0, index_col=False)"
   ]
  },
  {
   "cell_type": "code",
   "execution_count": 4,
   "id": "035806fd",
   "metadata": {},
   "outputs": [],
   "source": [
    "# df.head(50)"
   ]
  },
  {
   "cell_type": "markdown",
   "id": "4ec357bf",
   "metadata": {},
   "source": [
    "\n"
   ]
  },
  {
   "cell_type": "code",
   "execution_count": 7,
   "id": "220c3898",
   "metadata": {},
   "outputs": [
    {
     "data": {
      "text/plain": [
       "['ELEM_POINT_ID',\n",
       " 'CODE',\n",
       " 'NOM',\n",
       " 'GENRE',\n",
       " 'GENRE_DESC',\n",
       " 'CATEGORIE',\n",
       " 'CATEGORIE_DESC',\n",
       " 'SOUS_CATEGORIE',\n",
       " 'SOUS_CATEGORIE_DESC',\n",
       " 'CODE_PARENT',\n",
       " 'CODE_PARENT_DESC',\n",
       " 'ADR_SECTEUR',\n",
       " 'BIEN_REFERENCE',\n",
       " 'GENRE_BOTA',\n",
       " 'ESPECE',\n",
       " 'VARIETE',\n",
       " 'STADEDEDEVELOPPEMENT',\n",
       " 'EQUIPE',\n",
       " 'REMARQUES',\n",
       " 'ANNEEDEPLANTATION',\n",
       " 'RAISONDEPLANTATION',\n",
       " 'TRAITEMENTCHENILLES',\n",
       " 'COURRIER',\n",
       " 'IDENTIFIANTPLU',\n",
       " 'TYPEIMPLANTATIONPLU',\n",
       " 'INTITULEPROTECTIONPLU',\n",
       " 'ANNEEABATTAGE',\n",
       " 'ESSOUCHEMENT',\n",
       " 'DIAMETREARBRE',\n",
       " 'CAUSEABATTAGE',\n",
       " 'COLLECTIVITE',\n",
       " 'GeoJSON']"
      ]
     },
     "execution_count": 7,
     "metadata": {},
     "output_type": "execute_result"
    }
   ],
   "source": [
    "coloumn_interest \n",
    "list(df.columns[:])"
   ]
  },
  {
   "cell_type": "code",
   "execution_count": null,
   "id": "345d67e7",
   "metadata": {},
   "outputs": [],
   "source": []
  }
 ],
 "metadata": {
  "kernelspec": {
   "display_name": "Python 3 (ipykernel)",
   "language": "python",
   "name": "python3"
  },
  "language_info": {
   "codemirror_mode": {
    "name": "ipython",
    "version": 3
   },
   "file_extension": ".py",
   "mimetype": "text/x-python",
   "name": "python",
   "nbconvert_exporter": "python",
   "pygments_lexer": "ipython3",
   "version": "3.9.13"
  }
 },
 "nbformat": 4,
 "nbformat_minor": 5
}
