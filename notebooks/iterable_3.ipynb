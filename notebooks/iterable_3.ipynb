{
 "cells": [
  {
   "cell_type": "code",
   "execution_count": 8,
   "id": "7336ef9d",
   "metadata": {},
   "outputs": [],
   "source": [
    "import pandas as pd\n",
    "import numpy as np\n",
    "import plotly as px"
   ]
  },
  {
   "cell_type": "code",
   "execution_count": 42,
   "id": "2e7a30ab",
   "metadata": {},
   "outputs": [],
   "source": [
    "first_color = \"#155263\" \n",
    "second_color = \"#ff6f3c\" \n",
    "third_color = \"#ff9a3c\"\n",
    "fourth_color = \"#ffc93c\""
   ]
  },
  {
   "cell_type": "markdown",
   "id": "720e98cf",
   "metadata": {},
   "source": [
    "# I - Import data"
   ]
  },
  {
   "cell_type": "code",
   "execution_count": 19,
   "id": "0b0f2b39",
   "metadata": {},
   "outputs": [],
   "source": [
    "# This csv is imported with a value added in the last ligne\n",
    "# There was originally a missing value\n",
    "# Here in a csv : In last rows / col 1 : 30032 was added\n",
    "file_path = '../data/ESP_PUBLIC.IDENTITE_ARBRE.csv'\n",
    "df = pd.read_csv(file_path, sep=',', header = 0, index_col=False)\n",
    "dff = df"
   ]
  },
  {
   "cell_type": "markdown",
   "id": "b931d16d",
   "metadata": {},
   "source": [
    "# II - Computations"
   ]
  },
  {
   "cell_type": "markdown",
   "id": "4cdb658c",
   "metadata": {},
   "source": [
    "### 1 - Pandas play"
   ]
  },
  {
   "cell_type": "code",
   "execution_count": 57,
   "id": "986c6e5a",
   "metadata": {},
   "outputs": [],
   "source": [
    "# Convert the column year from FLOAT --> INT\n",
    "# --> Not working because of Nan : dff[\"ANNEEDEPLANTATION\"].astype(\"int\")\n",
    "missing_year = dff[\"ANNEEDEPLANTATION\"].isnull().value_counts()[1]\n",
    "print()\n",
    "# dff[\"ANNEEDEPLANTATION\"].value_counts()[key]\n"
   ]
  },
  {
   "cell_type": "code",
   "execution_count": 39,
   "id": "81572485",
   "metadata": {},
   "outputs": [
    {
     "ename": "NameError",
     "evalue": "name 'dfd' is not defined",
     "output_type": "error",
     "traceback": [
      "\u001b[0;31m---------------------------------------------------------------------------\u001b[0m",
      "\u001b[0;31mNameError\u001b[0m                                 Traceback (most recent call last)",
      "\u001b[0;32m/tmp/ipykernel_6280/3519389742.py\u001b[0m in \u001b[0;36m<module>\u001b[0;34m\u001b[0m\n\u001b[1;32m      1\u001b[0m \u001b[0mdff\u001b[0m\u001b[0;34m\u001b[0m\u001b[0;34m\u001b[0m\u001b[0m\n\u001b[0;32m----> 2\u001b[0;31m \u001b[0mdfd\u001b[0m\u001b[0;34m.\u001b[0m\u001b[0msort_values\u001b[0m\u001b[0;34m(\u001b[0m\u001b[0mby\u001b[0m\u001b[0;34m=\u001b[0m\u001b[0;34m\"ANNEEDEPLANTATION\"\u001b[0m\u001b[0;34m)\u001b[0m\u001b[0;34m\u001b[0m\u001b[0;34m\u001b[0m\u001b[0m\n\u001b[0m",
      "\u001b[0;31mNameError\u001b[0m: name 'dfd' is not defined"
     ]
    }
   ],
   "source": [
    "dff\n",
    "dff.sort_values(by=\"ANNEEDEPLANTATION\")"
   ]
  },
  {
   "cell_type": "code",
   "execution_count": null,
   "id": "e4ffc3b2",
   "metadata": {},
   "outputs": [],
   "source": [
    "\n",
    "\n"
   ]
  },
  {
   "cell_type": "code",
   "execution_count": null,
   "id": "75dfec86",
   "metadata": {},
   "outputs": [],
   "source": []
  },
  {
   "cell_type": "code",
   "execution_count": null,
   "id": "b21e3f03",
   "metadata": {},
   "outputs": [],
   "source": []
  }
 ],
 "metadata": {
  "kernelspec": {
   "display_name": "Python 3 (ipykernel)",
   "language": "python",
   "name": "python3"
  },
  "language_info": {
   "codemirror_mode": {
    "name": "ipython",
    "version": 3
   },
   "file_extension": ".py",
   "mimetype": "text/x-python",
   "name": "python",
   "nbconvert_exporter": "python",
   "pygments_lexer": "ipython3",
   "version": "3.9.13"
  }
 },
 "nbformat": 4,
 "nbformat_minor": 5
}
