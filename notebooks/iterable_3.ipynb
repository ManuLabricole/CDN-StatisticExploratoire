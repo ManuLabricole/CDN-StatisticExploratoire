{
 "cells": [
  {
   "cell_type": "code",
   "execution_count": 164,
   "id": "7336ef9d",
   "metadata": {},
   "outputs": [],
   "source": [
    "import pandas as pd\n",
    "import numpy as np\n",
    "import plotly as px\n",
    "from colorama import Fore, Back, Style\n",
    "import json"
   ]
  },
  {
   "cell_type": "code",
   "execution_count": 144,
   "id": "04a0d8b2",
   "metadata": {},
   "outputs": [],
   "source": [
    "# Couleurs diverses\n",
    "VERT='\\033[0;32m' # vert mince\n",
    "BLANC='\\033[1;37m' # blanc gras\n",
    "DEFAUT='\\033[0;m' # couleur console par defaut\n",
    "NOIR='\\033[0;30m' # noir mince\n",
    "ROUGE='\\033[0;31m' # rouge mince\n",
    "MARRON='\\033[0;33m' # marron mince\n",
    "BLEU='\\033[0;34m' # bleu fonce mince\n",
    "VIOLET='\\033[0;35m' # violet mince\n",
    "CYAN='\\033[0;36m' # cyan mince\n",
    "GRIS='\\033[0;37m' # gris clair mince\n",
    "BLANCLEGER='\\033[0;38m' # blanc mince\n",
    "ROUGECLAIR='\\033[1;31m' # rouge clair gras\n",
    "VERTCLAIR='\\033[1;32m' # vert clair gras\n",
    "JAUNE='\\033[1;33m' # jaune gras\n",
    "BLEUCLAIR='\\033[1;34m' # bleu clair gras\n",
    "ROSE='\\033[1;35m' # rose clair gras\n",
    "CYANCLAIR='\\033[1;36m' # cyan clair gras"
   ]
  },
  {
   "cell_type": "markdown",
   "id": "e8b20028",
   "metadata": {},
   "source": [
    "# I - Import data"
   ]
  },
  {
   "cell_type": "code",
   "execution_count": 145,
   "id": "0b0f2b39",
   "metadata": {},
   "outputs": [],
   "source": [
    "# This csv is imported with a value added in the last ligne\n",
    "# There was originally a missing value\n",
    "# Here in a csv : In last rows / col 1 : 30032 was added\n",
    "file_path = '../data/ESP_PUBLIC.IDENTITE_ARBRE.csv'\n",
    "df = pd.read_csv(file_path, sep=',', header = 0, index_col=False)\n",
    "dff = df"
   ]
  },
  {
   "cell_type": "markdown",
   "id": "75ddbc0e",
   "metadata": {},
   "source": [
    "# II - Computations"
   ]
  },
  {
   "cell_type": "markdown",
   "id": "563433d7",
   "metadata": {},
   "source": [
    "##### Missing years for plantation"
   ]
  },
  {
   "cell_type": "code",
   "execution_count": 146,
   "id": "5b08fa59",
   "metadata": {},
   "outputs": [
    {
     "name": "stdout",
     "output_type": "stream",
     "text": [
      "\u001b[1;36m Total of Trees --> \u001b[1;34m 31619 \u001b[1;36m <-- with total of --> \u001b[1;34m 1438 \u001b[1;36m <-- missing years\n"
     ]
    }
   ],
   "source": [
    "# Convert the column year from FLOAT --> INT\n",
    "# --> Not working because of Nan : dff[\"ANNEEDEPLANTATION\"].astype(\"int\")\n",
    "missingYear = dff[\"ANNEEDEPLANTATION\"].isnull().value_counts()[1]\n",
    "numberOfTree = dff[\"ANNEEDEPLANTATION\"].size\n",
    "\n",
    "print(CYANCLAIR, \"Total of Trees -->\", BLEUCLAIR, numberOfTree, \\\n",
    "      CYANCLAIR, \"<-- with total of -->\", BLEUCLAIR, missingYear,\\\n",
    "      CYANCLAIR, \"<-- missing years\")"
   ]
  },
  {
   "cell_type": "markdown",
   "id": "8e3dbeca",
   "metadata": {},
   "source": [
    "##### Total of trees for specific year"
   ]
  },
  {
   "cell_type": "code",
   "execution_count": 153,
   "id": "57d15ac8",
   "metadata": {},
   "outputs": [
    {
     "data": {
      "text/plain": [
       "0        1977\n",
       "1        2001\n",
       "2        1975\n",
       "3        1978\n",
       "4        1960\n",
       "         ... \n",
       "31614    2014\n",
       "31615    2014\n",
       "31616    2014\n",
       "31617    2014\n",
       "31618    1995\n",
       "Name: ANNEEDEPLANTATION, Length: 31619, dtype: int64"
      ]
     },
     "execution_count": 153,
     "metadata": {},
     "output_type": "execute_result"
    }
   ],
   "source": [
    "# First replace the .nan by float(0)\n",
    "# After that convert float to int\n",
    "dff[\"ANNEEDEPLANTATION\"].fillna(0).astype(\"int\")"
   ]
  },
  {
   "cell_type": "code",
   "execution_count": 152,
   "id": "fd93cf21",
   "metadata": {},
   "outputs": [
    {
     "name": "stdout",
     "output_type": "stream",
     "text": [
      "\u001b[1;36m The first tree was planted in --> \u001b[1;34m 1900\n",
      "\u001b[1;36m The last tree was planted in ---> \u001b[1;34m 2021\n"
     ]
    }
   ],
   "source": [
    "firstYearPlanted = int(dff[\"ANNEEDEPLANTATION\"].min())\n",
    "lastYearPlanted = int(dff[\"ANNEEDEPLANTATION\"].max())\n",
    "print(CYANCLAIR, \"The first tree was planted in -->\", BLEUCLAIR, firstYearPlanted)\n",
    "print(CYANCLAIR, \"The last tree was planted in --->\", BLEUCLAIR, lastYearPlanted)"
   ]
  },
  {
   "cell_type": "markdown",
   "id": "e7974d5f",
   "metadata": {},
   "source": [
    "##### Study by years"
   ]
  },
  {
   "cell_type": "code",
   "execution_count": 158,
   "id": "13fe17ab",
   "metadata": {},
   "outputs": [
    {
     "data": {
      "text/plain": [
       "ANNEEDEPLANTATION\n",
       "1975.0               3631\n",
       "2001.0               1488\n",
       "1980.0               1445\n",
       "1970.0               1366\n",
       "2015.0               1012\n",
       "                     ... \n",
       "1959.0                 16\n",
       "1924.0                 11\n",
       "1964.0                  6\n",
       "1900.0                  4\n",
       "2021.0                  3\n",
       "Length: 65, dtype: int64"
      ]
     },
     "execution_count": 158,
     "metadata": {},
     "output_type": "execute_result"
    }
   ],
   "source": [
    "df_years = dff[[\"ANNEEDEPLANTATION\"]]\n",
    "df_years.value_counts()"
   ]
  },
  {
   "cell_type": "markdown",
   "id": "d4e4bcef",
   "metadata": {},
   "source": [
    "Depuis 2014\tM. Eric PIOLLE\n",
    "De 1995 à 2014\tM. Michel DESTOT\n",
    "De 1983 à 1995\tM. Alain CARIGNON\n",
    "De mars 1965 à 1983\tM. Hubert DUBEDOUT\n",
    "De 1959 à mars 1965\tM. Albert MICHALLON\n",
    "Du 23 janvier 1949 à 1959\tM. Léon MARTIN\n",
    "Du 20 décembre 1948 au 23 janvier 1949\tM. Rémy PERINETTI\n",
    "De 1947 au 20 décembre 1948\tM. Marius BALLY\n",
    "De avril 1945 à 1947\tM. Léon MARTIN\n",
    "Du 23 août 1944 à avril 1945\tM. Frédéric LAFLEUR\n",
    "Du 12 mai 1935 au 23 août 1944\tM. Paul COCAT\n",
    "De 1932 au 12 mai 1935\tM. Léon MARTIN\n",
    "Du 11 décembre 1919 à 1932\tM. Paul MISTRAL\n",
    "De mai 1910 au 11 décembre 1919\tM. Nestor CORNIER\n",
    "De 1908 à mai 1910\tM. Félix VIALLET\n",
    "De 1904 à 1908\tM. Charles RIVAIL\n",
    "Du 4 novembre 1896 à 1904\tM. Stéphane JAY"
   ]
  },
  {
   "cell_type": "code",
   "execution_count": 161,
   "id": "434f6ec4",
   "metadata": {},
   "outputs": [],
   "source": [
    "mairesDict = {\n",
    "    \"Stephane JAY\" : [1896, 1904],\n",
    "    \"Charles RIVAIL\" : [1904, 1908],\n",
    "    \"Felix VIALLET\" : [1908, 1910],\n",
    "    \"Nestor CORNIER\" : [1910, 1919],\n",
    "    \"Paul MISTRAL\" : [1919, 1932],\n",
    "    \"Leon MARTIN\" : [1932, 1935],\n",
    "    \"Paul COCAT\" : [1935, 1944],\n",
    "    \"Fredric LAFLEUR\" : [1944, 1945],\n",
    "    \"Léon MARTIN\" : [1945, 1947],\n",
    "    \"Marius BALLY\" : [1947, 1948],\n",
    "    \"Rémy PERINETTI\" : [1948, 1949],\n",
    "    \"Léon MARTIN\" : [1949, 1959],\n",
    "    \"Albert MICHALLON\" : [1959, 1965],\n",
    "    \"Hubert DUBEDOUT\" : [1965, 1983],\n",
    "    \"Alain CARIGNON\" : [1983, 1995],\n",
    "    \"Michel DESTOT\" : [1995, 2014],\n",
    "    \"Eric PIOLLE\" : [2014, 2021],\n",
    "}"
   ]
  },
  {
   "cell_type": "code",
   "execution_count": 165,
   "id": "72ca399f",
   "metadata": {},
   "outputs": [
    {
     "name": "stdout",
     "output_type": "stream",
     "text": [
      "{\n",
      "  \"St\\u00e9phane JAY\": [\n",
      "    1896,\n",
      "    1904\n",
      "  ],\n",
      "  \"Charles RIVAIL\": [\n",
      "    1904,\n",
      "    1908\n",
      "  ],\n",
      "  \"F\\u00e9lix VIALLET\": [\n",
      "    1908,\n",
      "    1910\n",
      "  ],\n",
      "  \"Nestor CORNIER\": [\n",
      "    1910,\n",
      "    1919\n",
      "  ],\n",
      "  \"Paul MISTRAL\": [\n",
      "    1919,\n",
      "    1932\n",
      "  ],\n",
      "  \"L\\u00e9on MARTIN\": [\n",
      "    1949,\n",
      "    1959\n",
      "  ],\n",
      "  \"Paul COCAT\": [\n",
      "    1935,\n",
      "    1944\n",
      "  ],\n",
      "  \"Fr\\u00e9d\\u00e9ric LAFLEUR\": [\n",
      "    1944,\n",
      "    1945\n",
      "  ],\n",
      "  \"Marius BALLY\": [\n",
      "    1947,\n",
      "    1948\n",
      "  ],\n",
      "  \"R\\u00e9my PERINETTI\": [\n",
      "    1948,\n",
      "    1949\n",
      "  ],\n",
      "  \"Albert MICHALLON\": [\n",
      "    1959,\n",
      "    1965\n",
      "  ],\n",
      "  \"Hubert DUBEDOUT\": [\n",
      "    1965,\n",
      "    1983\n",
      "  ],\n",
      "  \"Alain CARIGNON\": [\n",
      "    1983,\n",
      "    1995\n",
      "  ],\n",
      "  \"Michel DESTOT\": [\n",
      "    1995,\n",
      "    2014\n",
      "  ],\n",
      "  \"Eric PIOLLE\": [\n",
      "    2014,\n",
      "    2021\n",
      "  ]\n",
      "}\n"
     ]
    }
   ],
   "source": [
    "print(json.dumps(mairesDict, indent=2))"
   ]
  },
  {
   "cell_type": "code",
   "execution_count": null,
   "id": "2b97ff9a",
   "metadata": {},
   "outputs": [],
   "source": []
  }
 ],
 "metadata": {
  "kernelspec": {
   "display_name": "Python 3 (ipykernel)",
   "language": "python",
   "name": "python3"
  },
  "language_info": {
   "codemirror_mode": {
    "name": "ipython",
    "version": 3
   },
   "file_extension": ".py",
   "mimetype": "text/x-python",
   "name": "python",
   "nbconvert_exporter": "python",
   "pygments_lexer": "ipython3",
   "version": "3.9.13"
  }
 },
 "nbformat": 4,
 "nbformat_minor": 5
}
