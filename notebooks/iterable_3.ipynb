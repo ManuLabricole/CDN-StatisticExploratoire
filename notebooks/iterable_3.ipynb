{
 "cells": [
  {
   "cell_type": "code",
   "execution_count": 90,
   "id": "7336ef9d",
   "metadata": {},
   "outputs": [],
   "source": [
    "import pandas as pd\n",
    "import numpy as np\n",
    "import plotly as px\n",
    "from colorama import Fore, Back, Style"
   ]
  },
  {
   "cell_type": "code",
   "execution_count": 110,
   "id": "97fd95cc",
   "metadata": {},
   "outputs": [],
   "source": [
    "# Couleurs diverses\n",
    "VERT='\\033[0;32m' # vert mince\n",
    "BLANC='\\033[1;37m' # blanc gras\n",
    "DEFAUT='\\033[0;m' # couleur console par defaut\n",
    "NOIR='\\033[0;30m' # noir mince\n",
    "ROUGE='\\033[0;31m' # rouge mince\n",
    "MARRON='\\033[0;33m' # marron mince\n",
    "BLEU='\\033[0;34m' # bleu fonce mince\n",
    "VIOLET='\\033[0;35m' # violet mince\n",
    "CYAN='\\033[0;36m' # cyan mince\n",
    "GRIS='\\033[0;37m' # gris clair mince\n",
    "BLANCLEGER='\\033[0;38m' # blanc mince\n",
    "ROUGECLAIR='\\033[1;31m' # rouge clair gras\n",
    "VERTCLAIR='\\033[1;32m' # vert clair gras\n",
    "JAUNE='\\033[1;33m' # jaune gras\n",
    "BLEUCLAIR='\\033[1;34m' # bleu clair gras\n",
    "ROSE='\\033[1;35m' # rose clair gras\n",
    "CYANCLAIR='\\033[1;36m' # cyan clair gras"
   ]
  },
  {
   "cell_type": "markdown",
   "id": "852d627c",
   "metadata": {},
   "source": [
    "# I - Import data"
   ]
  },
  {
   "cell_type": "code",
   "execution_count": 111,
   "id": "0b0f2b39",
   "metadata": {},
   "outputs": [],
   "source": [
    "# This csv is imported with a value added in the last ligne\n",
    "# There was originally a missing value\n",
    "# Here in a csv : In last rows / col 1 : 30032 was added\n",
    "file_path = '../data/ESP_PUBLIC.IDENTITE_ARBRE.csv'\n",
    "df = pd.read_csv(file_path, sep=',', header = 0, index_col=False)\n",
    "dff = df"
   ]
  },
  {
   "cell_type": "markdown",
   "id": "57172bcc",
   "metadata": {},
   "source": [
    "# II - Computations"
   ]
  },
  {
   "cell_type": "markdown",
   "id": "58e9806f",
   "metadata": {},
   "source": [
    "#### Missing years for plantation"
   ]
  },
  {
   "cell_type": "code",
   "execution_count": 131,
   "id": "60001865",
   "metadata": {},
   "outputs": [
    {
     "name": "stdout",
     "output_type": "stream",
     "text": [
      "\u001b[1;36m Total of Trees --> \u001b[1;34m 31619 \u001b[1;36m <-- with total of --> \u001b[1;34m 1438 \u001b[1;36m <-- missing years\n"
     ]
    }
   ],
   "source": [
    "# Convert the column year from FLOAT --> INT\n",
    "# --> Not working because of Nan : dff[\"ANNEEDEPLANTATION\"].astype(\"int\")\n",
    "missingYear = dff[\"ANNEEDEPLANTATION\"].isnull().value_counts()[1]\n",
    "numberOfTree = dff[\"ANNEEDEPLANTATION\"].size\n",
    "\n",
    "print(CYANCLAIR, \"Total of Trees -->\", BLEUCLAIR, numberOfTree, \\\n",
    "      CYANCLAIR, \"<-- with total of -->\", BLEUCLAIR, missingYear,\\\n",
    "      CYANCLAIR, \"<-- missing years\")"
   ]
  },
  {
   "cell_type": "markdown",
   "id": "572abf04",
   "metadata": {},
   "source": [
    "#### Total of trees for specific year"
   ]
  },
  {
   "cell_type": "code",
   "execution_count": null,
   "id": "4d900770",
   "metadata": {},
   "outputs": [],
   "source": []
  },
  {
   "cell_type": "code",
   "execution_count": null,
   "id": "421e8962",
   "metadata": {},
   "outputs": [],
   "source": []
  },
  {
   "cell_type": "code",
   "execution_count": null,
   "id": "951907bf",
   "metadata": {},
   "outputs": [],
   "source": []
  }
 ],
 "metadata": {
  "kernelspec": {
   "display_name": "Python 3 (ipykernel)",
   "language": "python",
   "name": "python3"
  },
  "language_info": {
   "codemirror_mode": {
    "name": "ipython",
    "version": 3
   },
   "file_extension": ".py",
   "mimetype": "text/x-python",
   "name": "python",
   "nbconvert_exporter": "python",
   "pygments_lexer": "ipython3",
   "version": "3.9.13"
  }
 },
 "nbformat": 4,
 "nbformat_minor": 5
}
