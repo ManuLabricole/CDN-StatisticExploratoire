{
 "cells": [
  {
   "cell_type": "code",
   "execution_count": 229,
   "id": "0bf8675a",
   "metadata": {},
   "outputs": [],
   "source": [
    "import csv\n",
    "import numpy as np\n",
    "import matplotlib.pyplot as plt\n",
    "import matplotlib"
   ]
  },
  {
   "cell_type": "markdown",
   "id": "a214f27b",
   "metadata": {},
   "source": [
    "# Import csv"
   ]
  },
  {
   "cell_type": "code",
   "execution_count": 230,
   "id": "5092f841",
   "metadata": {},
   "outputs": [],
   "source": [
    "with open('../data/ESP_PUBLIC.IDENTITE_ARBRE.csv', newline='', encoding='utf-8-sig') as csvfile:\n",
    "    # use \",\" separator to generate column value as list element\n",
    "    # cs.reader return a class object of \"_csv.reader\"\n",
    "    dataTemp = csv.reader(csvfile, delimiter=',')\n",
    "    \n",
    "    # Use list() to convert the csv object into a list, of list, depending on how the object is built\n",
    "    # Hard to understand how list(csv_object) behaves \n",
    "    data = list(dataTemp)"
   ]
  },
  {
   "cell_type": "markdown",
   "id": "b54389ce",
   "metadata": {},
   "source": [
    "### Utils"
   ]
  },
  {
   "cell_type": "code",
   "execution_count": 231,
   "id": "d5781b37",
   "metadata": {},
   "outputs": [],
   "source": [
    "def add_missing_value(dataset:list) -> list:\n",
    "    datasetCopy = dataset\n",
    "    \n",
    "    if len(datasetCopy[len(datasetCopy)-1]) == 31:\n",
    "        datasetCopy[len(datasetCopy)-1].insert(0, \"30032\")\n",
    "        print(f\"Added a value in : {datasetCopy[len(datasetCopy)-1]}\")\n",
    "    #else:\n",
    "    #   print(f\"{datasetCopy[len(datasetCopy)-1]} was already added...\")\n",
    "    #   print(f\"{len(datasetCopy)-1} is the last rows of the dataset and should start with 'MISSING' value\")\n",
    "\n",
    "    return datasetCopy"
   ]
  },
  {
   "cell_type": "code",
   "execution_count": 232,
   "id": "64854a71",
   "metadata": {},
   "outputs": [],
   "source": [
    "def get_header(data:list) -> list:\n",
    "    if len(data) > 0:\n",
    "        return data[0]\n",
    "    else:\n",
    "        raise ValueError(\"The dataset sent is empty...\")"
   ]
  },
  {
   "cell_type": "code",
   "execution_count": 233,
   "id": "2a0dc0ee",
   "metadata": {},
   "outputs": [],
   "source": [
    "def get_dict_colName_colNum(data:list) -> dict:\n",
    "    dictTemp = {}\n",
    "    \n",
    "    for el in get_header(data):\n",
    "        dictTemp[el] = get_header(data).index(el)\n",
    "        \n",
    "    return dictTemp\n",
    "# print(get_dict_colName_colNum(dataset))"
   ]
  },
  {
   "cell_type": "code",
   "execution_count": 234,
   "id": "78048e64",
   "metadata": {},
   "outputs": [],
   "source": [
    "def is_in_header(colName:str, data:list) -> bool:\n",
    "    return colName in get_header(data)\n",
    "# print(is_in_header(\"GENRE_DESC\", dataset))"
   ]
  },
  {
   "cell_type": "code",
   "execution_count": 235,
   "id": "7407c4e8",
   "metadata": {},
   "outputs": [],
   "source": [
    "red = \"\\033[1;31m\"\n",
    "blue = \"\\033[1;34m\"\n",
    "green = \"\\033[1;32m\"\n",
    "no_color = \"\\033[0m\"\n",
    "\n",
    "def print_dict(dictToPrint:dict):\n",
    "    for key in dictToPrint.keys () :\n",
    "        print (red, key, blue, out [key])\n",
    "    print (no_color)"
   ]
  },
  {
   "cell_type": "code",
   "execution_count": 236,
   "id": "e7740f90",
   "metadata": {},
   "outputs": [
    {
     "name": "stdout",
     "output_type": "stream",
     "text": [
      "Added a value in : ['30032', 'ESP14073', 'ESP14073', 'VEG', 'VEGETATION', 'ESP01', 'Arbre', 'ESP151', 'Arbre de voirie', 'ESP336', 'R M Gontard angle M Deprez', '2', 'AR14073', 'Prunus', 'serrulata', '', 'Arbre adulte', '', '', '1995', '', '', '', '', '', '', '', '', '', '', 'Grenoble Alpes Métropole', '{\"type\":\"Point\",\"coordinates\":[5.72422659146747,45.1920566916671]}']\n"
     ]
    }
   ],
   "source": [
    "dataset = add_missing_value(data)"
   ]
  },
  {
   "cell_type": "markdown",
   "id": "e800fa28",
   "metadata": {},
   "source": [
    "# Enoncé"
   ]
  },
  {
   "cell_type": "markdown",
   "id": "2de86489",
   "metadata": {},
   "source": [
    "Objectifs de l’activité\n",
    "\n",
    "● Analyser la répartition des espèces d’arbres à Grenoble, l’évolution de cette\n",
    "diversité au cours du temps, comparaison avec les objectifs de la Métro en termes\n",
    "de diversification des espèces.\n",
    "\n",
    "● Utilisation d’autres structures de données : Sets, Dict\n",
    "\n",
    "Contexte\n",
    "Diversifier les essences d’arbres en ville est crucial pour de nombreuses raisons :\n",
    "résilience des écosystèmes urbains, lutte contre les îlots de chaleur, renouvellement de\n",
    "l’air, etc. Or, le constat fait par la Métropole d"
   ]
  },
  {
   "cell_type": "markdown",
   "id": "2131557a",
   "metadata": {},
   "source": [
    "## ● Pour commencer, identifiez tous les genres botaniques représentés à Grenoble.\n",
    "Combien y en a-t-il ? Essayez plusieurs manières de résoudre ce problème."
   ]
  },
  {
   "cell_type": "markdown",
   "id": "2ab95759",
   "metadata": {},
   "source": [
    "## Utils"
   ]
  },
  {
   "cell_type": "code",
   "execution_count": 237,
   "id": "84f59906",
   "metadata": {},
   "outputs": [],
   "source": [
    "def get_col_value_from_name(colName:str, data:list) -> str:\n",
    "    \n",
    "    if is_in_header(colName, data):\n",
    "        return get_dict_colName_colNum(data)[colName]"
   ]
  },
  {
   "cell_type": "code",
   "execution_count": 238,
   "id": "77c8329f",
   "metadata": {},
   "outputs": [],
   "source": [
    "def get_col_values(colName:str, data:list) -> list:\n",
    "    \n",
    "    col = [el[get_col_value_from_name(colName, data)] for el in data]\n",
    "    \n",
    "    return col"
   ]
  },
  {
   "cell_type": "code",
   "execution_count": 239,
   "id": "5777c84e",
   "metadata": {},
   "outputs": [],
   "source": [
    "def extract_different_values(column:list, columnDict:dict) -> list:\n",
    "    noNanList = []\n",
    "    if column[0] in columnDict.keys():\n",
    "        #print(f\"{column[0]} is a Header not a value...\")\n",
    "        setList = list(set(column[1:]))\n",
    "        \n",
    "        for el in setList:\n",
    "            if not el:\n",
    "                pass\n",
    "            else:\n",
    "                noNanList.append(el)\n",
    "    return noNanList"
   ]
  },
  {
   "cell_type": "markdown",
   "id": "47cddbb1",
   "metadata": {},
   "source": [
    "## Computation"
   ]
  },
  {
   "cell_type": "markdown",
   "id": "b1aadd54",
   "metadata": {},
   "source": [
    "#### Extract column genre_bota values"
   ]
  },
  {
   "cell_type": "code",
   "execution_count": 240,
   "id": "33bd0162",
   "metadata": {},
   "outputs": [
    {
     "name": "stdout",
     "output_type": "stream",
     "text": [
      "\u001b[1;34m  There are --> 119 <-- different Genre Botanic\n"
     ]
    }
   ],
   "source": [
    "columnDict = get_dict_colName_colNum(dataset)\n",
    "colGenreBota = get_col_values(colName = \"GENRE_BOTA\", data = dataset)\n",
    "genreBotaList = extract_different_values(column = colGenre_Bota, columnDict = columnDict)\n",
    "print(blue, f\" There are --> {len(genreBotaList)} <-- different Genre Botanic\")"
   ]
  },
  {
   "cell_type": "code",
   "execution_count": 241,
   "id": "8e909faa",
   "metadata": {},
   "outputs": [],
   "source": [
    "if \"serrulata\" in dataset:\n",
    "    print(\"yes\")"
   ]
  },
  {
   "cell_type": "code",
   "execution_count": 242,
   "id": "2bb82df6",
   "metadata": {},
   "outputs": [
    {
     "data": {
      "text/plain": [
       "31620"
      ]
     },
     "execution_count": 242,
     "metadata": {},
     "output_type": "execute_result"
    }
   ],
   "source": [
    "len(dataset)"
   ]
  },
  {
   "cell_type": "markdown",
   "id": "1aa5d2de",
   "metadata": {},
   "source": [
    "## ● Identifiez maintenant toutes les espèces différentes présentes à Grenoble.\n",
    "N’oubliez pas que les espèces sont une sous catégorie de genre botanique !\n",
    "(l’espèce est ‘Platanus Acerifolia’ et pas uniquement ‘Acerifolia’)"
   ]
  },
  {
   "cell_type": "code",
   "execution_count": 243,
   "id": "5df1ba57",
   "metadata": {},
   "outputs": [
    {
     "name": "stdout",
     "output_type": "stream",
     "text": [
      "\u001b[1;34m  There are --> 280 <-- different Genre Botanic\n"
     ]
    }
   ],
   "source": [
    "colEspece = get_col_values(colName = \"ESPECE\",data = dataset)\n",
    "especeList = extract_different_values(column = colEspece, columnDict = columnDict)\n",
    "print(blue, f\" There are --> {len(especeList)} <-- different Genre Botanic\")"
   ]
  },
  {
   "cell_type": "markdown",
   "id": "ad576c78",
   "metadata": {},
   "source": [
    "## ● En utilisant la structure de données Dict compter le nombre de représentants de chaque genre botanique :"
   ]
  },
  {
   "cell_type": "markdown",
   "id": "45aec09c",
   "metadata": {},
   "source": [
    "### ○ Quel est le genre botanique le plus représenté ?"
   ]
  },
  {
   "cell_type": "code",
   "execution_count": 244,
   "id": "5a40dc5e",
   "metadata": {},
   "outputs": [],
   "source": [
    "def count_values_in_col(colimn:list) -> dict:\n",
    "    dictOfValue = {}\n",
    "    for el in colGenre_Bota[1:]:\n",
    "        # If the key is \"\" we donèt take into account\n",
    "        if el:\n",
    "            if el not in dictOfValue.keys():\n",
    "                dictOfValue[el] = 1\n",
    "            else:\n",
    "                dictOfValue[el] += 1\n",
    "    return dictOfValue"
   ]
  },
  {
   "cell_type": "code",
   "execution_count": 245,
   "id": "3dc18cf6",
   "metadata": {},
   "outputs": [],
   "source": [
    "dictGenreBota_value = count_values_in_col(colGenre_Bota)"
   ]
  },
  {
   "cell_type": "code",
   "execution_count": 246,
   "id": "92af8338",
   "metadata": {},
   "outputs": [
    {
     "name": "stdout",
     "output_type": "stream",
     "text": [
      "\n",
      " \u001b[1;34m The botanic genre --> Acer <-- is the more represented with --> 5055 <-- trees.\n"
     ]
    }
   ],
   "source": [
    "max_value = max(dictGenreBota_value, key=lambda x:dictGenreBota_value[x])\n",
    "\n",
    "print(\"\\n\", blue, f\"The botanic genre --> {max_value} <-- is the more represented with --> {dictGenreBota_value[max_value]} <-- trees.\")\n"
   ]
  },
  {
   "cell_type": "markdown",
   "id": "32a63b7d",
   "metadata": {},
   "source": [
    "### ○ Listez tous les représentants uniques de leurs genre botanique"
   ]
  },
  {
   "cell_type": "code",
   "execution_count": 247,
   "id": "56ec7f6e",
   "metadata": {},
   "outputs": [],
   "source": [
    "unique = [el for el in dictGenreBota_value if dictGenreBota_value[el] == 1]"
   ]
  },
  {
   "cell_type": "code",
   "execution_count": 250,
   "id": "6c82d2ff",
   "metadata": {},
   "outputs": [
    {
     "name": "stdout",
     "output_type": "stream",
     "text": [
      "\u001b[1;34m Acacia \u001b[1;31m 1\n",
      "\u001b[1;34m Pseudotsuga \u001b[1;31m 1\n",
      "\u001b[1;34m Poncinos \u001b[1;31m 1\n",
      "\u001b[1;34m Sciadopitys \u001b[1;31m 1\n",
      "\u001b[1;34m Sorbopyrus \u001b[1;31m 1\n",
      "\u001b[1;34m Eucalyptus \u001b[1;31m 1\n",
      "\u001b[1;34m Castanea \u001b[1;31m 1\n",
      "\u001b[1;34m Sterculia \u001b[1;31m 1\n",
      "\u001b[1;34m Laurus \u001b[1;31m 1\n",
      "\u001b[1;34m Staphylea \u001b[1;31m 1\n",
      "\u001b[1;34m Rhamnus \u001b[1;31m 1\n",
      "\u001b[1;34m Nyssa \u001b[1;31m 1\n",
      "\n",
      "\n",
      "\u001b[1;34m There are :  \u001b[1;31m 12 \u001b[1;34m  genre represented by only one tree.\n",
      " For a total of  \u001b[1;31m 119 \u001b[1;34m different genre\n"
     ]
    }
   ],
   "source": [
    "for el in unique:\n",
    "    print(blue, el, red, \"1\")\n",
    "print(\"\\n\")\n",
    "print(blue,\"There are : \", red, len(unique), blue, \" genre represented by only one tree.\")\n",
    "print(\" For a total of \", red, len(dictGenreBota_value), blue, \"different genre\")"
   ]
  },
  {
   "cell_type": "markdown",
   "id": "377bce4a",
   "metadata": {},
   "source": [
    "### Classer tous les genres botaniques en fonction de leur nombre (ordre décroissant)"
   ]
  },
  {
   "cell_type": "markdown",
   "id": "119076c5",
   "metadata": {},
   "source": [
    "Play with the parameter \"reverse\" to re"
   ]
  },
  {
   "cell_type": "code",
   "execution_count": 265,
   "id": "da74fd14",
   "metadata": {},
   "outputs": [],
   "source": [
    "dictGenreBota_value_sorted = dict(sorted(dictGenreBota_value.items(), key=lambda x:x[1], reverse=True))"
   ]
  },
  {
   "cell_type": "code",
   "execution_count": 266,
   "id": "d753bd45",
   "metadata": {},
   "outputs": [
    {
     "data": {
      "text/plain": [
       "{'Acer': 5055,\n",
       " 'Platanus': 4492,\n",
       " 'Pinus': 1962,\n",
       " 'Tilia': 1740,\n",
       " 'Fraxinus': 1505,\n",
       " 'Carpinus': 1220,\n",
       " 'Prunus': 1154,\n",
       " 'Betula': 1119,\n",
       " 'Populus': 840,\n",
       " 'Liquidambar': 811,\n",
       " 'Quercus': 809,\n",
       " 'Alnus': 761,\n",
       " 'Pyrus': 585,\n",
       " 'Liriodendron': 508,\n",
       " 'Magnolia': 502,\n",
       " 'Aesculus': 461,\n",
       " 'Sophora': 420,\n",
       " 'Cedrus': 416,\n",
       " 'Gleditsia': 378,\n",
       " 'Chamaecyparis': 364,\n",
       " 'Malus': 339,\n",
       " 'Cercis': 336,\n",
       " 'Koelreuteria': 283,\n",
       " 'Zelkova': 281,\n",
       " 'Fagus': 279,\n",
       " 'Picea': 258,\n",
       " 'Robinia': 254,\n",
       " 'Celtis': 228,\n",
       " 'Ulmus': 217,\n",
       " 'Corylus': 206,\n",
       " 'Taxus': 201,\n",
       " 'Cupressus': 197,\n",
       " 'Amélanchier': 141,\n",
       " 'Salix': 134,\n",
       " 'Ginkgo': 112,\n",
       " 'Crataegus': 106,\n",
       " 'Catalpa': 103,\n",
       " 'Morus': 99,\n",
       " 'Paulownia': 97,\n",
       " 'Cupressocyparis': 96,\n",
       " 'Sorbus': 93,\n",
       " 'Ostrya': 88,\n",
       " 'Metasequoia': 84,\n",
       " 'Tetradium': 80,\n",
       " 'Ailanthus': 79,\n",
       " 'Juglans': 76,\n",
       " 'Chionanthus': 72,\n",
       " 'Parrotia': 66,\n",
       " 'Albizia': 64,\n",
       " 'Lagerstroemia': 59,\n",
       " 'Pterocarya': 59,\n",
       " 'Cedrela': 54,\n",
       " 'Thuja': 48,\n",
       " 'Cladastris': 46,\n",
       " 'Syringa': 43,\n",
       " 'Libocedrus': 42,\n",
       " 'Sambucus': 36,\n",
       " 'Ficus': 32,\n",
       " 'Ilex': 28,\n",
       " 'Broussonetia': 26,\n",
       " 'Cornus': 26,\n",
       " 'Abies': 25,\n",
       " 'Diospyros': 24,\n",
       " 'Trachycarpus': 23,\n",
       " 'Ligustrum': 23,\n",
       " 'Cydonia': 19,\n",
       " 'Phellodendron': 16,\n",
       " 'Pteroceltis': 15,\n",
       " 'Eleagnus': 15,\n",
       " 'Cercidiphyllum': 14,\n",
       " 'Buxus': 12,\n",
       " 'Maclura': 12,\n",
       " 'Gymnocladus': 11,\n",
       " 'Taxodium': 11,\n",
       " 'Halesia': 11,\n",
       " 'Sequoiadendron': 10,\n",
       " 'Pistacia': 10,\n",
       " 'Photinia': 9,\n",
       " 'Laburnum': 9,\n",
       " 'Mespilus': 8,\n",
       " 'Rhus': 8,\n",
       " 'Davidia': 8,\n",
       " 'Olea': 8,\n",
       " 'Cotinus': 8,\n",
       " 'Chitalpa': 7,\n",
       " 'Sequoia': 6,\n",
       " 'Lonicera': 6,\n",
       " 'Carya': 6,\n",
       " 'Calocedrus': 6,\n",
       " 'Pterostyrax': 6,\n",
       " 'Fontanesia': 6,\n",
       " 'Clerodendron': 5,\n",
       " 'Larix': 5,\n",
       " 'Idesia': 5,\n",
       " 'Punica': 4,\n",
       " 'Juniperus': 4,\n",
       " 'Ptelea': 4,\n",
       " 'Chimonanthus': 3,\n",
       " 'Cephalotaxus': 3,\n",
       " 'Eriobotrya ': 3,\n",
       " 'Hibiscus': 3,\n",
       " 'Styrax': 3,\n",
       " 'Phillyrea': 2,\n",
       " 'Hovenia': 2,\n",
       " 'Cryptomeria': 2,\n",
       " 'Araucaria': 2,\n",
       " 'Euodia': 2,\n",
       " 'Acacia': 1,\n",
       " 'Pseudotsuga': 1,\n",
       " 'Poncinos': 1,\n",
       " 'Sciadopitys': 1,\n",
       " 'Sorbopyrus': 1,\n",
       " 'Eucalyptus': 1,\n",
       " 'Castanea': 1,\n",
       " 'Sterculia': 1,\n",
       " 'Laurus': 1,\n",
       " 'Staphylea': 1,\n",
       " 'Rhamnus': 1,\n",
       " 'Nyssa': 1}"
      ]
     },
     "execution_count": 266,
     "metadata": {},
     "output_type": "execute_result"
    }
   ],
   "source": [
    "dictGenreBota_value_sorted"
   ]
  },
  {
   "cell_type": "code",
   "execution_count": null,
   "id": "783c2a9c",
   "metadata": {},
   "outputs": [],
   "source": []
  }
 ],
 "metadata": {
  "kernelspec": {
   "display_name": "Python 3 (ipykernel)",
   "language": "python",
   "name": "python3"
  },
  "language_info": {
   "codemirror_mode": {
    "name": "ipython",
    "version": 3
   },
   "file_extension": ".py",
   "mimetype": "text/x-python",
   "name": "python",
   "nbconvert_exporter": "python",
   "pygments_lexer": "ipython3",
   "version": "3.9.13"
  }
 },
 "nbformat": 4,
 "nbformat_minor": 5
}
