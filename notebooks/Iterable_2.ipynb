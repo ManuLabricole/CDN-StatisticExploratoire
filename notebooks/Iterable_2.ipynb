{
 "cells": [
  {
   "cell_type": "code",
   "execution_count": 633,
   "id": "076f8f13",
   "metadata": {},
   "outputs": [],
   "source": [
    "import csv\n",
    "import numpy as np\n",
    "import matplotlib.pyplot as plt\n",
    "import matplotlib"
   ]
  },
  {
   "cell_type": "markdown",
   "id": "7354adb5",
   "metadata": {},
   "source": [
    "# Import csv"
   ]
  },
  {
   "cell_type": "code",
   "execution_count": 634,
   "id": "9aa1f848",
   "metadata": {},
   "outputs": [],
   "source": [
    "with open('../data/ESP_PUBLIC.IDENTITE_ARBRE.csv', newline='', encoding='utf-8-sig') as csvfile:\n",
    "    # use \",\" separator to generate column value as list element\n",
    "    # cs.reader return a class object of \"_csv.reader\"\n",
    "    dataTemp = csv.reader(csvfile, delimiter=',')\n",
    "    \n",
    "    # Use list() to convert the csv object into a list, of list, depending on how the object is built\n",
    "    # Hard to understand how list(csv_object) behaves \n",
    "    data = list(dataTemp)"
   ]
  },
  {
   "cell_type": "markdown",
   "id": "0f4b5f59",
   "metadata": {},
   "source": [
    "### Utils"
   ]
  },
  {
   "cell_type": "code",
   "execution_count": 635,
   "id": "a489b32f",
   "metadata": {},
   "outputs": [],
   "source": [
    "def add_missing_value(dataset:list) -> list:\n",
    "    datasetCopy = dataset\n",
    "    \n",
    "    if len(datasetCopy[len(datasetCopy)-1]) == 31:\n",
    "        datasetCopy[len(datasetCopy)-1].insert(0, \"30032\")\n",
    "        print(f\"Added a value in : {datasetCopy[len(datasetCopy)-1]}\")\n",
    "    #else:\n",
    "    #   print(f\"{datasetCopy[len(datasetCopy)-1]} was already added...\")\n",
    "    #   print(f\"{len(datasetCopy)-1} is the last rows of the dataset and should start with 'MISSING' value\")\n",
    "\n",
    "    return datasetCopy"
   ]
  },
  {
   "cell_type": "code",
   "execution_count": 636,
   "id": "85ff2b0f",
   "metadata": {},
   "outputs": [],
   "source": [
    "def get_header(data:list) -> list:\n",
    "    if len(data) > 0:\n",
    "        return data[0]\n",
    "    else:\n",
    "        raise ValueError(\"The dataset sent is empty...\")"
   ]
  },
  {
   "cell_type": "code",
   "execution_count": 637,
   "id": "990bc41b",
   "metadata": {},
   "outputs": [],
   "source": [
    "def get_dict_colName_colNum(data:list) -> dict:\n",
    "    dictTemp = {}\n",
    "    \n",
    "    for el in get_header(data):\n",
    "        dictTemp[el] = get_header(data).index(el)\n",
    "        \n",
    "    return dictTemp\n",
    "# print(get_dict_colName_colNum(dataset))"
   ]
  },
  {
   "cell_type": "code",
   "execution_count": 638,
   "id": "5a03151d",
   "metadata": {},
   "outputs": [],
   "source": [
    "def is_in_header(colName:str, data:list) -> bool:\n",
    "    return colName in get_header(data)\n",
    "# print(is_in_header(\"GENRE_DESC\", dataset))"
   ]
  },
  {
   "cell_type": "code",
   "execution_count": 639,
   "id": "8a7b92f5",
   "metadata": {},
   "outputs": [],
   "source": [
    "red = \"\\033[1;31m\"\n",
    "blue = \"\\033[1;34m\"\n",
    "green = \"\\033[1;32m\"\n",
    "no_color = \"\\033[0m\"\n",
    "\n",
    "def print_dict(dictToPrint:dict):\n",
    "    for key in dictToPrint.keys () :\n",
    "        print (red, key, blue, out [key])\n",
    "    print (no_color)"
   ]
  },
  {
   "cell_type": "code",
   "execution_count": 640,
   "id": "13f7596f",
   "metadata": {},
   "outputs": [
    {
     "name": "stdout",
     "output_type": "stream",
     "text": [
      "Added a value in : ['30032', 'ESP14073', 'ESP14073', 'VEG', 'VEGETATION', 'ESP01', 'Arbre', 'ESP151', 'Arbre de voirie', 'ESP336', 'R M Gontard angle M Deprez', '2', 'AR14073', 'Prunus', 'serrulata', '', 'Arbre adulte', '', '', '1995', '', '', '', '', '', '', '', '', '', '', 'Grenoble Alpes Métropole', '{\"type\":\"Point\",\"coordinates\":[5.72422659146747,45.1920566916671]}']\n"
     ]
    }
   ],
   "source": [
    "dataset = add_missing_value(data)"
   ]
  },
  {
   "cell_type": "markdown",
   "id": "acecffa7",
   "metadata": {},
   "source": [
    "# Enoncé"
   ]
  },
  {
   "cell_type": "markdown",
   "id": "04a2e17c",
   "metadata": {},
   "source": [
    "Objectifs de l’activité\n",
    "\n",
    "● Analyser la répartition des espèces d’arbres à Grenoble, l’évolution de cette\n",
    "diversité au cours du temps, comparaison avec les objectifs de la Métro en termes\n",
    "de diversification des espèces.\n",
    "\n",
    "● Utilisation d’autres structures de données : Sets, Dict\n",
    "\n",
    "Contexte\n",
    "Diversifier les essences d’arbres en ville est crucial pour de nombreuses raisons :\n",
    "résilience des écosystèmes urbains, lutte contre les îlots de chaleur, renouvellement de\n",
    "l’air, etc. Or, le constat fait par la Métropole d"
   ]
  },
  {
   "cell_type": "markdown",
   "id": "97415498",
   "metadata": {},
   "source": [
    "## ● Pour commencer, identifiez tous les genres botaniques représentés à Grenoble.\n",
    "Combien y en a-t-il ? Essayez plusieurs manières de résoudre ce problème."
   ]
  },
  {
   "cell_type": "markdown",
   "id": "cf3cd78a",
   "metadata": {},
   "source": [
    "## Utils"
   ]
  },
  {
   "cell_type": "code",
   "execution_count": 641,
   "id": "c73f2c20",
   "metadata": {},
   "outputs": [],
   "source": [
    "def get_col_value_from_name(colName:str, data:list) -> str:\n",
    "    \n",
    "    if is_in_header(colName, data):\n",
    "        return get_dict_colName_colNum(data)[colName]"
   ]
  },
  {
   "cell_type": "code",
   "execution_count": 642,
   "id": "75cab286",
   "metadata": {},
   "outputs": [],
   "source": [
    "def get_col_values(colName:str, data:list) -> list:\n",
    "    \n",
    "    col = [el[get_col_value_from_name(colName, data)] for el in data]\n",
    "    \n",
    "    return col"
   ]
  },
  {
   "cell_type": "code",
   "execution_count": 643,
   "id": "ab837e78",
   "metadata": {},
   "outputs": [],
   "source": [
    "def extract_different_values(column:list, columnDict:dict) -> list:\n",
    "    noNanList = []\n",
    "    if column[0] in columnDict.keys():\n",
    "        #print(f\"{column[0]} is a Header not a value...\")\n",
    "        setList = list(set(column[1:]))\n",
    "        \n",
    "        for el in setList:\n",
    "            if not el:\n",
    "                pass\n",
    "            else:\n",
    "                noNanList.append(el)\n",
    "    return noNanList"
   ]
  },
  {
   "cell_type": "markdown",
   "id": "360b5a15",
   "metadata": {},
   "source": [
    "## Computation"
   ]
  },
  {
   "cell_type": "markdown",
   "id": "9720de68",
   "metadata": {},
   "source": [
    "#### Extract column genre_bota values"
   ]
  },
  {
   "cell_type": "code",
   "execution_count": 644,
   "id": "1249ce77",
   "metadata": {},
   "outputs": [
    {
     "name": "stdout",
     "output_type": "stream",
     "text": [
      "\u001b[1;34m  There are --> 119 <-- different Genre Botanic\n"
     ]
    }
   ],
   "source": [
    "columnDict = get_dict_colName_colNum(dataset)\n",
    "colGenreBota = get_col_values(colName = \"GENRE_BOTA\", data = dataset)\n",
    "genreBotaList = extract_different_values(column = colGenre_Bota, columnDict = columnDict)\n",
    "print(blue, f\" There are --> {len(genreBotaList)} <-- different Genre Botanic\")"
   ]
  },
  {
   "cell_type": "markdown",
   "id": "db58e04b",
   "metadata": {},
   "source": [
    "## ● Identifiez maintenant toutes les espèces différentes présentes à Grenoble.\n",
    "N’oubliez pas que les espèces sont une sous catégorie de genre botanique !\n",
    "(l’espèce est ‘Platanus Acerifolia’ et pas uniquement ‘Acerifolia’)"
   ]
  },
  {
   "cell_type": "code",
   "execution_count": 645,
   "id": "c16728f8",
   "metadata": {},
   "outputs": [
    {
     "name": "stdout",
     "output_type": "stream",
     "text": [
      "\u001b[1;34m  There are --> 280 <-- different Genre Botanic\n"
     ]
    }
   ],
   "source": [
    "colEspece = get_col_values(colName = \"ESPECE\",data = dataset)\n",
    "especeList = extract_different_values(column = colEspece, columnDict = columnDict)\n",
    "print(blue, f\" There are --> {len(especeList)} <-- different Genre Botanic\")"
   ]
  },
  {
   "cell_type": "markdown",
   "id": "538aa379",
   "metadata": {},
   "source": [
    "## ● En utilisant la structure de données Dict compter le nombre de représentants de chaque genre botanique :"
   ]
  },
  {
   "cell_type": "markdown",
   "id": "2e311a7d",
   "metadata": {},
   "source": [
    "### ○ Quel est le genre botanique le plus représenté ?"
   ]
  },
  {
   "cell_type": "code",
   "execution_count": 646,
   "id": "2d178fd1",
   "metadata": {},
   "outputs": [],
   "source": [
    "def count_values_in_col(column:list) -> dict:\n",
    "    dictOfValue = {}\n",
    "    for el in column[1:]:\n",
    "        # If the key is \"\" we donèt take into account\n",
    "        if el:\n",
    "            if el not in dictOfValue.keys():\n",
    "                dictOfValue[el] = 1\n",
    "            else:\n",
    "                dictOfValue[el] += 1\n",
    "    return dictOfValue"
   ]
  },
  {
   "cell_type": "code",
   "execution_count": 647,
   "id": "ce8ff457",
   "metadata": {},
   "outputs": [],
   "source": [
    "dictGenreBota_value = count_values_in_col(colGenre_Bota)"
   ]
  },
  {
   "cell_type": "code",
   "execution_count": 648,
   "id": "8a6d45d9",
   "metadata": {},
   "outputs": [
    {
     "name": "stdout",
     "output_type": "stream",
     "text": [
      "\n",
      " \u001b[1;34m The botanic genre --> Acer <-- is the more represented with --> 5055 <-- trees.\n"
     ]
    }
   ],
   "source": [
    "max_value = max(dictGenreBota_value, key=lambda x:dictGenreBota_value[x])\n",
    "\n",
    "print(\"\\n\", blue, f\"The botanic genre --> {max_value} <-- is the more represented with --> {dictGenreBota_value[max_value]} <-- trees.\")\n"
   ]
  },
  {
   "cell_type": "markdown",
   "id": "0c55bfbb",
   "metadata": {},
   "source": [
    "### ○ Listez tous les représentants uniques de leurs genre botanique"
   ]
  },
  {
   "cell_type": "code",
   "execution_count": 649,
   "id": "907f958a",
   "metadata": {},
   "outputs": [],
   "source": [
    "unique = [el for el in dictGenreBota_value if dictGenreBota_value[el] == 1]"
   ]
  },
  {
   "cell_type": "code",
   "execution_count": 650,
   "id": "efd534d1",
   "metadata": {},
   "outputs": [
    {
     "name": "stdout",
     "output_type": "stream",
     "text": [
      "\u001b[1;34m Acacia \u001b[1;31m 1\n",
      "\u001b[1;34m Pseudotsuga \u001b[1;31m 1\n",
      "\u001b[1;34m Poncinos \u001b[1;31m 1\n",
      "\u001b[1;34m Sciadopitys \u001b[1;31m 1\n",
      "\u001b[1;34m Sorbopyrus \u001b[1;31m 1\n",
      "\u001b[1;34m Eucalyptus \u001b[1;31m 1\n",
      "\u001b[1;34m Castanea \u001b[1;31m 1\n",
      "\u001b[1;34m Sterculia \u001b[1;31m 1\n",
      "\u001b[1;34m Laurus \u001b[1;31m 1\n",
      "\u001b[1;34m Staphylea \u001b[1;31m 1\n",
      "\u001b[1;34m Rhamnus \u001b[1;31m 1\n",
      "\u001b[1;34m Nyssa \u001b[1;31m 1\n",
      "\n",
      "\n",
      "\u001b[1;34m There are :  \u001b[1;31m 12 \u001b[1;34m  genre represented by only one tree.\n",
      " For a total of  \u001b[1;31m 119 \u001b[1;34m different genre\n"
     ]
    }
   ],
   "source": [
    "for el in unique:\n",
    "    print(blue, el, red, \"1\")\n",
    "print(\"\\n\")\n",
    "print(blue,\"There are : \", red, len(unique), blue, \" genre represented by only one tree.\")\n",
    "print(\" For a total of \", red, len(dictGenreBota_value), blue, \"different genre\")"
   ]
  },
  {
   "cell_type": "markdown",
   "id": "be5920fc",
   "metadata": {},
   "source": [
    "### ○ Classer tous les genres botaniques en fonction de leur nombre (ordre décroissant)"
   ]
  },
  {
   "cell_type": "markdown",
   "id": "7dea90f9",
   "metadata": {},
   "source": [
    "Play with the parameter \"reverse\" to reverse the sorting output"
   ]
  },
  {
   "cell_type": "code",
   "execution_count": 651,
   "id": "73823cd4",
   "metadata": {},
   "outputs": [],
   "source": [
    "dictGenreBota_value_sorted = dict(sorted(dictGenreBota_value.items(), key=lambda x:x[1], reverse=True))\n",
    "#dictGenreBota_value_sorted = dict(sorted(dictGenreBota_value.items(), key=lambda x:x[1], reverse=False))"
   ]
  },
  {
   "cell_type": "code",
   "execution_count": 652,
   "id": "1fe6f762",
   "metadata": {},
   "outputs": [],
   "source": [
    "# dictGenreBota_value_sorted"
   ]
  },
  {
   "cell_type": "markdown",
   "id": "da2a4bb1",
   "metadata": {},
   "source": [
    "### ○ Quelle est la proportion du genre botanique le plus représenté parmi tous les genres ?"
   ]
  },
  {
   "cell_type": "code",
   "execution_count": 653,
   "id": "ca48ab91",
   "metadata": {},
   "outputs": [
    {
     "data": {
      "text/plain": [
       "5055"
      ]
     },
     "execution_count": 653,
     "metadata": {},
     "output_type": "execute_result"
    }
   ],
   "source": [
    "max(dictGenreBota_value_sorted.values())"
   ]
  },
  {
   "cell_type": "code",
   "execution_count": 654,
   "id": "99c7399a",
   "metadata": {},
   "outputs": [],
   "source": [
    "def compute_proportion(rawDict:dict) -> dict:\n",
    "    \n",
    "    totalSpecies = sum([int(el) for el in rawDict.values()])\n",
    "    dictTemp = {}\n",
    "\n",
    "    for key in rawDict.keys():\n",
    "        dictTemp[key] = {\n",
    "            \"number\" : int(rawDict[key]),\n",
    "            \"proportion\" : round(float(rawDict[key]/totalSpecies)*100, 3)\n",
    "        }\n",
    "    \n",
    "    return dictTemp"
   ]
  },
  {
   "cell_type": "code",
   "execution_count": 655,
   "id": "81f05184",
   "metadata": {},
   "outputs": [],
   "source": [
    "proportionGenreBotaDict = compute_proportion(dictGenreBota_value_sorted)"
   ]
  },
  {
   "cell_type": "code",
   "execution_count": 656,
   "id": "3f2db31d",
   "metadata": {},
   "outputs": [
    {
     "name": "stdout",
     "output_type": "stream",
     "text": [
      "\u001b[1;34m The higher proportion of a botanic genre is -->  \u001b[1;31m 16.473 \u001b[1;34m %\n",
      "\u001b[1;34m For the species :  \u001b[1;31m Acer\n"
     ]
    }
   ],
   "source": [
    "max_proportion_genre = max(proportionGenreBotaDict, key=lambda x:proportionGenreBotaDict[x][\"proportion\"])\n",
    "print(blue, \"The higher proportion of a botanic genre is --> \", red, proportionGenreBotaDict[max_proportion_genre][\"proportion\"], blue, \"%\")\n",
    "print(blue, \"For the species : \", red, max_proportion_genre)"
   ]
  },
  {
   "cell_type": "markdown",
   "id": "ab6dff6b",
   "metadata": {},
   "source": [
    "### ○ Les objectifs de la Métro sont-ils respectés en termes de diversité ?\n",
    "    1 --> Max species proportion = 10%\n",
    "    2 --> Max genre botanic proportion = 20%"
   ]
  },
  {
   "cell_type": "markdown",
   "id": "cbf97f56",
   "metadata": {},
   "source": [
    "#### Study Espece column"
   ]
  },
  {
   "cell_type": "code",
   "execution_count": 657,
   "id": "344d8be1",
   "metadata": {},
   "outputs": [
    {
     "name": "stdout",
     "output_type": "stream",
     "text": [
      "\u001b[1;34m  There are -->  \u001b[1;31m 280 \u001b[1;34m  <-- different species\n"
     ]
    }
   ],
   "source": [
    "colEspece = get_col_values(colName = \"ESPECE\",data = dataset)\n",
    "especeList = extract_different_values(column = colEspece, columnDict = columnDict)\n",
    "print(blue, \" There are --> \", red, len(especeList), blue, \" <-- different species\")"
   ]
  },
  {
   "cell_type": "code",
   "execution_count": 658,
   "id": "9feec04f",
   "metadata": {},
   "outputs": [],
   "source": [
    "dictEspece_value = count_values_in_col(colEspece)"
   ]
  },
  {
   "cell_type": "code",
   "execution_count": 659,
   "id": "2131380a",
   "metadata": {},
   "outputs": [
    {
     "name": "stdout",
     "output_type": "stream",
     "text": [
      "\n",
      " \u001b[1;34m The Espece -->  \u001b[1;31m acerifolia \u001b[1;34m  <-- is the more represented with -->  \u001b[1;31m 3813 \u001b[1;34m  <-- trees.\n"
     ]
    }
   ],
   "source": [
    "max_value_espece = max(dictEspece_value, key=lambda x:dictEspece_value[x])\n",
    "print(\"\\n\", blue, \"The Espece --> \", red, max_value_espece, blue, \" <-- is the more represented with --> \", red, dictEspece_value[max_value_espece], blue, \" <-- trees.\")"
   ]
  },
  {
   "cell_type": "code",
   "execution_count": 660,
   "id": "95f9839a",
   "metadata": {},
   "outputs": [],
   "source": [
    "uniqueSpecies = [el for el in dictEspece_value if dictEspece_value[el] == 1]"
   ]
  },
  {
   "cell_type": "code",
   "execution_count": 661,
   "id": "d22ca931",
   "metadata": {},
   "outputs": [],
   "source": [
    "def display_uniqueSpecies():\n",
    "    for el in uniqueSpecies:\n",
    "        print(blue, el, red, \"1\")\n",
    "    print(\"\\n\")\n",
    "    print(blue,\"There are : \", red, len(uniqueSpecies), blue, \" species represented by only one tree.\")\n",
    "    print(\" For a total of \", red, len(dictEspece_value), blue, \"different species\")\n",
    "# display_uniqueSpecies    "
   ]
  },
  {
   "cell_type": "code",
   "execution_count": 662,
   "id": "12a2bd49",
   "metadata": {},
   "outputs": [
    {
     "data": {
      "text/plain": [
       "3813"
      ]
     },
     "execution_count": 662,
     "metadata": {},
     "output_type": "execute_result"
    }
   ],
   "source": [
    "dictEspece_value_sorted = dict(sorted(dictEspece_value.items(), key=lambda x:x[1], reverse=True))\n",
    "max(dictEspece_value_sorted.values())"
   ]
  },
  {
   "cell_type": "code",
   "execution_count": 663,
   "id": "6c171bac",
   "metadata": {},
   "outputs": [
    {
     "data": {
      "text/plain": [
       "'acerifolia'"
      ]
     },
     "execution_count": 663,
     "metadata": {},
     "output_type": "execute_result"
    }
   ],
   "source": [
    "proportionSpeciesDict = compute_proportion(dictEspece_value_sorted)\n",
    "max_proportion_species = max(proportionSpeciesDict, key=lambda x:proportionSpeciesDict[x][\"proportion\"])\n",
    "max_proportion_species"
   ]
  },
  {
   "cell_type": "code",
   "execution_count": 664,
   "id": "93d822c0",
   "metadata": {},
   "outputs": [
    {
     "name": "stdout",
     "output_type": "stream",
     "text": [
      "\u001b[1;34m The higher proportion of a species is -->  \u001b[1;31m 13.11 \u001b[1;34m %\n",
      "\u001b[1;34m For the species :  \u001b[1;31m acerifolia\n"
     ]
    }
   ],
   "source": [
    "print(blue, \"The higher proportion of a species is --> \", red, proportionSpeciesDict[max_proportion_species][\"proportion\"], blue, \"%\")\n",
    "print(blue, \"For the species : \", red, max_proportion_species)"
   ]
  },
  {
   "cell_type": "markdown",
   "id": "b6e985ee",
   "metadata": {},
   "source": [
    "### Check Métro critère"
   ]
  },
  {
   "cell_type": "code",
   "execution_count": 665,
   "id": "9f1b6962",
   "metadata": {},
   "outputs": [
    {
     "name": "stdout",
     "output_type": "stream",
     "text": [
      "\u001b[1;32m The Metro critere is respected for -->  Acer \u001b[1;32m  <-- with a proportion of -->  16.473 \u001b[1;32m  <--\n",
      "\u001b[1;32m The Metro critere is respected for -->  Platanus \u001b[1;32m  <-- with a proportion of -->  14.639 \u001b[1;32m  <--\n",
      "\u001b[1;32m The Metro critere is respected for -->  Pinus \u001b[1;32m  <-- with a proportion of -->  6.394 \u001b[1;32m  <--\n",
      "\u001b[1;32m The Metro critere is respected for -->  Tilia \u001b[1;32m  <-- with a proportion of -->  5.67 \u001b[1;32m  <--\n",
      "\u001b[1;32m The Metro critere is respected for -->  Fraxinus \u001b[1;32m  <-- with a proportion of -->  4.905 \u001b[1;32m  <--\n",
      "\u001b[1;32m The Metro critere is respected for -->  Carpinus \u001b[1;32m  <-- with a proportion of -->  3.976 \u001b[1;32m  <--\n",
      "\u001b[1;32m The Metro critere is respected for -->  Prunus \u001b[1;32m  <-- with a proportion of -->  3.761 \u001b[1;32m  <--\n",
      "\u001b[1;32m The Metro critere is respected for -->  Betula \u001b[1;32m  <-- with a proportion of -->  3.647 \u001b[1;32m  <--\n",
      "\u001b[1;32m The Metro critere is respected for -->  Populus \u001b[1;32m  <-- with a proportion of -->  2.737 \u001b[1;32m  <--\n",
      "\u001b[1;32m The Metro critere is respected for -->  Liquidambar \u001b[1;32m  <-- with a proportion of -->  2.643 \u001b[1;32m  <--\n",
      "\u001b[1;32m The Metro critere is respected for -->  Quercus \u001b[1;32m  <-- with a proportion of -->  2.636 \u001b[1;32m  <--\n",
      "\u001b[1;32m The Metro critere is respected for -->  Alnus \u001b[1;32m  <-- with a proportion of -->  2.48 \u001b[1;32m  <--\n",
      "\u001b[1;32m The Metro critere is respected for -->  Pyrus \u001b[1;32m  <-- with a proportion of -->  1.906 \u001b[1;32m  <--\n",
      "\u001b[1;32m The Metro critere is respected for -->  Liriodendron \u001b[1;32m  <-- with a proportion of -->  1.655 \u001b[1;32m  <--\n",
      "\u001b[1;32m The Metro critere is respected for -->  Magnolia \u001b[1;32m  <-- with a proportion of -->  1.636 \u001b[1;32m  <--\n",
      "\u001b[1;32m The Metro critere is respected for -->  Aesculus \u001b[1;32m  <-- with a proportion of -->  1.502 \u001b[1;32m  <--\n",
      "\u001b[1;32m The Metro critere is respected for -->  Sophora \u001b[1;32m  <-- with a proportion of -->  1.369 \u001b[1;32m  <--\n",
      "\u001b[1;32m The Metro critere is respected for -->  Cedrus \u001b[1;32m  <-- with a proportion of -->  1.356 \u001b[1;32m  <--\n",
      "\u001b[1;32m The Metro critere is respected for -->  Gleditsia \u001b[1;32m  <-- with a proportion of -->  1.232 \u001b[1;32m  <--\n",
      "\u001b[1;32m The Metro critere is respected for -->  Chamaecyparis \u001b[1;32m  <-- with a proportion of -->  1.186 \u001b[1;32m  <--\n",
      "\u001b[1;32m The Metro critere is respected for -->  Malus \u001b[1;32m  <-- with a proportion of -->  1.105 \u001b[1;32m  <--\n",
      "\u001b[1;32m The Metro critere is respected for -->  Cercis \u001b[1;32m  <-- with a proportion of -->  1.095 \u001b[1;32m  <--\n",
      "\u001b[1;32m The Metro critere is respected for -->  Koelreuteria \u001b[1;32m  <-- with a proportion of -->  0.922 \u001b[1;32m  <--\n",
      "\u001b[1;32m The Metro critere is respected for -->  Zelkova \u001b[1;32m  <-- with a proportion of -->  0.916 \u001b[1;32m  <--\n",
      "\u001b[1;32m The Metro critere is respected for -->  Fagus \u001b[1;32m  <-- with a proportion of -->  0.909 \u001b[1;32m  <--\n",
      "\u001b[1;32m The Metro critere is respected for -->  Picea \u001b[1;32m  <-- with a proportion of -->  0.841 \u001b[1;32m  <--\n",
      "\u001b[1;32m The Metro critere is respected for -->  Robinia \u001b[1;32m  <-- with a proportion of -->  0.828 \u001b[1;32m  <--\n",
      "\u001b[1;32m The Metro critere is respected for -->  Celtis \u001b[1;32m  <-- with a proportion of -->  0.743 \u001b[1;32m  <--\n",
      "\u001b[1;32m The Metro critere is respected for -->  Ulmus \u001b[1;32m  <-- with a proportion of -->  0.707 \u001b[1;32m  <--\n",
      "\u001b[1;32m The Metro critere is respected for -->  Corylus \u001b[1;32m  <-- with a proportion of -->  0.671 \u001b[1;32m  <--\n",
      "\u001b[1;32m The Metro critere is respected for -->  Taxus \u001b[1;32m  <-- with a proportion of -->  0.655 \u001b[1;32m  <--\n",
      "\u001b[1;32m The Metro critere is respected for -->  Cupressus \u001b[1;32m  <-- with a proportion of -->  0.642 \u001b[1;32m  <--\n",
      "\u001b[1;32m The Metro critere is respected for -->  Amélanchier \u001b[1;32m  <-- with a proportion of -->  0.459 \u001b[1;32m  <--\n",
      "\u001b[1;32m The Metro critere is respected for -->  Salix \u001b[1;32m  <-- with a proportion of -->  0.437 \u001b[1;32m  <--\n",
      "\u001b[1;32m The Metro critere is respected for -->  Ginkgo \u001b[1;32m  <-- with a proportion of -->  0.365 \u001b[1;32m  <--\n",
      "\u001b[1;32m The Metro critere is respected for -->  Crataegus \u001b[1;32m  <-- with a proportion of -->  0.345 \u001b[1;32m  <--\n",
      "\u001b[1;32m The Metro critere is respected for -->  Catalpa \u001b[1;32m  <-- with a proportion of -->  0.336 \u001b[1;32m  <--\n",
      "\u001b[1;32m The Metro critere is respected for -->  Morus \u001b[1;32m  <-- with a proportion of -->  0.323 \u001b[1;32m  <--\n",
      "\u001b[1;32m The Metro critere is respected for -->  Paulownia \u001b[1;32m  <-- with a proportion of -->  0.316 \u001b[1;32m  <--\n",
      "\u001b[1;32m The Metro critere is respected for -->  Cupressocyparis \u001b[1;32m  <-- with a proportion of -->  0.313 \u001b[1;32m  <--\n",
      "\u001b[1;32m The Metro critere is respected for -->  Sorbus \u001b[1;32m  <-- with a proportion of -->  0.303 \u001b[1;32m  <--\n",
      "\u001b[1;32m The Metro critere is respected for -->  Ostrya \u001b[1;32m  <-- with a proportion of -->  0.287 \u001b[1;32m  <--\n",
      "\u001b[1;32m The Metro critere is respected for -->  Metasequoia \u001b[1;32m  <-- with a proportion of -->  0.274 \u001b[1;32m  <--\n",
      "\u001b[1;32m The Metro critere is respected for -->  Tetradium \u001b[1;32m  <-- with a proportion of -->  0.261 \u001b[1;32m  <--\n",
      "\u001b[1;32m The Metro critere is respected for -->  Ailanthus \u001b[1;32m  <-- with a proportion of -->  0.257 \u001b[1;32m  <--\n",
      "\u001b[1;32m The Metro critere is respected for -->  Juglans \u001b[1;32m  <-- with a proportion of -->  0.248 \u001b[1;32m  <--\n",
      "\u001b[1;32m The Metro critere is respected for -->  Chionanthus \u001b[1;32m  <-- with a proportion of -->  0.235 \u001b[1;32m  <--\n",
      "\u001b[1;32m The Metro critere is respected for -->  Parrotia \u001b[1;32m  <-- with a proportion of -->  0.215 \u001b[1;32m  <--\n",
      "\u001b[1;32m The Metro critere is respected for -->  Albizia \u001b[1;32m  <-- with a proportion of -->  0.209 \u001b[1;32m  <--\n",
      "\u001b[1;32m The Metro critere is respected for -->  Lagerstroemia \u001b[1;32m  <-- with a proportion of -->  0.192 \u001b[1;32m  <--\n",
      "\u001b[1;32m The Metro critere is respected for -->  Pterocarya \u001b[1;32m  <-- with a proportion of -->  0.192 \u001b[1;32m  <--\n",
      "\u001b[1;32m The Metro critere is respected for -->  Cedrela \u001b[1;32m  <-- with a proportion of -->  0.176 \u001b[1;32m  <--\n",
      "\u001b[1;32m The Metro critere is respected for -->  Thuja \u001b[1;32m  <-- with a proportion of -->  0.156 \u001b[1;32m  <--\n",
      "\u001b[1;32m The Metro critere is respected for -->  Cladastris \u001b[1;32m  <-- with a proportion of -->  0.15 \u001b[1;32m  <--\n",
      "\u001b[1;32m The Metro critere is respected for -->  Syringa \u001b[1;32m  <-- with a proportion of -->  0.14 \u001b[1;32m  <--\n",
      "\u001b[1;32m The Metro critere is respected for -->  Libocedrus \u001b[1;32m  <-- with a proportion of -->  0.137 \u001b[1;32m  <--\n",
      "\u001b[1;32m The Metro critere is respected for -->  Sambucus \u001b[1;32m  <-- with a proportion of -->  0.117 \u001b[1;32m  <--\n",
      "\u001b[1;32m The Metro critere is respected for -->  Ficus \u001b[1;32m  <-- with a proportion of -->  0.104 \u001b[1;32m  <--\n",
      "\u001b[1;32m The Metro critere is respected for -->  Ilex \u001b[1;32m  <-- with a proportion of -->  0.091 \u001b[1;32m  <--\n",
      "\u001b[1;32m The Metro critere is respected for -->  Broussonetia \u001b[1;32m  <-- with a proportion of -->  0.085 \u001b[1;32m  <--\n",
      "\u001b[1;32m The Metro critere is respected for -->  Cornus \u001b[1;32m  <-- with a proportion of -->  0.085 \u001b[1;32m  <--\n",
      "\u001b[1;32m The Metro critere is respected for -->  Abies \u001b[1;32m  <-- with a proportion of -->  0.081 \u001b[1;32m  <--\n",
      "\u001b[1;32m The Metro critere is respected for -->  Diospyros \u001b[1;32m  <-- with a proportion of -->  0.078 \u001b[1;32m  <--\n",
      "\u001b[1;32m The Metro critere is respected for -->  Trachycarpus \u001b[1;32m  <-- with a proportion of -->  0.075 \u001b[1;32m  <--\n",
      "\u001b[1;32m The Metro critere is respected for -->  Ligustrum \u001b[1;32m  <-- with a proportion of -->  0.075 \u001b[1;32m  <--\n",
      "\u001b[1;32m The Metro critere is respected for -->  Cydonia \u001b[1;32m  <-- with a proportion of -->  0.062 \u001b[1;32m  <--\n",
      "\u001b[1;32m The Metro critere is respected for -->  Phellodendron \u001b[1;32m  <-- with a proportion of -->  0.052 \u001b[1;32m  <--\n",
      "\u001b[1;32m The Metro critere is respected for -->  Pteroceltis \u001b[1;32m  <-- with a proportion of -->  0.049 \u001b[1;32m  <--\n",
      "\u001b[1;32m The Metro critere is respected for -->  Eleagnus \u001b[1;32m  <-- with a proportion of -->  0.049 \u001b[1;32m  <--\n",
      "\u001b[1;32m The Metro critere is respected for -->  Cercidiphyllum \u001b[1;32m  <-- with a proportion of -->  0.046 \u001b[1;32m  <--\n",
      "\u001b[1;32m The Metro critere is respected for -->  Buxus \u001b[1;32m  <-- with a proportion of -->  0.039 \u001b[1;32m  <--\n",
      "\u001b[1;32m The Metro critere is respected for -->  Maclura \u001b[1;32m  <-- with a proportion of -->  0.039 \u001b[1;32m  <--\n",
      "\u001b[1;32m The Metro critere is respected for -->  Gymnocladus \u001b[1;32m  <-- with a proportion of -->  0.036 \u001b[1;32m  <--\n",
      "\u001b[1;32m The Metro critere is respected for -->  Taxodium \u001b[1;32m  <-- with a proportion of -->  0.036 \u001b[1;32m  <--\n",
      "\u001b[1;32m The Metro critere is respected for -->  Halesia \u001b[1;32m  <-- with a proportion of -->  0.036 \u001b[1;32m  <--\n",
      "\u001b[1;32m The Metro critere is respected for -->  Sequoiadendron \u001b[1;32m  <-- with a proportion of -->  0.033 \u001b[1;32m  <--\n",
      "\u001b[1;32m The Metro critere is respected for -->  Pistacia \u001b[1;32m  <-- with a proportion of -->  0.033 \u001b[1;32m  <--\n",
      "\u001b[1;32m The Metro critere is respected for -->  Photinia \u001b[1;32m  <-- with a proportion of -->  0.029 \u001b[1;32m  <--\n",
      "\u001b[1;32m The Metro critere is respected for -->  Laburnum \u001b[1;32m  <-- with a proportion of -->  0.029 \u001b[1;32m  <--\n",
      "\u001b[1;32m The Metro critere is respected for -->  Mespilus \u001b[1;32m  <-- with a proportion of -->  0.026 \u001b[1;32m  <--\n",
      "\u001b[1;32m The Metro critere is respected for -->  Rhus \u001b[1;32m  <-- with a proportion of -->  0.026 \u001b[1;32m  <--\n",
      "\u001b[1;32m The Metro critere is respected for -->  Davidia \u001b[1;32m  <-- with a proportion of -->  0.026 \u001b[1;32m  <--\n",
      "\u001b[1;32m The Metro critere is respected for -->  Olea \u001b[1;32m  <-- with a proportion of -->  0.026 \u001b[1;32m  <--\n",
      "\u001b[1;32m The Metro critere is respected for -->  Cotinus \u001b[1;32m  <-- with a proportion of -->  0.026 \u001b[1;32m  <--\n",
      "\u001b[1;32m The Metro critere is respected for -->  Chitalpa \u001b[1;32m  <-- with a proportion of -->  0.023 \u001b[1;32m  <--\n",
      "\u001b[1;32m The Metro critere is respected for -->  Sequoia \u001b[1;32m  <-- with a proportion of -->  0.02 \u001b[1;32m  <--\n",
      "\u001b[1;32m The Metro critere is respected for -->  Lonicera \u001b[1;32m  <-- with a proportion of -->  0.02 \u001b[1;32m  <--\n",
      "\u001b[1;32m The Metro critere is respected for -->  Carya \u001b[1;32m  <-- with a proportion of -->  0.02 \u001b[1;32m  <--\n",
      "\u001b[1;32m The Metro critere is respected for -->  Calocedrus \u001b[1;32m  <-- with a proportion of -->  0.02 \u001b[1;32m  <--\n",
      "\u001b[1;32m The Metro critere is respected for -->  Pterostyrax \u001b[1;32m  <-- with a proportion of -->  0.02 \u001b[1;32m  <--\n",
      "\u001b[1;32m The Metro critere is respected for -->  Fontanesia \u001b[1;32m  <-- with a proportion of -->  0.02 \u001b[1;32m  <--\n",
      "\u001b[1;32m The Metro critere is respected for -->  Clerodendron \u001b[1;32m  <-- with a proportion of -->  0.016 \u001b[1;32m  <--\n",
      "\u001b[1;32m The Metro critere is respected for -->  Larix \u001b[1;32m  <-- with a proportion of -->  0.016 \u001b[1;32m  <--\n",
      "\u001b[1;32m The Metro critere is respected for -->  Idesia \u001b[1;32m  <-- with a proportion of -->  0.016 \u001b[1;32m  <--\n",
      "\u001b[1;32m The Metro critere is respected for -->  Punica \u001b[1;32m  <-- with a proportion of -->  0.013 \u001b[1;32m  <--\n",
      "\u001b[1;32m The Metro critere is respected for -->  Juniperus \u001b[1;32m  <-- with a proportion of -->  0.013 \u001b[1;32m  <--\n",
      "\u001b[1;32m The Metro critere is respected for -->  Ptelea \u001b[1;32m  <-- with a proportion of -->  0.013 \u001b[1;32m  <--\n",
      "\u001b[1;32m The Metro critere is respected for -->  Chimonanthus \u001b[1;32m  <-- with a proportion of -->  0.01 \u001b[1;32m  <--\n",
      "\u001b[1;32m The Metro critere is respected for -->  Cephalotaxus \u001b[1;32m  <-- with a proportion of -->  0.01 \u001b[1;32m  <--\n",
      "\u001b[1;32m The Metro critere is respected for -->  Eriobotrya  \u001b[1;32m  <-- with a proportion of -->  0.01 \u001b[1;32m  <--\n",
      "\u001b[1;32m The Metro critere is respected for -->  Hibiscus \u001b[1;32m  <-- with a proportion of -->  0.01 \u001b[1;32m  <--\n",
      "\u001b[1;32m The Metro critere is respected for -->  Styrax \u001b[1;32m  <-- with a proportion of -->  0.01 \u001b[1;32m  <--\n",
      "\u001b[1;32m The Metro critere is respected for -->  Phillyrea \u001b[1;32m  <-- with a proportion of -->  0.007 \u001b[1;32m  <--\n",
      "\u001b[1;32m The Metro critere is respected for -->  Hovenia \u001b[1;32m  <-- with a proportion of -->  0.007 \u001b[1;32m  <--\n",
      "\u001b[1;32m The Metro critere is respected for -->  Cryptomeria \u001b[1;32m  <-- with a proportion of -->  0.007 \u001b[1;32m  <--\n",
      "\u001b[1;32m The Metro critere is respected for -->  Araucaria \u001b[1;32m  <-- with a proportion of -->  0.007 \u001b[1;32m  <--\n",
      "\u001b[1;32m The Metro critere is respected for -->  Euodia \u001b[1;32m  <-- with a proportion of -->  0.007 \u001b[1;32m  <--\n",
      "\u001b[1;32m The Metro critere is respected for -->  Acacia \u001b[1;32m  <-- with a proportion of -->  0.003 \u001b[1;32m  <--\n",
      "\u001b[1;32m The Metro critere is respected for -->  Pseudotsuga \u001b[1;32m  <-- with a proportion of -->  0.003 \u001b[1;32m  <--\n",
      "\u001b[1;32m The Metro critere is respected for -->  Poncinos \u001b[1;32m  <-- with a proportion of -->  0.003 \u001b[1;32m  <--\n",
      "\u001b[1;32m The Metro critere is respected for -->  Sciadopitys \u001b[1;32m  <-- with a proportion of -->  0.003 \u001b[1;32m  <--\n",
      "\u001b[1;32m The Metro critere is respected for -->  Sorbopyrus \u001b[1;32m  <-- with a proportion of -->  0.003 \u001b[1;32m  <--\n",
      "\u001b[1;32m The Metro critere is respected for -->  Eucalyptus \u001b[1;32m  <-- with a proportion of -->  0.003 \u001b[1;32m  <--\n",
      "\u001b[1;32m The Metro critere is respected for -->  Castanea \u001b[1;32m  <-- with a proportion of -->  0.003 \u001b[1;32m  <--\n",
      "\u001b[1;32m The Metro critere is respected for -->  Sterculia \u001b[1;32m  <-- with a proportion of -->  0.003 \u001b[1;32m  <--\n",
      "\u001b[1;32m The Metro critere is respected for -->  Laurus \u001b[1;32m  <-- with a proportion of -->  0.003 \u001b[1;32m  <--\n",
      "\u001b[1;32m The Metro critere is respected for -->  Staphylea \u001b[1;32m  <-- with a proportion of -->  0.003 \u001b[1;32m  <--\n",
      "\u001b[1;32m The Metro critere is respected for -->  Rhamnus \u001b[1;32m  <-- with a proportion of -->  0.003 \u001b[1;32m  <--\n",
      "\u001b[1;32m The Metro critere is respected for -->  Nyssa \u001b[1;32m  <-- with a proportion of -->  0.003 \u001b[1;32m  <--\n"
     ]
    },
    {
     "data": {
      "text/plain": [
       "True"
      ]
     },
     "execution_count": 665,
     "metadata": {},
     "output_type": "execute_result"
    }
   ],
   "source": [
    "# The dict checked should qlready contain the \"proportion\" key\n",
    "# Otherwise call compute_proportion function\n",
    "\n",
    "def check_metro_genre(genreDict:dict) -> bool:\n",
    "    \n",
    "    critereMax = 20 \n",
    "    is_validate = True\n",
    "    \n",
    "    for key in genreDict.keys():\n",
    "        if genreDict[key][\"proportion\"]:\n",
    "            pass\n",
    "        else:\n",
    "            genreDict = compute_proportion(genreDict)\n",
    "    \n",
    "    for key in genreDict.keys():\n",
    "        if genreDict[key][\"proportion\"] < critereMax:\n",
    "            print(green, \"The Metro critere is respected for --> \", key, green, \" <-- with a proportion of --> \",genreDict[key][\"proportion\"], green, \" <--\" )\n",
    "        else:\n",
    "            print(red, \"The Metro critere is not respected for --> \", black, key, red, \" <-- with a proportion of --> \", black,genreDict[key][\"proportion\"], red, \" <--\" )\n",
    "            is_validate = False\n",
    "    return is_validate\n",
    "check_metro_genre(proportionGenreBotaDict)"
   ]
  },
  {
   "cell_type": "code",
   "execution_count": 666,
   "id": "8860ec08",
   "metadata": {},
   "outputs": [
    {
     "ename": "NameError",
     "evalue": "name 'black' is not defined",
     "output_type": "error",
     "traceback": [
      "\u001b[0;31m---------------------------------------------------------------------------\u001b[0m",
      "\u001b[0;31mNameError\u001b[0m                                 Traceback (most recent call last)",
      "\u001b[0;32m/tmp/ipykernel_18387/3119488960.py\u001b[0m in \u001b[0;36m<module>\u001b[0;34m\u001b[0m\n\u001b[1;32m     17\u001b[0m             \u001b[0mis_validate\u001b[0m \u001b[0;34m=\u001b[0m \u001b[0;32mFalse\u001b[0m\u001b[0;34m\u001b[0m\u001b[0;34m\u001b[0m\u001b[0m\n\u001b[1;32m     18\u001b[0m     \u001b[0;32mreturn\u001b[0m \u001b[0mis_validate\u001b[0m\u001b[0;34m\u001b[0m\u001b[0;34m\u001b[0m\u001b[0m\n\u001b[0;32m---> 19\u001b[0;31m \u001b[0mcheck_metro_species\u001b[0m\u001b[0;34m(\u001b[0m\u001b[0mproportionSpeciesDict\u001b[0m\u001b[0;34m)\u001b[0m\u001b[0;34m\u001b[0m\u001b[0;34m\u001b[0m\u001b[0m\n\u001b[0m",
      "\u001b[0;32m/tmp/ipykernel_18387/3119488960.py\u001b[0m in \u001b[0;36mcheck_metro_species\u001b[0;34m(speciesDict)\u001b[0m\n\u001b[1;32m     14\u001b[0m             \u001b[0mprint\u001b[0m\u001b[0;34m(\u001b[0m\u001b[0mgreen\u001b[0m\u001b[0;34m,\u001b[0m \u001b[0;34m\"The Metro critere is respected for --> \"\u001b[0m\u001b[0;34m,\u001b[0m \u001b[0mkey\u001b[0m\u001b[0;34m,\u001b[0m \u001b[0mgreen\u001b[0m\u001b[0;34m,\u001b[0m \u001b[0;34m\" <-- with a proportion of --> \"\u001b[0m\u001b[0;34m,\u001b[0m\u001b[0mspeciesDict\u001b[0m\u001b[0;34m[\u001b[0m\u001b[0mkey\u001b[0m\u001b[0;34m]\u001b[0m\u001b[0;34m[\u001b[0m\u001b[0;34m\"proportion\"\u001b[0m\u001b[0;34m]\u001b[0m\u001b[0;34m,\u001b[0m \u001b[0mgreen\u001b[0m\u001b[0;34m,\u001b[0m \u001b[0;34m\" <--\"\u001b[0m \u001b[0;34m)\u001b[0m\u001b[0;34m\u001b[0m\u001b[0;34m\u001b[0m\u001b[0m\n\u001b[1;32m     15\u001b[0m         \u001b[0;32melse\u001b[0m\u001b[0;34m:\u001b[0m\u001b[0;34m\u001b[0m\u001b[0;34m\u001b[0m\u001b[0m\n\u001b[0;32m---> 16\u001b[0;31m             \u001b[0mprint\u001b[0m\u001b[0;34m(\u001b[0m\u001b[0mred\u001b[0m\u001b[0;34m,\u001b[0m \u001b[0;34m\"The Metro critere is not respected for --> \"\u001b[0m\u001b[0;34m,\u001b[0m \u001b[0mblack\u001b[0m\u001b[0;34m,\u001b[0m \u001b[0mkey\u001b[0m\u001b[0;34m,\u001b[0m \u001b[0mred\u001b[0m\u001b[0;34m,\u001b[0m \u001b[0;34m\" <-- with a proportion of --> \"\u001b[0m\u001b[0;34m,\u001b[0m \u001b[0mblack\u001b[0m\u001b[0;34m,\u001b[0m\u001b[0mspeciesDict\u001b[0m\u001b[0;34m[\u001b[0m\u001b[0mkey\u001b[0m\u001b[0;34m]\u001b[0m\u001b[0;34m[\u001b[0m\u001b[0;34m\"proportion\"\u001b[0m\u001b[0;34m]\u001b[0m\u001b[0;34m,\u001b[0m \u001b[0mred\u001b[0m\u001b[0;34m,\u001b[0m \u001b[0;34m\" <--\"\u001b[0m \u001b[0;34m)\u001b[0m\u001b[0;34m\u001b[0m\u001b[0;34m\u001b[0m\u001b[0m\n\u001b[0m\u001b[1;32m     17\u001b[0m             \u001b[0mis_validate\u001b[0m \u001b[0;34m=\u001b[0m \u001b[0;32mFalse\u001b[0m\u001b[0;34m\u001b[0m\u001b[0;34m\u001b[0m\u001b[0m\n\u001b[1;32m     18\u001b[0m     \u001b[0;32mreturn\u001b[0m \u001b[0mis_validate\u001b[0m\u001b[0;34m\u001b[0m\u001b[0;34m\u001b[0m\u001b[0m\n",
      "\u001b[0;31mNameError\u001b[0m: name 'black' is not defined"
     ]
    }
   ],
   "source": [
    "def check_metro_species(speciesDict:dict) -> bool:\n",
    "    \n",
    "    critereMax = 10 \n",
    "    is_validate = True\n",
    "    \n",
    "    for key in speciesDict.keys():\n",
    "        if speciesDict[key][\"proportion\"]:\n",
    "            pass\n",
    "        else:\n",
    "            speciesDict = compute_proportion(speciesDict)\n",
    "    \n",
    "    for key in speciesDict.keys():\n",
    "        if speciesDict[key][\"proportion\"] < critereMax:\n",
    "            print(green, \"The Metro critere is respected for --> \", key, green, \" <-- with a proportion of --> \",speciesDict[key][\"proportion\"], green, \" <--\" )\n",
    "        else:\n",
    "            print(red, \"The Metro critere is not respected for --> \",  key, red, \" <-- with a proportion of --> \", black,speciesDict[key][\"proportion\"], red, \" <--\" )\n",
    "            is_validate = False\n",
    "    return is_validate\n",
    "check_metro_species(proportionSpeciesDict)"
   ]
  },
  {
   "cell_type": "code",
   "execution_count": null,
   "id": "fcfbcbee",
   "metadata": {},
   "outputs": [],
   "source": []
  }
 ],
 "metadata": {
  "kernelspec": {
   "display_name": "Python 3 (ipykernel)",
   "language": "python",
   "name": "python3"
  },
  "language_info": {
   "codemirror_mode": {
    "name": "ipython",
    "version": 3
   },
   "file_extension": ".py",
   "mimetype": "text/x-python",
   "name": "python",
   "nbconvert_exporter": "python",
   "pygments_lexer": "ipython3",
   "version": "3.9.13"
  }
 },
 "nbformat": 4,
 "nbformat_minor": 5
}
