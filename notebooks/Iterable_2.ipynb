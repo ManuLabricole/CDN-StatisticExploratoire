{
 "cells": [
  {
   "cell_type": "code",
   "execution_count": 306,
   "id": "4251c51d",
   "metadata": {},
   "outputs": [],
   "source": [
    "import csv\n",
    "import numpy as np\n",
    "import matplotlib.pyplot as plt\n",
    "import matplotlib"
   ]
  },
  {
   "cell_type": "markdown",
   "id": "24a82acd",
   "metadata": {},
   "source": [
    "# Import csv"
   ]
  },
  {
   "cell_type": "code",
   "execution_count": 307,
   "id": "4406a1d2",
   "metadata": {},
   "outputs": [],
   "source": [
    "with open('../data/ESP_PUBLIC.IDENTITE_ARBRE.csv', newline='', encoding='utf-8-sig') as csvfile:\n",
    "    # use \",\" separator to generate column value as list element\n",
    "    # cs.reader return a class object of \"_csv.reader\"\n",
    "    dataTemp = csv.reader(csvfile, delimiter=',')\n",
    "    \n",
    "    # Use list() to convert the csv object into a list, of list, depending on how the object is built\n",
    "    # Hard to understand how list(csv_object) behaves \n",
    "    data = list(dataTemp)"
   ]
  },
  {
   "cell_type": "markdown",
   "id": "2fed5b65",
   "metadata": {},
   "source": [
    "### Utils"
   ]
  },
  {
   "cell_type": "code",
   "execution_count": 308,
   "id": "3508b9ed",
   "metadata": {},
   "outputs": [],
   "source": [
    "def add_missing_value(dataset:list) -> list:\n",
    "    datasetCopy = dataset\n",
    "    \n",
    "    if len(datasetCopy[len(datasetCopy)-1]) == 31:\n",
    "        datasetCopy[len(datasetCopy)-1].insert(0, \"30032\")\n",
    "        print(f\"Added a value in : {datasetCopy[len(datasetCopy)-1]}\")\n",
    "    #else:\n",
    "    #   print(f\"{datasetCopy[len(datasetCopy)-1]} was already added...\")\n",
    "    #   print(f\"{len(datasetCopy)-1} is the last rows of the dataset and should start with 'MISSING' value\")\n",
    "\n",
    "    return datasetCopy"
   ]
  },
  {
   "cell_type": "code",
   "execution_count": 309,
   "id": "16415d89",
   "metadata": {},
   "outputs": [],
   "source": [
    "def get_header(data:list) -> list:\n",
    "    if len(data) > 0:\n",
    "        return data[0]\n",
    "    else:\n",
    "        raise ValueError(\"The dataset sent is empty...\")"
   ]
  },
  {
   "cell_type": "code",
   "execution_count": 310,
   "id": "39926715",
   "metadata": {},
   "outputs": [],
   "source": [
    "def get_dict_colName_colNum(data:list) -> dict:\n",
    "    dictTemp = {}\n",
    "    \n",
    "    for el in get_header(data):\n",
    "        dictTemp[el] = get_header(data).index(el)\n",
    "        \n",
    "    return dictTemp\n",
    "# print(get_dict_colName_colNum(dataset))"
   ]
  },
  {
   "cell_type": "code",
   "execution_count": 311,
   "id": "6949bb68",
   "metadata": {},
   "outputs": [],
   "source": [
    "def is_in_header(colName:str, data:list) -> bool:\n",
    "    return colName in get_header(data)\n",
    "# print(is_in_header(\"GENRE_DESC\", dataset))"
   ]
  },
  {
   "cell_type": "code",
   "execution_count": 312,
   "id": "965657ed",
   "metadata": {},
   "outputs": [],
   "source": [
    "red = \"\\033[1;31m\"\n",
    "blue = \"\\033[1;34m\"\n",
    "green = \"\\033[1;32m\"\n",
    "no_color = \"\\033[0m\"\n",
    "\n",
    "def print_dict(dictToPrint:dict):\n",
    "    for key in dictToPrint.keys () :\n",
    "        print (red, key, blue, out [key])\n",
    "    print (no_color)"
   ]
  },
  {
   "cell_type": "code",
   "execution_count": 313,
   "id": "ab30b25f",
   "metadata": {},
   "outputs": [
    {
     "name": "stdout",
     "output_type": "stream",
     "text": [
      "Added a value in : ['30032', 'ESP14073', 'ESP14073', 'VEG', 'VEGETATION', 'ESP01', 'Arbre', 'ESP151', 'Arbre de voirie', 'ESP336', 'R M Gontard angle M Deprez', '2', 'AR14073', 'Prunus', 'serrulata', '', 'Arbre adulte', '', '', '1995', '', '', '', '', '', '', '', '', '', '', 'Grenoble Alpes Métropole', '{\"type\":\"Point\",\"coordinates\":[5.72422659146747,45.1920566916671]}']\n"
     ]
    }
   ],
   "source": [
    "dataset = add_missing_value(data)"
   ]
  },
  {
   "cell_type": "markdown",
   "id": "c16f5030",
   "metadata": {},
   "source": [
    "# Enoncé"
   ]
  },
  {
   "cell_type": "markdown",
   "id": "86dbf3c6",
   "metadata": {},
   "source": [
    "Objectifs de l’activité\n",
    "\n",
    "● Analyser la répartition des espèces d’arbres à Grenoble, l’évolution de cette\n",
    "diversité au cours du temps, comparaison avec les objectifs de la Métro en termes\n",
    "de diversification des espèces.\n",
    "\n",
    "● Utilisation d’autres structures de données : Sets, Dict\n",
    "\n",
    "Contexte\n",
    "Diversifier les essences d’arbres en ville est crucial pour de nombreuses raisons :\n",
    "résilience des écosystèmes urbains, lutte contre les îlots de chaleur, renouvellement de\n",
    "l’air, etc. Or, le constat fait par la Métropole d"
   ]
  },
  {
   "cell_type": "markdown",
   "id": "6d0525bd",
   "metadata": {},
   "source": [
    "## ● Pour commencer, identifiez tous les genres botaniques représentés à Grenoble.\n",
    "Combien y en a-t-il ? Essayez plusieurs manières de résoudre ce problème."
   ]
  },
  {
   "cell_type": "markdown",
   "id": "2161627e",
   "metadata": {},
   "source": [
    "## Utils"
   ]
  },
  {
   "cell_type": "code",
   "execution_count": 314,
   "id": "8a4c8dd5",
   "metadata": {},
   "outputs": [],
   "source": [
    "def get_col_value_from_name(colName:str, data:list) -> str:\n",
    "    \n",
    "    if is_in_header(colName, data):\n",
    "        return get_dict_colName_colNum(data)[colName]"
   ]
  },
  {
   "cell_type": "code",
   "execution_count": 315,
   "id": "184eda22",
   "metadata": {},
   "outputs": [],
   "source": [
    "def get_col_values(colName:str, data:list) -> list:\n",
    "    \n",
    "    col = [el[get_col_value_from_name(colName, data)] for el in data]\n",
    "    \n",
    "    return col"
   ]
  },
  {
   "cell_type": "code",
   "execution_count": 316,
   "id": "c8756134",
   "metadata": {},
   "outputs": [],
   "source": [
    "def extract_different_values(column:list, columnDict:dict) -> list:\n",
    "    noNanList = []\n",
    "    if column[0] in columnDict.keys():\n",
    "        #print(f\"{column[0]} is a Header not a value...\")\n",
    "        setList = list(set(column[1:]))\n",
    "        \n",
    "        for el in setList:\n",
    "            if not el:\n",
    "                pass\n",
    "            else:\n",
    "                noNanList.append(el)\n",
    "    return noNanList"
   ]
  },
  {
   "cell_type": "markdown",
   "id": "8b3d1dfc",
   "metadata": {},
   "source": [
    "## Computation"
   ]
  },
  {
   "cell_type": "markdown",
   "id": "a0799838",
   "metadata": {},
   "source": [
    "#### Extract column genre_bota values"
   ]
  },
  {
   "cell_type": "code",
   "execution_count": 317,
   "id": "ac954b23",
   "metadata": {},
   "outputs": [
    {
     "name": "stdout",
     "output_type": "stream",
     "text": [
      "\u001b[1;34m  There are --> 119 <-- different Genre Botanic\n"
     ]
    }
   ],
   "source": [
    "columnDict = get_dict_colName_colNum(dataset)\n",
    "colGenreBota = get_col_values(colName = \"GENRE_BOTA\", data = dataset)\n",
    "genreBotaList = extract_different_values(column = colGenre_Bota, columnDict = columnDict)\n",
    "print(blue, f\" There are --> {len(genreBotaList)} <-- different Genre Botanic\")"
   ]
  },
  {
   "cell_type": "markdown",
   "id": "0e63f56f",
   "metadata": {},
   "source": [
    "## ● Identifiez maintenant toutes les espèces différentes présentes à Grenoble.\n",
    "N’oubliez pas que les espèces sont une sous catégorie de genre botanique !\n",
    "(l’espèce est ‘Platanus Acerifolia’ et pas uniquement ‘Acerifolia’)"
   ]
  },
  {
   "cell_type": "code",
   "execution_count": 320,
   "id": "12b74669",
   "metadata": {},
   "outputs": [
    {
     "name": "stdout",
     "output_type": "stream",
     "text": [
      "\u001b[1;34m  There are --> 280 <-- different Genre Botanic\n"
     ]
    }
   ],
   "source": [
    "colEspece = get_col_values(colName = \"ESPECE\",data = dataset)\n",
    "especeList = extract_different_values(column = colEspece, columnDict = columnDict)\n",
    "print(blue, f\" There are --> {len(especeList)} <-- different Genre Botanic\")"
   ]
  },
  {
   "cell_type": "markdown",
   "id": "df95a076",
   "metadata": {},
   "source": [
    "## ● En utilisant la structure de données Dict compter le nombre de représentants de chaque genre botanique :"
   ]
  },
  {
   "cell_type": "markdown",
   "id": "b1385d8a",
   "metadata": {},
   "source": [
    "### ○ Quel est le genre botanique le plus représenté ?"
   ]
  },
  {
   "cell_type": "code",
   "execution_count": 321,
   "id": "71bbb926",
   "metadata": {},
   "outputs": [],
   "source": [
    "def count_values_in_col(column:list) -> dict:\n",
    "    dictOfValue = {}\n",
    "    for el in column[1:]:\n",
    "        # If the key is \"\" we donèt take into account\n",
    "        if el:\n",
    "            if el not in dictOfValue.keys():\n",
    "                dictOfValue[el] = 1\n",
    "            else:\n",
    "                dictOfValue[el] += 1\n",
    "    return dictOfValue"
   ]
  },
  {
   "cell_type": "code",
   "execution_count": 322,
   "id": "7a1d6fae",
   "metadata": {},
   "outputs": [],
   "source": [
    "dictGenreBota_value = count_values_in_col(colGenre_Bota)"
   ]
  },
  {
   "cell_type": "code",
   "execution_count": 323,
   "id": "e45b9e46",
   "metadata": {},
   "outputs": [
    {
     "name": "stdout",
     "output_type": "stream",
     "text": [
      "\n",
      " \u001b[1;34m The botanic genre --> Acer <-- is the more represented with --> 5055 <-- trees.\n"
     ]
    }
   ],
   "source": [
    "max_value = max(dictGenreBota_value, key=lambda x:dictGenreBota_value[x])\n",
    "\n",
    "print(\"\\n\", blue, f\"The botanic genre --> {max_value} <-- is the more represented with --> {dictGenreBota_value[max_value]} <-- trees.\")\n"
   ]
  },
  {
   "cell_type": "markdown",
   "id": "13051d5e",
   "metadata": {},
   "source": [
    "### ○ Listez tous les représentants uniques de leurs genre botanique"
   ]
  },
  {
   "cell_type": "code",
   "execution_count": 324,
   "id": "a5abb902",
   "metadata": {},
   "outputs": [],
   "source": [
    "unique = [el for el in dictGenreBota_value if dictGenreBota_value[el] == 1]"
   ]
  },
  {
   "cell_type": "code",
   "execution_count": 325,
   "id": "34d6892c",
   "metadata": {},
   "outputs": [
    {
     "name": "stdout",
     "output_type": "stream",
     "text": [
      "\u001b[1;34m Acacia \u001b[1;31m 1\n",
      "\u001b[1;34m Pseudotsuga \u001b[1;31m 1\n",
      "\u001b[1;34m Poncinos \u001b[1;31m 1\n",
      "\u001b[1;34m Sciadopitys \u001b[1;31m 1\n",
      "\u001b[1;34m Sorbopyrus \u001b[1;31m 1\n",
      "\u001b[1;34m Eucalyptus \u001b[1;31m 1\n",
      "\u001b[1;34m Castanea \u001b[1;31m 1\n",
      "\u001b[1;34m Sterculia \u001b[1;31m 1\n",
      "\u001b[1;34m Laurus \u001b[1;31m 1\n",
      "\u001b[1;34m Staphylea \u001b[1;31m 1\n",
      "\u001b[1;34m Rhamnus \u001b[1;31m 1\n",
      "\u001b[1;34m Nyssa \u001b[1;31m 1\n",
      "\n",
      "\n",
      "\u001b[1;34m There are :  \u001b[1;31m 12 \u001b[1;34m  genre represented by only one tree.\n",
      " For a total of  \u001b[1;31m 119 \u001b[1;34m different genre\n"
     ]
    }
   ],
   "source": [
    "for el in unique:\n",
    "    print(blue, el, red, \"1\")\n",
    "print(\"\\n\")\n",
    "print(blue,\"There are : \", red, len(unique), blue, \" genre represented by only one tree.\")\n",
    "print(\" For a total of \", red, len(dictGenreBota_value), blue, \"different genre\")"
   ]
  },
  {
   "cell_type": "markdown",
   "id": "11e488c7",
   "metadata": {},
   "source": [
    "### ○ Classer tous les genres botaniques en fonction de leur nombre (ordre décroissant)"
   ]
  },
  {
   "cell_type": "markdown",
   "id": "a67a0237",
   "metadata": {},
   "source": [
    "Play with the parameter \"reverse\" to reverse the sorting output"
   ]
  },
  {
   "cell_type": "code",
   "execution_count": 326,
   "id": "c75d0c77",
   "metadata": {},
   "outputs": [],
   "source": [
    "dictGenreBota_value_sorted = dict(sorted(dictGenreBota_value.items(), key=lambda x:x[1], reverse=True))\n",
    "#dictGenreBota_value_sorted = dict(sorted(dictGenreBota_value.items(), key=lambda x:x[1], reverse=False))"
   ]
  },
  {
   "cell_type": "code",
   "execution_count": 327,
   "id": "26d25dbe",
   "metadata": {},
   "outputs": [
    {
     "data": {
      "text/plain": [
       "{'Acer': 5055,\n",
       " 'Platanus': 4492,\n",
       " 'Pinus': 1962,\n",
       " 'Tilia': 1740,\n",
       " 'Fraxinus': 1505,\n",
       " 'Carpinus': 1220,\n",
       " 'Prunus': 1154,\n",
       " 'Betula': 1119,\n",
       " 'Populus': 840,\n",
       " 'Liquidambar': 811,\n",
       " 'Quercus': 809,\n",
       " 'Alnus': 761,\n",
       " 'Pyrus': 585,\n",
       " 'Liriodendron': 508,\n",
       " 'Magnolia': 502,\n",
       " 'Aesculus': 461,\n",
       " 'Sophora': 420,\n",
       " 'Cedrus': 416,\n",
       " 'Gleditsia': 378,\n",
       " 'Chamaecyparis': 364,\n",
       " 'Malus': 339,\n",
       " 'Cercis': 336,\n",
       " 'Koelreuteria': 283,\n",
       " 'Zelkova': 281,\n",
       " 'Fagus': 279,\n",
       " 'Picea': 258,\n",
       " 'Robinia': 254,\n",
       " 'Celtis': 228,\n",
       " 'Ulmus': 217,\n",
       " 'Corylus': 206,\n",
       " 'Taxus': 201,\n",
       " 'Cupressus': 197,\n",
       " 'Amélanchier': 141,\n",
       " 'Salix': 134,\n",
       " 'Ginkgo': 112,\n",
       " 'Crataegus': 106,\n",
       " 'Catalpa': 103,\n",
       " 'Morus': 99,\n",
       " 'Paulownia': 97,\n",
       " 'Cupressocyparis': 96,\n",
       " 'Sorbus': 93,\n",
       " 'Ostrya': 88,\n",
       " 'Metasequoia': 84,\n",
       " 'Tetradium': 80,\n",
       " 'Ailanthus': 79,\n",
       " 'Juglans': 76,\n",
       " 'Chionanthus': 72,\n",
       " 'Parrotia': 66,\n",
       " 'Albizia': 64,\n",
       " 'Lagerstroemia': 59,\n",
       " 'Pterocarya': 59,\n",
       " 'Cedrela': 54,\n",
       " 'Thuja': 48,\n",
       " 'Cladastris': 46,\n",
       " 'Syringa': 43,\n",
       " 'Libocedrus': 42,\n",
       " 'Sambucus': 36,\n",
       " 'Ficus': 32,\n",
       " 'Ilex': 28,\n",
       " 'Broussonetia': 26,\n",
       " 'Cornus': 26,\n",
       " 'Abies': 25,\n",
       " 'Diospyros': 24,\n",
       " 'Trachycarpus': 23,\n",
       " 'Ligustrum': 23,\n",
       " 'Cydonia': 19,\n",
       " 'Phellodendron': 16,\n",
       " 'Pteroceltis': 15,\n",
       " 'Eleagnus': 15,\n",
       " 'Cercidiphyllum': 14,\n",
       " 'Buxus': 12,\n",
       " 'Maclura': 12,\n",
       " 'Gymnocladus': 11,\n",
       " 'Taxodium': 11,\n",
       " 'Halesia': 11,\n",
       " 'Sequoiadendron': 10,\n",
       " 'Pistacia': 10,\n",
       " 'Photinia': 9,\n",
       " 'Laburnum': 9,\n",
       " 'Mespilus': 8,\n",
       " 'Rhus': 8,\n",
       " 'Davidia': 8,\n",
       " 'Olea': 8,\n",
       " 'Cotinus': 8,\n",
       " 'Chitalpa': 7,\n",
       " 'Sequoia': 6,\n",
       " 'Lonicera': 6,\n",
       " 'Carya': 6,\n",
       " 'Calocedrus': 6,\n",
       " 'Pterostyrax': 6,\n",
       " 'Fontanesia': 6,\n",
       " 'Clerodendron': 5,\n",
       " 'Larix': 5,\n",
       " 'Idesia': 5,\n",
       " 'Punica': 4,\n",
       " 'Juniperus': 4,\n",
       " 'Ptelea': 4,\n",
       " 'Chimonanthus': 3,\n",
       " 'Cephalotaxus': 3,\n",
       " 'Eriobotrya ': 3,\n",
       " 'Hibiscus': 3,\n",
       " 'Styrax': 3,\n",
       " 'Phillyrea': 2,\n",
       " 'Hovenia': 2,\n",
       " 'Cryptomeria': 2,\n",
       " 'Araucaria': 2,\n",
       " 'Euodia': 2,\n",
       " 'Acacia': 1,\n",
       " 'Pseudotsuga': 1,\n",
       " 'Poncinos': 1,\n",
       " 'Sciadopitys': 1,\n",
       " 'Sorbopyrus': 1,\n",
       " 'Eucalyptus': 1,\n",
       " 'Castanea': 1,\n",
       " 'Sterculia': 1,\n",
       " 'Laurus': 1,\n",
       " 'Staphylea': 1,\n",
       " 'Rhamnus': 1,\n",
       " 'Nyssa': 1}"
      ]
     },
     "execution_count": 327,
     "metadata": {},
     "output_type": "execute_result"
    }
   ],
   "source": [
    "dictGenreBota_value_sorted"
   ]
  },
  {
   "cell_type": "markdown",
   "id": "04550170",
   "metadata": {},
   "source": [
    "### ○ Quelle est la proportion du genre botanique le plus représenté parmi tous les genres ?"
   ]
  },
  {
   "cell_type": "code",
   "execution_count": 328,
   "id": "3cd35013",
   "metadata": {},
   "outputs": [
    {
     "data": {
      "text/plain": [
       "5055"
      ]
     },
     "execution_count": 328,
     "metadata": {},
     "output_type": "execute_result"
    }
   ],
   "source": [
    "max(dictGenreBota_value_sorted.values())"
   ]
  },
  {
   "cell_type": "code",
   "execution_count": 332,
   "id": "ec89cf73",
   "metadata": {},
   "outputs": [
    {
     "data": {
      "text/plain": [
       "30686"
      ]
     },
     "execution_count": 332,
     "metadata": {},
     "output_type": "execute_result"
    }
   ],
   "source": [
    "totalSpecies"
   ]
  },
  {
   "cell_type": "code",
   "execution_count": 353,
   "id": "c02262cd",
   "metadata": {},
   "outputs": [],
   "source": [
    "def compute_proportion(rawDict:dict) -> dict:\n",
    "    \n",
    "    totalSpecies = sum([int(el) for el in rawDict.values()])\n",
    "    dictTemp = {}\n",
    "    print(blue, totalSpecies)\n",
    "    for key in rawDict.keys():\n",
    "        dictTemp[key] = {\n",
    "            \"number\" : int(rawDict[key]),\n",
    "            \"proportion\" : float(rawDict[key]/totalSpecies)*1\n",
    "        }\n",
    "    \n",
    "    return dictTemp"
   ]
  },
  {
   "cell_type": "code",
   "execution_count": 354,
   "id": "eacf8910",
   "metadata": {},
   "outputs": [
    {
     "name": "stdout",
     "output_type": "stream",
     "text": [
      "\u001b[1;34m 30686\n"
     ]
    },
    {
     "data": {
      "text/plain": [
       "{'Acer': {'number': 5055, 'proportion': 0.1647331030437333},\n",
       " 'Platanus': {'number': 4492, 'proportion': 0.14638597405983184},\n",
       " 'Pinus': {'number': 1962, 'proportion': 0.0639379521605944},\n",
       " 'Tilia': {'number': 1740, 'proportion': 0.05670338265006843},\n",
       " 'Fraxinus': {'number': 1505, 'proportion': 0.04904516717721436},\n",
       " 'Carpinus': {'number': 1220, 'proportion': 0.03975754415694453},\n",
       " 'Prunus': {'number': 1154, 'proportion': 0.03760672619435573},\n",
       " 'Betula': {'number': 1119, 'proportion': 0.0364661409111647},\n",
       " 'Populus': {'number': 840, 'proportion': 0.027374046796584763},\n",
       " 'Liquidambar': {'number': 811, 'proportion': 0.02642899041908362},\n",
       " 'Quercus': {'number': 809, 'proportion': 0.026363814117186992},\n",
       " 'Alnus': {'number': 761, 'proportion': 0.02479958287166786},\n",
       " 'Pyrus': {'number': 585, 'proportion': 0.019064068304764387},\n",
       " 'Liriodendron': {'number': 508, 'proportion': 0.016554780681744118},\n",
       " 'Magnolia': {'number': 502, 'proportion': 0.016359251776054226},\n",
       " 'Aesculus': {'number': 461, 'proportion': 0.015023137587173304},\n",
       " 'Sophora': {'number': 420, 'proportion': 0.013687023398292381},\n",
       " 'Cedrus': {'number': 416, 'proportion': 0.01355667079449912},\n",
       " 'Gleditsia': {'number': 378, 'proportion': 0.012318321058463142},\n",
       " 'Chamaecyparis': {'number': 364, 'proportion': 0.01186208694518673},\n",
       " 'Malus': {'number': 339, 'proportion': 0.011047383171478851},\n",
       " 'Cercis': {'number': 336, 'proportion': 0.010949618718633905},\n",
       " 'Koelreuteria': {'number': 283, 'proportion': 0.0092224467183732},\n",
       " 'Zelkova': {'number': 281, 'proportion': 0.009157270416476569},\n",
       " 'Fagus': {'number': 279, 'proportion': 0.00909209411457994},\n",
       " 'Picea': {'number': 258, 'proportion': 0.00840774294466532},\n",
       " 'Robinia': {'number': 254, 'proportion': 0.008277390340872059},\n",
       " 'Celtis': {'number': 228, 'proportion': 0.007430098416215864},\n",
       " 'Ulmus': {'number': 217, 'proportion': 0.007071628755784397},\n",
       " 'Corylus': {'number': 206, 'proportion': 0.006713159095352929},\n",
       " 'Taxus': {'number': 201, 'proportion': 0.006550218340611353},\n",
       " 'Cupressus': {'number': 197, 'proportion': 0.006419865736818093},\n",
       " 'Amélanchier': {'number': 141, 'proportion': 0.004594929283712442},\n",
       " 'Salix': {'number': 134, 'proportion': 0.004366812227074236},\n",
       " 'Ginkgo': {'number': 112, 'proportion': 0.0036498729062113015},\n",
       " 'Crataegus': {'number': 106, 'proportion': 0.0034543440005214104},\n",
       " 'Catalpa': {'number': 103, 'proportion': 0.0033565795476764647},\n",
       " 'Morus': {'number': 99, 'proportion': 0.0032262269438832042},\n",
       " 'Paulownia': {'number': 97, 'proportion': 0.0031610506419865736},\n",
       " 'Cupressocyparis': {'number': 96, 'proportion': 0.0031284624910382585},\n",
       " 'Sorbus': {'number': 93, 'proportion': 0.0030306980381933127},\n",
       " 'Ostrya': {'number': 88, 'proportion': 0.0028677572834517368},\n",
       " 'Metasequoia': {'number': 84, 'proportion': 0.0027374046796584763},\n",
       " 'Tetradium': {'number': 80, 'proportion': 0.0026070520758652155},\n",
       " 'Ailanthus': {'number': 79, 'proportion': 0.0025744639249169004},\n",
       " 'Juglans': {'number': 76, 'proportion': 0.0024766994720719546},\n",
       " 'Chionanthus': {'number': 72, 'proportion': 0.0023463468682786938},\n",
       " 'Parrotia': {'number': 66, 'proportion': 0.0021508179625888027},\n",
       " 'Albizia': {'number': 64, 'proportion': 0.0020856416606921725},\n",
       " 'Lagerstroemia': {'number': 59, 'proportion': 0.0019227009059505963},\n",
       " 'Pterocarya': {'number': 59, 'proportion': 0.0019227009059505963},\n",
       " 'Cedrela': {'number': 54, 'proportion': 0.0017597601512090203},\n",
       " 'Thuja': {'number': 48, 'proportion': 0.0015642312455191292},\n",
       " 'Cladastris': {'number': 46, 'proportion': 0.0014990549436224988},\n",
       " 'Syringa': {'number': 43, 'proportion': 0.0014012904907775533},\n",
       " 'Libocedrus': {'number': 42, 'proportion': 0.0013687023398292382},\n",
       " 'Sambucus': {'number': 36, 'proportion': 0.0011731734341393469},\n",
       " 'Ficus': {'number': 32, 'proportion': 0.0010428208303460862},\n",
       " 'Ilex': {'number': 28, 'proportion': 0.0009124682265528254},\n",
       " 'Broussonetia': {'number': 26, 'proportion': 0.000847291924656195},\n",
       " 'Cornus': {'number': 26, 'proportion': 0.000847291924656195},\n",
       " 'Abies': {'number': 25, 'proportion': 0.0008147037737078798},\n",
       " 'Diospyros': {'number': 24, 'proportion': 0.0007821156227595646},\n",
       " 'Trachycarpus': {'number': 23, 'proportion': 0.0007495274718112494},\n",
       " 'Ligustrum': {'number': 23, 'proportion': 0.0007495274718112494},\n",
       " 'Cydonia': {'number': 19, 'proportion': 0.0006191748680179887},\n",
       " 'Phellodendron': {'number': 16, 'proportion': 0.0005214104151730431},\n",
       " 'Pteroceltis': {'number': 15, 'proportion': 0.0004888222642247279},\n",
       " 'Eleagnus': {'number': 15, 'proportion': 0.0004888222642247279},\n",
       " 'Cercidiphyllum': {'number': 14, 'proportion': 0.0004562341132764127},\n",
       " 'Buxus': {'number': 12, 'proportion': 0.0003910578113797823},\n",
       " 'Maclura': {'number': 12, 'proportion': 0.0003910578113797823},\n",
       " 'Gymnocladus': {'number': 11, 'proportion': 0.0003584696604314671},\n",
       " 'Taxodium': {'number': 11, 'proportion': 0.0003584696604314671},\n",
       " 'Halesia': {'number': 11, 'proportion': 0.0003584696604314671},\n",
       " 'Sequoiadendron': {'number': 10, 'proportion': 0.00032588150948315193},\n",
       " 'Pistacia': {'number': 10, 'proportion': 0.00032588150948315193},\n",
       " 'Photinia': {'number': 9, 'proportion': 0.0002932933585348367},\n",
       " 'Laburnum': {'number': 9, 'proportion': 0.0002932933585348367},\n",
       " 'Mespilus': {'number': 8, 'proportion': 0.00026070520758652156},\n",
       " 'Rhus': {'number': 8, 'proportion': 0.00026070520758652156},\n",
       " 'Davidia': {'number': 8, 'proportion': 0.00026070520758652156},\n",
       " 'Olea': {'number': 8, 'proportion': 0.00026070520758652156},\n",
       " 'Cotinus': {'number': 8, 'proportion': 0.00026070520758652156},\n",
       " 'Chitalpa': {'number': 7, 'proportion': 0.00022811705663820634},\n",
       " 'Sequoia': {'number': 6, 'proportion': 0.00019552890568989116},\n",
       " 'Lonicera': {'number': 6, 'proportion': 0.00019552890568989116},\n",
       " 'Carya': {'number': 6, 'proportion': 0.00019552890568989116},\n",
       " 'Calocedrus': {'number': 6, 'proportion': 0.00019552890568989116},\n",
       " 'Pterostyrax': {'number': 6, 'proportion': 0.00019552890568989116},\n",
       " 'Fontanesia': {'number': 6, 'proportion': 0.00019552890568989116},\n",
       " 'Clerodendron': {'number': 5, 'proportion': 0.00016294075474157597},\n",
       " 'Larix': {'number': 5, 'proportion': 0.00016294075474157597},\n",
       " 'Idesia': {'number': 5, 'proportion': 0.00016294075474157597},\n",
       " 'Punica': {'number': 4, 'proportion': 0.00013035260379326078},\n",
       " 'Juniperus': {'number': 4, 'proportion': 0.00013035260379326078},\n",
       " 'Ptelea': {'number': 4, 'proportion': 0.00013035260379326078},\n",
       " 'Chimonanthus': {'number': 3, 'proportion': 9.776445284494558e-05},\n",
       " 'Cephalotaxus': {'number': 3, 'proportion': 9.776445284494558e-05},\n",
       " 'Eriobotrya ': {'number': 3, 'proportion': 9.776445284494558e-05},\n",
       " 'Hibiscus': {'number': 3, 'proportion': 9.776445284494558e-05},\n",
       " 'Styrax': {'number': 3, 'proportion': 9.776445284494558e-05},\n",
       " 'Phillyrea': {'number': 2, 'proportion': 6.517630189663039e-05},\n",
       " 'Hovenia': {'number': 2, 'proportion': 6.517630189663039e-05},\n",
       " 'Cryptomeria': {'number': 2, 'proportion': 6.517630189663039e-05},\n",
       " 'Araucaria': {'number': 2, 'proportion': 6.517630189663039e-05},\n",
       " 'Euodia': {'number': 2, 'proportion': 6.517630189663039e-05},\n",
       " 'Acacia': {'number': 1, 'proportion': 3.2588150948315195e-05},\n",
       " 'Pseudotsuga': {'number': 1, 'proportion': 3.2588150948315195e-05},\n",
       " 'Poncinos': {'number': 1, 'proportion': 3.2588150948315195e-05},\n",
       " 'Sciadopitys': {'number': 1, 'proportion': 3.2588150948315195e-05},\n",
       " 'Sorbopyrus': {'number': 1, 'proportion': 3.2588150948315195e-05},\n",
       " 'Eucalyptus': {'number': 1, 'proportion': 3.2588150948315195e-05},\n",
       " 'Castanea': {'number': 1, 'proportion': 3.2588150948315195e-05},\n",
       " 'Sterculia': {'number': 1, 'proportion': 3.2588150948315195e-05},\n",
       " 'Laurus': {'number': 1, 'proportion': 3.2588150948315195e-05},\n",
       " 'Staphylea': {'number': 1, 'proportion': 3.2588150948315195e-05},\n",
       " 'Rhamnus': {'number': 1, 'proportion': 3.2588150948315195e-05},\n",
       " 'Nyssa': {'number': 1, 'proportion': 3.2588150948315195e-05}}"
      ]
     },
     "execution_count": 354,
     "metadata": {},
     "output_type": "execute_result"
    }
   ],
   "source": [
    "proportionBotaDict = compute_proportion(dictGenreBota_value_sorted)\n",
    "proportionBotaDict"
   ]
  },
  {
   "cell_type": "code",
   "execution_count": null,
   "id": "c813a23a",
   "metadata": {},
   "outputs": [],
   "source": []
  }
 ],
 "metadata": {
  "kernelspec": {
   "display_name": "Python 3 (ipykernel)",
   "language": "python",
   "name": "python3"
  },
  "language_info": {
   "codemirror_mode": {
    "name": "ipython",
    "version": 3
   },
   "file_extension": ".py",
   "mimetype": "text/x-python",
   "name": "python",
   "nbconvert_exporter": "python",
   "pygments_lexer": "ipython3",
   "version": "3.9.13"
  }
 },
 "nbformat": 4,
 "nbformat_minor": 5
}
