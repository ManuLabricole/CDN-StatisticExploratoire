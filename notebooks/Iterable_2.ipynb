{
 "cells": [
  {
   "cell_type": "code",
   "execution_count": 6,
   "id": "51b26f4a",
   "metadata": {},
   "outputs": [],
   "source": [
    "import csv\n",
    "import numpy as np\n",
    "import matplotlib.pyplot as plt\n",
    "import matplotlib"
   ]
  },
  {
   "cell_type": "markdown",
   "id": "630281a7",
   "metadata": {},
   "source": [
    "# Import csv"
   ]
  },
  {
   "cell_type": "code",
   "execution_count": 7,
   "id": "1601c689",
   "metadata": {},
   "outputs": [],
   "source": [
    "with open('../data/ESP_PUBLIC.IDENTITE_ARBRE.csv', newline='', encoding='utf-8-sig') as csvfile:\n",
    "    # use \",\" separator to generate column value as list element\n",
    "    # cs.reader return a class object of \"_csv.reader\"\n",
    "    dataTemp = csv.reader(csvfile, delimiter=',')\n",
    "    \n",
    "    # Use list() to convert the csv object into a list, of list, depending on how the object is built\n",
    "    # Hard to understand how list(csv_object) behaves \n",
    "    data = list(dataTemp)"
   ]
  },
  {
   "cell_type": "markdown",
   "id": "38f777c1",
   "metadata": {},
   "source": [
    "### Utils"
   ]
  },
  {
   "cell_type": "code",
   "execution_count": 8,
   "id": "446e65c2",
   "metadata": {},
   "outputs": [],
   "source": [
    "def add_missing_value(dataset:list) -> list:\n",
    "    datasetCopy = dataset\n",
    "    \n",
    "    if len(datasetCopy[len(datasetCopy)-1]) == 31:\n",
    "        datasetCopy[len(datasetCopy)-1].insert(0, \"MISSING\")\n",
    "        print(f\"Added a value in : {datasetCopy[len(datasetCopy)-1]}\")\n",
    "    else:\n",
    "        #print(f\"{datasetCopy[len(datasetCopy)-1]} was already added...\")\n",
    "        print(f\"{len(datasetCopy)-1} is the last rows of the dataset and should start with 'MISSING' value\")\n",
    "\n",
    "    return datasetCopy"
   ]
  },
  {
   "cell_type": "code",
   "execution_count": 9,
   "id": "1b7484c4",
   "metadata": {},
   "outputs": [],
   "source": [
    "def get_header(data:list) -> list:\n",
    "    if len(data) > 0:\n",
    "        return data[0]\n",
    "    else:\n",
    "        raise ValueError(\"The dataset sent is empty...\")"
   ]
  },
  {
   "cell_type": "code",
   "execution_count": 10,
   "id": "7a83660b",
   "metadata": {},
   "outputs": [],
   "source": [
    "def get_dict_colName_colNum(data:list) -> dict:\n",
    "    dictTemp = {}\n",
    "    \n",
    "    for el in get_header(data):\n",
    "        dictTemp[el] = get_header(data).index(el)\n",
    "        \n",
    "    return dictTemp\n",
    "# print(get_dict_colName_colNum(dataset))"
   ]
  },
  {
   "cell_type": "code",
   "execution_count": 11,
   "id": "7a0b380f",
   "metadata": {},
   "outputs": [],
   "source": [
    "def is_in_header(colName:str, data:list) -> bool:\n",
    "    return colName in get_header(data)\n",
    "# print(is_in_header(\"GENRE_DESC\", dataset))"
   ]
  },
  {
   "cell_type": "code",
   "execution_count": 19,
   "id": "e48b089e",
   "metadata": {},
   "outputs": [],
   "source": [
    "red = \"\\033[1;31m\"\n",
    "blue = \"\\033[1;34m\"\n",
    "green = \"\\033[1;32m\"\n",
    "no_color = \"\\033[0m\"\n",
    "\n",
    "def print_dict(dictToPrint:dict):\n",
    "    for key in dictToPrint.keys () :\n",
    "        print (red, key, blue, out [key])\n",
    "    print (no_color)"
   ]
  },
  {
   "cell_type": "markdown",
   "id": "a617a06d",
   "metadata": {},
   "source": [
    "# Enoncé"
   ]
  },
  {
   "cell_type": "markdown",
   "id": "a8eb3e60",
   "metadata": {},
   "source": [
    "Objectifs de l’activité\n",
    "\n",
    "● Analyser la répartition des espèces d’arbres à Grenoble, l’évolution de cette\n",
    "diversité au cours du temps, comparaison avec les objectifs de la Métro en termes\n",
    "de diversification des espèces.\n",
    "\n",
    "● Utilisation d’autres structures de données : Sets, Dict\n",
    "\n",
    "Contexte\n",
    "Diversifier les essences d’arbres en ville est crucial pour de nombreuses raisons :\n",
    "résilience des écosystèmes urbains, lutte contre les îlots de chaleur, renouvellement de\n",
    "l’air, etc. Or, le constat fait par la Métropole d"
   ]
  },
  {
   "cell_type": "markdown",
   "id": "3f00ef3a",
   "metadata": {},
   "source": [
    "## Pour commencer, identifiez tous les genres botaniques représentés à Grenoble.\n",
    "Combien y en a-t-il ? Essayez plusieurs manières de résoudre ce problème."
   ]
  },
  {
   "cell_type": "code",
   "execution_count": 13,
   "id": "a275c0bb",
   "metadata": {},
   "outputs": [
    {
     "name": "stdout",
     "output_type": "stream",
     "text": [
      "Added a value in : ['MISSING', 'ESP14073', 'ESP14073', 'VEG', 'VEGETATION', 'ESP01', 'Arbre', 'ESP151', 'Arbre de voirie', 'ESP336', 'R M Gontard angle M Deprez', '2', 'AR14073', 'Prunus', 'serrulata', '', 'Arbre adulte', '', '', '1995', '', '', '', '', '', '', '', '', '', '', 'Grenoble Alpes Métropole', '{\"type\":\"Point\",\"coordinates\":[5.72422659146747,45.1920566916671]}']\n"
     ]
    }
   ],
   "source": [
    "dataset = add_missing_value(data)"
   ]
  },
  {
   "cell_type": "code",
   "execution_count": 16,
   "id": "ad784a89",
   "metadata": {},
   "outputs": [
    {
     "data": {
      "text/plain": [
       "13"
      ]
     },
     "execution_count": 16,
     "metadata": {},
     "output_type": "execute_result"
    }
   ],
   "source": [
    "columnDict = get_dict_colName_colNum(dataset)\n",
    "colGenre_Bota = columnDict[\"GENRE_BOTA\"]\n",
    "colGenre_Bota"
   ]
  },
  {
   "cell_type": "code",
   "execution_count": 20,
   "id": "0a2b20dd",
   "metadata": {},
   "outputs": [
    {
     "name": "stdout",
     "output_type": "stream",
     "text": [
      "\u001b[1;31m key1 \u001b[1;34m value1\n",
      "\u001b[1;31m key2 \u001b[1;34m value2\n",
      "\u001b[1;31m key3 \u001b[1;34m value3\n",
      "\u001b[0m\n"
     ]
    }
   ],
   "source": []
  },
  {
   "cell_type": "code",
   "execution_count": null,
   "id": "7def1242",
   "metadata": {},
   "outputs": [],
   "source": []
  }
 ],
 "metadata": {
  "kernelspec": {
   "display_name": "Python 3 (ipykernel)",
   "language": "python",
   "name": "python3"
  },
  "language_info": {
   "codemirror_mode": {
    "name": "ipython",
    "version": 3
   },
   "file_extension": ".py",
   "mimetype": "text/x-python",
   "name": "python",
   "nbconvert_exporter": "python",
   "pygments_lexer": "ipython3",
   "version": "3.9.13"
  }
 },
 "nbformat": 4,
 "nbformat_minor": 5
}
