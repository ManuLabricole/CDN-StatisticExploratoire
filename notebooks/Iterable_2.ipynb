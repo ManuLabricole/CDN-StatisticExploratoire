{
 "cells": [
  {
   "cell_type": "code",
   "execution_count": 594,
   "id": "076f8f13",
   "metadata": {},
   "outputs": [],
   "source": [
    "import csv\n",
    "import numpy as np\n",
    "import matplotlib.pyplot as plt\n",
    "import matplotlib"
   ]
  },
  {
   "cell_type": "markdown",
   "id": "7354adb5",
   "metadata": {},
   "source": [
    "# Import csv"
   ]
  },
  {
   "cell_type": "code",
   "execution_count": 595,
   "id": "9aa1f848",
   "metadata": {},
   "outputs": [],
   "source": [
    "with open('../data/ESP_PUBLIC.IDENTITE_ARBRE.csv', newline='', encoding='utf-8-sig') as csvfile:\n",
    "    # use \",\" separator to generate column value as list element\n",
    "    # cs.reader return a class object of \"_csv.reader\"\n",
    "    dataTemp = csv.reader(csvfile, delimiter=',')\n",
    "    \n",
    "    # Use list() to convert the csv object into a list, of list, depending on how the object is built\n",
    "    # Hard to understand how list(csv_object) behaves \n",
    "    data = list(dataTemp)"
   ]
  },
  {
   "cell_type": "markdown",
   "id": "0f4b5f59",
   "metadata": {},
   "source": [
    "### Utils"
   ]
  },
  {
   "cell_type": "code",
   "execution_count": 596,
   "id": "a489b32f",
   "metadata": {},
   "outputs": [],
   "source": [
    "def add_missing_value(dataset:list) -> list:\n",
    "    datasetCopy = dataset\n",
    "    \n",
    "    if len(datasetCopy[len(datasetCopy)-1]) == 31:\n",
    "        datasetCopy[len(datasetCopy)-1].insert(0, \"30032\")\n",
    "        print(f\"Added a value in : {datasetCopy[len(datasetCopy)-1]}\")\n",
    "    #else:\n",
    "    #   print(f\"{datasetCopy[len(datasetCopy)-1]} was already added...\")\n",
    "    #   print(f\"{len(datasetCopy)-1} is the last rows of the dataset and should start with 'MISSING' value\")\n",
    "\n",
    "    return datasetCopy"
   ]
  },
  {
   "cell_type": "code",
   "execution_count": 597,
   "id": "85ff2b0f",
   "metadata": {},
   "outputs": [],
   "source": [
    "def get_header(data:list) -> list:\n",
    "    if len(data) > 0:\n",
    "        return data[0]\n",
    "    else:\n",
    "        raise ValueError(\"The dataset sent is empty...\")"
   ]
  },
  {
   "cell_type": "code",
   "execution_count": 598,
   "id": "990bc41b",
   "metadata": {},
   "outputs": [],
   "source": [
    "def get_dict_colName_colNum(data:list) -> dict:\n",
    "    dictTemp = {}\n",
    "    \n",
    "    for el in get_header(data):\n",
    "        dictTemp[el] = get_header(data).index(el)\n",
    "        \n",
    "    return dictTemp\n",
    "# print(get_dict_colName_colNum(dataset))"
   ]
  },
  {
   "cell_type": "code",
   "execution_count": 599,
   "id": "5a03151d",
   "metadata": {},
   "outputs": [],
   "source": [
    "def is_in_header(colName:str, data:list) -> bool:\n",
    "    return colName in get_header(data)\n",
    "# print(is_in_header(\"GENRE_DESC\", dataset))"
   ]
  },
  {
   "cell_type": "code",
   "execution_count": 600,
   "id": "8a7b92f5",
   "metadata": {},
   "outputs": [],
   "source": [
    "red = \"\\033[1;31m\"\n",
    "blue = \"\\033[1;34m\"\n",
    "green = \"\\033[1;32m\"\n",
    "no_color = \"\\033[0m\"\n",
    "\n",
    "def print_dict(dictToPrint:dict):\n",
    "    for key in dictToPrint.keys () :\n",
    "        print (red, key, blue, out [key])\n",
    "    print (no_color)"
   ]
  },
  {
   "cell_type": "code",
   "execution_count": 601,
   "id": "13f7596f",
   "metadata": {},
   "outputs": [
    {
     "name": "stdout",
     "output_type": "stream",
     "text": [
      "Added a value in : ['30032', 'ESP14073', 'ESP14073', 'VEG', 'VEGETATION', 'ESP01', 'Arbre', 'ESP151', 'Arbre de voirie', 'ESP336', 'R M Gontard angle M Deprez', '2', 'AR14073', 'Prunus', 'serrulata', '', 'Arbre adulte', '', '', '1995', '', '', '', '', '', '', '', '', '', '', 'Grenoble Alpes Métropole', '{\"type\":\"Point\",\"coordinates\":[5.72422659146747,45.1920566916671]}']\n"
     ]
    }
   ],
   "source": [
    "dataset = add_missing_value(data)"
   ]
  },
  {
   "cell_type": "markdown",
   "id": "acecffa7",
   "metadata": {},
   "source": [
    "# Enoncé"
   ]
  },
  {
   "cell_type": "markdown",
   "id": "04a2e17c",
   "metadata": {},
   "source": [
    "Objectifs de l’activité\n",
    "\n",
    "● Analyser la répartition des espèces d’arbres à Grenoble, l’évolution de cette\n",
    "diversité au cours du temps, comparaison avec les objectifs de la Métro en termes\n",
    "de diversification des espèces.\n",
    "\n",
    "● Utilisation d’autres structures de données : Sets, Dict\n",
    "\n",
    "Contexte\n",
    "Diversifier les essences d’arbres en ville est crucial pour de nombreuses raisons :\n",
    "résilience des écosystèmes urbains, lutte contre les îlots de chaleur, renouvellement de\n",
    "l’air, etc. Or, le constat fait par la Métropole d"
   ]
  },
  {
   "cell_type": "markdown",
   "id": "97415498",
   "metadata": {},
   "source": [
    "## ● Pour commencer, identifiez tous les genres botaniques représentés à Grenoble.\n",
    "Combien y en a-t-il ? Essayez plusieurs manières de résoudre ce problème."
   ]
  },
  {
   "cell_type": "markdown",
   "id": "cf3cd78a",
   "metadata": {},
   "source": [
    "## Utils"
   ]
  },
  {
   "cell_type": "code",
   "execution_count": 602,
   "id": "c73f2c20",
   "metadata": {},
   "outputs": [],
   "source": [
    "def get_col_value_from_name(colName:str, data:list) -> str:\n",
    "    \n",
    "    if is_in_header(colName, data):\n",
    "        return get_dict_colName_colNum(data)[colName]"
   ]
  },
  {
   "cell_type": "code",
   "execution_count": 603,
   "id": "75cab286",
   "metadata": {},
   "outputs": [],
   "source": [
    "def get_col_values(colName:str, data:list) -> list:\n",
    "    \n",
    "    col = [el[get_col_value_from_name(colName, data)] for el in data]\n",
    "    \n",
    "    return col"
   ]
  },
  {
   "cell_type": "code",
   "execution_count": 604,
   "id": "ab837e78",
   "metadata": {},
   "outputs": [],
   "source": [
    "def extract_different_values(column:list, columnDict:dict) -> list:\n",
    "    noNanList = []\n",
    "    if column[0] in columnDict.keys():\n",
    "        #print(f\"{column[0]} is a Header not a value...\")\n",
    "        setList = list(set(column[1:]))\n",
    "        \n",
    "        for el in setList:\n",
    "            if not el:\n",
    "                pass\n",
    "            else:\n",
    "                noNanList.append(el)\n",
    "    return noNanList"
   ]
  },
  {
   "cell_type": "markdown",
   "id": "360b5a15",
   "metadata": {},
   "source": [
    "## Computation"
   ]
  },
  {
   "cell_type": "markdown",
   "id": "9720de68",
   "metadata": {},
   "source": [
    "#### Extract column genre_bota values"
   ]
  },
  {
   "cell_type": "code",
   "execution_count": 605,
   "id": "1249ce77",
   "metadata": {},
   "outputs": [
    {
     "name": "stdout",
     "output_type": "stream",
     "text": [
      "\u001b[1;34m  There are --> 119 <-- different Genre Botanic\n"
     ]
    }
   ],
   "source": [
    "columnDict = get_dict_colName_colNum(dataset)\n",
    "colGenreBota = get_col_values(colName = \"GENRE_BOTA\", data = dataset)\n",
    "genreBotaList = extract_different_values(column = colGenre_Bota, columnDict = columnDict)\n",
    "print(blue, f\" There are --> {len(genreBotaList)} <-- different Genre Botanic\")"
   ]
  },
  {
   "cell_type": "markdown",
   "id": "db58e04b",
   "metadata": {},
   "source": [
    "## ● Identifiez maintenant toutes les espèces différentes présentes à Grenoble.\n",
    "N’oubliez pas que les espèces sont une sous catégorie de genre botanique !\n",
    "(l’espèce est ‘Platanus Acerifolia’ et pas uniquement ‘Acerifolia’)"
   ]
  },
  {
   "cell_type": "code",
   "execution_count": 606,
   "id": "c16728f8",
   "metadata": {},
   "outputs": [
    {
     "name": "stdout",
     "output_type": "stream",
     "text": [
      "\u001b[1;34m  There are --> 280 <-- different Genre Botanic\n"
     ]
    }
   ],
   "source": [
    "colEspece = get_col_values(colName = \"ESPECE\",data = dataset)\n",
    "especeList = extract_different_values(column = colEspece, columnDict = columnDict)\n",
    "print(blue, f\" There are --> {len(especeList)} <-- different Genre Botanic\")"
   ]
  },
  {
   "cell_type": "markdown",
   "id": "538aa379",
   "metadata": {},
   "source": [
    "## ● En utilisant la structure de données Dict compter le nombre de représentants de chaque genre botanique :"
   ]
  },
  {
   "cell_type": "markdown",
   "id": "2e311a7d",
   "metadata": {},
   "source": [
    "### ○ Quel est le genre botanique le plus représenté ?"
   ]
  },
  {
   "cell_type": "code",
   "execution_count": 607,
   "id": "2d178fd1",
   "metadata": {},
   "outputs": [],
   "source": [
    "def count_values_in_col(column:list) -> dict:\n",
    "    dictOfValue = {}\n",
    "    for el in column[1:]:\n",
    "        # If the key is \"\" we donèt take into account\n",
    "        if el:\n",
    "            if el not in dictOfValue.keys():\n",
    "                dictOfValue[el] = 1\n",
    "            else:\n",
    "                dictOfValue[el] += 1\n",
    "    return dictOfValue"
   ]
  },
  {
   "cell_type": "code",
   "execution_count": 608,
   "id": "ce8ff457",
   "metadata": {},
   "outputs": [],
   "source": [
    "dictGenreBota_value = count_values_in_col(colGenre_Bota)"
   ]
  },
  {
   "cell_type": "code",
   "execution_count": 609,
   "id": "8a6d45d9",
   "metadata": {},
   "outputs": [
    {
     "name": "stdout",
     "output_type": "stream",
     "text": [
      "\n",
      " \u001b[1;34m The botanic genre --> Acer <-- is the more represented with --> 5055 <-- trees.\n"
     ]
    }
   ],
   "source": [
    "max_value = max(dictGenreBota_value, key=lambda x:dictGenreBota_value[x])\n",
    "\n",
    "print(\"\\n\", blue, f\"The botanic genre --> {max_value} <-- is the more represented with --> {dictGenreBota_value[max_value]} <-- trees.\")\n"
   ]
  },
  {
   "cell_type": "markdown",
   "id": "0c55bfbb",
   "metadata": {},
   "source": [
    "### ○ Listez tous les représentants uniques de leurs genre botanique"
   ]
  },
  {
   "cell_type": "code",
   "execution_count": 610,
   "id": "907f958a",
   "metadata": {},
   "outputs": [],
   "source": [
    "unique = [el for el in dictGenreBota_value if dictGenreBota_value[el] == 1]"
   ]
  },
  {
   "cell_type": "code",
   "execution_count": 611,
   "id": "efd534d1",
   "metadata": {},
   "outputs": [
    {
     "name": "stdout",
     "output_type": "stream",
     "text": [
      "\u001b[1;34m Acacia \u001b[1;31m 1\n",
      "\u001b[1;34m Pseudotsuga \u001b[1;31m 1\n",
      "\u001b[1;34m Poncinos \u001b[1;31m 1\n",
      "\u001b[1;34m Sciadopitys \u001b[1;31m 1\n",
      "\u001b[1;34m Sorbopyrus \u001b[1;31m 1\n",
      "\u001b[1;34m Eucalyptus \u001b[1;31m 1\n",
      "\u001b[1;34m Castanea \u001b[1;31m 1\n",
      "\u001b[1;34m Sterculia \u001b[1;31m 1\n",
      "\u001b[1;34m Laurus \u001b[1;31m 1\n",
      "\u001b[1;34m Staphylea \u001b[1;31m 1\n",
      "\u001b[1;34m Rhamnus \u001b[1;31m 1\n",
      "\u001b[1;34m Nyssa \u001b[1;31m 1\n",
      "\n",
      "\n",
      "\u001b[1;34m There are :  \u001b[1;31m 12 \u001b[1;34m  genre represented by only one tree.\n",
      " For a total of  \u001b[1;31m 119 \u001b[1;34m different genre\n"
     ]
    }
   ],
   "source": [
    "for el in unique:\n",
    "    print(blue, el, red, \"1\")\n",
    "print(\"\\n\")\n",
    "print(blue,\"There are : \", red, len(unique), blue, \" genre represented by only one tree.\")\n",
    "print(\" For a total of \", red, len(dictGenreBota_value), blue, \"different genre\")"
   ]
  },
  {
   "cell_type": "markdown",
   "id": "be5920fc",
   "metadata": {},
   "source": [
    "### ○ Classer tous les genres botaniques en fonction de leur nombre (ordre décroissant)"
   ]
  },
  {
   "cell_type": "markdown",
   "id": "7dea90f9",
   "metadata": {},
   "source": [
    "Play with the parameter \"reverse\" to reverse the sorting output"
   ]
  },
  {
   "cell_type": "code",
   "execution_count": 612,
   "id": "73823cd4",
   "metadata": {},
   "outputs": [],
   "source": [
    "dictGenreBota_value_sorted = dict(sorted(dictGenreBota_value.items(), key=lambda x:x[1], reverse=True))\n",
    "#dictGenreBota_value_sorted = dict(sorted(dictGenreBota_value.items(), key=lambda x:x[1], reverse=False))"
   ]
  },
  {
   "cell_type": "code",
   "execution_count": 613,
   "id": "1fe6f762",
   "metadata": {},
   "outputs": [],
   "source": [
    "# dictGenreBota_value_sorted"
   ]
  },
  {
   "cell_type": "markdown",
   "id": "da2a4bb1",
   "metadata": {},
   "source": [
    "### ○ Quelle est la proportion du genre botanique le plus représenté parmi tous les genres ?"
   ]
  },
  {
   "cell_type": "code",
   "execution_count": 614,
   "id": "ca48ab91",
   "metadata": {},
   "outputs": [
    {
     "data": {
      "text/plain": [
       "5055"
      ]
     },
     "execution_count": 614,
     "metadata": {},
     "output_type": "execute_result"
    }
   ],
   "source": [
    "max(dictGenreBota_value_sorted.values())"
   ]
  },
  {
   "cell_type": "code",
   "execution_count": 615,
   "id": "99c7399a",
   "metadata": {},
   "outputs": [],
   "source": [
    "def compute_proportion(rawDict:dict) -> dict:\n",
    "    \n",
    "    totalSpecies = sum([int(el) for el in rawDict.values()])\n",
    "    dictTemp = {}\n",
    "\n",
    "    for key in rawDict.keys():\n",
    "        dictTemp[key] = {\n",
    "            \"number\" : int(rawDict[key]),\n",
    "            \"proportion\" : round(float(rawDict[key]/totalSpecies)*100, 3)\n",
    "        }\n",
    "    \n",
    "    return dictTemp"
   ]
  },
  {
   "cell_type": "code",
   "execution_count": 616,
   "id": "81f05184",
   "metadata": {},
   "outputs": [],
   "source": [
    "proportionGenreBotaDict = compute_proportion(dictGenreBota_value_sorted)"
   ]
  },
  {
   "cell_type": "code",
   "execution_count": 617,
   "id": "3f2db31d",
   "metadata": {},
   "outputs": [
    {
     "name": "stdout",
     "output_type": "stream",
     "text": [
      "\u001b[1;34m The higher proportion of a botanic genre is -->  \u001b[1;31m 16.473 \u001b[1;34m %\n",
      "\u001b[1;34m For the species :  \u001b[1;31m Acer\n"
     ]
    }
   ],
   "source": [
    "max_proportion_genre = max(proportionGenreBotaDict, key=lambda x:proportionGenreBotaDict[x][\"proportion\"])\n",
    "print(blue, \"The higher proportion of a botanic genre is --> \", red, proportionGenreBotaDict[max_proportion_genre][\"proportion\"], blue, \"%\")\n",
    "print(blue, \"For the species : \", red, max_proportion_genre)"
   ]
  },
  {
   "cell_type": "markdown",
   "id": "fb6ea602",
   "metadata": {},
   "source": [
    "### ○ Les objectifs de la Métro sont-ils respectés en termes de diversité ?\n",
    "    1 --> Max species proportion = 10%\n",
    "    2 --> Max genre botanic proportion = 20%"
   ]
  },
  {
   "cell_type": "markdown",
   "id": "85b8e143",
   "metadata": {},
   "source": [
    "#### Study Espece column"
   ]
  },
  {
   "cell_type": "code",
   "execution_count": 618,
   "id": "344d8be1",
   "metadata": {},
   "outputs": [
    {
     "name": "stdout",
     "output_type": "stream",
     "text": [
      "\u001b[1;34m  There are -->  \u001b[1;31m 280 \u001b[1;34m  <-- different species\n"
     ]
    }
   ],
   "source": [
    "colEspece = get_col_values(colName = \"ESPECE\",data = dataset)\n",
    "especeList = extract_different_values(column = colEspece, columnDict = columnDict)\n",
    "print(blue, \" There are --> \", red, len(especeList), blue, \" <-- different species\")"
   ]
  },
  {
   "cell_type": "code",
   "execution_count": 619,
   "id": "3d8d06ea",
   "metadata": {},
   "outputs": [],
   "source": [
    "dictEspece_value = count_values_in_col(colEspece)"
   ]
  },
  {
   "cell_type": "code",
   "execution_count": 620,
   "id": "7bdbd88a",
   "metadata": {},
   "outputs": [
    {
     "name": "stdout",
     "output_type": "stream",
     "text": [
      "\n",
      " \u001b[1;34m The Espece -->  \u001b[1;31m acerifolia \u001b[1;34m  <-- is the more represented with -->  \u001b[1;31m 3813 \u001b[1;34m  <-- trees.\n"
     ]
    }
   ],
   "source": [
    "max_value_espece = max(dictEspece_value, key=lambda x:dictEspece_value[x])\n",
    "print(\"\\n\", blue, \"The Espece --> \", red, max_value_espece, blue, \" <-- is the more represented with --> \", red, dictEspece_value[max_value_espece], blue, \" <-- trees.\")"
   ]
  },
  {
   "cell_type": "code",
   "execution_count": 621,
   "id": "75997d9c",
   "metadata": {},
   "outputs": [],
   "source": [
    "uniqueSpecies = [el for el in dictEspece_value if dictEspece_value[el] == 1]"
   ]
  },
  {
   "cell_type": "code",
   "execution_count": 622,
   "id": "0ba9bf00",
   "metadata": {},
   "outputs": [],
   "source": [
    "def display_uniqueSpecies():\n",
    "    for el in uniqueSpecies:\n",
    "        print(blue, el, red, \"1\")\n",
    "    print(\"\\n\")\n",
    "    print(blue,\"There are : \", red, len(uniqueSpecies), blue, \" species represented by only one tree.\")\n",
    "    print(\" For a total of \", red, len(dictEspece_value), blue, \"different species\")\n",
    "# display_uniqueSpecies    "
   ]
  },
  {
   "cell_type": "code",
   "execution_count": 623,
   "id": "43f9d5cd",
   "metadata": {},
   "outputs": [
    {
     "data": {
      "text/plain": [
       "3813"
      ]
     },
     "execution_count": 623,
     "metadata": {},
     "output_type": "execute_result"
    }
   ],
   "source": [
    "dictEspece_value_sorted = dict(sorted(dictEspece_value.items(), key=lambda x:x[1], reverse=True))\n",
    "max(dictEspece_value_sorted.values())"
   ]
  },
  {
   "cell_type": "code",
   "execution_count": 624,
   "id": "d5ec8d54",
   "metadata": {},
   "outputs": [
    {
     "data": {
      "text/plain": [
       "'acerifolia'"
      ]
     },
     "execution_count": 624,
     "metadata": {},
     "output_type": "execute_result"
    }
   ],
   "source": [
    "proportionSpeciesDict = compute_proportion(dictEspece_value_sorted)\n",
    "max_proportion_species = max(proportionSpeciesDict, key=lambda x:proportionSpeciesDict[x][\"proportion\"])\n",
    "max_proportion_species"
   ]
  },
  {
   "cell_type": "code",
   "execution_count": 626,
   "id": "3bd7e5c1",
   "metadata": {},
   "outputs": [
    {
     "name": "stdout",
     "output_type": "stream",
     "text": [
      "\u001b[1;34m The higher proportion of a species is -->  \u001b[1;31m 13.11 \u001b[1;34m %\n",
      "\u001b[1;34m For the species :  \u001b[1;31m acerifolia\n"
     ]
    }
   ],
   "source": [
    "print(blue, \"The higher proportion of a species is --> \", red, proportionSpeciesDict[max_proportion_species][\"proportion\"], blue, \"%\")\n",
    "print(blue, \"For the species : \", red, max_proportion_species)"
   ]
  },
  {
   "cell_type": "markdown",
   "id": "f76719a3",
   "metadata": {},
   "source": [
    "### Check Métro critère"
   ]
  },
  {
   "cell_type": "code",
   "execution_count": null,
   "id": "f31b41bf",
   "metadata": {},
   "outputs": [],
   "source": [
    "def check_metro_genre(genreDict:dict) -> bool:\n",
    "    \n",
    "    \n",
    "    \n",
    "    return"
   ]
  },
  {
   "cell_type": "code",
   "execution_count": null,
   "id": "c876f1f0",
   "metadata": {},
   "outputs": [],
   "source": [
    "def check_metro_species(speciesDict:dict) -> bool:\n",
    "    \n",
    "    return"
   ]
  }
 ],
 "metadata": {
  "kernelspec": {
   "display_name": "Python 3 (ipykernel)",
   "language": "python",
   "name": "python3"
  },
  "language_info": {
   "codemirror_mode": {
    "name": "ipython",
    "version": 3
   },
   "file_extension": ".py",
   "mimetype": "text/x-python",
   "name": "python",
   "nbconvert_exporter": "python",
   "pygments_lexer": "ipython3",
   "version": "3.9.13"
  }
 },
 "nbformat": 4,
 "nbformat_minor": 5
}
