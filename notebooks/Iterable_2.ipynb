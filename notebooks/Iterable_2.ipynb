{
 "cells": [
  {
   "cell_type": "code",
   "execution_count": 84,
   "id": "a3e95ff3",
   "metadata": {},
   "outputs": [],
   "source": [
    "import csv\n",
    "import numpy as np\n",
    "import matplotlib.pyplot as plt\n",
    "import matplotlib"
   ]
  },
  {
   "cell_type": "markdown",
   "id": "a2fb8ed2",
   "metadata": {},
   "source": [
    "# Import csv"
   ]
  },
  {
   "cell_type": "code",
   "execution_count": 85,
   "id": "57ca91b3",
   "metadata": {},
   "outputs": [],
   "source": [
    "with open('../data/ESP_PUBLIC.IDENTITE_ARBRE.csv', newline='', encoding='utf-8-sig') as csvfile:\n",
    "    # use \",\" separator to generate column value as list element\n",
    "    # cs.reader return a class object of \"_csv.reader\"\n",
    "    dataTemp = csv.reader(csvfile, delimiter=',')\n",
    "    \n",
    "    # Use list() to convert the csv object into a list, of list, depending on how the object is built\n",
    "    # Hard to understand how list(csv_object) behaves \n",
    "    data = list(dataTemp)"
   ]
  },
  {
   "cell_type": "markdown",
   "id": "a4e3d8f9",
   "metadata": {},
   "source": [
    "### Utils"
   ]
  },
  {
   "cell_type": "code",
   "execution_count": 86,
   "id": "b4ffed43",
   "metadata": {},
   "outputs": [],
   "source": [
    "def add_missing_value(dataset:list) -> list:\n",
    "    datasetCopy = dataset\n",
    "    \n",
    "    if len(datasetCopy[len(datasetCopy)-1]) == 31:\n",
    "        datasetCopy[len(datasetCopy)-1].insert(0, \"MISSING\")\n",
    "        print(f\"Added a value in : {datasetCopy[len(datasetCopy)-1]}\")\n",
    "    #else:\n",
    "    #   print(f\"{datasetCopy[len(datasetCopy)-1]} was already added...\")\n",
    "    #   print(f\"{len(datasetCopy)-1} is the last rows of the dataset and should start with 'MISSING' value\")\n",
    "\n",
    "    return datasetCopy"
   ]
  },
  {
   "cell_type": "code",
   "execution_count": 87,
   "id": "11da651d",
   "metadata": {},
   "outputs": [],
   "source": [
    "def get_header(data:list) -> list:\n",
    "    if len(data) > 0:\n",
    "        return data[0]\n",
    "    else:\n",
    "        raise ValueError(\"The dataset sent is empty...\")"
   ]
  },
  {
   "cell_type": "code",
   "execution_count": 88,
   "id": "216241cd",
   "metadata": {},
   "outputs": [],
   "source": [
    "def get_dict_colName_colNum(data:list) -> dict:\n",
    "    dictTemp = {}\n",
    "    \n",
    "    for el in get_header(data):\n",
    "        dictTemp[el] = get_header(data).index(el)\n",
    "        \n",
    "    return dictTemp\n",
    "# print(get_dict_colName_colNum(dataset))"
   ]
  },
  {
   "cell_type": "code",
   "execution_count": 89,
   "id": "4ea566fb",
   "metadata": {},
   "outputs": [],
   "source": [
    "def is_in_header(colName:str, data:list) -> bool:\n",
    "    return colName in get_header(data)\n",
    "# print(is_in_header(\"GENRE_DESC\", dataset))"
   ]
  },
  {
   "cell_type": "code",
   "execution_count": 120,
   "id": "05a16c17",
   "metadata": {},
   "outputs": [],
   "source": [
    "red = \"\\033[1;31m\"\n",
    "blue = \"\\033[1;34m\"\n",
    "green = \"\\033[1;32m\"\n",
    "no_color = \"\\033[0m\"\n",
    "\n",
    "def print_dict(dictToPrint:dict):\n",
    "    for key in dictToPrint.keys () :\n",
    "        print (red, key, blue, out [key])\n",
    "    print (no_color)"
   ]
  },
  {
   "cell_type": "code",
   "execution_count": 121,
   "id": "6675e3ea",
   "metadata": {},
   "outputs": [],
   "source": [
    "dataset = add_missing_value(data)"
   ]
  },
  {
   "cell_type": "markdown",
   "id": "fb05d9a9",
   "metadata": {},
   "source": [
    "# Enoncé"
   ]
  },
  {
   "cell_type": "markdown",
   "id": "df159be8",
   "metadata": {},
   "source": [
    "Objectifs de l’activité\n",
    "\n",
    "● Analyser la répartition des espèces d’arbres à Grenoble, l’évolution de cette\n",
    "diversité au cours du temps, comparaison avec les objectifs de la Métro en termes\n",
    "de diversification des espèces.\n",
    "\n",
    "● Utilisation d’autres structures de données : Sets, Dict\n",
    "\n",
    "Contexte\n",
    "Diversifier les essences d’arbres en ville est crucial pour de nombreuses raisons :\n",
    "résilience des écosystèmes urbains, lutte contre les îlots de chaleur, renouvellement de\n",
    "l’air, etc. Or, le constat fait par la Métropole d"
   ]
  },
  {
   "cell_type": "markdown",
   "id": "1bc3819d",
   "metadata": {},
   "source": [
    "## ● Pour commencer, identifiez tous les genres botaniques représentés à Grenoble.\n",
    "Combien y en a-t-il ? Essayez plusieurs manières de résoudre ce problème."
   ]
  },
  {
   "cell_type": "markdown",
   "id": "a44ec179",
   "metadata": {},
   "source": [
    "## Utils"
   ]
  },
  {
   "cell_type": "code",
   "execution_count": 122,
   "id": "3a9a0fd7",
   "metadata": {},
   "outputs": [],
   "source": [
    "def get_col_value_from_name(colName:str, data:list) -> str:\n",
    "    \n",
    "    if is_in_header(colName, data):\n",
    "        return get_dict_colName_colNum(data)[colName]"
   ]
  },
  {
   "cell_type": "code",
   "execution_count": 123,
   "id": "f760d81e",
   "metadata": {},
   "outputs": [],
   "source": [
    "def get_col_values(colName:str, data:list) -> list:\n",
    "    \n",
    "    col = [el[get_col_value_from_name(colName, data)] for el in data]\n",
    "    \n",
    "    return col"
   ]
  },
  {
   "cell_type": "code",
   "execution_count": 124,
   "id": "2521b1a9",
   "metadata": {},
   "outputs": [],
   "source": [
    "def extract_different_values(column:list, columnDict:dict) -> list:\n",
    "    noNanList = []\n",
    "    if column[0] in columnDict.keys():\n",
    "        #print(f\"{column[0]} is a Header not a value...\")\n",
    "        setList = list(set(column[1:]))\n",
    "        \n",
    "        for el in setList:\n",
    "            if not el:\n",
    "                pass\n",
    "            else:\n",
    "                noNanList.append(el)\n",
    "    return noNanList"
   ]
  },
  {
   "cell_type": "markdown",
   "id": "5297f122",
   "metadata": {},
   "source": [
    "## Computation"
   ]
  },
  {
   "cell_type": "markdown",
   "id": "bc8ff868",
   "metadata": {},
   "source": [
    "#### Extract column genre_bota values"
   ]
  },
  {
   "cell_type": "code",
   "execution_count": 125,
   "id": "0e60a38c",
   "metadata": {},
   "outputs": [
    {
     "name": "stdout",
     "output_type": "stream",
     "text": [
      " There are --> 119 <-- different Genre Botanic\n"
     ]
    }
   ],
   "source": [
    "columnDict = get_dict_colName_colNum(dataset)\n",
    "colGenre_Bota = get_col_values(colName = \"GENRE_BOTA\",data = dataset)\n",
    "genreBotaList = extract_different_values(column = colGenre_Bota, columnDict = columnDict)\n",
    "print(f\" There are --> {len(genreBotaList)} <-- different Genre Botanic\")"
   ]
  },
  {
   "cell_type": "markdown",
   "id": "4cacbbc5",
   "metadata": {},
   "source": [
    "## ● Identifiez maintenant toutes les espèces différentes présentes à Grenoble.\n",
    "N’oubliez pas que les espèces sont une sous catégorie de genre botanique !\n",
    "(l’espèce est ‘Platanus Acerifolia’ et pas uniquement ‘Acerifolia’)"
   ]
  },
  {
   "cell_type": "code",
   "execution_count": 126,
   "id": "187f9e60",
   "metadata": {},
   "outputs": [
    {
     "name": "stdout",
     "output_type": "stream",
     "text": [
      " There are --> 280 <-- different Genre Botanic\n"
     ]
    }
   ],
   "source": [
    "colEspece = get_col_values(colName = \"ESPECE\",data = dataset)\n",
    "especeList = extract_different_values(column = colEspece, columnDict = columnDict)\n",
    "print(f\" There are --> {len(especeList)} <-- different Genre Botanic\")"
   ]
  },
  {
   "cell_type": "code",
   "execution_count": 148,
   "id": "73372131",
   "metadata": {},
   "outputs": [
    {
     "data": {
      "text/plain": [
       "31620"
      ]
     },
     "execution_count": 148,
     "metadata": {},
     "output_type": "execute_result"
    }
   ],
   "source": []
  },
  {
   "cell_type": "markdown",
   "id": "989e0de4",
   "metadata": {},
   "source": [
    "## ● En utilisant la structure de données Dict compter le nombre de représentants de chaque genre botanique :"
   ]
  },
  {
   "cell_type": "markdown",
   "id": "1d25d59e",
   "metadata": {},
   "source": [
    "### ○ Quel est le genre botanique le plus représenté ?"
   ]
  },
  {
   "cell_type": "code",
   "execution_count": 133,
   "id": "c27c5fd6",
   "metadata": {},
   "outputs": [],
   "source": [
    "def count_values_in_col(colimn:list) -> dict:\n",
    "    dictOfValue = {}\n",
    "    for el in colGenre_Bota[1:]:\n",
    "        # If the key is \"\" we donèt take into account\n",
    "        if el:\n",
    "            if el not in dictOfValue.keys():\n",
    "                dictOfValue[el] = 1\n",
    "            else:\n",
    "                dictOfValue[el] += 1\n",
    "    return dictOfValue"
   ]
  },
  {
   "cell_type": "code",
   "execution_count": 145,
   "id": "57f3337c",
   "metadata": {},
   "outputs": [],
   "source": [
    "dictGenreBota_value = count_values_in_col(colGenre_Bota)"
   ]
  },
  {
   "cell_type": "code",
   "execution_count": 146,
   "id": "c01c9651",
   "metadata": {},
   "outputs": [
    {
     "name": "stdout",
     "output_type": "stream",
     "text": [
      "The botanic genre --> Acer <-- is the more represented with --> 5055 <-- trees.\n"
     ]
    }
   ],
   "source": [
    "max_value = max(dictGenreBota_value, key=lambda x:dictGenreBota_value[x])\n",
    "\n",
    "print(f\"The botanic genre --> {max_value} <-- is the more represented with --> {dictGenreBota_value[max_value]} <-- trees.\")\n"
   ]
  },
  {
   "cell_type": "code",
   "execution_count": null,
   "id": "a501cdcb",
   "metadata": {},
   "outputs": [],
   "source": []
  },
  {
   "cell_type": "code",
   "execution_count": null,
   "id": "5a8de949",
   "metadata": {},
   "outputs": [],
   "source": []
  },
  {
   "cell_type": "code",
   "execution_count": null,
   "id": "85a70b12",
   "metadata": {},
   "outputs": [],
   "source": []
  },
  {
   "cell_type": "code",
   "execution_count": null,
   "id": "93d0cc97",
   "metadata": {},
   "outputs": [],
   "source": []
  }
 ],
 "metadata": {
  "kernelspec": {
   "display_name": "Python 3 (ipykernel)",
   "language": "python",
   "name": "python3"
  },
  "language_info": {
   "codemirror_mode": {
    "name": "ipython",
    "version": 3
   },
   "file_extension": ".py",
   "mimetype": "text/x-python",
   "name": "python",
   "nbconvert_exporter": "python",
   "pygments_lexer": "ipython3",
   "version": "3.9.13"
  }
 },
 "nbformat": 4,
 "nbformat_minor": 5
}
