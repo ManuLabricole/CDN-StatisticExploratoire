{
 "cells": [
  {
   "cell_type": "code",
   "execution_count": 272,
   "id": "67975758",
   "metadata": {},
   "outputs": [],
   "source": [
    "import csv\n",
    "import numpy as np\n",
    "import matplotlib.pyplot as plt\n",
    "import matplotlib"
   ]
  },
  {
   "cell_type": "markdown",
   "id": "75f8bdd9",
   "metadata": {},
   "source": [
    "# Import csv"
   ]
  },
  {
   "cell_type": "code",
   "execution_count": 273,
   "id": "f7b8aa6c",
   "metadata": {},
   "outputs": [],
   "source": [
    "with open('../data/ESP_PUBLIC.IDENTITE_ARBRE.csv', newline='', encoding='utf-8-sig') as csvfile:\n",
    "    # use \",\" separator to generate column value as list element\n",
    "    # cs.reader return a class object of \"_csv.reader\"\n",
    "    dataTemp = csv.reader(csvfile, delimiter=',')\n",
    "    \n",
    "    # Use list() to convert the csv object into a list, of list, depending on how the object is built\n",
    "    # Hard to understand how list(csv_object) behaves \n",
    "    data = list(dataTemp)"
   ]
  },
  {
   "cell_type": "markdown",
   "id": "4aae9b83",
   "metadata": {},
   "source": [
    "### Utils"
   ]
  },
  {
   "cell_type": "code",
   "execution_count": 274,
   "id": "10406eaf",
   "metadata": {},
   "outputs": [],
   "source": [
    "def add_missing_value(dataset:list) -> list:\n",
    "    datasetCopy = dataset\n",
    "    \n",
    "    if len(datasetCopy[len(datasetCopy)-1]) == 31:\n",
    "        datasetCopy[len(datasetCopy)-1].insert(0, \"30032\")\n",
    "        print(f\"Added a value in : {datasetCopy[len(datasetCopy)-1]}\")\n",
    "    #else:\n",
    "    #   print(f\"{datasetCopy[len(datasetCopy)-1]} was already added...\")\n",
    "    #   print(f\"{len(datasetCopy)-1} is the last rows of the dataset and should start with 'MISSING' value\")\n",
    "\n",
    "    return datasetCopy"
   ]
  },
  {
   "cell_type": "code",
   "execution_count": 275,
   "id": "c091bbd2",
   "metadata": {},
   "outputs": [],
   "source": [
    "def get_header(data:list) -> list:\n",
    "    if len(data) > 0:\n",
    "        return data[0]\n",
    "    else:\n",
    "        raise ValueError(\"The dataset sent is empty...\")"
   ]
  },
  {
   "cell_type": "code",
   "execution_count": 276,
   "id": "ef08b14b",
   "metadata": {},
   "outputs": [],
   "source": [
    "def get_dict_colName_colNum(data:list) -> dict:\n",
    "    dictTemp = {}\n",
    "    \n",
    "    for el in get_header(data):\n",
    "        dictTemp[el] = get_header(data).index(el)\n",
    "        \n",
    "    return dictTemp\n",
    "# print(get_dict_colName_colNum(dataset))"
   ]
  },
  {
   "cell_type": "code",
   "execution_count": 277,
   "id": "c4d6bd1e",
   "metadata": {},
   "outputs": [],
   "source": [
    "def is_in_header(colName:str, data:list) -> bool:\n",
    "    return colName in get_header(data)\n",
    "# print(is_in_header(\"GENRE_DESC\", dataset))"
   ]
  },
  {
   "cell_type": "code",
   "execution_count": 278,
   "id": "2dabb372",
   "metadata": {},
   "outputs": [],
   "source": [
    "red = \"\\033[1;31m\"\n",
    "blue = \"\\033[1;34m\"\n",
    "green = \"\\033[1;32m\"\n",
    "no_color = \"\\033[0m\"\n",
    "\n",
    "def print_dict(dictToPrint:dict):\n",
    "    for key in dictToPrint.keys () :\n",
    "        print (red, key, blue, out [key])\n",
    "    print (no_color)"
   ]
  },
  {
   "cell_type": "code",
   "execution_count": 279,
   "id": "84c8018b",
   "metadata": {},
   "outputs": [
    {
     "name": "stdout",
     "output_type": "stream",
     "text": [
      "Added a value in : ['30032', 'ESP14073', 'ESP14073', 'VEG', 'VEGETATION', 'ESP01', 'Arbre', 'ESP151', 'Arbre de voirie', 'ESP336', 'R M Gontard angle M Deprez', '2', 'AR14073', 'Prunus', 'serrulata', '', 'Arbre adulte', '', '', '1995', '', '', '', '', '', '', '', '', '', '', 'Grenoble Alpes Métropole', '{\"type\":\"Point\",\"coordinates\":[5.72422659146747,45.1920566916671]}']\n"
     ]
    }
   ],
   "source": [
    "dataset = add_missing_value(data)"
   ]
  },
  {
   "cell_type": "markdown",
   "id": "aead3c43",
   "metadata": {},
   "source": [
    "# Enoncé"
   ]
  },
  {
   "cell_type": "markdown",
   "id": "d42e5e9f",
   "metadata": {},
   "source": [
    "Objectifs de l’activité\n",
    "\n",
    "● Analyser la répartition des espèces d’arbres à Grenoble, l’évolution de cette\n",
    "diversité au cours du temps, comparaison avec les objectifs de la Métro en termes\n",
    "de diversification des espèces.\n",
    "\n",
    "● Utilisation d’autres structures de données : Sets, Dict\n",
    "\n",
    "Contexte\n",
    "Diversifier les essences d’arbres en ville est crucial pour de nombreuses raisons :\n",
    "résilience des écosystèmes urbains, lutte contre les îlots de chaleur, renouvellement de\n",
    "l’air, etc. Or, le constat fait par la Métropole d"
   ]
  },
  {
   "cell_type": "markdown",
   "id": "2dd19b31",
   "metadata": {},
   "source": [
    "## ● Pour commencer, identifiez tous les genres botaniques représentés à Grenoble.\n",
    "Combien y en a-t-il ? Essayez plusieurs manières de résoudre ce problème."
   ]
  },
  {
   "cell_type": "markdown",
   "id": "6a2aa049",
   "metadata": {},
   "source": [
    "## Utils"
   ]
  },
  {
   "cell_type": "code",
   "execution_count": 280,
   "id": "9e64c168",
   "metadata": {},
   "outputs": [],
   "source": [
    "def get_col_value_from_name(colName:str, data:list) -> str:\n",
    "    \n",
    "    if is_in_header(colName, data):\n",
    "        return get_dict_colName_colNum(data)[colName]"
   ]
  },
  {
   "cell_type": "code",
   "execution_count": 281,
   "id": "f6ffdb3a",
   "metadata": {},
   "outputs": [],
   "source": [
    "def get_col_values(colName:str, data:list) -> list:\n",
    "    \n",
    "    col = [el[get_col_value_from_name(colName, data)] for el in data]\n",
    "    \n",
    "    return col"
   ]
  },
  {
   "cell_type": "code",
   "execution_count": 282,
   "id": "8a7f7a51",
   "metadata": {},
   "outputs": [],
   "source": [
    "def extract_different_values(column:list, columnDict:dict) -> list:\n",
    "    noNanList = []\n",
    "    if column[0] in columnDict.keys():\n",
    "        #print(f\"{column[0]} is a Header not a value...\")\n",
    "        setList = list(set(column[1:]))\n",
    "        \n",
    "        for el in setList:\n",
    "            if not el:\n",
    "                pass\n",
    "            else:\n",
    "                noNanList.append(el)\n",
    "    return noNanList"
   ]
  },
  {
   "cell_type": "markdown",
   "id": "6d5e5ae8",
   "metadata": {},
   "source": [
    "## Computation"
   ]
  },
  {
   "cell_type": "markdown",
   "id": "864e602a",
   "metadata": {},
   "source": [
    "#### Extract column genre_bota values"
   ]
  },
  {
   "cell_type": "code",
   "execution_count": 283,
   "id": "0820df2b",
   "metadata": {},
   "outputs": [
    {
     "name": "stdout",
     "output_type": "stream",
     "text": [
      "\u001b[1;34m  There are --> 119 <-- different Genre Botanic\n"
     ]
    }
   ],
   "source": [
    "columnDict = get_dict_colName_colNum(dataset)\n",
    "colGenreBota = get_col_values(colName = \"GENRE_BOTA\", data = dataset)\n",
    "genreBotaList = extract_different_values(column = colGenre_Bota, columnDict = columnDict)\n",
    "print(blue, f\" There are --> {len(genreBotaList)} <-- different Genre Botanic\")"
   ]
  },
  {
   "cell_type": "code",
   "execution_count": 284,
   "id": "7f675cda",
   "metadata": {},
   "outputs": [],
   "source": [
    "if \"serrulata\" in dataset:\n",
    "    print(\"yes\")"
   ]
  },
  {
   "cell_type": "code",
   "execution_count": 285,
   "id": "7e8f2f1d",
   "metadata": {},
   "outputs": [
    {
     "data": {
      "text/plain": [
       "31620"
      ]
     },
     "execution_count": 285,
     "metadata": {},
     "output_type": "execute_result"
    }
   ],
   "source": [
    "len(dataset)"
   ]
  },
  {
   "cell_type": "markdown",
   "id": "e604f295",
   "metadata": {},
   "source": [
    "## ● Identifiez maintenant toutes les espèces différentes présentes à Grenoble.\n",
    "N’oubliez pas que les espèces sont une sous catégorie de genre botanique !\n",
    "(l’espèce est ‘Platanus Acerifolia’ et pas uniquement ‘Acerifolia’)"
   ]
  },
  {
   "cell_type": "code",
   "execution_count": 286,
   "id": "eb64a0d2",
   "metadata": {},
   "outputs": [
    {
     "name": "stdout",
     "output_type": "stream",
     "text": [
      "\u001b[1;34m  There are --> 280 <-- different Genre Botanic\n"
     ]
    }
   ],
   "source": [
    "colEspece = get_col_values(colName = \"ESPECE\",data = dataset)\n",
    "especeList = extract_different_values(column = colEspece, columnDict = columnDict)\n",
    "print(blue, f\" There are --> {len(especeList)} <-- different Genre Botanic\")"
   ]
  },
  {
   "cell_type": "markdown",
   "id": "4d06d22e",
   "metadata": {},
   "source": [
    "## ● En utilisant la structure de données Dict compter le nombre de représentants de chaque genre botanique :"
   ]
  },
  {
   "cell_type": "markdown",
   "id": "973dbdfa",
   "metadata": {},
   "source": [
    "### ○ Quel est le genre botanique le plus représenté ?"
   ]
  },
  {
   "cell_type": "code",
   "execution_count": 287,
   "id": "07214178",
   "metadata": {},
   "outputs": [],
   "source": [
    "def count_values_in_col(colimn:list) -> dict:\n",
    "    dictOfValue = {}\n",
    "    for el in colGenre_Bota[1:]:\n",
    "        # If the key is \"\" we donèt take into account\n",
    "        if el:\n",
    "            if el not in dictOfValue.keys():\n",
    "                dictOfValue[el] = 1\n",
    "            else:\n",
    "                dictOfValue[el] += 1\n",
    "    return dictOfValue"
   ]
  },
  {
   "cell_type": "code",
   "execution_count": 288,
   "id": "1716ec9b",
   "metadata": {},
   "outputs": [],
   "source": [
    "dictGenreBota_value = count_values_in_col(colGenre_Bota)"
   ]
  },
  {
   "cell_type": "code",
   "execution_count": 289,
   "id": "0e183c91",
   "metadata": {},
   "outputs": [
    {
     "name": "stdout",
     "output_type": "stream",
     "text": [
      "\n",
      " \u001b[1;34m The botanic genre --> Acer <-- is the more represented with --> 5055 <-- trees.\n"
     ]
    }
   ],
   "source": [
    "max_value = max(dictGenreBota_value, key=lambda x:dictGenreBota_value[x])\n",
    "\n",
    "print(\"\\n\", blue, f\"The botanic genre --> {max_value} <-- is the more represented with --> {dictGenreBota_value[max_value]} <-- trees.\")\n"
   ]
  },
  {
   "cell_type": "markdown",
   "id": "c02ce878",
   "metadata": {},
   "source": [
    "### ○ Listez tous les représentants uniques de leurs genre botanique"
   ]
  },
  {
   "cell_type": "code",
   "execution_count": 290,
   "id": "243f632e",
   "metadata": {},
   "outputs": [],
   "source": [
    "unique = [el for el in dictGenreBota_value if dictGenreBota_value[el] == 1]"
   ]
  },
  {
   "cell_type": "code",
   "execution_count": 291,
   "id": "09efd2ee",
   "metadata": {},
   "outputs": [
    {
     "name": "stdout",
     "output_type": "stream",
     "text": [
      "\u001b[1;34m Acacia \u001b[1;31m 1\n",
      "\u001b[1;34m Pseudotsuga \u001b[1;31m 1\n",
      "\u001b[1;34m Poncinos \u001b[1;31m 1\n",
      "\u001b[1;34m Sciadopitys \u001b[1;31m 1\n",
      "\u001b[1;34m Sorbopyrus \u001b[1;31m 1\n",
      "\u001b[1;34m Eucalyptus \u001b[1;31m 1\n",
      "\u001b[1;34m Castanea \u001b[1;31m 1\n",
      "\u001b[1;34m Sterculia \u001b[1;31m 1\n",
      "\u001b[1;34m Laurus \u001b[1;31m 1\n",
      "\u001b[1;34m Staphylea \u001b[1;31m 1\n",
      "\u001b[1;34m Rhamnus \u001b[1;31m 1\n",
      "\u001b[1;34m Nyssa \u001b[1;31m 1\n",
      "\n",
      "\n",
      "\u001b[1;34m There are :  \u001b[1;31m 12 \u001b[1;34m  genre represented by only one tree.\n",
      " For a total of  \u001b[1;31m 119 \u001b[1;34m different genre\n"
     ]
    }
   ],
   "source": [
    "for el in unique:\n",
    "    print(blue, el, red, \"1\")\n",
    "print(\"\\n\")\n",
    "print(blue,\"There are : \", red, len(unique), blue, \" genre represented by only one tree.\")\n",
    "print(\" For a total of \", red, len(dictGenreBota_value), blue, \"different genre\")"
   ]
  },
  {
   "cell_type": "markdown",
   "id": "bc94bda0",
   "metadata": {},
   "source": [
    "### ○ Classer tous les genres botaniques en fonction de leur nombre (ordre décroissant)"
   ]
  },
  {
   "cell_type": "markdown",
   "id": "4b9a168a",
   "metadata": {},
   "source": [
    "Play with the parameter \"reverse\" to reverse the sorting output"
   ]
  },
  {
   "cell_type": "code",
   "execution_count": 292,
   "id": "4b6d8760",
   "metadata": {},
   "outputs": [],
   "source": [
    "dictGenreBota_value_sorted = dict(sorted(dictGenreBota_value.items(), key=lambda x:x[1], reverse=True))"
   ]
  },
  {
   "cell_type": "code",
   "execution_count": 293,
   "id": "291595c1",
   "metadata": {},
   "outputs": [],
   "source": [
    "dictGenreBota_value_sorted = dict(sorted(dictGenreBota_value.items(), key=lambda x:x[1], reverse=False))"
   ]
  },
  {
   "cell_type": "markdown",
   "id": "bb6cb367",
   "metadata": {},
   "source": [
    "### ○ Quelle est la proportion du genre botanique le plus représenté parmi tous les genres ?"
   ]
  },
  {
   "cell_type": "code",
   "execution_count": null,
   "id": "2c43325e",
   "metadata": {},
   "outputs": [],
   "source": []
  }
 ],
 "metadata": {
  "kernelspec": {
   "display_name": "Python 3 (ipykernel)",
   "language": "python",
   "name": "python3"
  },
  "language_info": {
   "codemirror_mode": {
    "name": "ipython",
    "version": 3
   },
   "file_extension": ".py",
   "mimetype": "text/x-python",
   "name": "python",
   "nbconvert_exporter": "python",
   "pygments_lexer": "ipython3",
   "version": "3.9.13"
  }
 },
 "nbformat": 4,
 "nbformat_minor": 5
}
