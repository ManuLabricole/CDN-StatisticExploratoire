{
 "cells": [
  {
   "cell_type": "code",
   "execution_count": 52,
   "id": "5e37d56e",
   "metadata": {},
   "outputs": [],
   "source": [
    "import csv\n",
    "import numpy as np\n",
    "import matplotlib.pyplot as plt\n",
    "import matplotlib"
   ]
  },
  {
   "cell_type": "markdown",
   "id": "e499c806",
   "metadata": {},
   "source": [
    "# Import csv"
   ]
  },
  {
   "cell_type": "code",
   "execution_count": 53,
   "id": "a1c200e6",
   "metadata": {},
   "outputs": [],
   "source": [
    "with open('../data/ESP_PUBLIC.IDENTITE_ARBRE.csv', newline='', encoding='utf-8-sig') as csvfile:\n",
    "    # use \",\" separator to generate column value as list element\n",
    "    # cs.reader return a class object of \"_csv.reader\"\n",
    "    dataTemp = csv.reader(csvfile, delimiter=',')\n",
    "    \n",
    "    # Use list() to convert the csv object into a list, of list, depending on how the object is built\n",
    "    # Hard to understand how list(csv_object) behaves \n",
    "    data = list(dataTemp)"
   ]
  },
  {
   "cell_type": "markdown",
   "id": "b7e1b888",
   "metadata": {},
   "source": [
    "### Utils"
   ]
  },
  {
   "cell_type": "code",
   "execution_count": 54,
   "id": "fce8649d",
   "metadata": {},
   "outputs": [],
   "source": [
    "def add_missing_value(dataset:list) -> list:\n",
    "    datasetCopy = dataset\n",
    "    \n",
    "    if len(datasetCopy[len(datasetCopy)-1]) == 31:\n",
    "        datasetCopy[len(datasetCopy)-1].insert(0, \"MISSING\")\n",
    "        print(f\"Added a value in : {datasetCopy[len(datasetCopy)-1]}\")\n",
    "    #else:\n",
    "    #   print(f\"{datasetCopy[len(datasetCopy)-1]} was already added...\")\n",
    "    #   print(f\"{len(datasetCopy)-1} is the last rows of the dataset and should start with 'MISSING' value\")\n",
    "\n",
    "    return datasetCopy"
   ]
  },
  {
   "cell_type": "code",
   "execution_count": 55,
   "id": "00b4bac9",
   "metadata": {},
   "outputs": [],
   "source": [
    "def get_header(data:list) -> list:\n",
    "    if len(data) > 0:\n",
    "        return data[0]\n",
    "    else:\n",
    "        raise ValueError(\"The dataset sent is empty...\")"
   ]
  },
  {
   "cell_type": "code",
   "execution_count": 56,
   "id": "877397ef",
   "metadata": {},
   "outputs": [],
   "source": [
    "def get_dict_colName_colNum(data:list) -> dict:\n",
    "    dictTemp = {}\n",
    "    \n",
    "    for el in get_header(data):\n",
    "        dictTemp[el] = get_header(data).index(el)\n",
    "        \n",
    "    return dictTemp\n",
    "# print(get_dict_colName_colNum(dataset))"
   ]
  },
  {
   "cell_type": "code",
   "execution_count": 57,
   "id": "7321c88a",
   "metadata": {},
   "outputs": [],
   "source": [
    "def is_in_header(colName:str, data:list) -> bool:\n",
    "    return colName in get_header(data)\n",
    "# print(is_in_header(\"GENRE_DESC\", dataset))"
   ]
  },
  {
   "cell_type": "code",
   "execution_count": 58,
   "id": "3d11a2e4",
   "metadata": {},
   "outputs": [],
   "source": [
    "red = \"\\033[1;31m\"\n",
    "blue = \"\\033[1;34m\"\n",
    "green = \"\\033[1;32m\"\n",
    "no_color = \"\\033[0m\"\n",
    "\n",
    "def print_dict(dictToPrint:dict):\n",
    "    for key in dictToPrint.keys () :\n",
    "        print (red, key, blue, out [key])\n",
    "    print (no_color)"
   ]
  },
  {
   "cell_type": "markdown",
   "id": "90c5c7d4",
   "metadata": {},
   "source": [
    "# Enoncé"
   ]
  },
  {
   "cell_type": "markdown",
   "id": "b056fa09",
   "metadata": {},
   "source": [
    "Objectifs de l’activité\n",
    "\n",
    "● Analyser la répartition des espèces d’arbres à Grenoble, l’évolution de cette\n",
    "diversité au cours du temps, comparaison avec les objectifs de la Métro en termes\n",
    "de diversification des espèces.\n",
    "\n",
    "● Utilisation d’autres structures de données : Sets, Dict\n",
    "\n",
    "Contexte\n",
    "Diversifier les essences d’arbres en ville est crucial pour de nombreuses raisons :\n",
    "résilience des écosystèmes urbains, lutte contre les îlots de chaleur, renouvellement de\n",
    "l’air, etc. Or, le constat fait par la Métropole d"
   ]
  },
  {
   "cell_type": "markdown",
   "id": "540b4fd1",
   "metadata": {},
   "source": [
    "## ● Pour commencer, identifiez tous les genres botaniques représentés à Grenoble.\n",
    "Combien y en a-t-il ? Essayez plusieurs manières de résoudre ce problème."
   ]
  },
  {
   "cell_type": "markdown",
   "id": "36efc780",
   "metadata": {},
   "source": [
    "## Utils"
   ]
  },
  {
   "cell_type": "code",
   "execution_count": 59,
   "id": "af5db323",
   "metadata": {},
   "outputs": [],
   "source": [
    "def get_col_value_from_name(colName:str, data:list) -> str:\n",
    "    \n",
    "    if is_in_header(colName, data):\n",
    "        return get_dict_colName_colNum(data)[colName]"
   ]
  },
  {
   "cell_type": "code",
   "execution_count": 60,
   "id": "fe1fb142",
   "metadata": {},
   "outputs": [],
   "source": [
    "def get_col_values(colName:str, data:list) -> list:\n",
    "    \n",
    "    col = [el[get_col_value_from_name(colName, data)] for el in data]\n",
    "    \n",
    "    return col"
   ]
  },
  {
   "cell_type": "code",
   "execution_count": 61,
   "id": "aeba6a76",
   "metadata": {},
   "outputs": [],
   "source": [
    "def extract_different_values(column:list, columnDict:dict) -> list:\n",
    "    noNanList = []\n",
    "    if column[0] in columnDict.keys():\n",
    "        #print(f\"{column[0]} is a Header not a value...\")\n",
    "        setList = list(set(column[1:]))\n",
    "        \n",
    "        for el in setList:\n",
    "            if not el:\n",
    "                pass\n",
    "            else:\n",
    "                noNanList.append(el)\n",
    "    return noNanList"
   ]
  },
  {
   "cell_type": "markdown",
   "id": "dd1a6fd9",
   "metadata": {},
   "source": [
    "## Computation"
   ]
  },
  {
   "cell_type": "code",
   "execution_count": 62,
   "id": "1f4de482",
   "metadata": {},
   "outputs": [
    {
     "name": "stdout",
     "output_type": "stream",
     "text": [
      "Added a value in : ['MISSING', 'ESP14073', 'ESP14073', 'VEG', 'VEGETATION', 'ESP01', 'Arbre', 'ESP151', 'Arbre de voirie', 'ESP336', 'R M Gontard angle M Deprez', '2', 'AR14073', 'Prunus', 'serrulata', '', 'Arbre adulte', '', '', '1995', '', '', '', '', '', '', '', '', '', '', 'Grenoble Alpes Métropole', '{\"type\":\"Point\",\"coordinates\":[5.72422659146747,45.1920566916671]}']\n"
     ]
    }
   ],
   "source": [
    "dataset = add_missing_value(data)"
   ]
  },
  {
   "cell_type": "markdown",
   "id": "13ad3be0",
   "metadata": {},
   "source": [
    "#### Extract column genre_bota values"
   ]
  },
  {
   "cell_type": "code",
   "execution_count": 63,
   "id": "0f92eee2",
   "metadata": {},
   "outputs": [],
   "source": [
    "columnDict = get_dict_colName_colNum(dataset)\n",
    "colGenre_Bota = get_col_values(colName = \"GENRE_BOTA\",data = dataset)"
   ]
  },
  {
   "cell_type": "code",
   "execution_count": 64,
   "id": "e8d1065c",
   "metadata": {},
   "outputs": [
    {
     "name": "stdout",
     "output_type": "stream",
     "text": [
      " There are --> 119 <-- different Genre Botanic\n"
     ]
    }
   ],
   "source": [
    "genreBotaList = extract_different_values(column = colGenre_Bota, columnDict = columnDict)\n",
    "print(f\" There are --> {len(genreBotaList)} <-- different Genre Botanic\")"
   ]
  },
  {
   "cell_type": "markdown",
   "id": "7e15d217",
   "metadata": {},
   "source": [
    "## ● Identifiez maintenant toutes les espèces différentes présentes à Grenoble.\n",
    "N’oubliez pas que les espèces sont une sous catégorie de genre botanique !\n",
    "(l’espèce est ‘Platanus Acerifolia’ et pas uniquement ‘Acerifolia’)"
   ]
  },
  {
   "cell_type": "code",
   "execution_count": 65,
   "id": "c231383a",
   "metadata": {},
   "outputs": [
    {
     "data": {
      "text/plain": [
       "{'ELEM_POINT_ID': 0,\n",
       " 'CODE': 1,\n",
       " 'NOM': 2,\n",
       " 'GENRE': 3,\n",
       " 'GENRE_DESC': 4,\n",
       " 'CATEGORIE': 5,\n",
       " 'CATEGORIE_DESC': 6,\n",
       " 'SOUS_CATEGORIE': 7,\n",
       " 'SOUS_CATEGORIE_DESC': 8,\n",
       " 'CODE_PARENT': 9,\n",
       " 'CODE_PARENT_DESC': 10,\n",
       " 'ADR_SECTEUR': 11,\n",
       " 'BIEN_REFERENCE': 12,\n",
       " 'GENRE_BOTA': 13,\n",
       " 'ESPECE': 14,\n",
       " 'VARIETE': 15,\n",
       " 'STADEDEDEVELOPPEMENT': 16,\n",
       " 'EQUIPE': 17,\n",
       " 'REMARQUES': 18,\n",
       " 'ANNEEDEPLANTATION': 19,\n",
       " 'RAISONDEPLANTATION': 20,\n",
       " 'TRAITEMENTCHENILLES': 21,\n",
       " 'COURRIER': 22,\n",
       " 'IDENTIFIANTPLU': 23,\n",
       " 'TYPEIMPLANTATIONPLU': 24,\n",
       " 'INTITULEPROTECTIONPLU': 25,\n",
       " 'ANNEEABATTAGE': 26,\n",
       " 'ESSOUCHEMENT': 27,\n",
       " 'DIAMETREARBRE': 28,\n",
       " 'CAUSEABATTAGE': 29,\n",
       " 'COLLECTIVITE': 30,\n",
       " 'GeoJSON': 31}"
      ]
     },
     "execution_count": 65,
     "metadata": {},
     "output_type": "execute_result"
    }
   ],
   "source": [
    "columnDict"
   ]
  },
  {
   "cell_type": "code",
   "execution_count": null,
   "id": "b969af3f",
   "metadata": {},
   "outputs": [],
   "source": []
  }
 ],
 "metadata": {
  "kernelspec": {
   "display_name": "Python 3 (ipykernel)",
   "language": "python",
   "name": "python3"
  },
  "language_info": {
   "codemirror_mode": {
    "name": "ipython",
    "version": 3
   },
   "file_extension": ".py",
   "mimetype": "text/x-python",
   "name": "python",
   "nbconvert_exporter": "python",
   "pygments_lexer": "ipython3",
   "version": "3.9.13"
  }
 },
 "nbformat": 4,
 "nbformat_minor": 5
}
