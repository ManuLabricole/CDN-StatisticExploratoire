{
 "cells": [
  {
   "cell_type": "code",
   "execution_count": 90,
   "id": "7336ef9d",
   "metadata": {},
   "outputs": [],
   "source": [
    "import pandas as pd\n",
    "import numpy as np\n",
    "import plotly as px\n",
    "from colorama import Fore, Back, Style"
   ]
  },
  {
   "cell_type": "code",
   "execution_count": 110,
   "id": "cc51e553",
   "metadata": {},
   "outputs": [],
   "source": [
    "# Couleurs diverses\n",
    "VERT='\\033[0;32m' # vert mince\n",
    "BLANC='\\033[1;37m' # blanc gras\n",
    "DEFAUT='\\033[0;m' # couleur console par defaut\n",
    "NOIR='\\033[0;30m' # noir mince\n",
    "ROUGE='\\033[0;31m' # rouge mince\n",
    "MARRON='\\033[0;33m' # marron mince\n",
    "BLEU='\\033[0;34m' # bleu fonce mince\n",
    "VIOLET='\\033[0;35m' # violet mince\n",
    "CYAN='\\033[0;36m' # cyan mince\n",
    "GRIS='\\033[0;37m' # gris clair mince\n",
    "BLANCLEGER='\\033[0;38m' # blanc mince\n",
    "ROUGECLAIR='\\033[1;31m' # rouge clair gras\n",
    "VERTCLAIR='\\033[1;32m' # vert clair gras\n",
    "JAUNE='\\033[1;33m' # jaune gras\n",
    "BLEUCLAIR='\\033[1;34m' # bleu clair gras\n",
    "ROSE='\\033[1;35m' # rose clair gras\n",
    "CYANCLAIR='\\033[1;36m' # cyan clair gras"
   ]
  },
  {
   "cell_type": "markdown",
   "id": "1fdf12b1",
   "metadata": {},
   "source": [
    "# I - Import data"
   ]
  },
  {
   "cell_type": "code",
   "execution_count": 111,
   "id": "0b0f2b39",
   "metadata": {},
   "outputs": [],
   "source": [
    "# This csv is imported with a value added in the last ligne\n",
    "# There was originally a missing value\n",
    "# Here in a csv : In last rows / col 1 : 30032 was added\n",
    "file_path = '../data/ESP_PUBLIC.IDENTITE_ARBRE.csv'\n",
    "df = pd.read_csv(file_path, sep=',', header = 0, index_col=False)\n",
    "dff = df"
   ]
  },
  {
   "cell_type": "markdown",
   "id": "b934d42e",
   "metadata": {},
   "source": [
    "# II - Computations"
   ]
  },
  {
   "cell_type": "markdown",
   "id": "667d2145",
   "metadata": {},
   "source": [
    "#### Missing years for plantation"
   ]
  },
  {
   "cell_type": "code",
   "execution_count": 131,
   "id": "746eecd5",
   "metadata": {},
   "outputs": [
    {
     "name": "stdout",
     "output_type": "stream",
     "text": [
      "\u001b[1;36m Total of Trees --> \u001b[1;34m 31619 \u001b[1;36m <-- with total of --> \u001b[1;34m 1438 \u001b[1;36m <-- missing years\n"
     ]
    }
   ],
   "source": [
    "# Convert the column year from FLOAT --> INT\n",
    "# --> Not working because of Nan : dff[\"ANNEEDEPLANTATION\"].astype(\"int\")\n",
    "missingYear = dff[\"ANNEEDEPLANTATION\"].isnull().value_counts()[1]\n",
    "numberOfTree = dff[\"ANNEEDEPLANTATION\"].size\n",
    "\n",
    "print(CYANCLAIR, \"Total of Trees -->\", BLEUCLAIR, numberOfTree, \\\n",
    "      CYANCLAIR, \"<-- with total of -->\", BLEUCLAIR, missingYear,\\\n",
    "      CYANCLAIR, \"<-- missing years\")"
   ]
  },
  {
   "cell_type": "markdown",
   "id": "b5999915",
   "metadata": {},
   "source": [
    "#### Total of trees for specific year"
   ]
  },
  {
   "cell_type": "code",
   "execution_count": 135,
   "id": "d9d1f8ff",
   "metadata": {},
   "outputs": [
    {
     "ename": "AttributeError",
     "evalue": "'Series' object has no attribute 'istype'",
     "output_type": "error",
     "traceback": [
      "\u001b[0;31m---------------------------------------------------------------------------\u001b[0m",
      "\u001b[0;31mAttributeError\u001b[0m                            Traceback (most recent call last)",
      "\u001b[0;32m/tmp/ipykernel_6280/2412595545.py\u001b[0m in \u001b[0;36m<module>\u001b[0;34m\u001b[0m\n\u001b[0;32m----> 1\u001b[0;31m \u001b[0mdff\u001b[0m\u001b[0;34m[\u001b[0m\u001b[0;34m\"ANNEEDEPLANTATION\"\u001b[0m\u001b[0;34m]\u001b[0m\u001b[0;34m.\u001b[0m\u001b[0mfillna\u001b[0m\u001b[0;34m(\u001b[0m\u001b[0;36m0\u001b[0m\u001b[0;34m)\u001b[0m\u001b[0;34m.\u001b[0m\u001b[0mistype\u001b[0m\u001b[0;34m(\u001b[0m\u001b[0;34m\"int\"\u001b[0m\u001b[0;34m)\u001b[0m\u001b[0;34m\u001b[0m\u001b[0;34m\u001b[0m\u001b[0m\n\u001b[0m",
      "\u001b[0;32m~/anaconda3/lib/python3.9/site-packages/pandas/core/generic.py\u001b[0m in \u001b[0;36m__getattr__\u001b[0;34m(self, name)\u001b[0m\n\u001b[1;32m   5573\u001b[0m         ):\n\u001b[1;32m   5574\u001b[0m             \u001b[0;32mreturn\u001b[0m \u001b[0mself\u001b[0m\u001b[0;34m[\u001b[0m\u001b[0mname\u001b[0m\u001b[0;34m]\u001b[0m\u001b[0;34m\u001b[0m\u001b[0;34m\u001b[0m\u001b[0m\n\u001b[0;32m-> 5575\u001b[0;31m         \u001b[0;32mreturn\u001b[0m \u001b[0mobject\u001b[0m\u001b[0;34m.\u001b[0m\u001b[0m__getattribute__\u001b[0m\u001b[0;34m(\u001b[0m\u001b[0mself\u001b[0m\u001b[0;34m,\u001b[0m \u001b[0mname\u001b[0m\u001b[0;34m)\u001b[0m\u001b[0;34m\u001b[0m\u001b[0;34m\u001b[0m\u001b[0m\n\u001b[0m\u001b[1;32m   5576\u001b[0m \u001b[0;34m\u001b[0m\u001b[0m\n\u001b[1;32m   5577\u001b[0m     \u001b[0;32mdef\u001b[0m \u001b[0m__setattr__\u001b[0m\u001b[0;34m(\u001b[0m\u001b[0mself\u001b[0m\u001b[0;34m,\u001b[0m \u001b[0mname\u001b[0m\u001b[0;34m:\u001b[0m \u001b[0mstr\u001b[0m\u001b[0;34m,\u001b[0m \u001b[0mvalue\u001b[0m\u001b[0;34m)\u001b[0m \u001b[0;34m->\u001b[0m \u001b[0;32mNone\u001b[0m\u001b[0;34m:\u001b[0m\u001b[0;34m\u001b[0m\u001b[0;34m\u001b[0m\u001b[0m\n",
      "\u001b[0;31mAttributeError\u001b[0m: 'Series' object has no attribute 'istype'"
     ]
    }
   ],
   "source": [
    "dff[\"ANNEEDEPLANTATION\"].fillna(0).type(\"int\")"
   ]
  },
  {
   "cell_type": "code",
   "execution_count": null,
   "id": "96f3eb53",
   "metadata": {},
   "outputs": [],
   "source": []
  },
  {
   "cell_type": "code",
   "execution_count": null,
   "id": "e2e12b46",
   "metadata": {},
   "outputs": [],
   "source": []
  }
 ],
 "metadata": {
  "kernelspec": {
   "display_name": "Python 3 (ipykernel)",
   "language": "python",
   "name": "python3"
  },
  "language_info": {
   "codemirror_mode": {
    "name": "ipython",
    "version": 3
   },
   "file_extension": ".py",
   "mimetype": "text/x-python",
   "name": "python",
   "nbconvert_exporter": "python",
   "pygments_lexer": "ipython3",
   "version": "3.9.13"
  }
 },
 "nbformat": 4,
 "nbformat_minor": 5
}
